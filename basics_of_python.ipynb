{
 "cells": [
  {
   "cell_type": "code",
   "execution_count": 1,
   "metadata": {
    "collapsed": false
   },
   "outputs": [
    {
     "name": "stdout",
     "output_type": "stream",
     "text": [
      "hello\n"
     ]
    }
   ],
   "source": [
    "print (\"hello\")"
   ]
  },
  {
   "cell_type": "code",
   "execution_count": 2,
   "metadata": {
    "collapsed": true
   },
   "outputs": [],
   "source": [
    "a = 48"
   ]
  },
  {
   "cell_type": "code",
   "execution_count": 4,
   "metadata": {
    "collapsed": false,
    "scrolled": true
   },
   "outputs": [
    {
     "data": {
      "text/plain": [
       "48"
      ]
     },
     "execution_count": 4,
     "metadata": {},
     "output_type": "execute_result"
    }
   ],
   "source": [
    "a"
   ]
  },
  {
   "cell_type": "code",
   "execution_count": 5,
   "metadata": {
    "collapsed": true
   },
   "outputs": [],
   "source": [
    "b = 56"
   ]
  },
  {
   "cell_type": "code",
   "execution_count": 6,
   "metadata": {
    "collapsed": false
   },
   "outputs": [
    {
     "data": {
      "text/plain": [
       "104"
      ]
     },
     "execution_count": 6,
     "metadata": {},
     "output_type": "execute_result"
    }
   ],
   "source": [
    "a+b"
   ]
  },
  {
   "cell_type": "code",
   "execution_count": 8,
   "metadata": {
    "collapsed": true
   },
   "outputs": [],
   "source": [
    "a = 34"
   ]
  },
  {
   "cell_type": "code",
   "execution_count": 9,
   "metadata": {
    "collapsed": true
   },
   "outputs": [],
   "source": [
    "def test():\n",
    "    print (\"inside function\")"
   ]
  },
  {
   "cell_type": "code",
   "execution_count": 10,
   "metadata": {
    "collapsed": false
   },
   "outputs": [
    {
     "name": "stdout",
     "output_type": "stream",
     "text": [
      "inside function\n"
     ]
    }
   ],
   "source": [
    "test()"
   ]
  },
  {
   "cell_type": "code",
   "execution_count": 11,
   "metadata": {
    "collapsed": true
   },
   "outputs": [],
   "source": [
    "astring = \"this is a string\""
   ]
  },
  {
   "cell_type": "code",
   "execution_count": 12,
   "metadata": {
    "collapsed": false
   },
   "outputs": [
    {
     "data": {
      "text/plain": [
       "['this', 'is', 'a', 'string']"
      ]
     },
     "execution_count": 12,
     "metadata": {},
     "output_type": "execute_result"
    }
   ],
   "source": [
    "astring.split()"
   ]
  },
  {
   "cell_type": "code",
   "execution_count": 13,
   "metadata": {
    "collapsed": false
   },
   "outputs": [
    {
     "data": {
      "text/plain": [
       "16"
      ]
     },
     "execution_count": 13,
     "metadata": {},
     "output_type": "execute_result"
    }
   ],
   "source": [
    "len(astring)"
   ]
  },
  {
   "cell_type": "code",
   "execution_count": 14,
   "metadata": {
    "collapsed": false
   },
   "outputs": [
    {
     "data": {
      "text/plain": [
       "str"
      ]
     },
     "execution_count": 14,
     "metadata": {},
     "output_type": "execute_result"
    }
   ],
   "source": [
    "type(astring)"
   ]
  },
  {
   "cell_type": "code",
   "execution_count": 15,
   "metadata": {
    "collapsed": false
   },
   "outputs": [
    {
     "data": {
      "text/plain": [
       "int"
      ]
     },
     "execution_count": 15,
     "metadata": {},
     "output_type": "execute_result"
    }
   ],
   "source": [
    "type(a)"
   ]
  },
  {
   "cell_type": "code",
   "execution_count": 17,
   "metadata": {
    "collapsed": false
   },
   "outputs": [
    {
     "name": "stdout",
     "output_type": "stream",
     "text": [
      "this is more than 45\n"
     ]
    }
   ],
   "source": [
    "if a<45:\n",
    "    print (\"this is more than 45\")"
   ]
  },
  {
   "cell_type": "code",
   "execution_count": 19,
   "metadata": {
    "collapsed": false
   },
   "outputs": [
    {
     "name": "stdout",
     "output_type": "stream",
     "text": [
      "1\n",
      "2\n",
      "3\n",
      "4\n",
      "5\n",
      "6\n",
      "7\n",
      "8\n",
      "9\n",
      "10\n",
      "11\n"
     ]
    }
   ],
   "source": [
    "for i in range(1,12):\n",
    "    print (i)"
   ]
  },
  {
   "cell_type": "code",
   "execution_count": 22,
   "metadata": {
    "collapsed": false
   },
   "outputs": [
    {
     "name": "stdout",
     "output_type": "stream",
     "text": [
      "0\n",
      "2\n",
      "4\n",
      "6\n",
      "8\n"
     ]
    }
   ],
   "source": [
    "for i in range(0,10,2):\n",
    "    print(i)"
   ]
  },
  {
   "cell_type": "code",
   "execution_count": 26,
   "metadata": {
    "collapsed": false
   },
   "outputs": [
    {
     "name": "stdout",
     "output_type": "stream",
     "text": [
      "10\n",
      "8\n",
      "6\n",
      "4\n",
      "2\n"
     ]
    }
   ],
   "source": [
    "for i in range(10,0,-2):\n",
    "    print(i)"
   ]
  },
  {
   "cell_type": "code",
   "execution_count": 27,
   "metadata": {
    "collapsed": true
   },
   "outputs": [],
   "source": [
    "alist = [3,4,5,6,7,8]"
   ]
  },
  {
   "cell_type": "code",
   "execution_count": 28,
   "metadata": {
    "collapsed": false
   },
   "outputs": [
    {
     "data": {
      "text/plain": [
       "6"
      ]
     },
     "execution_count": 28,
     "metadata": {},
     "output_type": "execute_result"
    }
   ],
   "source": [
    "len(alist)"
   ]
  },
  {
   "cell_type": "code",
   "execution_count": 29,
   "metadata": {
    "collapsed": false
   },
   "outputs": [
    {
     "data": {
      "text/plain": [
       "3"
      ]
     },
     "execution_count": 29,
     "metadata": {},
     "output_type": "execute_result"
    }
   ],
   "source": [
    "alist[0]"
   ]
  },
  {
   "cell_type": "code",
   "execution_count": 30,
   "metadata": {
    "collapsed": false
   },
   "outputs": [
    {
     "data": {
      "text/plain": [
       "7"
      ]
     },
     "execution_count": 30,
     "metadata": {},
     "output_type": "execute_result"
    }
   ],
   "source": [
    "alist[-2]"
   ]
  },
  {
   "cell_type": "code",
   "execution_count": 31,
   "metadata": {
    "collapsed": true
   },
   "outputs": [],
   "source": [
    "newlist = [2,3,4,'this']"
   ]
  },
  {
   "cell_type": "code",
   "execution_count": 32,
   "metadata": {
    "collapsed": false
   },
   "outputs": [
    {
     "data": {
      "text/plain": [
       "4"
      ]
     },
     "execution_count": 32,
     "metadata": {},
     "output_type": "execute_result"
    }
   ],
   "source": [
    "len(newlist)"
   ]
  },
  {
   "cell_type": "code",
   "execution_count": 33,
   "metadata": {
    "collapsed": false
   },
   "outputs": [
    {
     "data": {
      "text/plain": [
       "list"
      ]
     },
     "execution_count": 33,
     "metadata": {},
     "output_type": "execute_result"
    }
   ],
   "source": [
    "type(newlist)"
   ]
  },
  {
   "cell_type": "code",
   "execution_count": 36,
   "metadata": {
    "collapsed": false
   },
   "outputs": [],
   "source": [
    "i = True"
   ]
  },
  {
   "cell_type": "code",
   "execution_count": 37,
   "metadata": {
    "collapsed": true
   },
   "outputs": [],
   "source": [
    "result = None"
   ]
  },
  {
   "cell_type": "code",
   "execution_count": 38,
   "metadata": {
    "collapsed": true
   },
   "outputs": [],
   "source": [
    "anotherlist = [3,4,5,True,None,'hello']"
   ]
  },
  {
   "cell_type": "code",
   "execution_count": 40,
   "metadata": {
    "collapsed": false
   },
   "outputs": [
    {
     "name": "stdout",
     "output_type": "stream",
     "text": [
      "3\n",
      "4\n",
      "5\n",
      "True\n",
      "None\n",
      "hello\n"
     ]
    }
   ],
   "source": [
    "for i in range(len(anotherlist)):\n",
    "    print (anotherlist[i])"
   ]
  },
  {
   "cell_type": "code",
   "execution_count": 41,
   "metadata": {
    "collapsed": false
   },
   "outputs": [
    {
     "name": "stdout",
     "output_type": "stream",
     "text": [
      "3\n",
      "4\n",
      "5\n",
      "6\n",
      "7\n",
      "8\n"
     ]
    }
   ],
   "source": [
    "for item in alist:\n",
    "    print(item)"
   ]
  },
  {
   "cell_type": "code",
   "execution_count": 42,
   "metadata": {
    "collapsed": false
   },
   "outputs": [
    {
     "data": {
      "text/plain": [
       "6"
      ]
     },
     "execution_count": 42,
     "metadata": {},
     "output_type": "execute_result"
    }
   ],
   "source": [
    "len(anotherlist)"
   ]
  },
  {
   "cell_type": "code",
   "execution_count": 45,
   "metadata": {
    "collapsed": false
   },
   "outputs": [
    {
     "name": "stdout",
     "output_type": "stream",
     "text": [
      "[3, 4]\n"
     ]
    }
   ],
   "source": [
    "anotherlist = anotherlist[0:3]\n",
    "print (anotherlist)"
   ]
  },
  {
   "cell_type": "code",
   "execution_count": 46,
   "metadata": {
    "collapsed": true
   },
   "outputs": [],
   "source": [
    "b = alist"
   ]
  },
  {
   "cell_type": "code",
   "execution_count": 47,
   "metadata": {
    "collapsed": false
   },
   "outputs": [
    {
     "data": {
      "text/plain": [
       "[3, 4, 5, 6, 7, 8]"
      ]
     },
     "execution_count": 47,
     "metadata": {},
     "output_type": "execute_result"
    }
   ],
   "source": [
    "b"
   ]
  },
  {
   "cell_type": "code",
   "execution_count": 48,
   "metadata": {
    "collapsed": true
   },
   "outputs": [],
   "source": [
    "alist[0] = 132412"
   ]
  },
  {
   "cell_type": "code",
   "execution_count": 49,
   "metadata": {
    "collapsed": false
   },
   "outputs": [
    {
     "data": {
      "text/plain": [
       "[132412, 4, 5, 6, 7, 8]"
      ]
     },
     "execution_count": 49,
     "metadata": {},
     "output_type": "execute_result"
    }
   ],
   "source": [
    "#mutable data structure\n",
    "alist"
   ]
  },
  {
   "cell_type": "code",
   "execution_count": 51,
   "metadata": {
    "collapsed": false
   },
   "outputs": [
    {
     "data": {
      "text/plain": [
       "2"
      ]
     },
     "execution_count": 51,
     "metadata": {},
     "output_type": "execute_result"
    }
   ],
   "source": [
    "#immutabale data structure\n",
    "atuple = (2,3,4,5,6,7,8,)\n",
    "atuple[0]"
   ]
  },
  {
   "cell_type": "code",
   "execution_count": 52,
   "metadata": {
    "collapsed": false
   },
   "outputs": [
    {
     "data": {
      "text/plain": [
       "7"
      ]
     },
     "execution_count": 52,
     "metadata": {},
     "output_type": "execute_result"
    }
   ],
   "source": [
    "len(atuple)"
   ]
  },
  {
   "cell_type": "code",
   "execution_count": 53,
   "metadata": {
    "collapsed": false
   },
   "outputs": [
    {
     "ename": "TypeError",
     "evalue": "'tuple' object does not support item assignment",
     "output_type": "error",
     "traceback": [
      "\u001b[0;31m---------------------------------------------------------------------------\u001b[0m",
      "\u001b[0;31mTypeError\u001b[0m                                 Traceback (most recent call last)",
      "\u001b[0;32m<ipython-input-53-fb48ec88b494>\u001b[0m in \u001b[0;36m<module>\u001b[0;34m()\u001b[0m\n\u001b[0;32m----> 1\u001b[0;31m \u001b[0matuple\u001b[0m\u001b[1;33m[\u001b[0m\u001b[1;36m3\u001b[0m\u001b[1;33m]\u001b[0m \u001b[1;33m=\u001b[0m \u001b[1;34m\"this is a new value\"\u001b[0m\u001b[1;33m\u001b[0m\u001b[0m\n\u001b[0m",
      "\u001b[0;31mTypeError\u001b[0m: 'tuple' object does not support item assignment"
     ]
    }
   ],
   "source": [
    "atuple[3] = \"this is a new value\""
   ]
  },
  {
   "cell_type": "code",
   "execution_count": 54,
   "metadata": {
    "collapsed": true
   },
   "outputs": [],
   "source": [
    "alist = ([3,4],[5,6])"
   ]
  },
  {
   "cell_type": "code",
   "execution_count": 55,
   "metadata": {
    "collapsed": false
   },
   "outputs": [
    {
     "data": {
      "text/plain": [
       "5"
      ]
     },
     "execution_count": 55,
     "metadata": {},
     "output_type": "execute_result"
    }
   ],
   "source": [
    "alist[1][0]"
   ]
  },
  {
   "cell_type": "code",
   "execution_count": 57,
   "metadata": {
    "collapsed": false
   },
   "outputs": [
    {
     "ename": "TypeError",
     "evalue": "'int' object does not support item assignment",
     "output_type": "error",
     "traceback": [
      "\u001b[0;31m---------------------------------------------------------------------------\u001b[0m",
      "\u001b[0;31mTypeError\u001b[0m                                 Traceback (most recent call last)",
      "\u001b[0;32m<ipython-input-57-3c54866fb684>\u001b[0m in \u001b[0;36m<module>\u001b[0;34m()\u001b[0m\n\u001b[0;32m----> 1\u001b[0;31m \u001b[0matuple\u001b[0m\u001b[1;33m[\u001b[0m\u001b[1;36m1\u001b[0m\u001b[1;33m]\u001b[0m\u001b[1;33m[\u001b[0m\u001b[1;36m0\u001b[0m\u001b[1;33m]\u001b[0m \u001b[1;33m=\u001b[0m \u001b[1;34m'new value'\u001b[0m\u001b[1;33m\u001b[0m\u001b[0m\n\u001b[0m",
      "\u001b[0;31mTypeError\u001b[0m: 'int' object does not support item assignment"
     ]
    }
   ],
   "source": [
    "atuple[1][0] = 'new value'"
   ]
  },
  {
   "cell_type": "code",
   "execution_count": 58,
   "metadata": {
    "collapsed": true
   },
   "outputs": [],
   "source": [
    "aset = {1,2,3,4,5,6,7,8,9,9,3}"
   ]
  },
  {
   "cell_type": "code",
   "execution_count": 59,
   "metadata": {
    "collapsed": false
   },
   "outputs": [
    {
     "name": "stdout",
     "output_type": "stream",
     "text": [
      "{1, 2, 3, 4, 5, 6, 7, 8, 9}\n"
     ]
    }
   ],
   "source": [
    "print (aset)"
   ]
  },
  {
   "cell_type": "code",
   "execution_count": 60,
   "metadata": {
    "collapsed": false
   },
   "outputs": [
    {
     "ename": "TypeError",
     "evalue": "'set' object does not support indexing",
     "output_type": "error",
     "traceback": [
      "\u001b[0;31m---------------------------------------------------------------------------\u001b[0m",
      "\u001b[0;31mTypeError\u001b[0m                                 Traceback (most recent call last)",
      "\u001b[0;32m<ipython-input-60-8338fd251569>\u001b[0m in \u001b[0;36m<module>\u001b[0;34m()\u001b[0m\n\u001b[0;32m----> 1\u001b[0;31m \u001b[0maset\u001b[0m\u001b[1;33m[\u001b[0m\u001b[1;36m0\u001b[0m\u001b[1;33m]\u001b[0m\u001b[1;33m\u001b[0m\u001b[0m\n\u001b[0m",
      "\u001b[0;31mTypeError\u001b[0m: 'set' object does not support indexing"
     ]
    }
   ],
   "source": [
    "aset[0]\n",
    "#unordered : doesnt support indexing"
   ]
  },
  {
   "cell_type": "code",
   "execution_count": 61,
   "metadata": {
    "collapsed": true
   },
   "outputs": [],
   "source": [
    "adict = {'name':'vivek karn','age':12,'sex':'M'}"
   ]
  },
  {
   "cell_type": "code",
   "execution_count": 62,
   "metadata": {
    "collapsed": false
   },
   "outputs": [
    {
     "data": {
      "text/plain": [
       "3"
      ]
     },
     "execution_count": 62,
     "metadata": {},
     "output_type": "execute_result"
    }
   ],
   "source": [
    "len(adict)"
   ]
  },
  {
   "cell_type": "code",
   "execution_count": 63,
   "metadata": {
    "collapsed": false
   },
   "outputs": [
    {
     "data": {
      "text/plain": [
       "'vivek karn'"
      ]
     },
     "execution_count": 63,
     "metadata": {},
     "output_type": "execute_result"
    }
   ],
   "source": [
    "adict['name']"
   ]
  },
  {
   "cell_type": "code",
   "execution_count": 64,
   "metadata": {
    "collapsed": false
   },
   "outputs": [
    {
     "data": {
      "text/plain": [
       "dict_keys(['sex', 'age', 'name'])"
      ]
     },
     "execution_count": 64,
     "metadata": {},
     "output_type": "execute_result"
    }
   ],
   "source": [
    "adict.keys()"
   ]
  },
  {
   "cell_type": "code",
   "execution_count": 65,
   "metadata": {
    "collapsed": false
   },
   "outputs": [
    {
     "data": {
      "text/plain": [
       "dict_values(['M', 12, 'vivek karn'])"
      ]
     },
     "execution_count": 65,
     "metadata": {},
     "output_type": "execute_result"
    }
   ],
   "source": [
    "adict.values()"
   ]
  },
  {
   "cell_type": "code",
   "execution_count": 66,
   "metadata": {
    "collapsed": true
   },
   "outputs": [],
   "source": [
    "adict['address'] = 'baneshwor'"
   ]
  },
  {
   "cell_type": "code",
   "execution_count": 67,
   "metadata": {
    "collapsed": false
   },
   "outputs": [
    {
     "data": {
      "text/plain": [
       "{'address': 'baneshwor', 'age': 12, 'name': 'vivek karn', 'sex': 'M'}"
      ]
     },
     "execution_count": 67,
     "metadata": {},
     "output_type": "execute_result"
    }
   ],
   "source": [
    "adict"
   ]
  },
  {
   "cell_type": "code",
   "execution_count": 68,
   "metadata": {
    "collapsed": true
   },
   "outputs": [],
   "source": [
    "adict['name'] = 'yasoda rijal'"
   ]
  },
  {
   "cell_type": "code",
   "execution_count": 69,
   "metadata": {
    "collapsed": false
   },
   "outputs": [
    {
     "data": {
      "text/plain": [
       "{'address': 'baneshwor', 'age': 12, 'name': 'yasoda rijal', 'sex': 'M'}"
      ]
     },
     "execution_count": 69,
     "metadata": {},
     "output_type": "execute_result"
    }
   ],
   "source": [
    "adict"
   ]
  },
  {
   "cell_type": "code",
   "execution_count": 70,
   "metadata": {
    "collapsed": true
   },
   "outputs": [],
   "source": [
    "#tuple is only mutable"
   ]
  },
  {
   "cell_type": "code",
   "execution_count": 71,
   "metadata": {
    "collapsed": false
   },
   "outputs": [
    {
     "data": {
      "text/plain": [
       "True"
      ]
     },
     "execution_count": 71,
     "metadata": {},
     "output_type": "execute_result"
    }
   ],
   "source": [
    "alist = [4,5,6,7,8]\n",
    "4 in alist"
   ]
  },
  {
   "cell_type": "code",
   "execution_count": 73,
   "metadata": {
    "collapsed": false
   },
   "outputs": [
    {
     "data": {
      "text/plain": [
       "False"
      ]
     },
     "execution_count": 73,
     "metadata": {},
     "output_type": "execute_result"
    }
   ],
   "source": [
    "'asd' in alist"
   ]
  },
  {
   "cell_type": "code",
   "execution_count": 74,
   "metadata": {
    "collapsed": true
   },
   "outputs": [],
   "source": [
    "atuple = (4,5,6,7)"
   ]
  },
  {
   "cell_type": "code",
   "execution_count": 75,
   "metadata": {
    "collapsed": false
   },
   "outputs": [
    {
     "data": {
      "text/plain": [
       "True"
      ]
     },
     "execution_count": 75,
     "metadata": {},
     "output_type": "execute_result"
    }
   ],
   "source": [
    "4 in atuple\n",
    "#in is operator"
   ]
  },
  {
   "cell_type": "code",
   "execution_count": 76,
   "metadata": {
    "collapsed": false
   },
   "outputs": [
    {
     "data": {
      "text/plain": [
       "True"
      ]
     },
     "execution_count": 76,
     "metadata": {},
     "output_type": "execute_result"
    }
   ],
   "source": [
    "a = None\n",
    "a is None"
   ]
  },
  {
   "cell_type": "code",
   "execution_count": 77,
   "metadata": {
    "collapsed": true
   },
   "outputs": [],
   "source": [
    "atuple = (5,)"
   ]
  },
  {
   "cell_type": "code",
   "execution_count": 78,
   "metadata": {
    "collapsed": false
   },
   "outputs": [
    {
     "data": {
      "text/plain": [
       "True"
      ]
     },
     "execution_count": 78,
     "metadata": {},
     "output_type": "execute_result"
    }
   ],
   "source": [
    "5 in atuple"
   ]
  },
  {
   "cell_type": "code",
   "execution_count": 79,
   "metadata": {
    "collapsed": true
   },
   "outputs": [],
   "source": [
    "alist = [3,3,2,2,1,1]"
   ]
  },
  {
   "cell_type": "code",
   "execution_count": 80,
   "metadata": {
    "collapsed": false
   },
   "outputs": [
    {
     "data": {
      "text/plain": [
       "{1, 2, 3}"
      ]
     },
     "execution_count": 80,
     "metadata": {},
     "output_type": "execute_result"
    }
   ],
   "source": [
    "set(alist)"
   ]
  },
  {
   "cell_type": "code",
   "execution_count": 81,
   "metadata": {
    "collapsed": false
   },
   "outputs": [
    {
     "data": {
      "text/plain": [
       "dict_items([('address', 'baneshwor'), ('sex', 'M'), ('age', 12), ('name', 'yasoda rijal')])"
      ]
     },
     "execution_count": 81,
     "metadata": {},
     "output_type": "execute_result"
    }
   ],
   "source": [
    "adict.items()"
   ]
  },
  {
   "cell_type": "code",
   "execution_count": 82,
   "metadata": {
    "collapsed": true
   },
   "outputs": [],
   "source": [
    "a = 1000\n",
    "b = 1000"
   ]
  },
  {
   "cell_type": "code",
   "execution_count": 83,
   "metadata": {
    "collapsed": false
   },
   "outputs": [
    {
     "data": {
      "text/plain": [
       "False"
      ]
     },
     "execution_count": 83,
     "metadata": {},
     "output_type": "execute_result"
    }
   ],
   "source": [
    "a is b"
   ]
  },
  {
   "cell_type": "code",
   "execution_count": 84,
   "metadata": {
    "collapsed": false
   },
   "outputs": [
    {
     "data": {
      "text/plain": [
       "True"
      ]
     },
     "execution_count": 84,
     "metadata": {},
     "output_type": "execute_result"
    }
   ],
   "source": [
    "a == b"
   ]
  },
  {
   "cell_type": "code",
   "execution_count": 85,
   "metadata": {
    "collapsed": false
   },
   "outputs": [
    {
     "data": {
      "text/plain": [
       "2562891292048"
      ]
     },
     "execution_count": 85,
     "metadata": {},
     "output_type": "execute_result"
    }
   ],
   "source": [
    "id(a)"
   ]
  },
  {
   "cell_type": "code",
   "execution_count": 86,
   "metadata": {
    "collapsed": false
   },
   "outputs": [
    {
     "data": {
      "text/plain": [
       "2562891291920"
      ]
     },
     "execution_count": 86,
     "metadata": {},
     "output_type": "execute_result"
    }
   ],
   "source": [
    "id(b)"
   ]
  },
  {
   "cell_type": "code",
   "execution_count": 87,
   "metadata": {
    "collapsed": false
   },
   "outputs": [
    {
     "data": {
      "text/plain": [
       "2562891292048"
      ]
     },
     "execution_count": 87,
     "metadata": {},
     "output_type": "execute_result"
    }
   ],
   "source": [
    "c = a\n",
    "id(c)"
   ]
  },
  {
   "cell_type": "code",
   "execution_count": 88,
   "metadata": {
    "collapsed": false
   },
   "outputs": [
    {
     "data": {
      "text/plain": [
       "True"
      ]
     },
     "execution_count": 88,
     "metadata": {},
     "output_type": "execute_result"
    }
   ],
   "source": [
    "a = 100\n",
    "b = 100\n",
    "a is b"
   ]
  },
  {
   "cell_type": "code",
   "execution_count": 89,
   "metadata": {
    "collapsed": false
   },
   "outputs": [
    {
     "data": {
      "text/plain": [
       "2562891291536"
      ]
     },
     "execution_count": 89,
     "metadata": {},
     "output_type": "execute_result"
    }
   ],
   "source": [
    "a = 454\n",
    "b = 455\n",
    "id(a)"
   ]
  },
  {
   "cell_type": "code",
   "execution_count": 90,
   "metadata": {
    "collapsed": false
   },
   "outputs": [
    {
     "data": {
      "text/plain": [
       "2562891292304"
      ]
     },
     "execution_count": 90,
     "metadata": {},
     "output_type": "execute_result"
    }
   ],
   "source": [
    "id(b)"
   ]
  },
  {
   "cell_type": "code",
   "execution_count": 91,
   "metadata": {
    "collapsed": true
   },
   "outputs": [],
   "source": [
    "alist = [1,2,3,]"
   ]
  },
  {
   "cell_type": "code",
   "execution_count": 95,
   "metadata": {
    "collapsed": true
   },
   "outputs": [],
   "source": [
    "#unpacking\n",
    "a, b, c = alist"
   ]
  },
  {
   "cell_type": "code",
   "execution_count": 93,
   "metadata": {
    "collapsed": false
   },
   "outputs": [
    {
     "data": {
      "text/plain": [
       "1"
      ]
     },
     "execution_count": 93,
     "metadata": {},
     "output_type": "execute_result"
    }
   ],
   "source": [
    "a"
   ]
  },
  {
   "cell_type": "code",
   "execution_count": 94,
   "metadata": {
    "collapsed": false
   },
   "outputs": [
    {
     "data": {
      "text/plain": [
       "2"
      ]
     },
     "execution_count": 94,
     "metadata": {},
     "output_type": "execute_result"
    }
   ],
   "source": [
    "b"
   ]
  },
  {
   "cell_type": "code",
   "execution_count": 96,
   "metadata": {
    "collapsed": true
   },
   "outputs": [],
   "source": [
    "alist = [1,2,3,4,5,6,7,8,9]"
   ]
  },
  {
   "cell_type": "code",
   "execution_count": 97,
   "metadata": {
    "collapsed": true
   },
   "outputs": [],
   "source": [
    "a, *b, c = alist"
   ]
  },
  {
   "cell_type": "code",
   "execution_count": 98,
   "metadata": {
    "collapsed": false
   },
   "outputs": [
    {
     "data": {
      "text/plain": [
       "[2, 3, 4, 5, 6, 7, 8]"
      ]
     },
     "execution_count": 98,
     "metadata": {},
     "output_type": "execute_result"
    }
   ],
   "source": [
    "b"
   ]
  },
  {
   "cell_type": "code",
   "execution_count": 99,
   "metadata": {
    "collapsed": false
   },
   "outputs": [
    {
     "data": {
      "text/plain": [
       "[2, 3, 4, 5, 6, 7]"
      ]
     },
     "execution_count": 99,
     "metadata": {},
     "output_type": "execute_result"
    }
   ],
   "source": [
    "a, *b, c, d = alist\n",
    "b"
   ]
  },
  {
   "cell_type": "code",
   "execution_count": 100,
   "metadata": {
    "collapsed": false
   },
   "outputs": [
    {
     "name": "stdout",
     "output_type": "stream",
     "text": [
      "0 3\n",
      "1 4\n",
      "2 5\n",
      "3 6\n"
     ]
    }
   ],
   "source": [
    "alist = [3,4,5,6]\n",
    "blist = [6,5,4,3]\n",
    "for index,value in enumerate(alist):\n",
    "    print(index,value)"
   ]
  },
  {
   "cell_type": "code",
   "execution_count": 101,
   "metadata": {
    "collapsed": false,
    "scrolled": true
   },
   "outputs": [
    {
     "name": "stdout",
     "output_type": "stream",
     "text": [
      "3 6\n",
      "4 5\n",
      "5 4\n",
      "6 3\n"
     ]
    }
   ],
   "source": [
    "for a,b in zip(alist,blist):\n",
    "    print(a,b)"
   ]
  },
  {
   "cell_type": "code",
   "execution_count": 102,
   "metadata": {
    "collapsed": false
   },
   "outputs": [
    {
     "data": {
      "text/plain": [
       "[3, 4, 5, 6]"
      ]
     },
     "execution_count": 102,
     "metadata": {},
     "output_type": "execute_result"
    }
   ],
   "source": [
    "alist"
   ]
  },
  {
   "cell_type": "code",
   "execution_count": 103,
   "metadata": {
    "collapsed": false
   },
   "outputs": [
    {
     "data": {
      "text/plain": [
       "[6, 5, 4, 3]"
      ]
     },
     "execution_count": 103,
     "metadata": {},
     "output_type": "execute_result"
    }
   ],
   "source": [
    "blist"
   ]
  },
  {
   "cell_type": "code",
   "execution_count": 104,
   "metadata": {
    "collapsed": false
   },
   "outputs": [
    {
     "data": {
      "text/plain": [
       "{3: 6, 4: 5, 5: 4, 6: 3}"
      ]
     },
     "execution_count": 104,
     "metadata": {},
     "output_type": "execute_result"
    }
   ],
   "source": [
    "adict = dict(zip(alist,blist))\n",
    "adict"
   ]
  },
  {
   "cell_type": "code",
   "execution_count": 105,
   "metadata": {
    "collapsed": false
   },
   "outputs": [
    {
     "data": {
      "text/plain": [
       "dict_items([(3, 6), (4, 5), (5, 4), (6, 3)])"
      ]
     },
     "execution_count": 105,
     "metadata": {},
     "output_type": "execute_result"
    }
   ],
   "source": [
    "adict.items()"
   ]
  },
  {
   "cell_type": "code",
   "execution_count": 106,
   "metadata": {
    "collapsed": false
   },
   "outputs": [
    {
     "data": {
      "text/plain": [
       "dict"
      ]
     },
     "execution_count": 106,
     "metadata": {},
     "output_type": "execute_result"
    }
   ],
   "source": [
    "type(adict)"
   ]
  },
  {
   "cell_type": "code",
   "execution_count": 107,
   "metadata": {
    "collapsed": false
   },
   "outputs": [
    {
     "data": {
      "text/plain": [
       "True"
      ]
     },
     "execution_count": 107,
     "metadata": {},
     "output_type": "execute_result"
    }
   ],
   "source": [
    "isinstance(a,int)"
   ]
  },
  {
   "cell_type": "code",
   "execution_count": 108,
   "metadata": {
    "collapsed": false
   },
   "outputs": [
    {
     "data": {
      "text/plain": [
       "False"
      ]
     },
     "execution_count": 108,
     "metadata": {},
     "output_type": "execute_result"
    }
   ],
   "source": [
    "isinstance(a,str)"
   ]
  },
  {
   "cell_type": "code",
   "execution_count": 110,
   "metadata": {
    "collapsed": false
   },
   "outputs": [],
   "source": [
    "clist = [2,3,5,4,65,5,55,86,5,6,4,6,4,65,5,65,212,54,5,5,65,4]"
   ]
  },
  {
   "cell_type": "code",
   "execution_count": 112,
   "metadata": {
    "collapsed": false
   },
   "outputs": [],
   "source": [
    "clist.sort()"
   ]
  },
  {
   "cell_type": "code",
   "execution_count": 113,
   "metadata": {
    "collapsed": false
   },
   "outputs": [
    {
     "data": {
      "text/plain": [
       "[2, 3, 4, 4, 4, 4, 5, 5, 5, 5, 5, 5, 6, 6, 54, 55, 65, 65, 65, 65, 86, 212]"
      ]
     },
     "execution_count": 113,
     "metadata": {},
     "output_type": "execute_result"
    }
   ],
   "source": [
    "clist"
   ]
  },
  {
   "cell_type": "code",
   "execution_count": 116,
   "metadata": {
    "collapsed": false
   },
   "outputs": [
    {
     "ename": "AttributeError",
     "evalue": "'list' object has no attribute 'sorted'",
     "output_type": "error",
     "traceback": [
      "\u001b[0;31m---------------------------------------------------------------------------\u001b[0m",
      "\u001b[0;31mAttributeError\u001b[0m                            Traceback (most recent call last)",
      "\u001b[0;32m<ipython-input-116-70b10227e9be>\u001b[0m in \u001b[0;36m<module>\u001b[0;34m()\u001b[0m\n\u001b[0;32m----> 1\u001b[0;31m \u001b[0mclist\u001b[0m\u001b[1;33m.\u001b[0m\u001b[0msorted\u001b[0m\u001b[1;33m(\u001b[0m\u001b[1;33m)\u001b[0m\u001b[1;33m\u001b[0m\u001b[0m\n\u001b[0m",
      "\u001b[0;31mAttributeError\u001b[0m: 'list' object has no attribute 'sorted'"
     ]
    }
   ],
   "source": [
    "clist.sorted()"
   ]
  },
  {
   "cell_type": "code",
   "execution_count": 118,
   "metadata": {
    "collapsed": false
   },
   "outputs": [
    {
     "data": {
      "text/plain": [
       "[2, 3, 4, 4, 4, 4, 5, 5, 5, 5, 5, 5, 6, 6, 54, 55, 65, 65, 65, 65, 86, 212]"
      ]
     },
     "execution_count": 118,
     "metadata": {},
     "output_type": "execute_result"
    }
   ],
   "source": [
    "sorted(clist)"
   ]
  },
  {
   "cell_type": "code",
   "execution_count": 119,
   "metadata": {
    "collapsed": false
   },
   "outputs": [
    {
     "data": {
      "text/plain": [
       "[2, 3, 4, 4, 4, 4, 5, 5, 5, 5, 5, 5, 6, 6, 54, 55, 65, 65, 65, 65, 86, 212]"
      ]
     },
     "execution_count": 119,
     "metadata": {},
     "output_type": "execute_result"
    }
   ],
   "source": [
    "clist"
   ]
  },
  {
   "cell_type": "code",
   "execution_count": 120,
   "metadata": {
    "collapsed": true
   },
   "outputs": [],
   "source": [
    "a = [565,54,8,544,8484,84,51,54,84,454,545]"
   ]
  },
  {
   "cell_type": "code",
   "execution_count": 121,
   "metadata": {
    "collapsed": false
   },
   "outputs": [
    {
     "data": {
      "text/plain": [
       "[8, 51, 54, 54, 84, 84, 454, 544, 545, 565, 8484]"
      ]
     },
     "execution_count": 121,
     "metadata": {},
     "output_type": "execute_result"
    }
   ],
   "source": [
    "sorted(a)"
   ]
  },
  {
   "cell_type": "code",
   "execution_count": 122,
   "metadata": {
    "collapsed": false
   },
   "outputs": [
    {
     "data": {
      "text/plain": [
       "[565, 54, 8, 544, 8484, 84, 51, 54, 84, 454, 545]"
      ]
     },
     "execution_count": 122,
     "metadata": {},
     "output_type": "execute_result"
    }
   ],
   "source": [
    "a"
   ]
  },
  {
   "cell_type": "code",
   "execution_count": 124,
   "metadata": {
    "collapsed": true
   },
   "outputs": [],
   "source": [
    "a.sort()"
   ]
  },
  {
   "cell_type": "code",
   "execution_count": 125,
   "metadata": {
    "collapsed": false
   },
   "outputs": [
    {
     "data": {
      "text/plain": [
       "[8, 51, 54, 54, 84, 84, 454, 544, 545, 565, 8484]"
      ]
     },
     "execution_count": 125,
     "metadata": {},
     "output_type": "execute_result"
    }
   ],
   "source": [
    "a"
   ]
  },
  {
   "cell_type": "code",
   "execution_count": 127,
   "metadata": {
    "collapsed": false
   },
   "outputs": [
    {
     "data": {
      "text/plain": [
       "[1, 4, 9, 16, 25, 36]"
      ]
     },
     "execution_count": 127,
     "metadata": {},
     "output_type": "execute_result"
    }
   ],
   "source": [
    "alist = [1,2,3,4,5,6]\n",
    "sq_list = [item*item for item in alist]\n",
    "sq_list"
   ]
  },
  {
   "cell_type": "code",
   "execution_count": 129,
   "metadata": {
    "collapsed": true
   },
   "outputs": [],
   "source": [
    "ev_list = [item for item in alist if item%2==0]"
   ]
  },
  {
   "cell_type": "code",
   "execution_count": 130,
   "metadata": {
    "collapsed": false
   },
   "outputs": [
    {
     "data": {
      "text/plain": [
       "[2, 4, 6]"
      ]
     },
     "execution_count": 130,
     "metadata": {},
     "output_type": "execute_result"
    }
   ],
   "source": [
    "ev_list"
   ]
  },
  {
   "cell_type": "code",
   "execution_count": 131,
   "metadata": {
    "collapsed": false
   },
   "outputs": [
    {
     "data": {
      "text/plain": [
       "[0, 2, 4, 6, 8]"
      ]
     },
     "execution_count": 131,
     "metadata": {},
     "output_type": "execute_result"
    }
   ],
   "source": [
    "alist = [0,1,2,3,4,5,6,7,8,9]\n",
    "[item for item in alist if item%2==0]"
   ]
  },
  {
   "cell_type": "code",
   "execution_count": 132,
   "metadata": {
    "collapsed": false
   },
   "outputs": [
    {
     "data": {
      "text/plain": [
       "[0, 4, 8, 12, 16]"
      ]
     },
     "execution_count": 132,
     "metadata": {},
     "output_type": "execute_result"
    }
   ],
   "source": [
    "[item*2 for item in alist if item%2==0]"
   ]
  },
  {
   "cell_type": "code",
   "execution_count": 133,
   "metadata": {
    "collapsed": false
   },
   "outputs": [
    {
     "data": {
      "text/plain": [
       "[0, 4, 16, 36, 64]"
      ]
     },
     "execution_count": 133,
     "metadata": {},
     "output_type": "execute_result"
    }
   ],
   "source": [
    "[item**2 for item in alist if item%2==0]"
   ]
  },
  {
   "cell_type": "code",
   "execution_count": 134,
   "metadata": {
    "collapsed": false
   },
   "outputs": [
    {
     "data": {
      "text/plain": [
       "[1, 3, 5, 7, 9]"
      ]
     },
     "execution_count": 134,
     "metadata": {},
     "output_type": "execute_result"
    }
   ],
   "source": [
    "[item for item in alist if item%2!=0]"
   ]
  },
  {
   "cell_type": "code",
   "execution_count": 135,
   "metadata": {
    "collapsed": true
   },
   "outputs": [],
   "source": [
    "alist = [1,2,3,4,\"asd0\",\"asd\"]"
   ]
  },
  {
   "cell_type": "code",
   "execution_count": 136,
   "metadata": {
    "collapsed": false
   },
   "outputs": [
    {
     "data": {
      "text/plain": [
       "[1, 2, 3, 4]"
      ]
     },
     "execution_count": 136,
     "metadata": {},
     "output_type": "execute_result"
    }
   ],
   "source": [
    "[item for item in alist if isinstance(item,int)]"
   ]
  },
  {
   "cell_type": "code",
   "execution_count": 137,
   "metadata": {
    "collapsed": false
   },
   "outputs": [
    {
     "data": {
      "text/plain": [
       "['asd0', 'asd']"
      ]
     },
     "execution_count": 137,
     "metadata": {},
     "output_type": "execute_result"
    }
   ],
   "source": [
    "[item for item in alist if isinstance(item,str)]"
   ]
  },
  {
   "cell_type": "code",
   "execution_count": 138,
   "metadata": {
    "collapsed": true
   },
   "outputs": [],
   "source": [
    "a = \"1\""
   ]
  },
  {
   "cell_type": "code",
   "execution_count": 139,
   "metadata": {
    "collapsed": false
   },
   "outputs": [
    {
     "data": {
      "text/plain": [
       "1"
      ]
     },
     "execution_count": 139,
     "metadata": {},
     "output_type": "execute_result"
    }
   ],
   "source": [
    "int(a)"
   ]
  },
  {
   "cell_type": "code",
   "execution_count": 140,
   "metadata": {
    "collapsed": false
   },
   "outputs": [
    {
     "data": {
      "text/plain": [
       "'54534'"
      ]
     },
     "execution_count": 140,
     "metadata": {},
     "output_type": "execute_result"
    }
   ],
   "source": [
    "b = 54534\n",
    "str(b)"
   ]
  },
  {
   "cell_type": "code",
   "execution_count": 141,
   "metadata": {
    "collapsed": true
   },
   "outputs": [],
   "source": [
    "alist = ['1','3','4']"
   ]
  },
  {
   "cell_type": "code",
   "execution_count": 142,
   "metadata": {
    "collapsed": false
   },
   "outputs": [
    {
     "data": {
      "text/plain": [
       "[1, 3, 4]"
      ]
     },
     "execution_count": 142,
     "metadata": {},
     "output_type": "execute_result"
    }
   ],
   "source": [
    "[int(item) for item in alist]"
   ]
  },
  {
   "cell_type": "code",
   "execution_count": 143,
   "metadata": {
    "collapsed": true
   },
   "outputs": [],
   "source": [
    "alist = ['love','hate','love','hate']"
   ]
  },
  {
   "cell_type": "code",
   "execution_count": 144,
   "metadata": {
    "collapsed": false
   },
   "outputs": [
    {
     "data": {
      "text/plain": [
       "['love', 'love', 'love', 'love']"
      ]
     },
     "execution_count": 144,
     "metadata": {},
     "output_type": "execute_result"
    }
   ],
   "source": [
    "[item if item!='hate' else 'love' for item in alist]"
   ]
  },
  {
   "cell_type": "code",
   "execution_count": 145,
   "metadata": {
    "collapsed": true
   },
   "outputs": [],
   "source": [
    "alist = [4,5,6,7,8]\n",
    "bset = {item for item in alist}"
   ]
  },
  {
   "cell_type": "code",
   "execution_count": 146,
   "metadata": {
    "collapsed": false
   },
   "outputs": [
    {
     "data": {
      "text/plain": [
       "{4, 5, 6, 7, 8}"
      ]
     },
     "execution_count": 146,
     "metadata": {},
     "output_type": "execute_result"
    }
   ],
   "source": [
    "bset"
   ]
  },
  {
   "cell_type": "code",
   "execution_count": 147,
   "metadata": {
    "collapsed": true
   },
   "outputs": [],
   "source": [
    "alist = list(range(5))\n",
    "blist = alist"
   ]
  },
  {
   "cell_type": "code",
   "execution_count": 148,
   "metadata": {
    "collapsed": true
   },
   "outputs": [],
   "source": [
    "adict = dict(zip(alist,blist))"
   ]
  },
  {
   "cell_type": "code",
   "execution_count": 149,
   "metadata": {
    "collapsed": false
   },
   "outputs": [
    {
     "data": {
      "text/plain": [
       "{0: 0, 1: 1, 2: 2, 3: 3, 4: 4}"
      ]
     },
     "execution_count": 149,
     "metadata": {},
     "output_type": "execute_result"
    }
   ],
   "source": [
    "adict"
   ]
  },
  {
   "cell_type": "code",
   "execution_count": 150,
   "metadata": {
    "collapsed": false
   },
   "outputs": [
    {
     "name": "stdout",
     "output_type": "stream",
     "text": [
      "0 0\n",
      "1 1\n",
      "2 2\n",
      "3 3\n",
      "4 4\n"
     ]
    }
   ],
   "source": [
    "for key,value in adict.items():\n",
    "    print(key,value)"
   ]
  },
  {
   "cell_type": "code",
   "execution_count": 151,
   "metadata": {
    "collapsed": false
   },
   "outputs": [
    {
     "name": "stdout",
     "output_type": "stream",
     "text": [
      "0\n",
      "1\n",
      "2\n",
      "3\n",
      "4\n"
     ]
    }
   ],
   "source": [
    "for i in adict:\n",
    "    print(i)"
   ]
  },
  {
   "cell_type": "code",
   "execution_count": 152,
   "metadata": {
    "collapsed": false
   },
   "outputs": [
    {
     "name": "stdout",
     "output_type": "stream",
     "text": [
      "(0, 0)\n",
      "(1, 1)\n",
      "(2, 2)\n",
      "(3, 3)\n",
      "(4, 4)\n"
     ]
    }
   ],
   "source": [
    "for i in adict.items():\n",
    "    print(i)"
   ]
  },
  {
   "cell_type": "code",
   "execution_count": 154,
   "metadata": {
    "collapsed": true
   },
   "outputs": [],
   "source": [
    "adict = {key:val**2 for key,val in adict.items()}"
   ]
  },
  {
   "cell_type": "code",
   "execution_count": 155,
   "metadata": {
    "collapsed": false
   },
   "outputs": [
    {
     "data": {
      "text/plain": [
       "{0: 0, 1: 1, 2: 16, 3: 81, 4: 256}"
      ]
     },
     "execution_count": 155,
     "metadata": {},
     "output_type": "execute_result"
    }
   ],
   "source": [
    "adict"
   ]
  },
  {
   "cell_type": "code",
   "execution_count": 156,
   "metadata": {
    "collapsed": false
   },
   "outputs": [
    {
     "data": {
      "text/plain": [
       "{'0': 0, '1': 1, '2': 256, '3': 6561, '4': 65536}"
      ]
     },
     "execution_count": 156,
     "metadata": {},
     "output_type": "execute_result"
    }
   ],
   "source": [
    "adict = {str(key):val for key,val in adict.items()}\n",
    "adict"
   ]
  },
  {
   "cell_type": "code",
   "execution_count": 157,
   "metadata": {
    "collapsed": true
   },
   "outputs": [],
   "source": [
    "def gen():\n",
    "    for i in range(10):\n",
    "        yield i"
   ]
  },
  {
   "cell_type": "code",
   "execution_count": 158,
   "metadata": {
    "collapsed": true
   },
   "outputs": [],
   "source": [
    "g = gen()"
   ]
  },
  {
   "cell_type": "code",
   "execution_count": 160,
   "metadata": {
    "collapsed": false
   },
   "outputs": [
    {
     "data": {
      "text/plain": [
       "0"
      ]
     },
     "execution_count": 160,
     "metadata": {},
     "output_type": "execute_result"
    }
   ],
   "source": [
    "next(g)"
   ]
  },
  {
   "cell_type": "code",
   "execution_count": 161,
   "metadata": {
    "collapsed": false
   },
   "outputs": [
    {
     "data": {
      "text/plain": [
       "1"
      ]
     },
     "execution_count": 161,
     "metadata": {},
     "output_type": "execute_result"
    }
   ],
   "source": [
    "next(g)"
   ]
  },
  {
   "cell_type": "code",
   "execution_count": 162,
   "metadata": {
    "collapsed": false
   },
   "outputs": [
    {
     "data": {
      "text/plain": [
       "2"
      ]
     },
     "execution_count": 162,
     "metadata": {},
     "output_type": "execute_result"
    }
   ],
   "source": [
    "next(g)"
   ]
  },
  {
   "cell_type": "code",
   "execution_count": 163,
   "metadata": {
    "collapsed": false
   },
   "outputs": [
    {
     "data": {
      "text/plain": [
       "3"
      ]
     },
     "execution_count": 163,
     "metadata": {},
     "output_type": "execute_result"
    }
   ],
   "source": [
    "next(g)"
   ]
  },
  {
   "cell_type": "code",
   "execution_count": 164,
   "metadata": {
    "collapsed": false
   },
   "outputs": [
    {
     "data": {
      "text/plain": [
       "4"
      ]
     },
     "execution_count": 164,
     "metadata": {},
     "output_type": "execute_result"
    }
   ],
   "source": [
    "next(g)"
   ]
  },
  {
   "cell_type": "code",
   "execution_count": 165,
   "metadata": {
    "collapsed": false
   },
   "outputs": [
    {
     "data": {
      "text/plain": [
       "8"
      ]
     },
     "execution_count": 165,
     "metadata": {},
     "output_type": "execute_result"
    }
   ],
   "source": [
    "next(g)\n",
    "next(g)\n",
    "next(g)\n",
    "next(g)"
   ]
  },
  {
   "cell_type": "code",
   "execution_count": 166,
   "metadata": {
    "collapsed": true
   },
   "outputs": [],
   "source": [
    "g = gen()"
   ]
  },
  {
   "cell_type": "code",
   "execution_count": 167,
   "metadata": {
    "collapsed": true
   },
   "outputs": [],
   "source": [
    "alist = list(g)"
   ]
  },
  {
   "cell_type": "code",
   "execution_count": 168,
   "metadata": {
    "collapsed": false
   },
   "outputs": [
    {
     "data": {
      "text/plain": [
       "[0, 1, 2, 3, 4, 5, 6, 7, 8, 9]"
      ]
     },
     "execution_count": 168,
     "metadata": {},
     "output_type": "execute_result"
    }
   ],
   "source": [
    "alist"
   ]
  },
  {
   "cell_type": "code",
   "execution_count": 169,
   "metadata": {
    "collapsed": true
   },
   "outputs": [],
   "source": [
    "g = range(10)"
   ]
  },
  {
   "cell_type": "code",
   "execution_count": 170,
   "metadata": {
    "collapsed": false
   },
   "outputs": [
    {
     "data": {
      "text/plain": [
       "range(0, 10)"
      ]
     },
     "execution_count": 170,
     "metadata": {},
     "output_type": "execute_result"
    }
   ],
   "source": [
    "g"
   ]
  },
  {
   "cell_type": "code",
   "execution_count": 171,
   "metadata": {
    "collapsed": false
   },
   "outputs": [
    {
     "data": {
      "text/plain": [
       "[0, 1, 2, 3, 4, 5, 6, 7, 8, 9]"
      ]
     },
     "execution_count": 171,
     "metadata": {},
     "output_type": "execute_result"
    }
   ],
   "source": [
    "list(g)"
   ]
  },
  {
   "cell_type": "code",
   "execution_count": 172,
   "metadata": {
    "collapsed": false
   },
   "outputs": [
    {
     "data": {
      "text/plain": [
       "<zip at 0x254b8502948>"
      ]
     },
     "execution_count": 172,
     "metadata": {},
     "output_type": "execute_result"
    }
   ],
   "source": [
    "f = zip([1,2,3],[4,5,6])\n",
    "f"
   ]
  },
  {
   "cell_type": "code",
   "execution_count": 173,
   "metadata": {
    "collapsed": false
   },
   "outputs": [
    {
     "data": {
      "text/plain": [
       "[(1, 4), (2, 5), (3, 6)]"
      ]
     },
     "execution_count": 173,
     "metadata": {},
     "output_type": "execute_result"
    }
   ],
   "source": [
    "list(f)"
   ]
  },
  {
   "cell_type": "code",
   "execution_count": 178,
   "metadata": {
    "collapsed": false
   },
   "outputs": [
    {
     "ename": "StopIteration",
     "evalue": "",
     "output_type": "error",
     "traceback": [
      "\u001b[0;31m---------------------------------------------------------------------------\u001b[0m",
      "\u001b[0;31mStopIteration\u001b[0m                             Traceback (most recent call last)",
      "\u001b[0;32m<ipython-input-178-468f0afdf1b9>\u001b[0m in \u001b[0;36m<module>\u001b[0;34m()\u001b[0m\n\u001b[0;32m----> 1\u001b[0;31m \u001b[0mnext\u001b[0m\u001b[1;33m(\u001b[0m\u001b[0mf\u001b[0m\u001b[1;33m)\u001b[0m\u001b[1;33m\u001b[0m\u001b[0m\n\u001b[0m",
      "\u001b[0;31mStopIteration\u001b[0m: "
     ]
    }
   ],
   "source": [
    "next(f)"
   ]
  },
  {
   "cell_type": "code",
   "execution_count": null,
   "metadata": {
    "collapsed": true
   },
   "outputs": [],
   "source": []
  },
  {
   "cell_type": "code",
   "execution_count": 175,
   "metadata": {
    "collapsed": false,
    "scrolled": true
   },
   "outputs": [
    {
     "ename": "TypeError",
     "evalue": "'range' object is not an iterator",
     "output_type": "error",
     "traceback": [
      "\u001b[0;31m---------------------------------------------------------------------------\u001b[0m",
      "\u001b[0;31mTypeError\u001b[0m                                 Traceback (most recent call last)",
      "\u001b[0;32m<ipython-input-175-5f315c5de15b>\u001b[0m in \u001b[0;36m<module>\u001b[0;34m()\u001b[0m\n\u001b[0;32m----> 1\u001b[0;31m \u001b[0mnext\u001b[0m\u001b[1;33m(\u001b[0m\u001b[0mg\u001b[0m\u001b[1;33m)\u001b[0m\u001b[1;33m\u001b[0m\u001b[0m\n\u001b[0m",
      "\u001b[0;31mTypeError\u001b[0m: 'range' object is not an iterator"
     ]
    }
   ],
   "source": [
    "next(g)"
   ]
  },
  {
   "cell_type": "code",
   "execution_count": 179,
   "metadata": {
    "collapsed": false
   },
   "outputs": [
    {
     "data": {
      "text/plain": [
       "'F:\\\\ITtraining'"
      ]
     },
     "execution_count": 179,
     "metadata": {},
     "output_type": "execute_result"
    }
   ],
   "source": [
    "pwd"
   ]
  },
  {
   "cell_type": "code",
   "execution_count": 180,
   "metadata": {
    "collapsed": false
   },
   "outputs": [
    {
     "name": "stdout",
     "output_type": "stream",
     "text": [
      " Volume in drive F is CS\n",
      " Volume Serial Number is 2CB6-9105\n",
      "\n",
      " Directory of F:\\ITtraining\n",
      "\n",
      "02/25/2017  02:58 PM    <DIR>          .\n",
      "02/25/2017  02:58 PM    <DIR>          ..\n",
      "02/25/2017  11:40 AM    <DIR>          .ipynb_checkpoints\n",
      "02/23/2017  10:16 AM       173,819,564 Food_Inspections.csv\n",
      "02/24/2017  11:18 AM             1,286 tweets.txt\n",
      "02/25/2017  11:34 AM               589 Untitled.ipynb\n",
      "02/25/2017  11:42 AM             1,157 Untitled1.ipynb\n",
      "02/25/2017  02:58 PM            48,503 Untitled2.ipynb\n",
      "               5 File(s)    173,871,099 bytes\n",
      "               3 Dir(s)  103,148,634,112 bytes free\n"
     ]
    }
   ],
   "source": [
    "ls"
   ]
  },
  {
   "cell_type": "code",
   "execution_count": 181,
   "metadata": {
    "collapsed": true
   },
   "outputs": [],
   "source": [
    "file = open('Food_Inspections.csv')"
   ]
  },
  {
   "cell_type": "code",
   "execution_count": 182,
   "metadata": {
    "collapsed": false
   },
   "outputs": [
    {
     "data": {
      "text/plain": [
       "'Inspection ID,DBA Name,AKA Name,License #,Facility Type,Risk,Address,City,State,Zip,Inspection Date,Inspection Type,Results,Violations,Latitude,Longitude,Location\\n'"
      ]
     },
     "execution_count": 182,
     "metadata": {},
     "output_type": "execute_result"
    }
   ],
   "source": [
    "file.readline()"
   ]
  },
  {
   "cell_type": "code",
   "execution_count": 183,
   "metadata": {
    "collapsed": false
   },
   "outputs": [
    {
     "data": {
      "text/plain": [
       "'1989421,Olive Mediterranean Grill,Olive Mediterranean Grill,2469894,Restaurant,Risk 1 (High),23 E ADAMS ST ,CHICAGO,IL,60603,02/21/2017,Canvass,Pass,\"41. PREMISES MAINTAINED FREE OF LITTER, UNNECESSARY ARTICLES, CLEANING  EQUIPMENT PROPERLY STORED - Comments: OBSERVED CLUTTER IN THE REAR PREP AREA BY THE ICE MACHINE. INSTRUCTED TO REMOVE ALL EXCESS ITEMS. | 31. CLEAN MULTI-USE UTENSILS AND SINGLE SERVICE ARTICLES PROPERLY STORED: NO REUSE OF SINGLE SERVICE ARTICLES - Comments: OBSERVED SERVING UTENSILS STORED IN BOWLS OF WATER. INSTRUCTED TO STORE ALL UTENSILS ON A CLEAN DRY SURFACE.  | 30. FOOD IN ORIGINAL CONTAINER, PROPERLY LABELED: CUSTOMER ADVISORY POSTED AS NEEDED - Comments: OBSERVED SMALL CONTAINERS OF SAUCES UNLABELED IN THE FRONT COOLER FOR CUSTOMERS TO GRAB. IMNSTRUCTED TO LABEL ALL FOOD ITEMS.\",41.879391313239694,-87.62684825563626,\"(41.879391313239694, -87.62684825563626)\"\\n'"
      ]
     },
     "execution_count": 183,
     "metadata": {},
     "output_type": "execute_result"
    }
   ],
   "source": [
    "file.readline()"
   ]
  },
  {
   "cell_type": "code",
   "execution_count": 184,
   "metadata": {
    "collapsed": true
   },
   "outputs": [],
   "source": [
    "import csv"
   ]
  },
  {
   "cell_type": "code",
   "execution_count": 185,
   "metadata": {
    "collapsed": true
   },
   "outputs": [],
   "source": [
    "food = csv.DictReader(open('Food_Inspections.csv'))"
   ]
  },
  {
   "cell_type": "code",
   "execution_count": 186,
   "metadata": {
    "collapsed": false
   },
   "outputs": [
    {
     "data": {
      "text/plain": [
       "<csv.DictReader at 0x254b8517390>"
      ]
     },
     "execution_count": 186,
     "metadata": {},
     "output_type": "execute_result"
    }
   ],
   "source": [
    "food"
   ]
  },
  {
   "cell_type": "code",
   "execution_count": 187,
   "metadata": {
    "collapsed": true
   },
   "outputs": [],
   "source": [
    "food = list(food)"
   ]
  },
  {
   "cell_type": "code",
   "execution_count": 188,
   "metadata": {
    "collapsed": false
   },
   "outputs": [
    {
     "data": {
      "text/plain": [
       "{'AKA Name': 'Olive Mediterranean Grill',\n",
       " 'Address': '23 E ADAMS ST ',\n",
       " 'City': 'CHICAGO',\n",
       " 'DBA Name': 'Olive Mediterranean Grill',\n",
       " 'Facility Type': 'Restaurant',\n",
       " 'Inspection Date': '02/21/2017',\n",
       " 'Inspection ID': '1989421',\n",
       " 'Inspection Type': 'Canvass',\n",
       " 'Latitude': '41.879391313239694',\n",
       " 'License #': '2469894',\n",
       " 'Location': '(41.879391313239694, -87.62684825563626)',\n",
       " 'Longitude': '-87.62684825563626',\n",
       " 'Results': 'Pass',\n",
       " 'Risk': 'Risk 1 (High)',\n",
       " 'State': 'IL',\n",
       " 'Violations': '41. PREMISES MAINTAINED FREE OF LITTER, UNNECESSARY ARTICLES, CLEANING  EQUIPMENT PROPERLY STORED - Comments: OBSERVED CLUTTER IN THE REAR PREP AREA BY THE ICE MACHINE. INSTRUCTED TO REMOVE ALL EXCESS ITEMS. | 31. CLEAN MULTI-USE UTENSILS AND SINGLE SERVICE ARTICLES PROPERLY STORED: NO REUSE OF SINGLE SERVICE ARTICLES - Comments: OBSERVED SERVING UTENSILS STORED IN BOWLS OF WATER. INSTRUCTED TO STORE ALL UTENSILS ON A CLEAN DRY SURFACE.  | 30. FOOD IN ORIGINAL CONTAINER, PROPERLY LABELED: CUSTOMER ADVISORY POSTED AS NEEDED - Comments: OBSERVED SMALL CONTAINERS OF SAUCES UNLABELED IN THE FRONT COOLER FOR CUSTOMERS TO GRAB. IMNSTRUCTED TO LABEL ALL FOOD ITEMS.',\n",
       " 'Zip': '60603'}"
      ]
     },
     "execution_count": 188,
     "metadata": {},
     "output_type": "execute_result"
    }
   ],
   "source": [
    "food[0]"
   ]
  },
  {
   "cell_type": "code",
   "execution_count": 189,
   "metadata": {
    "collapsed": false
   },
   "outputs": [
    {
     "data": {
      "text/plain": [
       "list"
      ]
     },
     "execution_count": 189,
     "metadata": {},
     "output_type": "execute_result"
    }
   ],
   "source": [
    "type(food)"
   ]
  },
  {
   "cell_type": "code",
   "execution_count": 190,
   "metadata": {
    "collapsed": false
   },
   "outputs": [
    {
     "data": {
      "text/plain": [
       "{'AKA Name': 'WIEBOLDT HALL CAFE',\n",
       " 'Address': '340 E SUPERIOR ST ',\n",
       " 'City': 'CHICAGO',\n",
       " 'DBA Name': 'SODEXHO AMERICA, LLC / KATE KELLOGG',\n",
       " 'Facility Type': 'Restaurant',\n",
       " 'Inspection Date': '02/21/2017',\n",
       " 'Inspection ID': '1989400',\n",
       " 'Inspection Type': 'License',\n",
       " 'Latitude': '41.89593592113233',\n",
       " 'License #': '2495875',\n",
       " 'Location': '(41.89593592113233, -87.61887289052693)',\n",
       " 'Longitude': '-87.61887289052693',\n",
       " 'Results': 'Pass',\n",
       " 'Risk': 'Risk 3 (Low)',\n",
       " 'State': 'IL',\n",
       " 'Violations': '',\n",
       " 'Zip': '60611'}"
      ]
     },
     "execution_count": 190,
     "metadata": {},
     "output_type": "execute_result"
    }
   ],
   "source": [
    "food[1]"
   ]
  },
  {
   "cell_type": "code",
   "execution_count": 191,
   "metadata": {
    "collapsed": false
   },
   "outputs": [
    {
     "data": {
      "text/plain": [
       "'1989400'"
      ]
     },
     "execution_count": 191,
     "metadata": {},
     "output_type": "execute_result"
    }
   ],
   "source": [
    "food[1]['Inspection ID']"
   ]
  },
  {
   "cell_type": "code",
   "execution_count": 192,
   "metadata": {
    "collapsed": false
   },
   "outputs": [
    {
     "data": {
      "text/plain": [
       "144359"
      ]
     },
     "execution_count": 192,
     "metadata": {},
     "output_type": "execute_result"
    }
   ],
   "source": [
    "len(food)"
   ]
  },
  {
   "cell_type": "code",
   "execution_count": 193,
   "metadata": {
    "collapsed": true
   },
   "outputs": [],
   "source": [
    "results = [row['Results'] for row in food]"
   ]
  },
  {
   "cell_type": "code",
   "execution_count": 194,
   "metadata": {
    "collapsed": false
   },
   "outputs": [
    {
     "data": {
      "text/plain": [
       "['Pass',\n",
       " 'Pass',\n",
       " 'Pass',\n",
       " 'Pass',\n",
       " 'Pass',\n",
       " 'Pass w/ Conditions',\n",
       " 'Out of Business',\n",
       " 'No Entry',\n",
       " 'Pass',\n",
       " 'Not Ready',\n",
       " 'No Entry',\n",
       " 'Pass',\n",
       " 'Pass',\n",
       " 'Pass',\n",
       " 'Fail',\n",
       " 'Pass w/ Conditions',\n",
       " 'Pass',\n",
       " 'Pass w/ Conditions',\n",
       " 'Pass w/ Conditions',\n",
       " 'Pass',\n",
       " 'No Entry',\n",
       " 'Out of Business',\n",
       " 'Fail',\n",
       " 'Fail',\n",
       " 'Pass',\n",
       " 'Pass',\n",
       " 'Fail',\n",
       " 'Fail',\n",
       " 'Pass',\n",
       " 'Pass',\n",
       " 'Pass',\n",
       " 'Pass',\n",
       " 'Fail',\n",
       " 'Pass',\n",
       " 'Pass',\n",
       " 'Pass',\n",
       " 'Pass',\n",
       " 'Pass w/ Conditions',\n",
       " 'Pass',\n",
       " 'Pass',\n",
       " 'Fail',\n",
       " 'Pass',\n",
       " 'Pass',\n",
       " 'Pass',\n",
       " 'Pass',\n",
       " 'Pass w/ Conditions',\n",
       " 'Pass',\n",
       " 'Pass',\n",
       " 'Pass w/ Conditions',\n",
       " 'Pass',\n",
       " 'Pass',\n",
       " 'Pass',\n",
       " 'Pass',\n",
       " 'Fail',\n",
       " 'Pass',\n",
       " 'Fail',\n",
       " 'Fail',\n",
       " 'Pass',\n",
       " 'Out of Business',\n",
       " 'No Entry',\n",
       " 'Pass',\n",
       " 'Fail',\n",
       " 'Pass',\n",
       " 'Pass',\n",
       " 'Pass',\n",
       " 'Fail',\n",
       " 'Fail',\n",
       " 'Not Ready',\n",
       " 'Pass',\n",
       " 'Fail',\n",
       " 'Pass',\n",
       " 'Fail',\n",
       " 'Fail',\n",
       " 'Pass w/ Conditions',\n",
       " 'Pass',\n",
       " 'Pass w/ Conditions',\n",
       " 'Pass',\n",
       " 'Pass',\n",
       " 'Pass',\n",
       " 'Pass',\n",
       " 'Fail',\n",
       " 'Out of Business',\n",
       " 'Fail',\n",
       " 'Pass',\n",
       " 'Pass',\n",
       " 'Pass',\n",
       " 'Pass',\n",
       " 'Fail',\n",
       " 'Pass',\n",
       " 'Fail',\n",
       " 'Pass',\n",
       " 'Pass',\n",
       " 'Pass',\n",
       " 'Pass',\n",
       " 'Fail',\n",
       " 'Fail',\n",
       " 'Pass',\n",
       " 'Not Ready',\n",
       " 'Pass',\n",
       " 'Out of Business',\n",
       " 'Pass',\n",
       " 'Fail',\n",
       " 'Pass',\n",
       " 'Pass',\n",
       " 'Fail',\n",
       " 'Fail',\n",
       " 'Pass',\n",
       " 'Pass',\n",
       " 'Fail',\n",
       " 'Pass',\n",
       " 'Fail',\n",
       " 'Pass',\n",
       " 'Fail',\n",
       " 'Pass',\n",
       " 'Pass',\n",
       " 'Pass',\n",
       " 'Pass',\n",
       " 'Fail',\n",
       " 'No Entry',\n",
       " 'Pass',\n",
       " 'Pass',\n",
       " 'Pass',\n",
       " 'Pass',\n",
       " 'Pass w/ Conditions',\n",
       " 'Fail',\n",
       " 'Pass',\n",
       " 'Pass',\n",
       " 'Fail',\n",
       " 'No Entry',\n",
       " 'Pass',\n",
       " 'Pass',\n",
       " 'No Entry',\n",
       " 'Pass',\n",
       " 'Pass',\n",
       " 'Pass',\n",
       " 'Fail',\n",
       " 'Pass',\n",
       " 'Pass',\n",
       " 'Pass',\n",
       " 'Fail',\n",
       " 'Pass',\n",
       " 'Pass',\n",
       " 'Pass',\n",
       " 'Fail',\n",
       " 'Pass',\n",
       " 'Pass',\n",
       " 'Pass w/ Conditions',\n",
       " 'Pass',\n",
       " 'Pass w/ Conditions',\n",
       " 'Pass',\n",
       " 'Pass',\n",
       " 'Pass',\n",
       " 'Out of Business',\n",
       " 'Pass',\n",
       " 'No Entry',\n",
       " 'Pass w/ Conditions',\n",
       " 'Fail',\n",
       " 'Fail',\n",
       " 'Pass',\n",
       " 'Pass',\n",
       " 'Pass',\n",
       " 'Pass w/ Conditions',\n",
       " 'Pass',\n",
       " 'Pass w/ Conditions',\n",
       " 'Pass',\n",
       " 'Pass',\n",
       " 'No Entry',\n",
       " 'Not Ready',\n",
       " 'Pass',\n",
       " 'Fail',\n",
       " 'Out of Business',\n",
       " 'Fail',\n",
       " 'Pass',\n",
       " 'Out of Business',\n",
       " 'Pass',\n",
       " 'Pass w/ Conditions',\n",
       " 'Pass',\n",
       " 'Pass',\n",
       " 'Pass',\n",
       " 'Pass',\n",
       " 'Fail',\n",
       " 'Pass',\n",
       " 'Pass w/ Conditions',\n",
       " 'Pass',\n",
       " 'Pass',\n",
       " 'Fail',\n",
       " 'Fail',\n",
       " 'Pass',\n",
       " 'Fail',\n",
       " 'Not Ready',\n",
       " 'Fail',\n",
       " 'Pass',\n",
       " 'Fail',\n",
       " 'Fail',\n",
       " 'Pass',\n",
       " 'Fail',\n",
       " 'Out of Business',\n",
       " 'Fail',\n",
       " 'Pass',\n",
       " 'Pass',\n",
       " 'Fail',\n",
       " 'Pass',\n",
       " 'Out of Business',\n",
       " 'Fail',\n",
       " 'Pass w/ Conditions',\n",
       " 'Out of Business',\n",
       " 'Fail',\n",
       " 'Pass w/ Conditions',\n",
       " 'Fail',\n",
       " 'Pass',\n",
       " 'Fail',\n",
       " 'Pass',\n",
       " 'Pass',\n",
       " 'Pass',\n",
       " 'Fail',\n",
       " 'Fail',\n",
       " 'Fail',\n",
       " 'Pass',\n",
       " 'Fail',\n",
       " 'Pass',\n",
       " 'Fail',\n",
       " 'Pass',\n",
       " 'Pass',\n",
       " 'Pass',\n",
       " 'Pass',\n",
       " 'Pass',\n",
       " 'Fail',\n",
       " 'Pass',\n",
       " 'Pass',\n",
       " 'Pass',\n",
       " 'Pass',\n",
       " 'Pass',\n",
       " 'Pass',\n",
       " 'Pass',\n",
       " 'Pass',\n",
       " 'Pass',\n",
       " 'Pass',\n",
       " 'Pass',\n",
       " 'Pass',\n",
       " 'Pass',\n",
       " 'Pass',\n",
       " 'Pass',\n",
       " 'Pass',\n",
       " 'No Entry',\n",
       " 'No Entry',\n",
       " 'Pass',\n",
       " 'Pass',\n",
       " 'Pass',\n",
       " 'Pass',\n",
       " 'Not Ready',\n",
       " 'Pass',\n",
       " 'Fail',\n",
       " 'Pass',\n",
       " 'Pass',\n",
       " 'Pass',\n",
       " 'Fail',\n",
       " 'No Entry',\n",
       " 'Fail',\n",
       " 'Pass',\n",
       " 'Fail',\n",
       " 'Fail',\n",
       " 'Pass',\n",
       " 'Out of Business',\n",
       " 'Fail',\n",
       " 'Fail',\n",
       " 'Pass',\n",
       " 'Out of Business',\n",
       " 'Pass',\n",
       " 'Pass',\n",
       " 'Pass',\n",
       " 'Pass',\n",
       " 'Fail',\n",
       " 'Pass',\n",
       " 'Fail',\n",
       " 'Pass',\n",
       " 'Pass w/ Conditions',\n",
       " 'Pass',\n",
       " 'Out of Business',\n",
       " 'Pass',\n",
       " 'Pass',\n",
       " 'Fail',\n",
       " 'Pass',\n",
       " 'Pass',\n",
       " 'Pass',\n",
       " 'Pass',\n",
       " 'Fail',\n",
       " 'Pass',\n",
       " 'Pass',\n",
       " 'Fail',\n",
       " 'Fail',\n",
       " 'Fail',\n",
       " 'Out of Business',\n",
       " 'Fail',\n",
       " 'Pass w/ Conditions',\n",
       " 'Pass',\n",
       " 'Pass',\n",
       " 'Pass',\n",
       " 'Fail',\n",
       " 'Pass',\n",
       " 'Pass',\n",
       " 'Pass',\n",
       " 'Fail',\n",
       " 'Fail',\n",
       " 'Pass',\n",
       " 'Pass',\n",
       " 'Pass w/ Conditions',\n",
       " 'Pass',\n",
       " 'Out of Business',\n",
       " 'Pass',\n",
       " 'Fail',\n",
       " 'Pass',\n",
       " 'Pass',\n",
       " 'Pass',\n",
       " 'Fail',\n",
       " 'Pass',\n",
       " 'Pass',\n",
       " 'Pass',\n",
       " 'Pass',\n",
       " 'Pass',\n",
       " 'Pass w/ Conditions',\n",
       " 'Pass',\n",
       " 'Pass',\n",
       " 'Pass',\n",
       " 'Pass',\n",
       " 'No Entry',\n",
       " 'Pass w/ Conditions',\n",
       " 'Pass w/ Conditions',\n",
       " 'Pass',\n",
       " 'Pass',\n",
       " 'Pass',\n",
       " 'Pass',\n",
       " 'Pass',\n",
       " 'Pass',\n",
       " 'Pass',\n",
       " 'Fail',\n",
       " 'Pass',\n",
       " 'Pass w/ Conditions',\n",
       " 'Pass',\n",
       " 'Out of Business',\n",
       " 'Pass',\n",
       " 'Pass',\n",
       " 'Pass',\n",
       " 'Pass',\n",
       " 'Out of Business',\n",
       " 'Pass',\n",
       " 'Pass',\n",
       " 'Fail',\n",
       " 'Pass',\n",
       " 'Pass',\n",
       " 'No Entry',\n",
       " 'Fail',\n",
       " 'Fail',\n",
       " 'Fail',\n",
       " 'Pass',\n",
       " 'Fail',\n",
       " 'Pass w/ Conditions',\n",
       " 'Fail',\n",
       " 'Fail',\n",
       " 'Pass',\n",
       " 'Fail',\n",
       " 'Pass',\n",
       " 'Fail',\n",
       " 'Pass',\n",
       " 'Pass',\n",
       " 'Pass w/ Conditions',\n",
       " 'No Entry',\n",
       " 'Fail',\n",
       " 'Pass',\n",
       " 'Fail',\n",
       " 'Pass',\n",
       " 'Pass',\n",
       " 'Fail',\n",
       " 'Fail',\n",
       " 'Pass w/ Conditions',\n",
       " 'Pass',\n",
       " 'Pass',\n",
       " 'Pass',\n",
       " 'Pass w/ Conditions',\n",
       " 'Pass w/ Conditions',\n",
       " 'Pass',\n",
       " 'Pass',\n",
       " 'Not Ready',\n",
       " 'Pass w/ Conditions',\n",
       " 'Pass',\n",
       " 'Fail',\n",
       " 'Pass',\n",
       " 'Pass',\n",
       " 'Pass',\n",
       " 'Fail',\n",
       " 'Pass',\n",
       " 'Fail',\n",
       " 'Pass',\n",
       " 'Out of Business',\n",
       " 'No Entry',\n",
       " 'Pass',\n",
       " 'Fail',\n",
       " 'Pass w/ Conditions',\n",
       " 'Fail',\n",
       " 'Pass',\n",
       " 'Pass',\n",
       " 'Pass',\n",
       " 'Pass w/ Conditions',\n",
       " 'Pass',\n",
       " 'Pass',\n",
       " 'Fail',\n",
       " 'Pass',\n",
       " 'Fail',\n",
       " 'Pass',\n",
       " 'Pass w/ Conditions',\n",
       " 'Pass',\n",
       " 'Pass',\n",
       " 'Fail',\n",
       " 'Not Ready',\n",
       " 'Pass',\n",
       " 'Pass w/ Conditions',\n",
       " 'Pass',\n",
       " 'Fail',\n",
       " 'Pass',\n",
       " 'Pass',\n",
       " 'Fail',\n",
       " 'Pass w/ Conditions',\n",
       " 'Pass',\n",
       " 'Pass w/ Conditions',\n",
       " 'Pass',\n",
       " 'Fail',\n",
       " 'Fail',\n",
       " 'Pass',\n",
       " 'Pass',\n",
       " 'Pass',\n",
       " 'Pass',\n",
       " 'Pass w/ Conditions',\n",
       " 'Pass',\n",
       " 'Fail',\n",
       " 'Pass',\n",
       " 'Pass w/ Conditions',\n",
       " 'Pass w/ Conditions',\n",
       " 'Pass',\n",
       " 'Pass w/ Conditions',\n",
       " 'Pass',\n",
       " 'Pass',\n",
       " 'Fail',\n",
       " 'Pass',\n",
       " 'Fail',\n",
       " 'Pass',\n",
       " 'Pass',\n",
       " 'Pass',\n",
       " 'Out of Business',\n",
       " 'Pass',\n",
       " 'Pass',\n",
       " 'Pass',\n",
       " 'Pass',\n",
       " 'Pass',\n",
       " 'Fail',\n",
       " 'Pass',\n",
       " 'Fail',\n",
       " 'Pass w/ Conditions',\n",
       " 'Pass',\n",
       " 'Pass',\n",
       " 'Fail',\n",
       " 'Pass',\n",
       " 'Pass',\n",
       " 'Fail',\n",
       " 'Pass',\n",
       " 'Pass',\n",
       " 'Pass',\n",
       " 'Pass',\n",
       " 'Pass',\n",
       " 'Fail',\n",
       " 'Pass',\n",
       " 'Pass w/ Conditions',\n",
       " 'Pass',\n",
       " 'Out of Business',\n",
       " 'Pass',\n",
       " 'Pass w/ Conditions',\n",
       " 'Pass',\n",
       " 'Pass',\n",
       " 'Pass',\n",
       " 'Pass',\n",
       " 'Pass',\n",
       " 'Out of Business',\n",
       " 'Pass',\n",
       " 'Pass',\n",
       " 'Pass',\n",
       " 'Pass',\n",
       " 'Pass w/ Conditions',\n",
       " 'Fail',\n",
       " 'Out of Business',\n",
       " 'Pass',\n",
       " 'Fail',\n",
       " 'Pass w/ Conditions',\n",
       " 'Out of Business',\n",
       " 'Pass',\n",
       " 'Fail',\n",
       " 'Pass w/ Conditions',\n",
       " 'Fail',\n",
       " 'No Entry',\n",
       " 'Pass',\n",
       " 'Pass',\n",
       " 'Pass',\n",
       " 'Pass',\n",
       " 'Fail',\n",
       " 'Fail',\n",
       " 'Fail',\n",
       " 'Pass',\n",
       " 'Pass w/ Conditions',\n",
       " 'Pass',\n",
       " 'Pass',\n",
       " 'Pass',\n",
       " 'Pass w/ Conditions',\n",
       " 'Pass',\n",
       " 'Not Ready',\n",
       " 'Pass',\n",
       " 'Fail',\n",
       " 'Fail',\n",
       " 'Pass',\n",
       " 'Fail',\n",
       " 'Fail',\n",
       " 'Pass',\n",
       " 'Pass',\n",
       " 'Pass',\n",
       " 'Fail',\n",
       " 'Out of Business',\n",
       " 'Pass w/ Conditions',\n",
       " 'Pass',\n",
       " 'Pass',\n",
       " 'Pass',\n",
       " 'Pass',\n",
       " 'Fail',\n",
       " 'Out of Business',\n",
       " 'Pass',\n",
       " 'Pass',\n",
       " 'Pass w/ Conditions',\n",
       " 'Pass',\n",
       " 'Pass',\n",
       " 'Pass',\n",
       " 'Pass',\n",
       " 'Pass',\n",
       " 'Pass',\n",
       " 'Fail',\n",
       " 'Fail',\n",
       " 'Pass',\n",
       " 'Pass',\n",
       " 'Pass',\n",
       " 'Fail',\n",
       " 'Pass',\n",
       " 'Pass',\n",
       " 'Fail',\n",
       " 'Pass',\n",
       " 'Pass',\n",
       " 'Pass w/ Conditions',\n",
       " 'Pass',\n",
       " 'Pass w/ Conditions',\n",
       " 'Pass',\n",
       " 'Pass',\n",
       " 'Fail',\n",
       " 'Fail',\n",
       " 'Pass',\n",
       " 'Pass',\n",
       " 'Pass',\n",
       " 'Pass',\n",
       " 'Fail',\n",
       " 'Pass',\n",
       " 'Out of Business',\n",
       " 'Out of Business',\n",
       " 'Fail',\n",
       " 'Pass',\n",
       " 'Fail',\n",
       " 'Pass',\n",
       " 'Pass',\n",
       " 'Pass',\n",
       " 'Fail',\n",
       " 'Pass',\n",
       " 'Pass',\n",
       " 'Pass',\n",
       " 'Pass w/ Conditions',\n",
       " 'Pass',\n",
       " 'Pass',\n",
       " 'Pass',\n",
       " 'Pass',\n",
       " 'Pass',\n",
       " 'Fail',\n",
       " 'Pass',\n",
       " 'Fail',\n",
       " 'Pass',\n",
       " 'Pass',\n",
       " 'Pass',\n",
       " 'Out of Business',\n",
       " 'Pass',\n",
       " 'Pass',\n",
       " 'Pass',\n",
       " 'Pass',\n",
       " 'Pass',\n",
       " 'Pass',\n",
       " 'Pass',\n",
       " 'Fail',\n",
       " 'Pass w/ Conditions',\n",
       " 'Pass',\n",
       " 'Pass',\n",
       " 'Pass',\n",
       " 'Fail',\n",
       " 'Pass w/ Conditions',\n",
       " 'Fail',\n",
       " 'Out of Business',\n",
       " 'Pass',\n",
       " 'Out of Business',\n",
       " 'Pass',\n",
       " 'Not Ready',\n",
       " 'Pass',\n",
       " 'Pass w/ Conditions',\n",
       " 'Pass',\n",
       " 'Fail',\n",
       " 'Pass',\n",
       " 'Pass',\n",
       " 'Pass',\n",
       " 'Pass',\n",
       " 'Pass',\n",
       " 'Fail',\n",
       " 'Pass w/ Conditions',\n",
       " 'Pass',\n",
       " 'Pass',\n",
       " 'Fail',\n",
       " 'Pass',\n",
       " 'Out of Business',\n",
       " 'Pass',\n",
       " 'Pass',\n",
       " 'Pass',\n",
       " 'Fail',\n",
       " 'Pass',\n",
       " 'Fail',\n",
       " 'Pass',\n",
       " 'Pass',\n",
       " 'Pass',\n",
       " 'Pass',\n",
       " 'Not Ready',\n",
       " 'Pass w/ Conditions',\n",
       " 'Out of Business',\n",
       " 'Pass',\n",
       " 'Pass',\n",
       " 'Pass',\n",
       " 'Fail',\n",
       " 'Pass',\n",
       " 'Pass',\n",
       " 'Pass',\n",
       " 'Pass',\n",
       " 'Out of Business',\n",
       " 'Pass',\n",
       " 'Pass',\n",
       " 'Pass',\n",
       " 'Pass',\n",
       " 'Pass w/ Conditions',\n",
       " 'Pass',\n",
       " 'Pass',\n",
       " 'Pass',\n",
       " 'Out of Business',\n",
       " 'Pass',\n",
       " 'Pass',\n",
       " 'Pass',\n",
       " 'Pass',\n",
       " 'Pass',\n",
       " 'Pass',\n",
       " 'Pass',\n",
       " 'Pass',\n",
       " 'Pass',\n",
       " 'Pass',\n",
       " 'Pass',\n",
       " 'Pass',\n",
       " 'Fail',\n",
       " 'Pass',\n",
       " 'Fail',\n",
       " 'Fail',\n",
       " 'Pass',\n",
       " 'Pass',\n",
       " 'Pass',\n",
       " 'Out of Business',\n",
       " 'Out of Business',\n",
       " 'Pass w/ Conditions',\n",
       " 'Pass',\n",
       " 'Pass',\n",
       " 'Pass',\n",
       " 'Fail',\n",
       " 'Pass',\n",
       " 'Pass',\n",
       " 'Fail',\n",
       " 'Pass',\n",
       " 'Pass w/ Conditions',\n",
       " 'Pass w/ Conditions',\n",
       " 'Pass',\n",
       " 'Pass',\n",
       " 'Pass',\n",
       " 'Pass',\n",
       " 'Pass',\n",
       " 'Fail',\n",
       " 'Out of Business',\n",
       " 'Pass',\n",
       " 'Pass',\n",
       " 'Fail',\n",
       " 'Pass w/ Conditions',\n",
       " 'Pass',\n",
       " 'Pass w/ Conditions',\n",
       " 'Pass w/ Conditions',\n",
       " 'Pass',\n",
       " 'Pass w/ Conditions',\n",
       " 'Pass',\n",
       " 'Pass w/ Conditions',\n",
       " 'Pass',\n",
       " 'Pass w/ Conditions',\n",
       " 'Pass',\n",
       " 'Pass',\n",
       " 'Pass',\n",
       " 'Pass',\n",
       " 'Out of Business',\n",
       " 'Fail',\n",
       " 'Pass',\n",
       " 'Fail',\n",
       " 'Pass',\n",
       " 'Out of Business',\n",
       " 'Pass',\n",
       " 'Fail',\n",
       " 'Pass',\n",
       " 'No Entry',\n",
       " 'Fail',\n",
       " 'Fail',\n",
       " 'Not Ready',\n",
       " 'Pass',\n",
       " 'Pass',\n",
       " 'Pass',\n",
       " 'Fail',\n",
       " 'Out of Business',\n",
       " 'Fail',\n",
       " 'Pass w/ Conditions',\n",
       " 'Pass',\n",
       " 'No Entry',\n",
       " 'Pass',\n",
       " 'Pass',\n",
       " 'Pass',\n",
       " 'Pass',\n",
       " 'Pass',\n",
       " 'Pass',\n",
       " 'No Entry',\n",
       " 'Pass',\n",
       " 'Pass',\n",
       " 'Pass',\n",
       " 'Pass',\n",
       " 'Pass',\n",
       " 'Pass',\n",
       " 'Fail',\n",
       " 'Pass w/ Conditions',\n",
       " 'Pass w/ Conditions',\n",
       " 'Pass',\n",
       " 'Pass',\n",
       " 'Pass',\n",
       " 'Pass',\n",
       " 'No Entry',\n",
       " 'Pass',\n",
       " 'Pass',\n",
       " 'Fail',\n",
       " 'Pass',\n",
       " 'Pass',\n",
       " 'Pass',\n",
       " 'Fail',\n",
       " 'Pass w/ Conditions',\n",
       " 'Pass w/ Conditions',\n",
       " 'Pass',\n",
       " 'Pass',\n",
       " 'Pass',\n",
       " 'Pass',\n",
       " 'Pass',\n",
       " 'Pass',\n",
       " 'Pass',\n",
       " 'Out of Business',\n",
       " 'Fail',\n",
       " 'Pass',\n",
       " 'Fail',\n",
       " 'Fail',\n",
       " 'Pass',\n",
       " 'Pass',\n",
       " 'Fail',\n",
       " 'Pass',\n",
       " 'Pass',\n",
       " 'Pass',\n",
       " 'Pass',\n",
       " 'Pass',\n",
       " 'Pass',\n",
       " 'Pass w/ Conditions',\n",
       " 'Pass',\n",
       " 'Fail',\n",
       " 'Fail',\n",
       " 'Pass',\n",
       " 'Pass w/ Conditions',\n",
       " 'Pass',\n",
       " 'Pass',\n",
       " 'Pass',\n",
       " 'Pass',\n",
       " 'Fail',\n",
       " 'Out of Business',\n",
       " 'Pass w/ Conditions',\n",
       " 'Pass',\n",
       " 'Fail',\n",
       " 'Pass',\n",
       " 'Fail',\n",
       " 'Pass',\n",
       " 'Pass',\n",
       " 'Pass',\n",
       " 'Pass',\n",
       " 'Pass',\n",
       " 'No Entry',\n",
       " 'Fail',\n",
       " 'Pass',\n",
       " 'Fail',\n",
       " 'Pass',\n",
       " 'Fail',\n",
       " 'Pass w/ Conditions',\n",
       " 'Pass w/ Conditions',\n",
       " 'Pass',\n",
       " 'Fail',\n",
       " 'Pass',\n",
       " 'Pass',\n",
       " 'Fail',\n",
       " 'Pass',\n",
       " 'Pass',\n",
       " 'Pass',\n",
       " 'Pass',\n",
       " 'Fail',\n",
       " 'Fail',\n",
       " 'Pass w/ Conditions',\n",
       " 'Pass',\n",
       " 'Pass',\n",
       " 'Pass',\n",
       " 'No Entry',\n",
       " 'Fail',\n",
       " 'Pass',\n",
       " 'Pass w/ Conditions',\n",
       " 'Fail',\n",
       " 'Pass',\n",
       " 'Pass',\n",
       " 'Pass',\n",
       " 'Fail',\n",
       " 'Fail',\n",
       " 'Pass',\n",
       " 'Pass',\n",
       " 'Pass',\n",
       " 'Fail',\n",
       " 'No Entry',\n",
       " 'Pass w/ Conditions',\n",
       " 'Fail',\n",
       " 'Fail',\n",
       " 'Pass',\n",
       " 'Pass',\n",
       " 'Pass',\n",
       " 'Pass',\n",
       " 'Pass',\n",
       " 'Fail',\n",
       " 'No Entry',\n",
       " 'Pass',\n",
       " 'No Entry',\n",
       " 'No Entry',\n",
       " 'Pass',\n",
       " 'Fail',\n",
       " 'Fail',\n",
       " 'Out of Business',\n",
       " 'No Entry',\n",
       " 'Pass w/ Conditions',\n",
       " 'Pass',\n",
       " 'Pass',\n",
       " 'Fail',\n",
       " 'Fail',\n",
       " 'Pass',\n",
       " 'Out of Business',\n",
       " 'Pass',\n",
       " 'Pass',\n",
       " 'Fail',\n",
       " 'Pass',\n",
       " 'Out of Business',\n",
       " 'Pass',\n",
       " 'No Entry',\n",
       " 'Pass',\n",
       " 'Fail',\n",
       " 'Fail',\n",
       " 'Pass',\n",
       " 'Pass',\n",
       " 'No Entry',\n",
       " 'Fail',\n",
       " 'Pass',\n",
       " 'Pass',\n",
       " 'Pass',\n",
       " 'Pass',\n",
       " 'Pass',\n",
       " 'Pass',\n",
       " 'Pass w/ Conditions',\n",
       " 'Pass',\n",
       " 'Fail',\n",
       " 'Fail',\n",
       " 'Pass',\n",
       " 'Pass',\n",
       " 'Pass',\n",
       " 'Pass',\n",
       " 'Pass',\n",
       " 'Pass',\n",
       " 'Pass',\n",
       " 'Pass',\n",
       " 'Pass',\n",
       " 'Pass',\n",
       " 'Fail',\n",
       " 'Pass',\n",
       " 'Fail',\n",
       " 'Pass',\n",
       " 'Business Not Located',\n",
       " 'Pass',\n",
       " 'Pass w/ Conditions',\n",
       " 'Pass',\n",
       " 'Pass',\n",
       " 'Pass',\n",
       " 'Pass',\n",
       " 'Pass',\n",
       " 'Pass',\n",
       " 'Fail',\n",
       " 'Pass',\n",
       " 'Pass',\n",
       " 'Pass',\n",
       " 'Out of Business',\n",
       " 'Pass',\n",
       " 'Pass',\n",
       " 'Fail',\n",
       " 'No Entry',\n",
       " 'Pass',\n",
       " 'No Entry',\n",
       " 'Pass',\n",
       " 'Pass',\n",
       " 'Pass w/ Conditions',\n",
       " 'Fail',\n",
       " 'Pass',\n",
       " 'Fail',\n",
       " 'Fail',\n",
       " 'Pass w/ Conditions',\n",
       " 'Pass',\n",
       " 'Pass',\n",
       " 'Fail',\n",
       " 'Pass w/ Conditions',\n",
       " 'Fail',\n",
       " 'Pass',\n",
       " 'Fail',\n",
       " 'Fail',\n",
       " 'Pass w/ Conditions',\n",
       " 'Pass',\n",
       " 'Pass',\n",
       " 'Pass',\n",
       " 'Pass',\n",
       " 'Pass',\n",
       " 'Fail',\n",
       " 'No Entry',\n",
       " 'Pass',\n",
       " 'No Entry',\n",
       " 'No Entry',\n",
       " 'Pass',\n",
       " 'Pass',\n",
       " 'Pass',\n",
       " 'Pass',\n",
       " 'Fail',\n",
       " 'Out of Business',\n",
       " 'Pass w/ Conditions',\n",
       " 'Pass',\n",
       " 'Not Ready',\n",
       " 'Pass',\n",
       " 'Fail',\n",
       " 'Pass',\n",
       " 'No Entry',\n",
       " 'Fail',\n",
       " 'Fail',\n",
       " 'Out of Business',\n",
       " 'Pass',\n",
       " 'Pass w/ Conditions',\n",
       " 'Pass',\n",
       " 'Pass',\n",
       " 'Pass',\n",
       " 'Pass',\n",
       " 'Out of Business',\n",
       " 'Fail',\n",
       " 'Pass',\n",
       " 'Pass',\n",
       " 'Pass',\n",
       " 'Pass w/ Conditions',\n",
       " 'Fail',\n",
       " 'Pass',\n",
       " 'Pass',\n",
       " 'Pass',\n",
       " 'Pass',\n",
       " 'Out of Business',\n",
       " 'Pass',\n",
       " 'Pass',\n",
       " 'Fail',\n",
       " 'Pass',\n",
       " 'Pass',\n",
       " 'Pass w/ Conditions',\n",
       " 'Pass',\n",
       " 'Fail',\n",
       " 'Out of Business',\n",
       " 'Pass',\n",
       " 'Pass',\n",
       " 'Fail',\n",
       " 'Out of Business',\n",
       " ...]"
      ]
     },
     "execution_count": 194,
     "metadata": {},
     "output_type": "execute_result"
    }
   ],
   "source": [
    "results"
   ]
  },
  {
   "cell_type": "code",
   "execution_count": 196,
   "metadata": {
    "collapsed": true
   },
   "outputs": [],
   "source": [
    "results = set(results)"
   ]
  },
  {
   "cell_type": "code",
   "execution_count": 197,
   "metadata": {
    "collapsed": false
   },
   "outputs": [
    {
     "data": {
      "text/plain": [
       "{'Business Not Located',\n",
       " 'Fail',\n",
       " 'No Entry',\n",
       " 'Not Ready',\n",
       " 'Out of Business',\n",
       " 'Pass',\n",
       " 'Pass w/ Conditions'}"
      ]
     },
     "execution_count": 197,
     "metadata": {},
     "output_type": "execute_result"
    }
   ],
   "source": [
    "results"
   ]
  },
  {
   "cell_type": "code",
   "execution_count": 198,
   "metadata": {
    "collapsed": false
   },
   "outputs": [
    {
     "data": {
      "text/plain": [
       "7"
      ]
     },
     "execution_count": 198,
     "metadata": {},
     "output_type": "execute_result"
    }
   ],
   "source": [
    "len(results)"
   ]
  },
  {
   "cell_type": "code",
   "execution_count": 199,
   "metadata": {
    "collapsed": false
   },
   "outputs": [
    {
     "data": {
      "text/plain": [
       "27967"
      ]
     },
     "execution_count": 199,
     "metadata": {},
     "output_type": "execute_result"
    }
   ],
   "source": [
    "fails = [row for row in food if row['Results']=='Fail']\n",
    "len(fails)"
   ]
  },
  {
   "cell_type": "code",
   "execution_count": 200,
   "metadata": {
    "collapsed": false
   },
   "outputs": [
    {
     "data": {
      "text/plain": [
       "{'AKA Name': 'BACCI CAFE AND PIZZERIA',\n",
       " 'Address': '4367 N MILWAUKEE AVE ',\n",
       " 'City': 'CHICAGO',\n",
       " 'DBA Name': 'BACCI CAFE AND PIZZERIA ON MILAUKEE AVE. INC.',\n",
       " 'Facility Type': 'Restaurant',\n",
       " 'Inspection Date': '02/17/2017',\n",
       " 'Inspection ID': '1989347',\n",
       " 'Inspection Type': 'Canvass',\n",
       " 'Latitude': '41.96055088007665',\n",
       " 'License #': '1444299',\n",
       " 'Location': '(41.96055088007665, -87.7542307472157)',\n",
       " 'Longitude': '-87.7542307472157',\n",
       " 'Results': 'Fail',\n",
       " 'Risk': 'Risk 1 (High)',\n",
       " 'State': 'IL',\n",
       " 'Violations': \"18. NO EVIDENCE OF RODENT OR INSECT OUTER OPENINGS PROTECTED/RODENT PROOFED, A WRITTEN LOG SHALL BE MAINTAINED AVAILABLE TO THE INSPECTORS - Comments: FOUND EVIDENCE OF MICE DROPPINGS OVER 25 TOTAL ON THE STAIRWAY GOING TO THE BASEMENT. INSTRUCTED TO REMOVE THE DROPPINGS AND SANITIZE AFFECTED AREAS. \\nALSO FRONT AND SIDE DOORS NOT RODENT/INSECTS PROOFED WITH OVER 1/4 OF AN INCH GAP ON THE BOTTOM OF THE DOORS. INSTRUCTED TO RODENT/INSECTS PROOFED THE DOORS.\\nSERIOUS VIOLATION 7-38-020. | 33. FOOD AND NON-FOOD CONTACT EQUIPMENT UTENSILS CLEAN, FREE OF ABRASIVE DETERGENTS - Comments: MUST CLEAN IN DETAIL REMOVE GREASE BUILD -UP ON THE EXTERIOR SIDES OF THE GRILL, DEEP FRYER AND STOVE AND MAINTAIN. | 35. WALLS, CEILINGS, ATTACHED EQUIPMENT CONSTRUCTED PER CODE: GOOD REPAIR, SURFACES CLEAN AND DUST-LESS CLEANING METHODS - Comments: FILTER ABOVE THE GRILL WITH HEAVY GREASE ACCUMULATED. MUST CLEAN REMOVE GREASE AND MAINTAIN.\\n\\nCEILING VENT ABOVE THE COOK LINE WITH HEAVY DUST BUILD-UP. MUST CLEAN REMOVE DUST AND MAINTAIN.\\n\\nCEILING VENT COVER INSIDE THE WOMEN'S WASHROOM WITH HEAVY DUST BUILD-UP. MUST CLEAN,REMOVE DUST AND MAINTAIN. | 32. FOOD AND NON-FOOD CONTACT SURFACES PROPERLY DESIGNED, CONSTRUCTED AND MAINTAINED - Comments: RE CAULK AROUND THE WASHBOWL SINK INSIDE THE MEN'S WASHROOM CAULK WORN OUT AND MAINTAIN.\",\n",
       " 'Zip': '60641'}"
      ]
     },
     "execution_count": 200,
     "metadata": {},
     "output_type": "execute_result"
    }
   ],
   "source": [
    "fails[1]"
   ]
  },
  {
   "cell_type": "code",
   "execution_count": 201,
   "metadata": {
    "collapsed": true
   },
   "outputs": [],
   "source": [
    "from collections import Counter"
   ]
  },
  {
   "cell_type": "code",
   "execution_count": 202,
   "metadata": {
    "collapsed": false
   },
   "outputs": [
    {
     "data": {
      "text/plain": [
       "Counter({'a': 9, 's': 9})"
      ]
     },
     "execution_count": 202,
     "metadata": {},
     "output_type": "execute_result"
    }
   ],
   "source": [
    "c = Counter('asasasasasasasasas')\n",
    "c"
   ]
  },
  {
   "cell_type": "code",
   "execution_count": 203,
   "metadata": {
    "collapsed": false
   },
   "outputs": [
    {
     "data": {
      "text/plain": [
       "Counter({'LA BURBUJA, INC.': 1,\n",
       "         \"PAPA RAY'S PIZZA\": 1,\n",
       "         'ALLIANCE PATISSERIE': 1,\n",
       "         'TONI PATTISERIE': 3,\n",
       "         'PAPRIKA INDIAN RESTAURANT': 1,\n",
       "         'MOSES BUTCHER SHOP': 1,\n",
       "         \"ALCOCK'S INN\": 2,\n",
       "         'KITCHFIX': 1,\n",
       "         'CHICKIES ON TAYLOR': 1,\n",
       "         'Party City Corporation': 3,\n",
       "         'ST. HELEN SCHOOL': 2,\n",
       "         'MARISQUERIA VERACRUZ': 1,\n",
       "         'MERCHANT MARKET': 1,\n",
       "         'BRAIN BOX LITERACY ACADEMY AND EDUCATIONAL SERVICE': 1,\n",
       "         'LOS ARCOS AUTHENTIC MEXICAN FOOD, INC.': 2,\n",
       "         'HYDE PARK GYROS': 5,\n",
       "         'BENCHMARK BAR & GRILL': 4,\n",
       "         'REGAL CINEMAS CITY NORTH': 3,\n",
       "         'CHICAGO MINI MART': 4,\n",
       "         'BERNARD MOOS ELEMENTARY SCHOOL': 1,\n",
       "         'MELLOW YELLOW': 4,\n",
       "         \"EMILIO'S TAPAS\": 1,\n",
       "         '63rd GROCERY': 1,\n",
       "         'THREE DOTS AND A DASH': 2,\n",
       "         'Kidtropolis Childcare Developmental Center, LLC': 3,\n",
       "         'KAMEHACHI OF TOKYO': 1,\n",
       "         \"RICH'S DELI & LIQUOR, INC\": 5,\n",
       "         \"QUIZNO'S SUB\": 1,\n",
       "         'JARVIS GYROS': 3,\n",
       "         '79TH KINGSTONE FOOD MART': 3,\n",
       "         'LARISTOS': 1,\n",
       "         'THE OGDEN': 3,\n",
       "         'CONOCO PHILIPS': 3,\n",
       "         'DOLLAR  GENERAL  STORE#1833': 2,\n",
       "         'CAFE TOLA II': 1,\n",
       "         'LA FIESTA RESTAURANT': 1,\n",
       "         'MARVIN RESTAURANT': 6,\n",
       "         'CONTEMPORARY PRS LLC': 1,\n",
       "         'MR.QUILES': 1,\n",
       "         'REBECCA K. CROWN CHLD. DEV. CT': 1,\n",
       "         'MUGS PIZZA & RIBS': 2,\n",
       "         'COMMUNITY CARE OPERATOR': 3,\n",
       "         'INDIAN GRILL': 2,\n",
       "         'LA PRINCESA GROCERY': 1,\n",
       "         'FAIRFIELD ACD': 2,\n",
       "         'UNCLE REMUS': 1,\n",
       "         'CHICAGO SAVE WAY,INC.': 4,\n",
       "         'MICHAELS FAST FOOD & GROCERY, INC': 1,\n",
       "         'FINKI ELEMENTARY ACADEMY': 1,\n",
       "         'NO/WEST INST. FOR CONTEMPORARY LEARNING': 1,\n",
       "         'STARBUCKS COFFEE #48615': 1,\n",
       "         'RUXBIN KITCHEN': 5,\n",
       "         'HUDDLE HOUSE': 5,\n",
       "         'T. CASTRO PRODUCE,INC.': 1,\n",
       "         'WESTIN RIVER NORTH CHGO HOTEL - EMBER': 3,\n",
       "         'CAFFE  MERCATO': 1,\n",
       "         'ARAMARK EDUCATIONAL SERVICES, INC': 1,\n",
       "         'Pritzker': 6,\n",
       "         'D & J FRIED RICE INC.': 3,\n",
       "         'TONYS PANTRY MART INC.': 5,\n",
       "         'PRIMARY NIGHT CLUB': 2,\n",
       "         'MOTEL SLEEPERS, INC.': 1,\n",
       "         'BIRRIERIA Y TAQUERIA ARANDAS': 3,\n",
       "         'MISERICORDIA HOME': 1,\n",
       "         'BURGER KING #': 4,\n",
       "         'MARISCOS EL KORA INC': 2,\n",
       "         'FULTON MARKET KITCHEN': 3,\n",
       "         'BUFFET CITY': 8,\n",
       "         'CVS/PHARMACY #1054': 1,\n",
       "         \"Tapia's Pizzeria Inc\": 4,\n",
       "         'ERICSON ELEMENTARY SCHOOL': 2,\n",
       "         'TAQUERIA TAYAHUA': 3,\n",
       "         \"SPEEDY'S RESTAURANT\": 1,\n",
       "         'RAYYAN TRADING INC.': 1,\n",
       "         'ALHOBATI FOOD MART INC.': 3,\n",
       "         'ARISTO FOOD & LIQUOR': 3,\n",
       "         'UNLICENSED': 1,\n",
       "         \"ANNA'S ASIAN BISTRO\": 1,\n",
       "         'A & N FOOD & DOLLAR PLUS,': 2,\n",
       "         \"Eden's House INC.\": 2,\n",
       "         'CERMAK FOOD MART': 1,\n",
       "         'VALLARTA': 3,\n",
       "         'CARNICERIA LA CANADA, INC': 1,\n",
       "         'LUPES TACOS BUFFET': 1,\n",
       "         'GUYS AND WOK': 1,\n",
       "         'TAQUERIA MARTINEZ': 2,\n",
       "         'BULERIAS INC.': 2,\n",
       "         'ALTGELD GARDEN LIQUOR INC': 2,\n",
       "         \"WENDY'S OLD FASHIONED HAMBURGER\": 1,\n",
       "         'PIAZZA CAFE': 1,\n",
       "         'TITTO QUICK STOP FOOD STORE': 1,\n",
       "         'S & S FOOD & DELI': 1,\n",
       "         'JOHNNIES SNACK SHOP': 3,\n",
       "         'DOS DIABLOS': 1,\n",
       "         'LEVINSONS INC': 1,\n",
       "         'ABOUNDANCE OF LOVE DAY CARE': 4,\n",
       "         'QUENCH THE EVOLUTION': 1,\n",
       "         'FLAMINGO BAR & GRILL': 1,\n",
       "         'BANGKOK VIDEO & GROCERY INC': 1,\n",
       "         'GENESIS ON THE AVENUE': 3,\n",
       "         \"FLA'VA\": 1,\n",
       "         \"DAVE'S ICE CREAM\": 2,\n",
       "         \"BOB & JACK'S PIZZA INC\": 1,\n",
       "         'HUB 51 / SUB 51': 2,\n",
       "         \"LINDY'S & GERTIES ON ARCHER\": 8,\n",
       "         'NEW EINSTEINS ACADEMY': 1,\n",
       "         'GO GO RESTAURANT': 3,\n",
       "         'LA SIRENA CLANDESTINA': 6,\n",
       "         'OLD FASHIONED DONUTS INC': 2,\n",
       "         'HOOSIER MAMA DOLLOP': 1,\n",
       "         'SMALLBAR DIVISION': 4,\n",
       "         'FOGO TO GO': 4,\n",
       "         'CHIU QUON BAKERY': 2,\n",
       "         'LOS SALTOS ICE CREAM SHOP': 1,\n",
       "         'Montefiore': 1,\n",
       "         \"TGI FRIDAY'S\": 4,\n",
       "         \"RENAISSANCE CHICAGO O'HARE HOTEL\": 8,\n",
       "         'MANN PARK': 1,\n",
       "         'CONGRESS PIZZERIA': 1,\n",
       "         'SAVEWAY FOOD': 2,\n",
       "         'DUKES': 2,\n",
       "         'RICHWILL ENTERPRISES': 1,\n",
       "         'GENES SAUSAGE SHOP AT DELI MEYER': 2,\n",
       "         'The Westminster Hot Dog': 1,\n",
       "         'ROBUST COFFEE LOUNGE LLC': 6,\n",
       "         'BLACK ROCK PUB': 3,\n",
       "         'THE WINCHESTER': 1,\n",
       "         \"LORRAINE'S DINER INC\": 1,\n",
       "         \"HAYDEE'S GRILL\": 2,\n",
       "         'Beaubien Elementary School': 1,\n",
       "         'WATERHOUSE TAVERN AND GRILL': 2,\n",
       "         'BREAKROOM BREWERY': 2,\n",
       "         'ESTRELLA NEGRA': 1,\n",
       "         'RICE BISTRO CHICAGO': 1,\n",
       "         'GOMEZ TACOS REST': 2,\n",
       "         'MILWAUKEE FRESH MARKET': 2,\n",
       "         'THE GODFREY HOTEL CHICAGO': 1,\n",
       "         'K & D CONVENIENCE STORE, LLC': 1,\n",
       "         \"Moe's Grocery, Inc.\": 2,\n",
       "         'BAR CAFE SAN FRANCESCO': 3,\n",
       "         'BLAZE IL STORE 1 LLC.': 3,\n",
       "         \"CHAPO'S PIZZA\": 1,\n",
       "         'ASIMEXFOODS': 1,\n",
       "         'ALDEN NORTHMOOR REHAB & HLTH': 2,\n",
       "         'PAWEL INC': 1,\n",
       "         'SALAM RESTAURANT': 1,\n",
       "         'EARLY SOCIETY LLC': 1,\n",
       "         'J & J FISH AND CHICKEN': 1,\n",
       "         'DOG STOP INC': 1,\n",
       "         'Taco & Burrito House': 1,\n",
       "         'INDO-PAK MEAT&GROCERY,LLC': 2,\n",
       "         'ALDRIDGE': 3,\n",
       "         'SMART START DEVELOPMENT CENTER': 5,\n",
       "         'PROGRESSIVE HOUSING, INC.': 1,\n",
       "         'MAGNOLIA SPORTS BAR': 1,\n",
       "         'ECONOGAS': 2,\n",
       "         'GERMANIA PLACE': 4,\n",
       "         'B. BIM ASIAN EATERY': 1,\n",
       "         'PHO XE LUA': 4,\n",
       "         'M & H MART': 1,\n",
       "         'MERCADITO LA ECONOMICA': 1,\n",
       "         'TAQUERIA ATOTONILCO': 1,\n",
       "         'KING WAH RESTAURANT': 2,\n",
       "         \"GRANNY'S DAYCARE CENTER\": 9,\n",
       "         'RANALLIS': 1,\n",
       "         'HAUTE SAUSAGE': 2,\n",
       "         'CONGRESS THEATRE': 2,\n",
       "         \"BERNIE'S\": 4,\n",
       "         '63RD FOOD & LIQUOR': 2,\n",
       "         'PIZZA HUT #714390': 1,\n",
       "         'BATTER & BERRIES LLC': 3,\n",
       "         'MACELLO RISTORANTE': 1,\n",
       "         'GARLIC & CHILI THAI CUISINE': 1,\n",
       "         'MEXICO DOLLAR & FOOD,INC': 1,\n",
       "         'Grissom': 2,\n",
       "         'CITGO ON FULTON': 1,\n",
       "         'GINGERSNAP SWEETS & SUCH': 1,\n",
       "         'CHINA CITY': 2,\n",
       "         'REVEL  DOWNTOWN, LLC.': 2,\n",
       "         'SOUTH BEACH APTS FOOD & DELI,INC': 1,\n",
       "         'TAQUERIA EL CHARRO': 2,\n",
       "         'AGUDATH ISREAL OF ILLINOIS': 1,\n",
       "         'Lawrence Grocers': 1,\n",
       "         'UNCLE JOES': 2,\n",
       "         'DEVON & RIDGE INC.': 1,\n",
       "         'QUICK STOP FOOD MART': 1,\n",
       "         \"LOT'S OF LOVE ACADEMY\": 1,\n",
       "         'LITTLE LAGOS MARKETS': 1,\n",
       "         'ROYAL SWEET & FAST FOOD & PIZZ': 2,\n",
       "         'S & K FOOD MART & RESTAURANT': 6,\n",
       "         'BIRRIERIA JALISCO': 2,\n",
       "         'THREE CHEFS RESTURANT': 3,\n",
       "         'ALBANY CHILD CARE CENTER': 2,\n",
       "         'CVS/PHARMACY #5770': 1,\n",
       "         'BAKER & NOSH': 1,\n",
       "         'RESURRECTION LUTHERAN CHURCH': 1,\n",
       "         \"TAMMY'S\": 1,\n",
       "         'CHICAGO LIVE POULTRY': 7,\n",
       "         \"PHO'S THAI CUISINE\": 4,\n",
       "         '7-ELEVEN #33856 B': 2,\n",
       "         'KING SUPERMARKET, INC': 1,\n",
       "         \"ALEXANDER'S RESTAURANT\": 5,\n",
       "         \"JJ'S GRILL\": 1,\n",
       "         'KENTUCKY FRIED CHICKEN 521043': 3,\n",
       "         'TUTS STORE': 1,\n",
       "         'KENTUCKY FRIED CHICKEN 521035': 1,\n",
       "         'NATHAN HALE ELEMENTARY': 1,\n",
       "         'CARLOS FUENTES CHARTER SCHOOL': 2,\n",
       "         'COOL RUNNINGS CARIBBEAN CUISINE INC.,': 1,\n",
       "         'NAANSENSE FOOD TRUCK': 1,\n",
       "         'GORILLA SUSHI': 1,\n",
       "         'THE GOURMET GRAPE': 1,\n",
       "         'SUMO SUSHI & HIBACHI': 1,\n",
       "         'BUILDING BLOCKS LEARNING': 1,\n",
       "         \"BUGSY'S\": 4,\n",
       "         \"RYBA'S FUDGE SHOP\": 1,\n",
       "         'STARBUCKS COFFEE #216': 1,\n",
       "         'MORGAN QUICK MART INC.': 1,\n",
       "         'ROYAL KITCHEN': 6,\n",
       "         \"VERSAILLE'S MASSAGE AND BAR\": 1,\n",
       "         'A-ZMALL WORLD CHILD DEVELOPMENT CENTER': 3,\n",
       "         \"Harold's Chicken #36\": 1,\n",
       "         'HELLER FINANCIAL': 1,\n",
       "         'THREE R FOOD': 4,\n",
       "         'SALVATION ARMY': 1,\n",
       "         'LOWCOUNTRY': 2,\n",
       "         'ADDISON MART': 2,\n",
       "         'SUPERMERCADO LA FAMILIA': 1,\n",
       "         'BREAKFAST HOUSE RESTAURANT INC.': 3,\n",
       "         'M Vie': 2,\n",
       "         '55TH & DAN RYAN SHELL': 1,\n",
       "         'THE BLACK SHEEP': 4,\n",
       "         \"JIMMY JOHN'S GOURMET SUBS\": 1,\n",
       "         'BRIDGEPORT FAMILY RESTAURANT': 2,\n",
       "         'TBS AFRICAN RESTAURANT': 2,\n",
       "         'ST ANGELA SCHOOL': 1,\n",
       "         \"PIERRE'S BAKERY\": 3,\n",
       "         'Chicago Academy for the Arts': 1,\n",
       "         'MY NC': 1,\n",
       "         'LA BRASA ROJA, INC.': 3,\n",
       "         'MARISCOS EL FABULOSO': 1,\n",
       "         \"CROSBY'S KITCHEN\": 1,\n",
       "         'FROZEN ASSETS COLD STORAGE': 2,\n",
       "         'PITA PIT': 1,\n",
       "         \"PATEL'S CAFE\": 4,\n",
       "         'SABAS VEGA INC.': 3,\n",
       "         'CHRISTIAN L-E-G EARLY LEARNING CENTER': 1,\n",
       "         'THESPOTT INC.': 2,\n",
       "         'RICCARDO TRATTORIA TOSCANA': 2,\n",
       "         'VALERO': 1,\n",
       "         'CAFE MONSIVAIS': 1,\n",
       "         'Grill On Grand': 1,\n",
       "         \"ANDY'S FROZEN CUSTARD\": 2,\n",
       "         'WOKSTATION': 1,\n",
       "         \"DUNKIN DONUTS BASKIN ROBBINS TOGO'S\": 1,\n",
       "         'THAI KITCHEN': 1,\n",
       "         'POTBELLY SANDWICH  WORKS': 4,\n",
       "         'SHISO': 4,\n",
       "         \"SAM'S FOOD AND DELI\": 2,\n",
       "         'TAQUERIA LA LEYENDA DE MEXICO': 1,\n",
       "         'EL MACHO TACOS': 1,\n",
       "         'THE GREENVILLE TAVERN': 1,\n",
       "         'SUPER FOOD & LIQUORS, INC.': 1,\n",
       "         'UNITED CLUB, TERMINAL 2 CONCOURSE F': 1,\n",
       "         'YOGURT PIER': 1,\n",
       "         'JERSEY MIKES': 2,\n",
       "         'EPIC ACADEMY': 1,\n",
       "         \"Murphy's Bleachers\": 2,\n",
       "         'SPOON THAI': 2,\n",
       "         'GROVE LIQUORS': 1,\n",
       "         'THE WIP THEATER': 4,\n",
       "         'ADOBO GRILL': 13,\n",
       "         'PARK  PLAZA RETIREMENT CENTER': 3,\n",
       "         'SUPERMERCADO LA GLORIA': 4,\n",
       "         'K BUENA': 3,\n",
       "         'DIAG BAR & GRILL': 1,\n",
       "         'PHOENIX RESTAURANT': 4,\n",
       "         'NEW YORK HALAL PIZZA': 1,\n",
       "         'DA CATCH FISH & CHICKEN': 1,\n",
       "         'ST. ANDREW LUTHERAN SCHOOL': 1,\n",
       "         'HERITAGE WOODS OF CHICAGO': 1,\n",
       "         'FRIENDLY FOOD MARKET': 3,\n",
       "         'THE CHARNEL HOUSE': 2,\n",
       "         \"TAC'S COCKTAIL LOUNGE\": 1,\n",
       "         'DANIEL WILLIAM HALE': 2,\n",
       "         'EL CHILE RESTAURANT & PANCAKE HOUSE': 6,\n",
       "         'RPM STEAK': 1,\n",
       "         'FAMILY DOLLAR #6514': 2,\n",
       "         'ABSINTHE CAFE': 1,\n",
       "         'CICS NORTHTOWN ACADEMY': 3,\n",
       "         'LAGOS FRUIT MARKET': 3,\n",
       "         'LaSalle': 1,\n",
       "         \"NORMAN'S\": 11,\n",
       "         \"EDDIE'S SUNSHINE FOOD & LIQUOR, INC\": 2,\n",
       "         \"WENDY'S #001106\": 1,\n",
       "         'FLASH TACO -N- UNDERDOGG': 6,\n",
       "         'SWEETIE CAKES': 1,\n",
       "         'TERESA RESTAURANT /BANQUET HAL': 3,\n",
       "         \"JIMMY JOHN'S - VAN BUREN\": 1,\n",
       "         'LEG ROOM': 1,\n",
       "         'TAYLOR ST KITCHEN': 1,\n",
       "         'LUNA CAPRESE TRATTORIA': 1,\n",
       "         'CHRISS BAKERY INC': 4,\n",
       "         'KARAVITES REST INC': 2,\n",
       "         'SPARK EAGLE TRADING CORP.': 1,\n",
       "         'Banner LINC Acad.(WEST)': 1,\n",
       "         'GORSKI BAKERY': 4,\n",
       "         'GRANNYS DEVELOPMENTAL CENTER INC': 5,\n",
       "         \"LEONA'S\": 1,\n",
       "         'DAVANTI ENOTECA CHICAGO': 2,\n",
       "         'HILLTOP FAMILY RESTAURANT INC.': 1,\n",
       "         'ANIMALE': 2,\n",
       "         'CLUB GENE & GEORGETTI': 1,\n",
       "         'N & S MARKET': 1,\n",
       "         'LA COLOMBE': 1,\n",
       "         'SUPER FURNITURE & FOOD MART': 3,\n",
       "         'WING STOP': 2,\n",
       "         'FANFARES CATERING': 4,\n",
       "         'LOS PEQUENOS ANGELITOS DAY CARE CENTER': 2,\n",
       "         'MARKLAND HUBBARD GOURMET': 1,\n",
       "         'ALLEY DOGS INC': 2,\n",
       "         \"LITO'S EMPANADAS II LLC\": 2,\n",
       "         'Acad. Of Scholastic Ach': 3,\n",
       "         'LITTLE RASCALS': 1,\n",
       "         'SAI CAFE': 4,\n",
       "         'MAHALIA JACKSON ELEMENTARY SCHOOL': 1,\n",
       "         \"GIORGIO'S PIZZA\": 1,\n",
       "         'BON APPETIT MANAGEMENT CO': 2,\n",
       "         'EL TACO SABROSO INC.': 1,\n",
       "         'CHEZ MOI': 1,\n",
       "         'La Taberna on Halsted': 2,\n",
       "         'KM MART': 1,\n",
       "         'SOUL FOOD UNLIMITED': 4,\n",
       "         'GRAND CHINA': 1,\n",
       "         'WINGZ IT IZ': 2,\n",
       "         'STARBUCKS COFFEE #26368': 1,\n",
       "         'NICKS FRUIT MARKET': 1,\n",
       "         'GRAND CITGO/ MR. SUB / DUNKIN DONUTS': 2,\n",
       "         'MOMOTARO': 4,\n",
       "         'Snappy Convenience Center #7': 2,\n",
       "         'MICHOACANA GOLD': 2,\n",
       "         'Chartwells @ DePaul University': 3,\n",
       "         'J K KABAB HOUSE': 4,\n",
       "         'K & M PRODUCES MARKET': 1,\n",
       "         \"MILO'S GYROS AND CHICKEN\": 1,\n",
       "         \"GARCIA'S\": 1,\n",
       "         'STOP N GO LLC': 2,\n",
       "         'OLIVE-HARVEY COLLEGE': 2,\n",
       "         'Popeyes Chicken And Biscuits': 3,\n",
       "         'STARBUCKS COFFEE #9942': 1,\n",
       "         'ST PHILIP NERI SCHOOL': 2,\n",
       "         'SMART NUTRITION': 2,\n",
       "         'FAIR DEALS': 1,\n",
       "         'MARISCOS BAHIA': 3,\n",
       "         \"NORTON'S NOVELTY SHOP\": 1,\n",
       "         'KENTUCKY FRIED CHICKEN': 5,\n",
       "         'BRIGHT HORIZONS AT COOK COUNTY': 1,\n",
       "         \"Leo's Restaurant\": 1,\n",
       "         'LELAND SPA AND SMOOTHIES': 1,\n",
       "         \"TRADER JOE'S\": 6,\n",
       "         'ABOU ANDRE LLC': 1,\n",
       "         'PONCITLAN JALISCO RESTAURANT': 1,\n",
       "         \"WENDY'S #001206\": 3,\n",
       "         'H & H FAMILY FOOD MART': 3,\n",
       "         'THE BONGO ROOM': 6,\n",
       "         'ANGEL WINGS DAYCARE INC.': 2,\n",
       "         'DIP & FLIP': 1,\n",
       "         'ILLINOIS SPORTSERVICE INC.': 5,\n",
       "         \"CLEO'S\": 2,\n",
       "         'DISNEI LEARNING ACADEMY': 2,\n",
       "         'RETRO CAFE RESTAURANT': 3,\n",
       "         'WEST SIDE FOOD MART': 3,\n",
       "         'SONYA FOOD MARKET': 2,\n",
       "         'NANA': 4,\n",
       "         'JUBILEE JUICE AND GRILL': 1,\n",
       "         'FRONT YARD JERK GRILLE': 2,\n",
       "         'GULF FUEL & MINI MART': 1,\n",
       "         'E & H MINI MART INC.': 1,\n",
       "         \"VICTOR'S PIZZERIA\": 2,\n",
       "         \"HALINA'S POLISH DELIGHT REST\": 1,\n",
       "         'COMPASS BAR': 3,\n",
       "         'HAROLDS 57': 2,\n",
       "         'KUROWSKI SAUSAGE SHOP & RICH': 4,\n",
       "         'SMALL BURGER INC': 2,\n",
       "         'GREEN ARCH FOOD MART': 2,\n",
       "         'HP CONVENIENT MART': 5,\n",
       "         'LOGAN TAVERN GROUP, LLC': 2,\n",
       "         '25 DEGREES': 2,\n",
       "         'PRESTIGE CHINESE FOOD': 4,\n",
       "         'SEVEN TEN/ATLAS': 3,\n",
       "         '63RD FOOD MART, INC': 4,\n",
       "         'TACO AND BURRITO EXPRESS #3': 2,\n",
       "         '260 SPORTS BAR': 2,\n",
       "         'FRESH FAMILY FOODS': 1,\n",
       "         'THE GREAT STEAK & POTATO COMPANY': 1,\n",
       "         'JEANE KENNEY YMCA DAY CARE': 4,\n",
       "         'OLD CHICAGO GRILL': 1,\n",
       "         'HERON VALLEY JERK CHICKEN': 2,\n",
       "         'CANTINA  LAREDO#132': 5,\n",
       "         'NEW WAVES INC': 1,\n",
       "         \"DEE'S PLACE\": 5,\n",
       "         'SUPREME CATERING': 1,\n",
       "         'ASWAQ KAN ZAMAN': 1,\n",
       "         'BIG J': 4,\n",
       "         'MESSIAH LUTHERAN HEADSTART': 4,\n",
       "         'SANCHEZ CATERING': 1,\n",
       "         'PARKSIDE GYROS': 5,\n",
       "         \"FAY'S FOOD & MEAT MARKET, INC.\": 1,\n",
       "         \"JIMMY T'S FAST FOOD\": 1,\n",
       "         'Snuggery Pub': 1,\n",
       "         'JOIE DE VINE': 1,\n",
       "         'EINSTEIN BROS. BAGELS # 2330': 1,\n",
       "         'COFFEE VENDING MACHINES': 2,\n",
       "         'FOSTER GROCERY PLUS': 2,\n",
       "         'TRYZUB RESTAURANT': 2,\n",
       "         'VALENTINA FOOD TRUCKS LLC': 2,\n",
       "         'THE WESTMINSTER HOT DOG': 2,\n",
       "         'WHALES FISH & CHICKEN': 3,\n",
       "         'LA PESCA': 3,\n",
       "         'SAPORI NAPOLETANI PIZZERIA RISTORANTE': 1,\n",
       "         'LUCKY STRIKE LANES': 6,\n",
       "         'FAMILY DOLLAR #3895': 1,\n",
       "         'MY CORNER PLAYROOM , INC': 1,\n",
       "         'Horace Mann Elementary': 5,\n",
       "         'J.P. GRAZIANO GROCERY CO INC.': 1,\n",
       "         'HAPPY KIDS DAYCARE CENTER LLC': 2,\n",
       "         'MELI CAFE ON DEARBORN': 1,\n",
       "         'MRS FIELDS COOKIES': 1,\n",
       "         'JEWEL FOOD STORE #3114': 1,\n",
       "         'NORTH WEST REGIONAL CENTER': 4,\n",
       "         'AMORINO CHICAGO': 2,\n",
       "         'ABBEY PUB': 2,\n",
       "         'CHINA LING': 1,\n",
       "         'UPTOWN PHO': 1,\n",
       "         \"SAMBO'S\": 1,\n",
       "         'Brown Acad.': 2,\n",
       "         'MARAVILLAS RESTAURANT': 3,\n",
       "         'RA SUSHI': 1,\n",
       "         'SUBWAY #44541': 1,\n",
       "         'VINCES PIZZERIA & TAQUERIA, INC': 1,\n",
       "         'HOTDOG EXPRESS': 1,\n",
       "         'YATES ELEMENTARY SCHOOL': 1,\n",
       "         'WALGREENS # 05124': 1,\n",
       "         'FAMILY DOLLAR,INC.STORE #11319': 2,\n",
       "         'A & J FOOD MARKET INCORPORATED': 4,\n",
       "         'UNO CHARTER SCHOOL NETWORK': 4,\n",
       "         'FIVE GUYS BURGERS AND FRIES': 3,\n",
       "         'A.P. DELI RESTAURANT GROUP, INC.': 7,\n",
       "         'SPEEDWAY #8315': 1,\n",
       "         'HALA IN LAKEVIEW': 2,\n",
       "         \"CONNIE'S PIZZA\": 6,\n",
       "         'WALGREENS #211': 1,\n",
       "         \"MURPH'S HOT DOG\": 1,\n",
       "         'TAQUERIA EL JALAPENO': 1,\n",
       "         'GYROS HOUSE STEAK & LEMONADE': 1,\n",
       "         'ROLY POLY': 2,\n",
       "         'ROSCOE-DAMEN, CORP.': 1,\n",
       "         'HARBORSIDE INTERNATIONAL GOLF CENTER & PIER 37 BAR': 1,\n",
       "         'HOST INTERNATIONAL INC': 3,\n",
       "         'EXTRA VALUE FOOD & LIQUOR': 1,\n",
       "         'KAI ZAN': 5,\n",
       "         'White Hen Pantry': 1,\n",
       "         'Harlan Comm.': 2,\n",
       "         'CITY DISCOUNT STORE,INC.': 3,\n",
       "         'TORTILLERIA EL REY INC': 1,\n",
       "         'LA BOMBA': 4,\n",
       "         'BEEF SHACK': 1,\n",
       "         'Smokey Bears Barbeque House': 3,\n",
       "         'THE LITTLE SCHOLARS CLUB': 2,\n",
       "         'C-K SUBWAY': 1,\n",
       "         'Poncitlan Jalisco No. 2': 2,\n",
       "         'Bacci Pizza Dearborn': 3,\n",
       "         'Ciao! Cafe': 1,\n",
       "         'BACCI PIZZA FRANKLIN': 1,\n",
       "         \"TOWN'S LIMITS CANTINA\": 1,\n",
       "         'MAYFLOWER CHINESE RESTAURANT': 7,\n",
       "         'WOODEN SPOON I LLC': 2,\n",
       "         'Stans Donuts': 4,\n",
       "         'THE MUNCH BOX': 2,\n",
       "         'STARBUCKS #17743': 1,\n",
       "         \"ADAM'S FOOD MART\": 1,\n",
       "         'HILTON SUITES CHICAGO MAGNIFICENT MILE': 6,\n",
       "         'LAO YUNNAN': 2,\n",
       "         'HAIFA ON CLINTON, INC.': 2,\n",
       "         'OLD TOWN SCHOOL OF FOLK MUSIC': 2,\n",
       "         'BURGER KING #10797': 3,\n",
       "         'CAFETERIA MARIANAO 2': 1,\n",
       "         'PITA PUFF II INC.': 1,\n",
       "         \"BANANA JOE'S\": 2,\n",
       "         'VINIS OF UPTOWN': 1,\n",
       "         'SWEET SIGNATURE INC': 1,\n",
       "         'STATE FISH & CHICKEN': 3,\n",
       "         'CANCUN CITY INC.': 1,\n",
       "         'SANOS PIZZERIA': 1,\n",
       "         \"BEN'S  SOFT PRETZELS-FRENCH MARKET\": 2,\n",
       "         'YENS MANDARIN CHINESE REST': 2,\n",
       "         'JELLYBEAN LEARNING CENTER V, INC.': 2,\n",
       "         'MAXWELL STREET STATION': 1,\n",
       "         'AAA GROCERY': 1,\n",
       "         'GATEWAY NEWS STANDS': 1,\n",
       "         \"D & D'S PLACE\": 1,\n",
       "         'SIMPLES II': 1,\n",
       "         'NORTHSIDE BAR AND GRILL': 2,\n",
       "         'BRONZEVILLE GOURMET PIZZERIA': 6,\n",
       "         'CORCORAN GROCERY': 5,\n",
       "         'THE ALLERTON HOTEL': 6,\n",
       "         'SAINT AGATHA CATHOLIC ACADEMY': 1,\n",
       "         'CHIMILEX INC.': 1,\n",
       "         'IRVING PARK INFANT TODDLER CENTER': 1,\n",
       "         'CHINA GOURMET': 1,\n",
       "         'SMOKING TIPS': 2,\n",
       "         'BANH MI EXPRESS SANDWISH': 2,\n",
       "         'WALGREENS #1096': 2,\n",
       "         'THE SALSA TRUCK': 2,\n",
       "         'LA TAPENADE GATE H14': 1,\n",
       "         'BOSTON BLACKIES OF RIVERSIDE': 2,\n",
       "         'M J FLAMING': 8,\n",
       "         'STATE RESTAURANT & CAFE': 1,\n",
       "         'AMEERA FOOD': 2,\n",
       "         'Red Mango Loyola': 1,\n",
       "         'GREAT LAKES ACADEMY': 1,\n",
       "         'SAKO RESTAURANT AND GROCERY INC': 1,\n",
       "         'QUITE FRANKLY': 1,\n",
       "         'EL-SHADDAI FOOD MARKET': 1,\n",
       "         'QUE RICO': 1,\n",
       "         'Estela Minimarket, Inc.': 3,\n",
       "         'AMERICAN KIDZ ACADEMY,LLC-W': 1,\n",
       "         'RANCHO GRANDE NUTRITION': 2,\n",
       "         'D &  D FRIED RICE INC': 1,\n",
       "         'FURIOUS SPOON': 3,\n",
       "         'LOGAN CERTIFIED FOODS CORP': 1,\n",
       "         'MART ANTHONY': 2,\n",
       "         'AMERICAN RESTAURANT': 1,\n",
       "         \"SAM'S KILDARE GROCERY\": 1,\n",
       "         'BISTRO VOLTAIRE': 5,\n",
       "         'HAYT ELEMENTARY SCHOOL': 1,\n",
       "         \"GILMART'S  FOOD & LIQUOR\": 2,\n",
       "         'ROOM 12': 4,\n",
       "         \"BIG G'S PIZZA\": 7,\n",
       "         'Pita Grill': 2,\n",
       "         'BROADWAY GRILL, INC.': 1,\n",
       "         'DLS SUPERMARKET INC.': 1,\n",
       "         \"RUDY'S BAKERY\": 3,\n",
       "         'SIMPLY DELICIOUS CUISINE, LLC': 1,\n",
       "         \"ARTIST'S CAFE\": 2,\n",
       "         'STAR GYROS INC.': 1,\n",
       "         'LITTLE BRANCH CAFE': 1,\n",
       "         'GREENLINE FOOD': 3,\n",
       "         'WASHINGTON FOOD MART & CELLULAR': 3,\n",
       "         \"KRISPY'S SEAFOOD & CHICKEN\": 1,\n",
       "         'Roosevelt Discount': 1,\n",
       "         'D AND M CAFE': 2,\n",
       "         'Chicken 1-2-3': 1,\n",
       "         'STARBUCKS COFFEE #2261': 1,\n",
       "         'BELCHI GAS & FOOD,INC.': 1,\n",
       "         'POPEYE FAMOUS FRIED CHICKEN': 3,\n",
       "         'CHINESE ROYAL KITCHEN': 2,\n",
       "         'KENSINGTON PLACE NURSING AND REHABILITATION CENTER': 1,\n",
       "         \"CHURCH'S CHICKEN # 483\": 1,\n",
       "         'FRESH CHOICE GROCERY & MERCHANDISE': 2,\n",
       "         'SAPORI': 1,\n",
       "         'Old Town Pizza Pub': 3,\n",
       "         'McDONALDS': 8,\n",
       "         'VENICE PIZZA': 1,\n",
       "         'REHABILITATION HOSPITAL': 2,\n",
       "         'FIORELLI PIZZA': 2,\n",
       "         'Jones Academy High School': 2,\n",
       "         'TINY GIANTS EARLY LEARNING CENTER': 1,\n",
       "         'CARNICERIA LA HACIENDA NO. 3, INC.': 2,\n",
       "         'VAINILLA BEAN BAKE SHOP INC': 2,\n",
       "         'CHERISHABLE MOMENTS CHILDCARE CENTER': 1,\n",
       "         'CREATIVE LITTLE ONES PRE-SCHOOL INC.': 1,\n",
       "         'BEST SUBMARINE': 2,\n",
       "         'STARBUCKS COFFEE #2370': 3,\n",
       "         'CHINA STATION': 2,\n",
       "         \"ZIZI'S KABOBS\": 1,\n",
       "         \"GINO'S EAST PIZZERIA\": 10,\n",
       "         'YU XIANG GOURMET': 2,\n",
       "         'KEELEY FOOD SERVICE': 1,\n",
       "         \"REZA'S RESTAURANT\": 3,\n",
       "         'VERMILION': 3,\n",
       "         'LAS ROSAS': 1,\n",
       "         'BOTTLES TO BOOKS LEARNING CENTER': 8,\n",
       "         'GOLDEN BUCKS': 1,\n",
       "         'POPCORN ENTERTAINMENT': 3,\n",
       "         'JACK TUCHTEN WHOLESALE PRODUCE, INC.': 1,\n",
       "         'M. HENRY': 3,\n",
       "         'CAFE TEAMO': 1,\n",
       "         'LUELLA FOOD STORE': 1,\n",
       "         'BOMBON CAKE DESIGN': 2,\n",
       "         'ABRAM GALE': 3,\n",
       "         'LA PLENA RESTAURANT': 1,\n",
       "         \"MARY'S ABC ACADEMY CHILD DAY CARE CENTER\": 1,\n",
       "         'Sabin Magnet': 1,\n",
       "         \"BRIGHT HORIZONS CHILDERN'S CENTERS, INC.\": 1,\n",
       "         'CARNICERIA Y TAQUERIA GUERRERO': 3,\n",
       "         '7-ELEVEN 33609': 1,\n",
       "         'ALVARO JIMENEZ': 1,\n",
       "         'Peck': 3,\n",
       "         'WESTIN RIVER NORTH CHGO HOTEL- MAIN KITCHEN': 3,\n",
       "         \"MC NAMARA'S FOOD & DRINKS\": 3,\n",
       "         \"ALABAMA'S\": 1,\n",
       "         'TAVERN ON RUSH': 2,\n",
       "         'BP MOBILE': 1,\n",
       "         'VILLANUEVA GROCERY STORE': 1,\n",
       "         \"OBAN POPEYE'S 111 INC\": 1,\n",
       "         'HIGGINS TAVERN': 1,\n",
       "         'THOREK MEMORIAL HOSPITAL': 5,\n",
       "         'BROWN SUGAR BAKERY': 1,\n",
       "         \"TONY'S KITCHEN INC\": 1,\n",
       "         'LA ESCUELITA NUMERO DOS': 1,\n",
       "         'GALLAGHERS': 1,\n",
       "         'WALGREENS #1503': 1,\n",
       "         'J J PEPPERS FOOD STORE': 3,\n",
       "         'DAVIS THEATER': 1,\n",
       "         'BURRITO BEACH': 11,\n",
       "         'SUBWAY STORE #30969': 3,\n",
       "         'CHATTER BOX': 1,\n",
       "         'NOON O KABAB': 2,\n",
       "         'CARLS RED HOTS': 3,\n",
       "         'PR CAFETERIA INCORPORATED': 1,\n",
       "         'BAR & MARISCOS': 1,\n",
       "         'KIRIN ANTLER TRADING CO': 1,\n",
       "         \"TOM LEE'S CHOP SUEY\": 2,\n",
       "         'ROOTSTOCK WINE & BEER BAR': 1,\n",
       "         'STAR LIGHT FOOD MARKET': 3,\n",
       "         'S. L  DISCOUNT, INC.': 1,\n",
       "         'PUBLICAN QUALITY MEATS': 1,\n",
       "         'OPTIMAL DELI, INC': 1,\n",
       "         'HAPPY FOOD - LIQUOR': 1,\n",
       "         \"APOLLO'S 2000\": 2,\n",
       "         'AUGUST VIANDS': 2,\n",
       "         \"BEN & JERRY'S\": 2,\n",
       "         'BAKE': 1,\n",
       "         'LA CHAPARRITA DE CHICAGO #2': 2,\n",
       "         'TARGET STORE T-3221': 2,\n",
       "         \"JIMMIE'S POPPING POPCORN INC.\": 1,\n",
       "         'THE IRISH OAK': 2,\n",
       "         \"FLACO'S TACOS, LLC\": 1,\n",
       "         'BUSY BEES CHILD DEVELOPEMENT CENTER II': 1,\n",
       "         'GARFIELD GYROS': 1,\n",
       "         'PAYLESS WINE & SPIRITS': 2,\n",
       "         'CHICAGO CAFE CATERERS': 1,\n",
       "         \"CAPT'N NEMOS\": 3,\n",
       "         'EMMET ELEMENTARY': 2,\n",
       "         \"UNCLE JOE'S JERK CHICKEN, INC\": 3,\n",
       "         \"HAROLD'S CHICKEN SHACK #84\": 1,\n",
       "         \"SUNDARBAN'S FISH BAR\": 1,\n",
       "         'MILK & HONEY CAFE': 2,\n",
       "         'LA COCINA MEXICAN GRILL, LLC': 2,\n",
       "         'COBB HALL': 2,\n",
       "         'KING GARDEN RESTAURANT': 1,\n",
       "         'HYDE PARK PRODUCE, LTD': 1,\n",
       "         'BYRONS KITCHENS': 2,\n",
       "         'NOUVEAU BISTRO': 2,\n",
       "         \"MARIO'S BUTCHER SHOP\": 4,\n",
       "         'ISLA TROPICAL': 1,\n",
       "         'PURE NATURAL BLENDS': 3,\n",
       "         'BETHANY RETIREMENT COMMUNITY': 1,\n",
       "         'WIXTER MARKET': 1,\n",
       "         'ALHAMBRA PALACE RESTAURANT': 8,\n",
       "         'FALCON FUEL': 2,\n",
       "         'RITE PRICE FOOD': 2,\n",
       "         'CYBER TACO': 2,\n",
       "         'Dandana': 1,\n",
       "         'J J FISH & CHICKEN': 5,\n",
       "         \"LENORE'S KITCHEN\": 1,\n",
       "         'THE GLUNZ TAVERN': 2,\n",
       "         'Sullivan House High School': 2,\n",
       "         'CONFECTION CONNECTION TOO': 2,\n",
       "         'RML CHICAGO': 1,\n",
       "         'EXPRESS CORNER': 1,\n",
       "         'THAI AVENUE RESTAURANT': 1,\n",
       "         'CHICAGO KERNEL GOURMET POPCORN & MORE': 1,\n",
       "         'SUBWAY 48735': 1,\n",
       "         'JEWEL FOOD STORE': 11,\n",
       "         'PANDA MONTESSORI ACADEMY': 1,\n",
       "         'WEST TOWN PIZZA SHOP': 1,\n",
       "         'GATEWAY NEWS STAND': 6,\n",
       "         'FLOUR AND WATER': 1,\n",
       "         'BURGER KING #7112': 2,\n",
       "         'TAQUERIA EL PIKANTE': 1,\n",
       "         'SUPERMERCADO GUADALAJARA #2': 3,\n",
       "         'GOETHE ELEMENTARY SCHOOL': 3,\n",
       "         'ARCHER-NAGLE CITGO': 1,\n",
       "         'VICEROY OF INDIA/ SAGAR': 5,\n",
       "         'DRINKS ON ME CATERING': 1,\n",
       "         \"NANA'S BAKERY\": 1,\n",
       "         'THAI LAGOON RESTAURANT': 4,\n",
       "         'Wee Read Day Care Academy': 2,\n",
       "         'DIM DIM FOOD INC': 3,\n",
       "         'C & D BAR B Q LLC': 1,\n",
       "         'A B DISCOUNT WINE & LIQUOR': 1,\n",
       "         'MISS ASIA, LLC': 4,\n",
       "         'CIRCLE K # 6711': 3,\n",
       "         'ALPHA BAKING INC': 1,\n",
       "         'CUERNAVACA RESTAURANT INC': 3,\n",
       "         'KING PHO': 1,\n",
       "         'ACT KIPP CREATE': 4,\n",
       "         'CAFE SELMARIE': 3,\n",
       "         \"FRITZY'S\": 2,\n",
       "         'WEST ENG CHR COMM SCH STORE': 1,\n",
       "         'RITZ-CARLTON RESIDENCES, CHICAGO': 5,\n",
       "         'HALES FRANCISCAN HIGH SCHOOL': 6,\n",
       "         \"TONY'S STEAK & WING\": 1,\n",
       "         'THE WORKS OFF VAN BUREN': 2,\n",
       "         'BLUESTEM RESTAURANT': 1,\n",
       "         'SUBWAY #23340': 1,\n",
       "         'PHOEBE A HEARST ELEMENTARY SCHOOL': 5,\n",
       "         'WHITE CASTLE #25': 1,\n",
       "         'CONTE DI SAVOIA INC WEST': 1,\n",
       "         'MAYFAIR MARATHON INC': 3,\n",
       "         'KATE & JAN HOT DOGS': 1,\n",
       "         'LA ESTRELLA FOOD MARKET, INC.': 2,\n",
       "         \"BARRACO'S PIZZA\": 1,\n",
       "         \"CHEN'S\": 1,\n",
       "         'NORTH STORE BANQUET': 8,\n",
       "         \"KENNY'S TURKEY\": 1,\n",
       "         'CHICAGO PRESCHOOL ACADEMY': 2,\n",
       "         \"PENNY'S NOODLES SHOP\": 2,\n",
       "         \"RICKY'S DELI\": 2,\n",
       "         'GROCERY ALVAREZ': 1,\n",
       "         'ELEGANCE': 1,\n",
       "         \"MOE'S  SOUTHWEST GRILL\": 2,\n",
       "         'SANDOVAL': 1,\n",
       "         'NUTRITION STORE': 2,\n",
       "         \"BABA'S FAMOUS STEAK AND LEMONADE\": 6,\n",
       "         'Eurest Dining Services @ Credit Suisse Chicago': 1,\n",
       "         \"POPEYE'S CHICKEN & BISCUITS\": 2,\n",
       "         'IGNACEJAN PADEREWSKI SCHOOL': 1,\n",
       "         \"JANSON'S DRIVE IN\": 2,\n",
       "         \"BRIAN'S JUICE BAR & DELI.\": 1,\n",
       "         'PICKARD ELEMENTARY': 3,\n",
       "         'ASIAN HUMAN SERVICES': 4,\n",
       "         \"NEW DON'S HOT DOG\": 2,\n",
       "         'LOCK WOOD FOOD MART': 1,\n",
       "         'BIG TOP RESTAURANT': 2,\n",
       "         'GUCCI FOOD MART': 1,\n",
       "         'WHOLLY INNOCENTS DAYCARE CENTER.': 3,\n",
       "         'AUTUMN GREEN AT MIDWAY VILLAGE': 2,\n",
       "         'Lovett': 5,\n",
       "         'THE GRILLING CATERING AND DELIVERY COMPANY': 2,\n",
       "         'MY SWEET STATION INC': 4,\n",
       "         \"ANGELICA'S BAKERY\": 1,\n",
       "         'MI LINDO PUEBLO RESTAURANT': 1,\n",
       "         'CARIBBEAN JERK AND BAR-B-QUE PIT': 4,\n",
       "         'LA  ROSITA BAKERY': 1,\n",
       "         'SUTHERLAND BALLROOM': 1,\n",
       "         'ESTATE ULTRA BAR': 1,\n",
       "         'STARBUCKS #10634': 1,\n",
       "         'THE NEW THREE HAPPINESS, INC': 11,\n",
       "         'TASTE FROM INDIA': 1,\n",
       "         'La Esquinita': 1,\n",
       "         'ORIGINAL MAXWELL STREET': 1,\n",
       "         'BAD DOG TAVERN AND GRILL': 5,\n",
       "         'FLORENCE MACARONI MFG CO INC': 1,\n",
       "         'SONY SUB': 1,\n",
       "         'METROPOLITAN FAMILY SERVICES MIDWAY CHILDCARE CENTER': 1,\n",
       "         'PING PONG': 1,\n",
       "         'BROBAGEL': 2,\n",
       "         'DOLLAR QUICK MART, INC.': 1,\n",
       "         'NAZARETH BAKERY': 5,\n",
       "         'EL MILAGRO GROCERY': 1,\n",
       "         \"PEARL'S PLACE\": 6,\n",
       "         'BLOWFISH CONTEMPORARY SUSHI': 2,\n",
       "         'STARBUCKS COFFEE #2510': 2,\n",
       "         'BASS ELEMENTARY SCHOOL': 2,\n",
       "         'DIRECT PAY': 1,\n",
       "         'COMPLETELY NUTS, INC.': 1,\n",
       "         'MIDWAY FOOD & LIQUORS NO. 2': 3,\n",
       "         \"CECY'S MOLINO DE MASA\": 1,\n",
       "         'WEST SIDE GYROS & PITA KEBOB': 1,\n",
       "         'AFC SUSHI @ WALGREENS #15196': 1,\n",
       "         'FAIRPLAY FINER FOODS INC': 1,\n",
       "         'BURGER TOWN': 1,\n",
       "         'CHICAGO MUSHROOM DEPOT': 1,\n",
       "         'BEACON TAP': 1,\n",
       "         'SCHMEAR': 3,\n",
       "         \"COUSIN'S INCREDIBLE VITALITY\": 1,\n",
       "         'NORTH AVE FOOD MART INC': 2,\n",
       "         'NORI CHICAGO': 4,\n",
       "         'FOREVER YOGURT': 21,\n",
       "         'FAIRWAY FOOD & MEAT MART. INC.': 1,\n",
       "         'KRISPY KRUNCHY CHICKEN': 2,\n",
       "         'ICEBOX': 3,\n",
       "         'LA PRIMERA': 4,\n",
       "         'VEGETARIAN EXPRESS, INC.': 2,\n",
       "         \"DOMINICK'S\": 1,\n",
       "         'WINDY CITY, INN': 2,\n",
       "         \"ANDY'S SNACK SHOP\": 1,\n",
       "         'Benchwarmers Sports Bar and Grill': 2,\n",
       "         'AL WALI CONVENIENT STORE': 1,\n",
       "         'TAQUERIA EL CHARO DE SAN FRANCISCO': 1,\n",
       "         'GELATINAS CRIS': 1,\n",
       "         'AFC SUSHI @JEWEL-OSCO #3345': 1,\n",
       "         \"UNCLE MIKE'S PLACE\": 1,\n",
       "         'BT WHOLESALE COMPANY': 1,\n",
       "         'THAI ON CLARK': 1,\n",
       "         'YUMMY YUMMY ASIAN CUISINE': 4,\n",
       "         'LEARNING LEGACY CHILD CARE CENTER, INC': 3,\n",
       "         'ROSEBUD PRIME': 2,\n",
       "         \"STARVEE'S\": 1,\n",
       "         'Herbalife': 2,\n",
       "         'SUPERMERCADO LA RAZA': 2,\n",
       "         'MIXTECO GRILL': 3,\n",
       "         \"JIMBO'S\": 1,\n",
       "         'SWEDISH COVENANT HOSPITAL': 1,\n",
       "         'WALDO COONEY': 1,\n",
       "         'AMERICAN KIDZ ACADEMY': 1,\n",
       "         'LARAMIE BAKERY & DELI': 3,\n",
       "         'ABES MARKET': 2,\n",
       "         \"BABB'S BBQ\": 4,\n",
       "         'PIZZA-METRO': 2,\n",
       "         \"JERSEY MIKE'S SUBS\": 4,\n",
       "         'ROOSEVELT JEFFERSON CLINTON,LLC': 2,\n",
       "         'BRYN MAWR CARE,INC.': 3,\n",
       "         \"PHILLY'S BEST\": 10,\n",
       "         'MR CAKE': 1,\n",
       "         'LOCAL ROOT': 1,\n",
       "         'BLACK BULL/BORDEL': 1,\n",
       "         'MADDIEBIRD  BAKERY': 1,\n",
       "         \"BONIVINO'S INC\": 1,\n",
       "         'BLUESEA GRILL FISH AND CHICKEN': 3,\n",
       "         'ESTRADA': 1,\n",
       "         \"Chili's- G Concourse\": 4,\n",
       "         'Cooked Chicago': 1,\n",
       "         \"KENNEDY'S SON INC\": 1,\n",
       "         'CHINA CHEF RESTAURANT': 1,\n",
       "         'WALGREENS # 04978': 1,\n",
       "         'NORTHSTAR COFFEE/HOME DEPOT': 1,\n",
       "         'BANH MI AND CO': 1,\n",
       "         'DISNEY MAGNET': 5,\n",
       "         'AWAKE CAFE': 1,\n",
       "         'AL-AMIN GROCERY': 3,\n",
       "         'LATIN CORNER RESTAURANT': 1,\n",
       "         'HENRY BOOTH HOUSE': 1,\n",
       "         'JOHNNY ROCKETS': 4,\n",
       "         'EAGLE DISCOUNT': 1,\n",
       "         'ROSAS TAMALES #2': 2,\n",
       "         'DANNYS TACOS #2': 1,\n",
       "         'EL BUEN VALLE RESTAURANT': 5,\n",
       "         'MASON MINI MART, INC.': 1,\n",
       "         'SALUD Y BINENESTAR': 2,\n",
       "         'PANDA EXPRESS RESTAURANT #2685': 2,\n",
       "         'DUKS RED HOTS': 8,\n",
       "         'LA CEBOLLITA TAQUERIA': 1,\n",
       "         'Chipotle Mexican Grill': 15,\n",
       "         'MATSU SHITA JAPANESE RESTAUANT': 1,\n",
       "         'GOOSE ISLAND BREWING CO': 3,\n",
       "         'ZAD': 1,\n",
       "         'SCHOOL SNACKS': 1,\n",
       "         'STARBUCKS COFFEE #2224': 2,\n",
       "         '43RD FOOD & MORE': 1,\n",
       "         'TACO HOUSE': 5,\n",
       "         'EL SAZON BORICUA, INC.': 1,\n",
       "         \"HAROLD'S CHICKEN SHACK #52\": 6,\n",
       "         'LAS DELICIAS LATINAS, INC.': 1,\n",
       "         'WITTS': 1,\n",
       "         'WRIGLEYVILLE WILD WINGS': 1,\n",
       "         'EMBASSY GIFTS': 1,\n",
       "         'PITA EXPRESS': 5,\n",
       "         'SLICES NYC PIZZA': 3,\n",
       "         'TONY AND MILLIES ITALIAN ICE BAR': 1,\n",
       "         'EL CRAZY TAKO': 1,\n",
       "         'CORNER FOOD STORE': 1,\n",
       "         'LUMES PANCAKE HOUSE': 9,\n",
       "         'CARNICERIA LOS CUATES': 2,\n",
       "         'Queen of All Saints': 4,\n",
       "         '7 ELEVEN #27421J': 3,\n",
       "         'ADAM & ARAM CORPORATION': 1,\n",
       "         'LAO HUNAN': 1,\n",
       "         \"PHOEBE'S BAKERY & ESPRESSO BAR\": 1,\n",
       "         'SO SHORE UNITED METHODIST CHIL': 1,\n",
       "         'BAD ASS COFFEE OF HAWAII': 1,\n",
       "         'SHARMA GROCERY INC': 1,\n",
       "         'BAGHDAD BAKERY & KABOB, INC.': 2,\n",
       "         \"BLOOMING CHILDREN'S ACADEMY, LLC\": 2,\n",
       "         'S & M FOOD MARKET': 2,\n",
       "         'CHEEZEY B GOURMET POPCORN': 1,\n",
       "         '111TH FOOD MART, INC.': 3,\n",
       "         'KARACHI  GRILL': 1,\n",
       "         'LA CEBOLLITA GRILL': 1,\n",
       "         'LAVO ASIAN GRILL INC.': 2,\n",
       "         'SUTHERLANDS': 3,\n",
       "         'THE INDIAN GARDEN': 1,\n",
       "         'PONCE PLACE': 2,\n",
       "         'VIREVA NURSEY SCHOOL': 3,\n",
       "         \"GEO'S PIZZA INC\": 1,\n",
       "         'Chartwells Thompson': 1,\n",
       "         'HONEYBAKED HAM AND CAFE': 1,\n",
       "         'MO TOWN': 1,\n",
       "         'MADO': 1,\n",
       "         'Eurest Dining Services @ Safer Foundation': 3,\n",
       "         'MONTROSE FRESH MARKET': 1,\n",
       "         'SUN SHINE RESTAURANT': 2,\n",
       "         'CLUB DE VIDA SALUDABLE R.P.': 1,\n",
       "         'GLOBAL GROCERIES': 1,\n",
       "         'LUQUI EXPRESS': 1,\n",
       "         'CHICAGO CHEESE STEAK CO': 1,\n",
       "         'MASU': 4,\n",
       "         'MY THAI - TAKUMI RESTAURANT': 7,\n",
       "         'WHITE CASTLE #26': 3,\n",
       "         \"DON TONY'S FOOD STORE\": 1,\n",
       "         'BE JUICED': 1,\n",
       "         'NORI SUSHI & NOODLE SHOP': 3,\n",
       "         'PARK MANOR': 4,\n",
       "         'WILLA CATHER  ELEMENTARY SCHOOL': 2,\n",
       "         'BORINQUEN RESTAURANT': 2,\n",
       "         'OLIVES4YOU': 1,\n",
       "         'SUTTON LIQUOR': 2,\n",
       "         'ONE STOP FOOD & GROCERY': 7,\n",
       "         'PARKWAY HOAGYES': 2,\n",
       "         \"CHAN'S RESTAURANT\": 6,\n",
       "         \"ALICIA'S  TAMALES\": 2,\n",
       "         \"JENNY'S FOOD MARKET, INC.\": 1,\n",
       "         'Carver Military Academy': 1,\n",
       "         'TASTY PLACE': 8,\n",
       "         'ST PASCAL CHURCH': 1,\n",
       "         'TAQUERIA MARAVATIO, INC': 1,\n",
       "         \"DAISY'S CARWASH AND GAS\": 1,\n",
       "         \"COLUMBUS' CURRY\": 3,\n",
       "         'STEREO NIGHT CLUB': 1,\n",
       "         'ESTHER PURNELL': 1,\n",
       "         'Supermercado  Castillos, Inc': 1,\n",
       "         'SU NUEVA CASA DEL GALLO BRAVO, INC.': 5,\n",
       "         'MIRAI SUSHI': 4,\n",
       "         'H & D GROCERY': 2,\n",
       "         'CAFE 28': 2,\n",
       "         'stockton': 3,\n",
       "         \"EDVAN'S  FOOD\": 1,\n",
       "         'THE TOUCH OF EUROPE': 1,\n",
       "         'Landmark': 1,\n",
       "         'ZACATECAS RESTAURANT': 3,\n",
       "         'PULASKI DOLLAR &FOOD, INC.': 1,\n",
       "         'HENDRICKS': 1,\n",
       "         'EL PROGRESO': 3,\n",
       "         'STAR OF SIAM INC': 5,\n",
       "         '50/50 FOOD MART, INC.': 2,\n",
       "         'AMSTAR': 4,\n",
       "         'QUEST FOOD MANAGEMENT SERVICE': 2,\n",
       "         'LOOP LEARNING CENTER, INC': 4,\n",
       "         'MONTESSORI ACDY. INFT/TOD. CNT': 5,\n",
       "         'Los Jazmines': 1,\n",
       "         'THE BOILER ROOM': 5,\n",
       "         \"THE WEINER'S CIRCLE\": 1,\n",
       "         'The Purple Pig': 3,\n",
       "         'CHICAGO GROCERS': 1,\n",
       "         'SO GONG DONG TOFU HOUSE': 1,\n",
       "         'BUNNY THE MICRO BAKERY': 1,\n",
       "         'EDGEWATER SENIOR SATELLITE': 2,\n",
       "         \"MICHAEL JORDAN'S STEAKHOUSE\": 3,\n",
       "         'GROCERY AND MORE': 2,\n",
       "         'GOLDEN HOOK FISH, CHICKEN': 4,\n",
       "         'PRESTIGE FOOD MART INC': 1,\n",
       "         'SOCCA': 1,\n",
       "         \"MIKE'S PANTRY\": 1,\n",
       "         'BIRRERIA & TAQUERIA EL CARMEN': 2,\n",
       "         'URBAN PANTRY': 1,\n",
       "         'SUBWAY #3333': 1,\n",
       "         'JABROS ITALIAN ICE CORNER': 1,\n",
       "         \"HAROLD'S ON WABASH,INC.\": 4,\n",
       "         'VIAGGIO AT THE PARK': 1,\n",
       "         'SUPER MAS MARKET': 1,\n",
       "         'DEMERA ETHIOPIAN RESTAURANT': 3,\n",
       "         'Flirty Cupcakes': 1,\n",
       "         \"CORNELIA'S RESTAURANT\": 3,\n",
       "         'CAFE DESCARTES': 1,\n",
       "         '13 Pins Tapas & Grill': 5,\n",
       "         'CHARCOAL DELIGHT INC': 1,\n",
       "         'ENGLEWOOD MARATHON': 5,\n",
       "         \"GINO'S STEAKS TRUCK BRIDGEPORT\": 1,\n",
       "         \"FRANCES' REST & DELI INC\": 5,\n",
       "         'XSPORT FITNESS': 9,\n",
       "         \"ROGER'S GROCERY STORE  O B\": 1,\n",
       "         'EL RINCON DEL SABOR Y ALGO MAS CORP.': 1,\n",
       "         'SOUTHPORT LANES INC': 1,\n",
       "         'SHERATON HOTEL/TOWERS': 2,\n",
       "         'Eggsperience of North Avenue, Inc': 2,\n",
       "         'NEET KING DRIVE INC.': 1,\n",
       "         'BURGER KING #7674': 1,\n",
       "         \"INO'S TACOS\": 1,\n",
       "         'THE GODDESS AND GROCER': 1,\n",
       "         'ST. ETHELREDA SCHOOL': 2,\n",
       "         'ROTI': 2,\n",
       "         'TAQUERIA EL BURRITO MEXICAN GRILL': 1,\n",
       "         'DICOLA SEAFOOD': 4,\n",
       "         'BOCADILLOS CAFE INC': 3,\n",
       "         'CHINA LING COMPANY': 2,\n",
       "         'RONDA NEW LIFE BEGINNINGS, INC.': 1,\n",
       "         'EL CAPITAN RESTAURANT': 1,\n",
       "         \"GOD'S BATTLE AXE PRAYER ACADEMY\": 2,\n",
       "         \"KELLY'S CUBAN SANDWICH SHOP\": 2,\n",
       "         'MANEETHAI RESTAURANT': 8,\n",
       "         'DOLLAR TREE STORES INC #733': 2,\n",
       "         \"TIFFANY'S NUTRITION CLUB\": 1,\n",
       "         'EL CENTENARIO SPORTS BAR & GRILL': 2,\n",
       "         'DIVISION GROCERY PLUS INC': 1,\n",
       "         '15 / 20 LOUNGE': 5,\n",
       "         'PROVIDENCE ENGLEWOOD CHARTER SCHOOL': 3,\n",
       "         'BRIDGE HOUSE TAVERN ON THE RIVER': 2,\n",
       "         ...})"
      ]
     },
     "execution_count": 203,
     "metadata": {},
     "output_type": "execute_result"
    }
   ],
   "source": [
    "worst = Counter(row['DBA Name'] for row in fails)\n",
    "worst"
   ]
  },
  {
   "cell_type": "code",
   "execution_count": 205,
   "metadata": {
    "collapsed": false
   },
   "outputs": [
    {
     "data": {
      "text/plain": [
       "[('SUBWAY', 235),\n",
       " ('DUNKIN DONUTS', 154),\n",
       " (\"MCDONALD'S\", 96),\n",
       " ('7-ELEVEN', 52),\n",
       " ('MCDONALDS', 42),\n",
       " ('POTBELLY SANDWICH WORKS LLC', 38),\n",
       " (\"HAROLD'S CHICKEN SHACK\", 37),\n",
       " ('CHIPOTLE MEXICAN GRILL', 36),\n",
       " ('CITGO', 31),\n",
       " (\"PAPA JOHN'S PIZZA\", 31)]"
      ]
     },
     "execution_count": 205,
     "metadata": {},
     "output_type": "execute_result"
    }
   ],
   "source": [
    "worst.most_common(10)"
   ]
  },
  {
   "cell_type": "code",
   "execution_count": 206,
   "metadata": {
    "collapsed": false
   },
   "outputs": [
    {
     "data": {
      "text/plain": [
       "{'AKA Name': 'BACCI CAFE AND PIZZERIA',\n",
       " 'Address': '4367 N MILWAUKEE AVE ',\n",
       " 'City': 'CHICAGO',\n",
       " 'DBA Name': 'BACCI CAFE AND PIZZERIA ON MILAUKEE AVE. INC.',\n",
       " 'Facility Type': 'Restaurant',\n",
       " 'Inspection Date': '02/17/2017',\n",
       " 'Inspection ID': '1989347',\n",
       " 'Inspection Type': 'Canvass',\n",
       " 'Latitude': '41.96055088007665',\n",
       " 'License #': '1444299',\n",
       " 'Location': '(41.96055088007665, -87.7542307472157)',\n",
       " 'Longitude': '-87.7542307472157',\n",
       " 'Results': 'Fail',\n",
       " 'Risk': 'Risk 1 (High)',\n",
       " 'State': 'IL',\n",
       " 'Violations': \"18. NO EVIDENCE OF RODENT OR INSECT OUTER OPENINGS PROTECTED/RODENT PROOFED, A WRITTEN LOG SHALL BE MAINTAINED AVAILABLE TO THE INSPECTORS - Comments: FOUND EVIDENCE OF MICE DROPPINGS OVER 25 TOTAL ON THE STAIRWAY GOING TO THE BASEMENT. INSTRUCTED TO REMOVE THE DROPPINGS AND SANITIZE AFFECTED AREAS. \\nALSO FRONT AND SIDE DOORS NOT RODENT/INSECTS PROOFED WITH OVER 1/4 OF AN INCH GAP ON THE BOTTOM OF THE DOORS. INSTRUCTED TO RODENT/INSECTS PROOFED THE DOORS.\\nSERIOUS VIOLATION 7-38-020. | 33. FOOD AND NON-FOOD CONTACT EQUIPMENT UTENSILS CLEAN, FREE OF ABRASIVE DETERGENTS - Comments: MUST CLEAN IN DETAIL REMOVE GREASE BUILD -UP ON THE EXTERIOR SIDES OF THE GRILL, DEEP FRYER AND STOVE AND MAINTAIN. | 35. WALLS, CEILINGS, ATTACHED EQUIPMENT CONSTRUCTED PER CODE: GOOD REPAIR, SURFACES CLEAN AND DUST-LESS CLEANING METHODS - Comments: FILTER ABOVE THE GRILL WITH HEAVY GREASE ACCUMULATED. MUST CLEAN REMOVE GREASE AND MAINTAIN.\\n\\nCEILING VENT ABOVE THE COOK LINE WITH HEAVY DUST BUILD-UP. MUST CLEAN REMOVE DUST AND MAINTAIN.\\n\\nCEILING VENT COVER INSIDE THE WOMEN'S WASHROOM WITH HEAVY DUST BUILD-UP. MUST CLEAN,REMOVE DUST AND MAINTAIN. | 32. FOOD AND NON-FOOD CONTACT SURFACES PROPERLY DESIGNED, CONSTRUCTED AND MAINTAINED - Comments: RE CAULK AROUND THE WASHBOWL SINK INSIDE THE MEN'S WASHROOM CAULK WORN OUT AND MAINTAIN.\",\n",
       " 'Zip': '60641'}"
      ]
     },
     "execution_count": 206,
     "metadata": {},
     "output_type": "execute_result"
    }
   ],
   "source": [
    "fails[1]"
   ]
  },
  {
   "cell_type": "code",
   "execution_count": 207,
   "metadata": {
    "collapsed": false
   },
   "outputs": [
    {
     "data": {
      "text/plain": [
       "Counter({'719 W MAXWELL ST ': 2,\n",
       "         '829 S WABASH ST ': 1,\n",
       "         '1012 W LAKE ST ': 2,\n",
       "         '4429 N BROADWAY ': 1,\n",
       "         '4756 S KEDZIE AVE ': 3,\n",
       "         '56 W RANDOLPH ST ': 1,\n",
       "         '1700 W DIVERSEY PKWY ': 1,\n",
       "         '9016-9030 S HERMITAGE AVE ': 2,\n",
       "         '6701 N OLMSTED AVE ': 3,\n",
       "         '604 S PULASKI RD ': 3,\n",
       "         '4746 N LINCOLN AVE ': 1,\n",
       "         '4446 N BROARDWAY ': 1,\n",
       "         '5401 W AUGUSTA BLVD ': 8,\n",
       "         '118 N JEFFERSON ST ': 1,\n",
       "         '4212 W MADISON ST ': 9,\n",
       "         '2936 W 85TH PL ': 1,\n",
       "         '4314 S KEDZIE AVE ': 2,\n",
       "         '3548 W LAWRENCE AVE ': 1,\n",
       "         '58 E ONTARIO ST ': 1,\n",
       "         '3320 W 55TH ST ': 2,\n",
       "         '2938 W DEVON AVE ': 1,\n",
       "         '535 E 35TH ST BLDG ': 2,\n",
       "         '3932 S ROCKWELL ': 1,\n",
       "         '2238 E 71ST ST ': 2,\n",
       "         '116 S HALSTED ST ': 3,\n",
       "         '3021 W LAWRENCE AVE ': 2,\n",
       "         '3001 W MADISON ST ': 1,\n",
       "         '2326 W Devon AVE ': 3,\n",
       "         '4527 S ASHLAND AVE ': 1,\n",
       "         '4104 N PULASKI RD ': 1,\n",
       "         '4520 S KEDZIE AVE ': 2,\n",
       "         '958 W DIVERSEY PKWY ': 3,\n",
       "         '72 E 71ST ST ': 1,\n",
       "         '600 S MICHIGAN AVE ': 2,\n",
       "         '1955 W ADDISON ST ': 1,\n",
       "         '5601 S HALSTED ST ': 1,\n",
       "         '1009 E 53RD ST ': 4,\n",
       "         '3949 W OGDEN AVE ': 2,\n",
       "         '1337 W TAYLOR ST ': 4,\n",
       "         '2908-2912 W 59TH ST ': 2,\n",
       "         '4406 S PULASKI RD ': 3,\n",
       "         '2934-36 N SHEFFIELD AVE ': 1,\n",
       "         '7300 N ROGERS AVE ': 1,\n",
       "         '508 E 71ST ST ': 1,\n",
       "         '2834 N SOUTHPORT AVE ': 1,\n",
       "         '4758 S WOOD ST ': 2,\n",
       "         '6901 S Fairfield (2732W) ': 1,\n",
       "         '201 N WELLS ST ': 1,\n",
       "         '1165 N CLARK ST ': 1,\n",
       "         '3511 W DEVON AVE ': 1,\n",
       "         '5302 S PULASKI RD ': 1,\n",
       "         '4342 S ARCHER AVE ': 1,\n",
       "         '6938 S East End (1700E) ': 5,\n",
       "         '20 N WACKER DR ': 1,\n",
       "         '1430 S ASHLAND AVE ': 3,\n",
       "         '3018 W DEVON AVE ': 1,\n",
       "         '6350 S Stewart (400W) ': 3,\n",
       "         '220 N HOMAN AVE ': 5,\n",
       "         '351 W HUBBARD ST ': 2,\n",
       "         '2557-2557 1/2 W CHICAGO AVE ': 5,\n",
       "         '2623-2625 E 83RD ST ': 8,\n",
       "         '7534 W ADDISON ST ': 5,\n",
       "         '4234 W NORTH AVE ': 2,\n",
       "         '8025 S ASHLAND AVE ': 1,\n",
       "         '3800-03810 W FULLERTON AVE ': 1,\n",
       "         '2022 S WENTWORTH AVE FL ': 2,\n",
       "         '1251-1259 W TAYLOR ST ': 3,\n",
       "         '944 N ORLEANS ST ': 6,\n",
       "         '1934 W 47TH ST ': 4,\n",
       "         '1357 W CHICAGO AVE ': 1,\n",
       "         '5929 N LINCOLN AVE ': 2,\n",
       "         '198 E DELAWARE PL ': 11,\n",
       "         '3311 W 26TH ST ': 3,\n",
       "         '1221 W 18TH ST ': 3,\n",
       "         '2010 W DIVISION ST ': 2,\n",
       "         '6006 S Peoria (900W) ': 1,\n",
       "         '3265-3267 S HALSTED ST ': 4,\n",
       "         '4661 N KEDZIE AVE ': 2,\n",
       "         '1374 W GRAND AVE ': 3,\n",
       "         '2301 W 21st Place (2132S) ': 3,\n",
       "         '1526 E 55TH ST ': 4,\n",
       "         '1347 E 87TH ST ': 5,\n",
       "         '5506 S LAKE PARK AVE ': 3,\n",
       "         '308 W ERIE ST ': 3,\n",
       "         '2237 W 95TH ST ': 1,\n",
       "         '1854 W 18TH ST BLDG ': 1,\n",
       "         '66 W OAK ST ': 4,\n",
       "         '4005 W 26TH ST ': 1,\n",
       "         '4219 N MILWAUKEE AVE ': 2,\n",
       "         '4401 N CLARK ST ': 5,\n",
       "         '6001 W DIVERSEY AVE ': 1,\n",
       "         '8721 S COTTAGE GROVE AVE ': 5,\n",
       "         '107 N KEDZIE AVE ': 8,\n",
       "         '1924 W DIVISION ST ': 5,\n",
       "         '2828 N Oak Park AVE ': 1,\n",
       "         '6254 N WESTERN AVE ': 1,\n",
       "         '120 S STATE ST ': 2,\n",
       "         '4323 W CERMAK RD ': 3,\n",
       "         '11147 S MICHIGAN AVE ': 5,\n",
       "         '3500 W ARMITAGE AVE ': 1,\n",
       "         '4800 N DAMEN AVE ': 2,\n",
       "         '2018 N RICHMOND AVE ': 1,\n",
       "         '5957 W BELMONT AVE ': 1,\n",
       "         '248 W DIVERSEY ': 1,\n",
       "         '3110 W CERMAK RD ': 1,\n",
       "         '5150 W CHICAGO AVE ': 1,\n",
       "         '5700 S UNIVERSITY AVE ': 2,\n",
       "         '3408 N CLARK ST ': 1,\n",
       "         '457 E 79TH ST ': 1,\n",
       "         '1437-1439 N WELLS ST ': 1,\n",
       "         '6950 S PULASKI RD ': 1,\n",
       "         '936 W DIVERSEY PKWY ': 2,\n",
       "         '2856 N CLARK ST ': 4,\n",
       "         '6550 N SHERIDAN RD ': 2,\n",
       "         '6352 S KEDZIE AVE ': 1,\n",
       "         '5911 N LINCOLN AVE ': 2,\n",
       "         '7714 W BELMONT AVE ': 1,\n",
       "         '123 E 51ST ST ': 3,\n",
       "         '6701-6703 N CLARK ST ': 3,\n",
       "         '5944 W CHICAGO AVE ': 7,\n",
       "         '1003-1005 N RUSH ST ': 2,\n",
       "         '1501 W JARVIS AVE ': 1,\n",
       "         '1633 N HAMLIN AVE ': 3,\n",
       "         '57 E CHICAGO AVE ': 2,\n",
       "         '401 S LA SALLE ST ': 4,\n",
       "         '1021 N Western AVE ': 3,\n",
       "         '4750 W 63RD ST ': 3,\n",
       "         '1916 E 79TH ST ': 3,\n",
       "         '1153 E 95TH ST ': 1,\n",
       "         '6333 W Bloomingdale ': 5,\n",
       "         '65 E WASHINGTON ST ': 3,\n",
       "         '2216 W Chicago AVE ': 2,\n",
       "         '4248 S ARCHER AVE ': 2,\n",
       "         '1378 W GRAND AVE ': 1,\n",
       "         '10844 S HALSTED ST ': 1,\n",
       "         '1000 W WASHINGTON BLVD ': 8,\n",
       "         '1710-1718 S LOOMIS ST ': 1,\n",
       "         '5109 S PULASKI RD ': 2,\n",
       "         '2230 W McLean ': 2,\n",
       "         '4356 W BELMONT AVE ': 1,\n",
       "         '6700 S KEATING AVE ': 2,\n",
       "         '6840 N SACRAMENTO AVE ': 3,\n",
       "         '1642 E 55TH ST ': 1,\n",
       "         '1000 W 63RD ST ': 6,\n",
       "         '2314 W 95TH ST ': 1,\n",
       "         '447 E 63RD ST ': 1,\n",
       "         '2813 W CERMAK RD ': 1,\n",
       "         '10658 S TORRENCE AVE ': 1,\n",
       "         '3356 S ASHLAND AVE ': 1,\n",
       "         '401 N MICHIGAN AVE ': 3,\n",
       "         '1300 E 75TH ST ': 1,\n",
       "         '4514 N LINCOLN AVE ': 1,\n",
       "         '3415 N CLARK ST ': 3,\n",
       "         '7152 N CALIFORNIA AVE ': 1,\n",
       "         '2910 W PETERSON AVE ': 2,\n",
       "         '6525 N Hiawatha (5348W) ': 3,\n",
       "         '3101 N CLYBOURN AVE ': 1,\n",
       "         '2300 W 64TH  ST (6400S) ': 1,\n",
       "         '1471 N MILWAUKEE AVE ': 7,\n",
       "         '2364 N LINCOLN AVE ': 2,\n",
       "         '8255 S Houston AVE FL ': 1,\n",
       "         '9485 S EWING AVE ': 1,\n",
       "         '2600 W LAWRENCE AVE ': 2,\n",
       "         '7535 S ASHLAND AVE ': 1,\n",
       "         '1434 N Parkside AVE ': 4,\n",
       "         '1433 W MONTROSE AVE ': 2,\n",
       "         '6206 N HAMLIN AVE ': 2,\n",
       "         '8235 W IRVING PARK RD ': 1,\n",
       "         '11718-11722 S WESTERN AVE ': 1,\n",
       "         '2200 W RICE ST ': 2,\n",
       "         '11401 S OAKLEY AVE ': 2,\n",
       "         '1753 E 95TH ST ': 1,\n",
       "         '948 W ARMITAGE AVE ': 3,\n",
       "         '2739 W LAWRENCE AVE ': 4,\n",
       "         '1365 E 60th ST ': 1,\n",
       "         '3937 N LINCOLN AVE ': 3,\n",
       "         '2959 W BELMONT AVE ': 1,\n",
       "         '5959 W DIVERSEY AVE ': 1,\n",
       "         '4801 N MILWAUKEE AVE ': 2,\n",
       "         '3143-3145 N CENTRAL AVE ': 2,\n",
       "         '209 E 103RD ST ': 5,\n",
       "         '242 S STATE ST ': 1,\n",
       "         '4359 W DIVISION ST ': 2,\n",
       "         '4240B W NORTH AVE ': 1,\n",
       "         '1636 W HOWARD ST ': 5,\n",
       "         '1560 N MILWAUKEE AVE ': 2,\n",
       "         '2845 W 71ST ST ': 1,\n",
       "         '5937 W MADISON ST ': 4,\n",
       "         '1303 W HURON ST ': 1,\n",
       "         '1931 W FOSTER AVE ': 2,\n",
       "         '3344-3352 W 47TH ST ': 3,\n",
       "         '9528  -09530 S HALSTED ST ': 1,\n",
       "         '2172 S ARCHER AVE ': 10,\n",
       "         '801 -809 W ADDISON ST ': 3,\n",
       "         '1829 W CHICAGO AVE ': 3,\n",
       "         '3314 W 55TH ST ': 3,\n",
       "         '1664 N ADA ST ': 1,\n",
       "         '630 E 131st St (13100S) ': 3,\n",
       "         '2343 W CHICAGO AVE ': 5,\n",
       "         '1211 W BELMONT AVE ': 1,\n",
       "         '4419-4425 W DIVERSEY AVE ': 5,\n",
       "         '1713 W CULLOM AVE ': 2,\n",
       "         '750 E 40TH ST ': 3,\n",
       "         '7832 S ASHLAND AVE ': 2,\n",
       "         '3025 N Pulaski RD ': 3,\n",
       "         '1431 W 111TH ST ': 3,\n",
       "         '3114 N BROADWAY ': 4,\n",
       "         '2121 W DIVISION ST ': 4,\n",
       "         '13201 S BALTIMORE AVE ': 2,\n",
       "         '7428 N ROGERS AVE ': 6,\n",
       "         '1467 E 53RD ST ': 2,\n",
       "         '2819 W 63RD ST ': 2,\n",
       "         '2021 N Burling AVE ': 1,\n",
       "         '11631 S HALSTED ST ': 2,\n",
       "         '2100 W 95TH ST ': 2,\n",
       "         '4225 S LAKE PARK ': 1,\n",
       "         '1411 W 87TH ST ': 1,\n",
       "         '1601 W GARFIELD BLVD ': 1,\n",
       "         '5401 S Wentworth AVE ': 1,\n",
       "         '3710 W 55TH ST ': 3,\n",
       "         '4747 S Marshfield(1634W) ': 4,\n",
       "         '7401 N CLARK ST ': 1,\n",
       "         '6413 N Kinzua AVE ': 2,\n",
       "         '5724 S KEDZIE AVE ': 1,\n",
       "         '1200 W 87TH ST ': 1,\n",
       "         '3607 W FULLERTON AVE ': 5,\n",
       "         '133 N CALIFORNIA AVE ': 3,\n",
       "         '3258 S PRINCETON AVE ': 3,\n",
       "         '5124-26 S WESTERN AVE ': 1,\n",
       "         '2150 W CERMAK RD ': 2,\n",
       "         '51 E 71ST ST ': 1,\n",
       "         '3927 N LINCOLN AVE ': 1,\n",
       "         '2000 N CLYBOURN AVE ': 4,\n",
       "         '5025 N PAULINA ST ': 6,\n",
       "         '6001 W ADDISON ST ': 1,\n",
       "         '6130 N RAVENSWOOD BLDG ': 2,\n",
       "         '806 W WEBSTER AVE ': 1,\n",
       "         '5235 N SHERIDAN RD ': 1,\n",
       "         '4130 S MORGAN ': 1,\n",
       "         '2226 S WENTWORTH AVE ': 2,\n",
       "         '2256 N ELSTON AVE ': 9,\n",
       "         '9027-9029 S COMMERCIAL AVE ': 6,\n",
       "         '2711-2713 W LAWRENCE AVE ': 2,\n",
       "         '213 E OHIO ST ': 2,\n",
       "         '1341 N PAULINA ST ': 5,\n",
       "         '444 W JACKSON BLVD ': 1,\n",
       "         '3818 W 63RD ST ': 1,\n",
       "         '4217 - 4219 N RAVENSWOOD AVE ': 2,\n",
       "         '3324 W 55TH ST ': 1,\n",
       "         '1420 N WESTERN AVE ': 1,\n",
       "         '8612 S STONY ISLAND AVE ': 3,\n",
       "         '7800 S INDIANA AVE ': 5,\n",
       "         '3400 W 31ST ST ': 3,\n",
       "         '800 N KEDZIE AVE ': 24,\n",
       "         '6056 N BROADWAY ': 2,\n",
       "         '5317 W North AVE ': 2,\n",
       "         '1645 W 79TH ST ': 1,\n",
       "         '12 E HUBBARD ST ': 2,\n",
       "         '5914 W NORTH AVE ': 1,\n",
       "         '7450 S DR. MARTIN LUTHER KING DR ': 1,\n",
       "         '4539 N LINCOLN AVE ': 3,\n",
       "         '7342 S Hoyne (2100W) ': 5,\n",
       "         '1504 S Albany (3100W) ': 2,\n",
       "         '7617 S COTTAGE GROVE AVE ': 2,\n",
       "         '9917 S WALDEN PKWY ': 1,\n",
       "         '7033 S HONORE ': 1,\n",
       "         '1059 W BELMONT AVE ': 3,\n",
       "         '6155 W FULLERTON AVE ': 4,\n",
       "         '3422 N BROADWAY ': 2,\n",
       "         '2110 E 72ND ST ': 2,\n",
       "         '2711 N ELSTON AVE ': 4,\n",
       "         '2410 N MILWAUKEE AVE ': 1,\n",
       "         '1968-1970 W MONTROSE AVE ': 3,\n",
       "         '11342 S MICHIGAN AVE ': 3,\n",
       "         '6408 W IRVING PARK RD ': 4,\n",
       "         '2150 W DEVON AVE ': 1,\n",
       "         '2101 E 71ST ST ': 6,\n",
       "         '324 N Leavitt ': 8,\n",
       "         '2357 W HOWARD ST ': 1,\n",
       "         '5357 N BROADWAY ': 1,\n",
       "         '1657 E 87TH ST ': 7,\n",
       "         '6621 N CLARK ST ': 2,\n",
       "         '4000-4006 N SOUTHPORT AVE ': 3,\n",
       "         '72 E ADAMS ST ': 1,\n",
       "         '612 N WELLS ST ': 3,\n",
       "         '6560 W FULLERTON AVE ': 12,\n",
       "         '2645 W NORTH AVE ': 2,\n",
       "         '4265 N LINCOLN AVE ': 1,\n",
       "         '2800 W FOSTER AVE ': 5,\n",
       "         '2340 W 52ND ST ': 5,\n",
       "         '6000 W GRAND AVE ': 6,\n",
       "         '5539 S MICHIGAN AVE ': 4,\n",
       "         '5145 S PULASKI RD ': 4,\n",
       "         '1206 N STATE PKWY ': 5,\n",
       "         '616 S PULASKI RD ': 4,\n",
       "         '1400 W AUGUSTA BLVD ': 1,\n",
       "         '5600 N RIDGE BLDG ': 1,\n",
       "         '311 E 75TH ST ': 3,\n",
       "         '1246 N WELLS ST ': 1,\n",
       "         '28-32 E JACKSON BLVD ': 3,\n",
       "         '733 W 79TH ST ': 3,\n",
       "         '4801 N AUSTIN AVE ': 7,\n",
       "         '8451 S PULASKI RD ': 2,\n",
       "         '7131 S JEFFERY BLVD ': 4,\n",
       "         '1301 W 111th ST ': 1,\n",
       "         '4901 W BERENICE AVE ': 2,\n",
       "         '3130 N HARLEM AVE ': 2,\n",
       "         '22 W OHIO ST ': 3,\n",
       "         '1700 W 19TH ST ': 1,\n",
       "         '6222-6224 W NORTH AVE ': 1,\n",
       "         '30 S MICHIGAN AVE ': 1,\n",
       "         '2935 W Polk  (800S) ': 1,\n",
       "         '4022-4024 W ARMITAGE AVE ': 1,\n",
       "         '2906 W ARMITAGE AVE ': 1,\n",
       "         '4325 W OGDEN AVE ': 1,\n",
       "         '3601 N SOUTHPORT AVE ': 4,\n",
       "         '809 W JACKSON BLVD ': 1,\n",
       "         '807 W WEBSTER AVE ': 4,\n",
       "         '3740 W 31st St   (3100S) ': 1,\n",
       "         '2366-2370 N NEVA AVE ': 3,\n",
       "         '1202 N WELLS ST ': 2,\n",
       "         '301-303 E 43RD ST ': 7,\n",
       "         '228-230 W KINZIE ST ': 5,\n",
       "         '2646-2648 N MILWAUKEE AVE ': 1,\n",
       "         '300 E 75TH ST ': 1,\n",
       "         '2506-2508 N CLYBOURN AVE ': 3,\n",
       "         '1900 W JACKSON BLVD ': 1,\n",
       "         '3038-3040 W MONTROSE AVE ': 7,\n",
       "         '1327 E 57TH ST ': 3,\n",
       "         '3170 S ASHLAND AVE ': 1,\n",
       "         '7158 S STONY ISLAND AVE ': 1,\n",
       "         '6740 N CLARK ST ': 1,\n",
       "         '2245 W Jackson Blvd (300S) ': 1,\n",
       "         '933 W DIVERSEY PKWY ': 1,\n",
       "         '3200 W ROOSEVELT RD ': 7,\n",
       "         '2501 W 71ST ST ': 2,\n",
       "         '1001 N MILWAUKEE AVE ': 3,\n",
       "         '4042 W FOSTER AVE ': 5,\n",
       "         '2825 W DEVON AVE ': 1,\n",
       "         '5410 W ROOSEVELT RD ': 1,\n",
       "         '834 N ASHLAND AVE ': 1,\n",
       "         '6950 N Hiawatha ': 3,\n",
       "         '2145 E 83RD ST ': 7,\n",
       "         '2470 N LINCOLN AVE ': 1,\n",
       "         '11629 S HALSTED ST ': 1,\n",
       "         '1519 W MADISON ': 2,\n",
       "         '2541 W LAWRENCE AVE ': 6,\n",
       "         '6700 S STONY ISLAND AVE ': 2,\n",
       "         '5916 S PULASKI ': 1,\n",
       "         '4925 N LINCOLN AVE ': 4,\n",
       "         '3318 W BRYN MAWR AVE ': 3,\n",
       "         '6214 W DIVERSEY AVE ': 2,\n",
       "         '7315 S KEDZIE AVE ': 1,\n",
       "         '1447 W 18TH ST ': 3,\n",
       "         '5536 N ELSTON AVE ': 2,\n",
       "         '814 W EASTMAN ST ': 2,\n",
       "         '6011 S Rockwell (2600W) AVE ': 3,\n",
       "         '938 W 79th ST ': 1,\n",
       "         '2825 N SHEFFIELD AVE ': 4,\n",
       "         '514 W PERSHING RD ': 2,\n",
       "         '1400 W MONROE ST ': 1,\n",
       "         '4531-35 W MARQUETTE RD ': 2,\n",
       "         '2024 S CALIFORNIA AVE ': 6,\n",
       "         '16 W RANDOLPH ST ': 2,\n",
       "         '674 W DIVERSEY PKWY ': 2,\n",
       "         '3807 W 26TH ST ': 6,\n",
       "         '905 W BELMONT ': 2,\n",
       "         '3300 N ASHLAND AVE ': 5,\n",
       "         '6059 S Wabash (45E) ': 2,\n",
       "         '3019 W 63RD ST ': 2,\n",
       "         '1935 W CHICAGO AVE ': 2,\n",
       "         '2357 E 79TH ST ': 1,\n",
       "         '5828 N LINCOLN AVE ': 4,\n",
       "         '3859 W MADISON AVE ': 1,\n",
       "         '3154 W FOSTER AVE ': 3,\n",
       "         '2023 S WESTERN AVE ': 3,\n",
       "         '4348 S CALIFORNIA AVE ': 1,\n",
       "         '2626 W DEVON AVE ': 4,\n",
       "         '2034 W DIVISION ST ': 3,\n",
       "         '9863 S EWING AVE ': 1,\n",
       "         '9725 S COMMERCIAL AVE ': 2,\n",
       "         '3514 W FULLERTON AVE BLDG ': 2,\n",
       "         '14 W ELM ST ': 1,\n",
       "         '1600 W 13TH ST ': 2,\n",
       "         '1208 N WELLS ST ': 6,\n",
       "         '3329 N LINCOLN AVE ': 2,\n",
       "         '420-422 W 31ST ST ': 3,\n",
       "         '201-209 E 43RD ST ': 3,\n",
       "         '3750 W OGDEN AVE ': 3,\n",
       "         '579 W KINZIE ST ': 1,\n",
       "         '7902 S ASHLAND AVE ': 3,\n",
       "         '6659 S WENTWORTH AVE ': 1,\n",
       "         '4316 S Princeton (300W) ': 1,\n",
       "         '2750 W MADISON ST ': 1,\n",
       "         '2201 N CLYBOURN AVE ': 4,\n",
       "         '3300 W 55TH ST ': 2,\n",
       "         '4245 W ARMITAGE AVE ': 1,\n",
       "         '6222 S ARCHER AVE ': 1,\n",
       "         '6558 S ASHLAND AVE ': 5,\n",
       "         '4459 W BELMONT AVE ': 2,\n",
       "         '2126 E 71ST ST ': 7,\n",
       "         '2881 N ELSTON AVE ': 1,\n",
       "         '1230 W TAYLOR ST ': 2,\n",
       "         '601 W 43RD ST ': 1,\n",
       "         '815 N ASHLAND AVE ': 1,\n",
       "         '2434-2438 W DEVON AVE ': 2,\n",
       "         '2252 N WESTERN AVE ': 1,\n",
       "         '1927 W FULLERTON AVE ': 2,\n",
       "         '5645 N LINCOLN AVE ': 1,\n",
       "         '1914 W 79TH ST ': 3,\n",
       "         '1538 N CLYBOURN ST ': 1,\n",
       "         '5518 W CHICAGO AVE ': 1,\n",
       "         '5509 N CLARK ST ': 4,\n",
       "         '635 N FAIRBANKS CT ': 1,\n",
       "         '6150 N BROADWAY ': 2,\n",
       "         '7000 N GLENWOOD AVE ': 10,\n",
       "         '1359 W 79TH ST ': 6,\n",
       "         '3415 E 106TH ST ': 1,\n",
       "         '5472 N HARLEM AVE ': 1,\n",
       "         '2726 W DIVISION ST ': 1,\n",
       "         '830 N MICHIGAN AVE ': 2,\n",
       "         '150-160 E HURON ST ': 3,\n",
       "         '1313 N Claremont ': 1,\n",
       "         '2010 W MARQUETTE RD ': 1,\n",
       "         '2119 W IRVING PARK RD ': 1,\n",
       "         '9510 S Prospect (1700W) ': 2,\n",
       "         '1456 W OAKDALE AVE ': 1,\n",
       "         '1260 W ADAMS ': 6,\n",
       "         '2610 W 71ST ST ': 1,\n",
       "         '4222 W 26TH ST ': 2,\n",
       "         '8871 S KINGSTON AVE ': 2,\n",
       "         '8933 S COMMERCIAL AVE ': 3,\n",
       "         '11100 S STATE ST ': 1,\n",
       "         '2 E ONTARIO ST ': 1,\n",
       "         '4825 N WESTERN AVE ': 1,\n",
       "         '9801 S HALSTED ST ': 1,\n",
       "         '1320 W FULLERTON AVE ': 3,\n",
       "         '710 E 47TH ST ': 2,\n",
       "         '4425 N Magnolia AVE ': 3,\n",
       "         '4810 W DIVERSEY AVE ': 5,\n",
       "         '2331 W DEVON AVE ': 3,\n",
       "         '5306 W FULLERTON AVE ': 4,\n",
       "         '1556 S PULASKI RD ': 5,\n",
       "         '6400 W IRVING PARK RD ': 2,\n",
       "         '431 N WELLS ST ': 2,\n",
       "         '1304-1306 S HALSTED ST ': 3,\n",
       "         '5540 N MILWAUKEE AVE ': 4,\n",
       "         '3500 S GILES AVE ': 1,\n",
       "         '1704 N MILWAUKEE AVE ': 2,\n",
       "         '2415 W PETERSON AVE ': 2,\n",
       "         '1601 N MILWAUKEE AVE ': 7,\n",
       "         '55 E JACKSON BLVD ': 4,\n",
       "         '3901 W MADISON ST ': 2,\n",
       "         '2339 S WENTWORTH AVE ': 3,\n",
       "         '5625 N RIDGE AVE ': 1,\n",
       "         '4634-4636 N KEDZIE AVE ': 4,\n",
       "         '27 W LAKE ST ': 4,\n",
       "         '1101 W BRYN MAWR AVE ': 2,\n",
       "         '1 N WACKER DR ': 1,\n",
       "         '3144 W MARQUETTE RD ': 4,\n",
       "         '11411 S Eggleston (432W) ': 1,\n",
       "         '5321 W GRAND AVE ': 1,\n",
       "         '1744 W Pryor (11156 S) ': 5,\n",
       "         '138 S ASHLAND AVE ': 1,\n",
       "         '1932-1934 N CLARK ST ': 3,\n",
       "         '818-822 W RANDOLPH ST ': 5,\n",
       "         '2822 W MONTROSE AVE ': 1,\n",
       "         '2115 N MILWAUKEE AVE ': 4,\n",
       "         '4767 N LINCOLN AVE ': 2,\n",
       "         '1120-1124 W MADISON ST ': 2,\n",
       "         '1000 S LEAVITT ST ': 1,\n",
       "         '1903 N MILWAUKEE AVE ': 1,\n",
       "         '425 E 63RD ST ': 3,\n",
       "         '6400 N SHERIDAN RD ': 3,\n",
       "         '8311 S BALTIMORE AVE ': 1,\n",
       "         '800 W LAWRENCE AVE ': 2,\n",
       "         '5060 N SHERIDAN RD ': 5,\n",
       "         '352 W 75TH ST ': 1,\n",
       "         '4550 S ARCHER AVE ': 1,\n",
       "         '149-151 W KINZIE ST ': 2,\n",
       "         '4906-4908 N PULASKI RD ': 1,\n",
       "         '1135 W 51ST ST ': 1,\n",
       "         '920 W WILSON AVE ': 5,\n",
       "         '1769 W SUNNYSIDE AVE ': 1,\n",
       "         '4200 N KEELER AVE ': 1,\n",
       "         '3726 W 16TH ST ': 2,\n",
       "         '1952 W 55TH BLVD ': 1,\n",
       "         '1570-1/2 N DAMEN AVE ': 8,\n",
       "         '227 W MONROE ST ': 5,\n",
       "         '2750 W 111TH ST ': 1,\n",
       "         '2350 W CERMAK RD ': 7,\n",
       "         '39 W JACKSON BLVD ': 1,\n",
       "         '6543 S Champlain (635E) ': 4,\n",
       "         '3223 N CLARK ST ': 3,\n",
       "         '6340 N BROADWAY ': 3,\n",
       "         '3405 S MICHIGAN AVE ': 1,\n",
       "         '9 W HUBBARD ST ': 2,\n",
       "         '201 N Clark ST BLDG ': 1,\n",
       "         '1847 W ROSCOE ST ': 2,\n",
       "         '3657 W 26TH ST ': 4,\n",
       "         '625 N MICHIGAN AVE ': 1,\n",
       "         '1603 E 55TH ST ': 2,\n",
       "         '370 N CARPENTER ST ': 2,\n",
       "         '2722 N MILWAUKEE AVE ': 7,\n",
       "         '14 W 95TH ST ': 4,\n",
       "         '4276 S ARCHER AVE ': 1,\n",
       "         '1414 N MILWAUKEE AVE ': 2,\n",
       "         '935 W 87TH ST ': 2,\n",
       "         '959 W DIVERSEY PKWY ': 4,\n",
       "         '1527 W LAWRENCE AVE ': 1,\n",
       "         '328 S JEFFERSON ST ': 2,\n",
       "         '2100 E 71ST ST ': 3,\n",
       "         '3701 W OGDEN AVE ': 1,\n",
       "         '604 N CICERO AVE ': 8,\n",
       "         '5616 S WESTERN AVE ': 3,\n",
       "         '3119 W LAWRENCE AVE ': 3,\n",
       "         '2570 N LINCOLN AVE ': 1,\n",
       "         '2826 N LINCOLN AVE ': 1,\n",
       "         '358-370 E 71ST ST ': 6,\n",
       "         '1702 E 87TH ST ': 3,\n",
       "         '5419 N SHERIDAN RD ': 1,\n",
       "         '1475 W BALMORAL AVE ': 3,\n",
       "         '2445 N HARLEM AVE ': 2,\n",
       "         '5854-5856 N LINCOLN AVE ': 1,\n",
       "         '1940 W 33RD ST ': 2,\n",
       "         '6924 S STONY ISLAND AVE ': 1,\n",
       "         '1957 W CHICAGO AVE ': 2,\n",
       "         '2120 S ARCHER AVE ': 1,\n",
       "         '3000 S Lawndale AVE ': 2,\n",
       "         '5550 N HARLEM AVE ': 2,\n",
       "         '400 E 61ST ST ': 8,\n",
       "         '4303 W IRVING PARK RD ': 1,\n",
       "         '833 W VAN BUREN ST ': 1,\n",
       "         '3939 W OGDEN AVE ': 5,\n",
       "         '4319 S ARCHER AVE ': 2,\n",
       "         '2204 N LINCOLN AVE ': 3,\n",
       "         '2304 W CHICAGO AVE ': 7,\n",
       "         '310 S Clinton ST ': 2,\n",
       "         '29 W LAKE ST ': 2,\n",
       "         '3001 N LINCOLN AVE ': 2,\n",
       "         '1522 W FILLMORE ': 1,\n",
       "         '1601-1603 W MONTROSE AVE ': 3,\n",
       "         '1746 S Miller (1030W) ': 2,\n",
       "         '1345 N PULASKI RD ': 2,\n",
       "         '3175 W MADISON ST ': 4,\n",
       "         '1250 W 42ND ST ': 1,\n",
       "         '109 E 47TH ST ': 2,\n",
       "         '2886 N MILWAUKEE AVE ': 4,\n",
       "         '7646 S Green (832W) ': 4,\n",
       "         '825 S STATE ST ': 2,\n",
       "         '2163 S CHINA PL ': 2,\n",
       "         '6404 N CALIFORNIA AVE ': 4,\n",
       "         '3231 N CLARK ': 4,\n",
       "         '4807 N SPAULDING AVE ': 1,\n",
       "         '835 N MICHIGAN ': 1,\n",
       "         '5352 N BROADWAY ': 1,\n",
       "         '2255 W TAYLOR ST ': 1,\n",
       "         '6434 W ARCHER AVE ': 1,\n",
       "         '3510 S HALSTED ST ': 2,\n",
       "         '2651 N HARLEM AVE ': 1,\n",
       "         '3817-3819 N ASHLAND AVE ': 4,\n",
       "         '2301 E 79TH ST ': 2,\n",
       "         '118 S ASHLAND ': 1,\n",
       "         '30 E LAKE ST ': 1,\n",
       "         '3313-3317 N BROADWAY ': 2,\n",
       "         '3322 W 47TH ST ': 2,\n",
       "         '1926 E 95TH ST ': 2,\n",
       "         '2708 W PETERSON AVE ': 3,\n",
       "         '3945 W 31ST ST ': 3,\n",
       "         '4657 S DREXAL BLVD ': 1,\n",
       "         '1420 W Grace(3800N) ': 1,\n",
       "         '3159 W CHICAGO AVE ': 1,\n",
       "         '4844 N LINCOLN AVE ': 3,\n",
       "         '11525 S HALSTED ST ': 1,\n",
       "         '2950 N OAKLEY AVE ': 2,\n",
       "         '4461 N PULASKI RD ': 3,\n",
       "         '60 E ADAMS ST ': 1,\n",
       "         '909 N MICHIGAN AVE ': 5,\n",
       "         '4102 W MADISON ST ': 6,\n",
       "         '3579 W DICKENS AVE ': 2,\n",
       "         '5952 W DIVERSEY AVE ': 1,\n",
       "         '2906 W CERMAK RD ': 1,\n",
       "         '4241 W ARMITAGE AVE ': 14,\n",
       "         '3938 N CENTRAL AVE ': 1,\n",
       "         '2519 W 63 ST ': 1,\n",
       "         '4631 N CLARK ST ': 2,\n",
       "         '549 N KEDZIE AVE ': 1,\n",
       "         '5550 S SHORE DR ': 5,\n",
       "         '5926 S PULASKI RD ': 1,\n",
       "         '1970 E 73RD ST ': 1,\n",
       "         '3435 N SHEFFIELD AVE ': 2,\n",
       "         '4156-4158 W MADISON ST ': 2,\n",
       "         '4540 W 63RD ST ': 1,\n",
       "         '3410 MAIN ST ': 1,\n",
       "         '1431 W 95TH ST ': 1,\n",
       "         '4135 W 26TH ST ': 1,\n",
       "         '3159 N CALIFORNIA AVE ': 1,\n",
       "         '2032 W ROSCOE ST ': 6,\n",
       "         '306 E 75TH ST ': 3,\n",
       "         '4151 W 47TH ST ': 2,\n",
       "         '1324 N MILWAUKEE AVE ': 2,\n",
       "         '1349 W FULLERTON AVE ': 2,\n",
       "         '5500 S RACINE AVE ': 1,\n",
       "         '1400 N MILWAUKEE AVE ': 1,\n",
       "         '3112 N BROADWAY ': 1,\n",
       "         '7036 S WESTERN AVE ': 4,\n",
       "         '604-606 W BARRY AVE ': 1,\n",
       "         '1145 W WILSON AVE ': 6,\n",
       "         '7852 S COTTAGE GROVE AVE ': 4,\n",
       "         '1010 S DELANO WEST CT ': 2,\n",
       "         '5356 N SHERIDAN RD ': 3,\n",
       "         '3938 N SHERIDAN RD ': 1,\n",
       "         '1231 S WABASH AVE ': 1,\n",
       "         '2420 S WENTWORTH AVE ': 4,\n",
       "         '3044 W 63RD ST ': 1,\n",
       "         '3440 W MONTROSE AVE ': 3,\n",
       "         '3920 N CLARK ST APT ': 3,\n",
       "         '3034 S HALSTED ST ': 7,\n",
       "         '1229 W BELMONT AVE ': 3,\n",
       "         '526 E 43RD ST ': 1,\n",
       "         '1520 N DAMEN AVE ': 1,\n",
       "         '151 W Adams ST ': 1,\n",
       "         '2404 S WOLCOTT AVE ': 4,\n",
       "         '806 E 64th ST ': 1,\n",
       "         '7029 N CLARK ST ': 1,\n",
       "         '5 W DIVISION ST ': 2,\n",
       "         '15 E OHIO ST ': 4,\n",
       "         '959 W FULLERTON AVE ': 3,\n",
       "         '2723 N CLARK ST ': 2,\n",
       "         '4918 W IRVING PARK RD ': 1,\n",
       "         '1959 E 79TH ST ': 2,\n",
       "         '151 E WACKER DR ': 10,\n",
       "         '21 E HUBBARD ST ': 1,\n",
       "         '10320 S KEDZIE AVE ': 6,\n",
       "         '4610 N KEDZIE AVE ': 1,\n",
       "         '5030-5050 S KEDZIE AVE ': 6,\n",
       "         '1812 W MONTROSE AVE ': 1,\n",
       "         '701 W 31ST ST ': 3,\n",
       "         '2701 N WESTERN AVE ': 2,\n",
       "         '2022 W ROSCOE ST ': 3,\n",
       "         '5405 S KEDZIE AVE ': 2,\n",
       "         '3820 W CHICAGO AVE ': 3,\n",
       "         '5109 W FULLERTON AVE ': 5,\n",
       "         '6901 S WESTERN AVE ': 2,\n",
       "         '5121 N KIMBALL AVE ': 1,\n",
       "         '3832 W DIVERSEY AVE ': 1,\n",
       "         '1752 W NORTH AVE ': 2,\n",
       "         '334 W CHICAGO AVE ': 6,\n",
       "         '375 E 75TH ST ': 1,\n",
       "         '6730 N CLARK ST ': 3,\n",
       "         '3660-3662 N CLARK ST ': 2,\n",
       "         '1632 W howard BLDG ': 1,\n",
       "         '108 E 47TH ST ': 3,\n",
       "         '6525 W DIVERSEY AVE ': 1,\n",
       "         '3254 W LAWRENCE AVE ': 1,\n",
       "         '2854 W DEVON AVE ': 1,\n",
       "         '1400 W 46TH ST ': 4,\n",
       "         '8712 S COMMERCIAL AVE ': 2,\n",
       "         '2600 W 35TH ST ': 9,\n",
       "         '5051 N Kenneth (4432W) ': 3,\n",
       "         '3702-3704 N BROADWAY ': 2,\n",
       "         '49 E 95TH ST ': 1,\n",
       "         '3601 N WESTERN AVE ': 2,\n",
       "         '3300 W MONTROSE AVE ': 8,\n",
       "         '1111 W WILSON AVE ': 3,\n",
       "         '10317 S WESTERN AVE ': 1,\n",
       "         '8950-58 S ASHLAND AVE ': 2,\n",
       "         '1639-1643 E 55TH ST ': 6,\n",
       "         '5044 S COTTAGE GROVE AVE ': 3,\n",
       "         '710 N LAKE SHORE DR ': 2,\n",
       "         '1437 W TAYLOR ST ': 4,\n",
       "         '10063 S EWING AVE ': 3,\n",
       "         '2140 S WABASH AVE ': 1,\n",
       "         '3149 W LAWRENCE AVE ': 2,\n",
       "         '3137-3139 W LOGAN BLVD ': 2,\n",
       "         '2554-2556 W DIVERSEY AVE ': 4,\n",
       "         '2106-10 E 79TH ST ': 1,\n",
       "         '206 W VAN BUREN ST ': 3,\n",
       "         '1635 N MILWAUKEE AVE ': 1,\n",
       "         '1158 W 63RD ST ': 1,\n",
       "         '258-260 W 26TH ST ': 5,\n",
       "         '964 W 31ST ST ': 2,\n",
       "         '4176 N ELSTON AVE ': 2,\n",
       "         '9341 S ASHLAND AVE ': 1,\n",
       "         '6409 N LEAVITT ST ': 2,\n",
       "         '7519 S CICERO AVE ': 1,\n",
       "         '2435 N CLARK ST ': 2,\n",
       "         '4950 N ASHLAND AVE ': 1,\n",
       "         '3644 S ARCHER AVE ': 2,\n",
       "         '1422 W Taylor ST ': 2,\n",
       "         '3001 W BELMONT AVE ': 1,\n",
       "         '921 W BELMONT AVE ': 4,\n",
       "         '8240 S STONY ISLAND AVE ': 2,\n",
       "         '4900 S CHICAGO BEACH DR ': 5,\n",
       "         '1765 N ELSTON AVE ': 1,\n",
       "         '1847 W 47TH ST ': 1,\n",
       "         '306 N HALSTED ST ': 1,\n",
       "         '4157 W Peterson AVE ': 2,\n",
       "         '2215 S WENTWORTH AVE ': 7,\n",
       "         '43 N HOMAN BLVD ': 1,\n",
       "         '2356 W CHICAGO AVE ': 2,\n",
       "         '1754 N CENTRAL AVE ': 1,\n",
       "         '7042 W HIGGINS AVE ': 1,\n",
       "         '2644 W LAWRENCE AVE ': 1,\n",
       "         '1378- 1384 W LAKE ST ': 1,\n",
       "         '1333 W BELMONT AVE ': 1,\n",
       "         '1319 W WILSON AVE ': 12,\n",
       "         '1245 N CLYBOURN AVE ': 6,\n",
       "         '2230 S WENTWORTH AVE ': 6,\n",
       "         '6701 S JEFFERY BLVD ': 1,\n",
       "         '2308 W DEVON AVE ': 6,\n",
       "         '1014 S WESTERN AVE ': 6,\n",
       "         '208 W WASHINGTON ST ': 1,\n",
       "         '7247 N DAMEN AVE ': 1,\n",
       "         '240 E 103RD ST ': 2,\n",
       "         '2453 N HALSTED ST ': 5,\n",
       "         '3600-3614 S KEDZIE AVE ': 1,\n",
       "         '8618 S KEDZIE AVE ': 2,\n",
       "         '554 W ROOSEVELT RD ': 3,\n",
       "         '6409 N BELL AVE ': 1,\n",
       "         '8622 S Commercial AVE ': 11,\n",
       "         '67 E CERMAK RD ': 1,\n",
       "         '5900 W ROOSEVELT RD ': 3,\n",
       "         '23 E ADAMS ST ': 1,\n",
       "         '1530 N MILWAUKEE AVE ': 2,\n",
       "         '507 W DICKENS AVE ': 2,\n",
       "         '4067 W FIFTH AVE ': 2,\n",
       "         '2158 S ARCHER AVE ': 5,\n",
       "         '10959 S DOTY AVE ': 1,\n",
       "         '51 E 51st ST ': 9,\n",
       "         '3815 N HARLEM AVE ': 3,\n",
       "         '1126 W ARGYLE ST ': 2,\n",
       "         '5308-5312 N MILWAUKEE AVE ': 3,\n",
       "         '15 E HURON ST ': 3,\n",
       "         '338 S CALIFORNIA AVE ': 1,\n",
       "         '3559 E 106TH ST ': 2,\n",
       "         '5900 W MADISON ST ': 2,\n",
       "         '4205 W LAWRENCE AVE ': 2,\n",
       "         '4004 N SOUTHPORT AVE ': 1,\n",
       "         '1201 N CENTRAL AVE ': 2,\n",
       "         '233 N MICHIGAN AVE ': 14,\n",
       "         '6100 S DR MARTIN LUTHER KING JR DR ': 4,\n",
       "         '3800 W 103RD ST ': 1,\n",
       "         '5500 S CORNELL AVE ': 2,\n",
       "         '5826 W DIVISION ST ': 4,\n",
       "         '810 N MARSHFIELD AVE ': 9,\n",
       "         '5231 S WOODLAWN AVE ': 9,\n",
       "         '2924-2926 N BROADWAY ': 1,\n",
       "         '5700 S ASHLAND AVE ': 2,\n",
       "         '151 W ADAMS ST ': 15,\n",
       "         '4644 N LINCOLN AVE ': 1,\n",
       "         '4754 W Belmont AVE ': 4,\n",
       "         '1218-1220 W MORSE AVE ': 2,\n",
       "         '442 E 75 ST ': 1,\n",
       "         '4557 N RAVENSWOOD AVE ': 2,\n",
       "         '2306 W DEVON AVE ': 11,\n",
       "         '7627 S JEFFERY BLVD ': 2,\n",
       "         '1220 W TAYLOR ST ': 2,\n",
       "         '2447 N HARLEM AVE ': 2,\n",
       "         '5040 S Cottage Grove AVE ': 7,\n",
       "         '50 W RANDOLPH ST ': 1,\n",
       "         '551 E 79TH ST ': 3,\n",
       "         '3682 N ELSTON AVE ': 3,\n",
       "         '3234 N ELSTON AVE ': 1,\n",
       "         '722 E 79TH ST ': 1,\n",
       "         '2850 N CLARK ST ': 8,\n",
       "         '5215-5219 W IRVING PARK RD ': 2,\n",
       "         '10658 S MICHIGAN AVE ': 6,\n",
       "         '5935 S PULASKI RD ': 2,\n",
       "         '2740 W CERMAK RD ': 2,\n",
       "         '721 W GRAND AVE ': 2,\n",
       "         '6359 W MONTROSE AVE ': 1,\n",
       "         '3331 W 26TH ST ': 5,\n",
       "         '6112 N LINCOLN AVE ': 1,\n",
       "         '1630 W Barry (3100N) ': 3,\n",
       "         '8802 S STONY ISLAND AVE ': 2,\n",
       "         '60 W ADAMS ST ': 4,\n",
       "         '1110-1114 W RANDOLPH ST ': 5,\n",
       "         '3633 N CALIFORNIA AVE ': 1,\n",
       "         '1614 W 59TH ST ': 1,\n",
       "         '2232-2234 E 71ST ST ': 4,\n",
       "         '5456 S KEDZIE AVE ': 1,\n",
       "         '702 W DIVERSEY PKWY ': 2,\n",
       "         '424 N WOOD ST ': 3,\n",
       "         '2426 N RACINE AVE ': 1,\n",
       "         '1017 W IRVING PARK RD ': 2,\n",
       "         '9510 S CONSTANCE AVE ': 3,\n",
       "         '2557-2559 W DEVON AVE ': 3,\n",
       "         '736 W FULLERTON AVE ': 1,\n",
       "         '22 E RANDOLPH ST ': 1,\n",
       "         '1556 W 63RD ST ': 1,\n",
       "         '2200 E 73RD ST ': 1,\n",
       "         '1623 N HALSTED ST ': 2,\n",
       "         '150 S MICHIGAN AVE ': 2,\n",
       "         '9151 S ASHLAND AVE ': 7,\n",
       "         '8259 S STATE ST ': 1,\n",
       "         '6501 S COTTAGE GROVE AVE ': 4,\n",
       "         '9026 S COMMERCIAL AVE ': 3,\n",
       "         '6840 S PULASKI RD ': 1,\n",
       "         '3664 N CLARK ST ': 4,\n",
       "         '7100 S WESTERN AVE ': 4,\n",
       "         '1863 N CLYBOURN AVE ': 2,\n",
       "         '1237 W FULTON MARKET ': 2,\n",
       "         '1310 S WABASH AVE ': 8,\n",
       "         '2566-2568 N LINCOLN AVE ': 3,\n",
       "         '345 N CENTRAL AVE ': 2,\n",
       "         '2817 N PINE GROVE AVE ': 1,\n",
       "         '3234 W 26TH ST ': 2,\n",
       "         '7445 S STONY ISLAND AVE ': 1,\n",
       "         '1435 W TAYLOR ST ': 4,\n",
       "         '7529 N CLARK ST ': 1,\n",
       "         '135 S LA SALLE ST ': 1,\n",
       "         '4225-4229 N PULASKI RD ': 2,\n",
       "         '4150 W Roosevelt RD ': 3,\n",
       "         '4879 N BROADWAY ': 2,\n",
       "         '1911 W BELMONT AVE ': 3,\n",
       "         '3116 W POPE JOHN PAUL II DR ': 6,\n",
       "         '6940 S Merrill (2132E) ': 1,\n",
       "         '4052 S Wabash ST ': 3,\n",
       "         '7024 W IMLAY ST ': 1,\n",
       "         '7541 N WESTERN AVE ': 2,\n",
       "         '4300 S MICHIGAN AVE ': 6,\n",
       "         '6019-6023 N LINCOLN AVE ': 2,\n",
       "         '1051-1053 N ASHLAND AVE ': 4,\n",
       "         '2100 W ROSCOE ST ': 1,\n",
       "         '5238 S HARPER AVE ': 3,\n",
       "         '3322 W 26TH ST ': 4,\n",
       "         '4216 W 19TH St (1900S) ': 5,\n",
       "         '1558 N ELSTON AVE ': 3,\n",
       "         '6217 W 63RD ST ': 1,\n",
       "         '1651 W ROOSEVELT RD ': 2,\n",
       "         '646 N Lawndale (3700W) ': 1,\n",
       "         '3205 N CICERO AVE ': 1,\n",
       "         '11 E HUBBARD ST ': 2,\n",
       "         '30 S WABASH AVE ': 2,\n",
       "         '4359 W 47TH ST ': 1,\n",
       "         '2637 N CENTRAL AVE ': 1,\n",
       "         '3257 W BRYN MAWR AVE ': 1,\n",
       "         '70 W HURON ST ': 1,\n",
       "         '460 E 61ST ST ': 4,\n",
       "         '1841 W HOWARD ST ': 3,\n",
       "         '455 W MARQUETTE RD ': 2,\n",
       "         '6801 N WESTERN AVE ': 5,\n",
       "         '2929 W 19TH ST ': 2,\n",
       "         '18-20 E BELLEVUE PL ': 2,\n",
       "         '2732 W 59TH ST ': 1,\n",
       "         '5607 W CORCORAN PL ': 8,\n",
       "         '3152-3154 W DIVERSEY AVE ': 3,\n",
       "         '1745 W NORTH AVE ': 1,\n",
       "         '5713 W IRVING PARK RD ': 4,\n",
       "         '1156 W 18TH ST ': 4,\n",
       "         '4757 N SHERIDAN RD ': 4,\n",
       "         '1608 W 59TH ST ': 3,\n",
       "         '4917 N LINCOLN AVE ': 3,\n",
       "         '4116 W NORTH AVE ': 5,\n",
       "         '6407 N MAPLEWOOD AVE ': 1,\n",
       "         '205 W 103rd ST ': 1,\n",
       "         '3701 N BROADWAY ': 1,\n",
       "         '1000 - 1002 W DIVERSEY PKWY ': 1,\n",
       "         '13157 S AVENUE M ': 2,\n",
       "         '1865 W Montvale (11334S) ': 4,\n",
       "         '320 N MORGAN ST ': 2,\n",
       "         '6015 N FRANCISCO AVE ': 2,\n",
       "         '2336 N MILWAUKEE AVE ': 2,\n",
       "         '5061 N PULASKI RD ': 1,\n",
       "         '3500 N BROADWAY ': 3,\n",
       "         '1057 W POLK ST ': 2,\n",
       "         '3109 N HALSTED ST ': 3,\n",
       "         '641-643 E 47TH ST ': 3,\n",
       "         '4934 S Wabash (45E) BLDG ': 3,\n",
       "         '437 N RUSH ST ': 4,\n",
       "         '2535-2537 W PETERSON AVE ': 1,\n",
       "         '5410 S State St. (1E&W) ': 1,\n",
       "         '3527 W ARMITAGE AVE BLDG ': 2,\n",
       "         '756 N WESTERN AVE ': 3,\n",
       "         '234 E 115TH ST ': 3,\n",
       "         '3952 W MONROE ST ': 4,\n",
       "         '1247 S Western AVE BLDG ': 2,\n",
       "         '2607 W 47TH ST ': 1,\n",
       "         '3050 W 39TH PL ': 1,\n",
       "         '9218 S COTTAGE GROVE AVE ': 1,\n",
       "         '1005 W 71ST ST ': 3,\n",
       "         '2245 W IRVING PARK RD ': 1,\n",
       "         '111 N STATE ST ': 7,\n",
       "         '3415 W BELMONT AVE ': 1,\n",
       "         '40 N CLINTON ST ': 1,\n",
       "         '2424 W TOUHY AVE ': 3,\n",
       "         '4430 S TRIPP AVE ': 1,\n",
       "         '7559 S STATE ST ': 1,\n",
       "         '5523-5525 N BROADWAY ': 4,\n",
       "         '3349 N SHEFFIELD AVE ': 2,\n",
       "         '3179 W MADISON ST ': 2,\n",
       "         '953-955 W FULTON MARKET ': 1,\n",
       "         '1659 N ASHLAND AVE ': 1,\n",
       "         '353 N CLARK ST ': 1,\n",
       "         '2863 W CERMAK RD ': 2,\n",
       "         '2716 W CERMAK RD ': 4,\n",
       "         '3132 W 25TH ST ': 1,\n",
       "         '1546 W CHICAGO AVE ': 5,\n",
       "         '192 E WALTON ST ': 2,\n",
       "         '3036 N PULASKI RD ': 4,\n",
       "         '729-743 N CLARK ST ': 4,\n",
       "         '2929 S WABASH AVE ': 1,\n",
       "         '2413-2415 N CLARK ST ': 1,\n",
       "         '10 S LA SALLE ST ': 2,\n",
       "         '2039 N WESTERN AVE ': 1,\n",
       "         '3450 N LINCOLN AVE ': 2,\n",
       "         '201 N STATE ST ': 2,\n",
       "         '5820 W ROOSEVELT RD ': 1,\n",
       "         '2445 W DEVON AVE ': 2,\n",
       "         '2701 W 79TH ST ': 1,\n",
       "         '2156 W BELMONT AVE ': 1,\n",
       "         '1919 S ASHLAND AVE ': 3,\n",
       "         '100 W 111TH ST ': 4,\n",
       "         '505 N STATE ST ': 3,\n",
       "         '842 W LAKE ST ': 1,\n",
       "         '960 W BELMONT AVE ': 1,\n",
       "         '3006 N ELSTON AVE ': 8,\n",
       "         '4209 W 26TH ST ': 1,\n",
       "         '5709 S HARLEM AVE ': 2,\n",
       "         '5050-5054 W FULLERTON AVE ': 2,\n",
       "         '13258 S AVENUE O ': 1,\n",
       "         '5930 W LAWRENCE AVE ': 3,\n",
       "         '2678 W WASHINGTON ST ': 1,\n",
       "         '206 S CICERO AVE ': 7,\n",
       "         '6326 W GRAND AVE ': 4,\n",
       "         '117 S CLINTON ST ': 2,\n",
       "         '1045 W MADISON ST ': 3,\n",
       "         '754 S WESTERN AVE ': 2,\n",
       "         '3232 W DIVISION ST ': 2,\n",
       "         '5701 N SHERIDAN RD ': 2,\n",
       "         '3968-3980 W COLUMBUS AVE ': 1,\n",
       "         '4937 S CICERO AVE ': 1,\n",
       "         '3755 S KEDZIE AVE ': 1,\n",
       "         '3643 E 106TH ST ': 3,\n",
       "         '1515 W 18TH ST ': 9,\n",
       "         '5726 W GRAND AVE ': 3,\n",
       "         '5961 N LINCOLN AVE ': 4,\n",
       "         '2700 W CERMAK RD ': 2,\n",
       "         '554-556 N CICERO AVE ': 4,\n",
       "         '215 N CLINTON ST ': 3,\n",
       "         '2555-2557 W Peterson AVE ': 1,\n",
       "         '6924 W DIVERSEY AVE ': 1,\n",
       "         '1844 W 95TH ST ': 2,\n",
       "         '3901 W 26TH ST ': 1,\n",
       "         '3477 S DR MARTIN LUTHER KING JR DR ': 1,\n",
       "         '3035 E 130TH ST ': 1,\n",
       "         '6355 N MAPLEWOOD AVE ': 1,\n",
       "         '3310-3312 N BROADWAY ': 1,\n",
       "         '6809 W BELMONT AVE ': 1,\n",
       "         '7210 N CALIFORNIA AVE ': 2,\n",
       "         '1969 N HALSTED AVE ': 4,\n",
       "         '6165 N NORTHWEST HWY ': 7,\n",
       "         '1150 W 96th St (9600S) ': 1,\n",
       "         '5631 S Kimbark (1300E) ': 5,\n",
       "         '1730 S HALSTED ST ': 1,\n",
       "         '5332-5334 W ADDISON ST ': 2,\n",
       "         '225 W Evergreen ST ': 1,\n",
       "         '325 W 47TH ST ': 8,\n",
       "         '3132 S MORGAN ST ': 1,\n",
       "         '4307 W IRVING PARK RD ': 3,\n",
       "         '2368 E 69TH ST ': 5,\n",
       "         '1647 N MILWAUKEE AVE ': 1,\n",
       "         '2003 S WESTERN AVE ': 2,\n",
       "         '7039-7043 W GRAND AVE ': 1,\n",
       "         '5235 W LAKE ST ': 2,\n",
       "         '2001-2011 N PULASKI RD ': 1,\n",
       "         '5737 W IRVING PARK RD ': 3,\n",
       "         '328 E 75TH ST ': 2,\n",
       "         '2475 N LINCOLN AVE ': 1,\n",
       "         '500 S CICERO AVE ': 1,\n",
       "         '6856 W NORTH AVE ': 2,\n",
       "         '3647-3651 W DIVERSEY AVE ': 4,\n",
       "         '1311 E 87TH ST ': 1,\n",
       "         '400 E 103RD ST ': 1,\n",
       "         '10606 S Torrence AVE ': 1,\n",
       "         '5046 W ARMITAGE AVE ': 4,\n",
       "         '962 W BELMONT AVE ': 1,\n",
       "         '2444 E 75TH ST ': 4,\n",
       "         '6349- 6353 N CLARK ST ': 1,\n",
       "         '11652 S WESTERN AVE ': 1,\n",
       "         '1255 N NOBLE ST ': 1,\n",
       "         '4934 S WABASH ': 2,\n",
       "         '178 N FRANKLIN ST ': 2,\n",
       "         '3519 W CHICAGO AVE ': 1,\n",
       "         '6701 S WESTERN AVE ': 1,\n",
       "         '1559 N MILWAUKEE AVE ': 3,\n",
       "         '6158 N NORTHWEST HWY ': 2,\n",
       "         '8 E MADISON ST ': 2,\n",
       "         '7445 S STATE ST ': 1,\n",
       "         '4343 N LINCOLN AVE ': 1,\n",
       "         '100 W MONROE ST ': 3,\n",
       "         '7348 S STONY ISLAND AVE ': 1,\n",
       "         '819 W 59TH ST ': 5,\n",
       "         '412 N CLARK ST ': 1,\n",
       "         '10650 S Eberhart (500E) ': 3,\n",
       "         '5344 W FULLERTON AVE ': 3,\n",
       "         '63 W ONTARIO ST ': 2,\n",
       "         '10000 S AVENUE L ': 1,\n",
       "         '1224 W WILSON AVE ': 1,\n",
       "         ...})"
      ]
     },
     "execution_count": 207,
     "metadata": {},
     "output_type": "execute_result"
    }
   ],
   "source": [
    "fails_city = [row['Address'] for row in fails]\n",
    "worst_city = Counter([row['Address'] for row in fails])\n",
    "worst_city"
   ]
  },
  {
   "cell_type": "code",
   "execution_count": 208,
   "metadata": {
    "collapsed": false
   },
   "outputs": [
    {
     "data": {
      "text/plain": [
       "[('11601 W TOUHY AVE ', 220),\n",
       " ('324 N LEAVITT ST ', 67),\n",
       " ('500 W MADISON ST ', 63),\n",
       " ('2300 S THROOP ST ', 44),\n",
       " ('100 W RANDOLPH ST ', 40),\n",
       " ('2637 S THROOP ST ', 33),\n",
       " ('333 W 35TH ST ', 31),\n",
       " ('600 E GRAND AVE ', 29),\n",
       " ('700 E GRAND AVE ', 28),\n",
       " ('2002 S WENTWORTH AVE ', 26)]"
      ]
     },
     "execution_count": 208,
     "metadata": {},
     "output_type": "execute_result"
    }
   ],
   "source": [
    "worst_city.most_common(10)"
   ]
  },
  {
   "cell_type": "code",
   "execution_count": 209,
   "metadata": {
    "collapsed": true
   },
   "outputs": [],
   "source": [
    "astring = 'this is  me'"
   ]
  },
  {
   "cell_type": "code",
   "execution_count": 210,
   "metadata": {
    "collapsed": false
   },
   "outputs": [
    {
     "data": {
      "text/plain": [
       "'THIS IS  ME'"
      ]
     },
     "execution_count": 210,
     "metadata": {},
     "output_type": "execute_result"
    }
   ],
   "source": [
    "astring.upper()"
   ]
  },
  {
   "cell_type": "code",
   "execution_count": 211,
   "metadata": {
    "collapsed": false
   },
   "outputs": [
    {
     "data": {
      "text/plain": [
       "'thisisme'"
      ]
     },
     "execution_count": 211,
     "metadata": {},
     "output_type": "execute_result"
    }
   ],
   "source": [
    "astring.replace(' ','')"
   ]
  },
  {
   "cell_type": "code",
   "execution_count": 212,
   "metadata": {
    "collapsed": false
   },
   "outputs": [
    {
     "data": {
      "text/plain": [
       "Counter({'LA BURBUJA, INC.': 1,\n",
       "         \"PAPA RAY'S PIZZA\": 1,\n",
       "         'ALLIANCE PATISSERIE': 1,\n",
       "         'TONI PATTISERIE': 3,\n",
       "         'PAPRIKA INDIAN RESTAURANT': 1,\n",
       "         'MOSES BUTCHER SHOP': 1,\n",
       "         \"ALCOCK'S INN\": 2,\n",
       "         'KITCHFIX': 1,\n",
       "         'CHICKIES ON TAYLOR': 1,\n",
       "         'Party City Corporation': 3,\n",
       "         'ST. HELEN SCHOOL': 2,\n",
       "         'MARISQUERIA VERACRUZ': 1,\n",
       "         'MERCHANT MARKET': 1,\n",
       "         'BRAIN BOX LITERACY ACADEMY AND EDUCATIONAL SERVICE': 1,\n",
       "         'LOS ARCOS AUTHENTIC MEXICAN FOOD, INC.': 2,\n",
       "         'HYDE PARK GYROS': 5,\n",
       "         'BENCHMARK BAR & GRILL': 4,\n",
       "         'REGAL CINEMAS CITY NORTH': 3,\n",
       "         'CHICAGO MINI MART': 4,\n",
       "         'BERNARD MOOS ELEMENTARY SCHOOL': 1,\n",
       "         'MELLOW YELLOW': 4,\n",
       "         \"EMILIO'S TAPAS\": 1,\n",
       "         '63rd GROCERY': 1,\n",
       "         'THREE DOTS AND A DASH': 2,\n",
       "         'Kidtropolis Childcare Developmental Center, LLC': 3,\n",
       "         'KAMEHACHI OF TOKYO': 1,\n",
       "         \"RICH'S DELI & LIQUOR, INC\": 5,\n",
       "         \"QUIZNO'S SUB\": 1,\n",
       "         'JARVIS GYROS': 3,\n",
       "         '79TH KINGSTONE FOOD MART': 3,\n",
       "         'LARISTOS': 1,\n",
       "         'THE OGDEN': 3,\n",
       "         'CONOCO PHILIPS': 3,\n",
       "         'DOLLAR  GENERAL  STORE#1833': 2,\n",
       "         'CAFE TOLA II': 1,\n",
       "         'LA FIESTA RESTAURANT': 1,\n",
       "         'MARVIN RESTAURANT': 6,\n",
       "         'CONTEMPORARY PRS LLC': 1,\n",
       "         'MR.QUILES': 1,\n",
       "         'REBECCA K. CROWN CHLD. DEV. CT': 1,\n",
       "         'MUGS PIZZA & RIBS': 2,\n",
       "         'COMMUNITY CARE OPERATOR': 3,\n",
       "         'INDIAN GRILL': 2,\n",
       "         'LA PRINCESA GROCERY': 1,\n",
       "         'FAIRFIELD ACD': 2,\n",
       "         'UNCLE REMUS': 1,\n",
       "         'CHICAGO SAVE WAY,INC.': 4,\n",
       "         'MICHAELS FAST FOOD & GROCERY, INC': 1,\n",
       "         'FINKI ELEMENTARY ACADEMY': 1,\n",
       "         'NO/WEST INST. FOR CONTEMPORARY LEARNING': 1,\n",
       "         'STARBUCKS COFFEE #48615': 1,\n",
       "         'RUXBIN KITCHEN': 5,\n",
       "         'HUDDLE HOUSE': 5,\n",
       "         'T. CASTRO PRODUCE,INC.': 1,\n",
       "         'WESTIN RIVER NORTH CHGO HOTEL - EMBER': 3,\n",
       "         'CAFFE  MERCATO': 1,\n",
       "         'ARAMARK EDUCATIONAL SERVICES, INC': 1,\n",
       "         'Pritzker': 6,\n",
       "         'D & J FRIED RICE INC.': 3,\n",
       "         'TONYS PANTRY MART INC.': 5,\n",
       "         'PRIMARY NIGHT CLUB': 2,\n",
       "         'MOTEL SLEEPERS, INC.': 1,\n",
       "         'BIRRIERIA Y TAQUERIA ARANDAS': 3,\n",
       "         'MISERICORDIA HOME': 1,\n",
       "         'BURGER KING #': 4,\n",
       "         'MARISCOS EL KORA INC': 2,\n",
       "         'FULTON MARKET KITCHEN': 3,\n",
       "         'BUFFET CITY': 8,\n",
       "         'CVS/PHARMACY #1054': 1,\n",
       "         \"Tapia's Pizzeria Inc\": 4,\n",
       "         'ERICSON ELEMENTARY SCHOOL': 2,\n",
       "         'TAQUERIA TAYAHUA': 3,\n",
       "         \"SPEEDY'S RESTAURANT\": 1,\n",
       "         'RAYYAN TRADING INC.': 1,\n",
       "         'ALHOBATI FOOD MART INC.': 3,\n",
       "         'ARISTO FOOD & LIQUOR': 3,\n",
       "         'UNLICENSED': 1,\n",
       "         \"ANNA'S ASIAN BISTRO\": 1,\n",
       "         'A & N FOOD & DOLLAR PLUS,': 2,\n",
       "         \"Eden's House INC.\": 2,\n",
       "         'CERMAK FOOD MART': 1,\n",
       "         'VALLARTA': 3,\n",
       "         'CARNICERIA LA CANADA, INC': 1,\n",
       "         'LUPES TACOS BUFFET': 1,\n",
       "         'GUYS AND WOK': 1,\n",
       "         'TAQUERIA MARTINEZ': 2,\n",
       "         'BULERIAS INC.': 2,\n",
       "         'ALTGELD GARDEN LIQUOR INC': 2,\n",
       "         \"WENDY'S OLD FASHIONED HAMBURGER\": 1,\n",
       "         'PIAZZA CAFE': 1,\n",
       "         'TITTO QUICK STOP FOOD STORE': 1,\n",
       "         'S & S FOOD & DELI': 1,\n",
       "         'JOHNNIES SNACK SHOP': 3,\n",
       "         'DOS DIABLOS': 1,\n",
       "         'LEVINSONS INC': 1,\n",
       "         'ABOUNDANCE OF LOVE DAY CARE': 4,\n",
       "         'QUENCH THE EVOLUTION': 1,\n",
       "         'FLAMINGO BAR & GRILL': 1,\n",
       "         'BANGKOK VIDEO & GROCERY INC': 1,\n",
       "         'GENESIS ON THE AVENUE': 3,\n",
       "         \"FLA'VA\": 1,\n",
       "         \"DAVE'S ICE CREAM\": 2,\n",
       "         \"BOB & JACK'S PIZZA INC\": 1,\n",
       "         'HUB 51 / SUB 51': 2,\n",
       "         \"LINDY'S & GERTIES ON ARCHER\": 8,\n",
       "         'NEW EINSTEINS ACADEMY': 1,\n",
       "         'GO GO RESTAURANT': 3,\n",
       "         'LA SIRENA CLANDESTINA': 6,\n",
       "         'OLD FASHIONED DONUTS INC': 2,\n",
       "         'HOOSIER MAMA DOLLOP': 1,\n",
       "         'SMALLBAR DIVISION': 4,\n",
       "         'FOGO TO GO': 4,\n",
       "         'CHIU QUON BAKERY': 2,\n",
       "         'LOS SALTOS ICE CREAM SHOP': 1,\n",
       "         'Montefiore': 1,\n",
       "         \"TGI FRIDAY'S\": 4,\n",
       "         \"RENAISSANCE CHICAGO O'HARE HOTEL\": 8,\n",
       "         'MANN PARK': 1,\n",
       "         'CONGRESS PIZZERIA': 1,\n",
       "         'SAVEWAY FOOD': 2,\n",
       "         'DUKES': 2,\n",
       "         'RICHWILL ENTERPRISES': 1,\n",
       "         'GENES SAUSAGE SHOP AT DELI MEYER': 2,\n",
       "         'The Westminster Hot Dog': 1,\n",
       "         'ROBUST COFFEE LOUNGE LLC': 6,\n",
       "         'BLACK ROCK PUB': 3,\n",
       "         'THE WINCHESTER': 1,\n",
       "         \"LORRAINE'S DINER INC\": 1,\n",
       "         \"HAYDEE'S GRILL\": 2,\n",
       "         'Beaubien Elementary School': 1,\n",
       "         'WATERHOUSE TAVERN AND GRILL': 2,\n",
       "         'BREAKROOM BREWERY': 2,\n",
       "         'ESTRELLA NEGRA': 1,\n",
       "         'RICE BISTRO CHICAGO': 1,\n",
       "         'GOMEZ TACOS REST': 2,\n",
       "         'MILWAUKEE FRESH MARKET': 2,\n",
       "         'THE GODFREY HOTEL CHICAGO': 1,\n",
       "         'K & D CONVENIENCE STORE, LLC': 1,\n",
       "         \"Moe's Grocery, Inc.\": 2,\n",
       "         'BAR CAFE SAN FRANCESCO': 3,\n",
       "         'BLAZE IL STORE 1 LLC.': 3,\n",
       "         \"CHAPO'S PIZZA\": 1,\n",
       "         'ASIMEXFOODS': 1,\n",
       "         'ALDEN NORTHMOOR REHAB & HLTH': 2,\n",
       "         'PAWEL INC': 1,\n",
       "         'SALAM RESTAURANT': 1,\n",
       "         'EARLY SOCIETY LLC': 1,\n",
       "         'J & J FISH AND CHICKEN': 1,\n",
       "         'DOG STOP INC': 1,\n",
       "         'Taco & Burrito House': 1,\n",
       "         'INDO-PAK MEAT&GROCERY,LLC': 2,\n",
       "         'ALDRIDGE': 3,\n",
       "         'SMART START DEVELOPMENT CENTER': 5,\n",
       "         'PROGRESSIVE HOUSING, INC.': 1,\n",
       "         'MAGNOLIA SPORTS BAR': 1,\n",
       "         'ECONOGAS': 2,\n",
       "         'GERMANIA PLACE': 4,\n",
       "         'B. BIM ASIAN EATERY': 1,\n",
       "         'PHO XE LUA': 4,\n",
       "         'M & H MART': 1,\n",
       "         'MERCADITO LA ECONOMICA': 1,\n",
       "         'TAQUERIA ATOTONILCO': 1,\n",
       "         'KING WAH RESTAURANT': 2,\n",
       "         \"GRANNY'S DAYCARE CENTER\": 9,\n",
       "         'RANALLIS': 1,\n",
       "         'HAUTE SAUSAGE': 2,\n",
       "         'CONGRESS THEATRE': 2,\n",
       "         \"BERNIE'S\": 4,\n",
       "         '63RD FOOD & LIQUOR': 2,\n",
       "         'PIZZA HUT #714390': 1,\n",
       "         'BATTER & BERRIES LLC': 3,\n",
       "         'MACELLO RISTORANTE': 1,\n",
       "         'GARLIC & CHILI THAI CUISINE': 1,\n",
       "         'MEXICO DOLLAR & FOOD,INC': 1,\n",
       "         'Grissom': 2,\n",
       "         'CITGO ON FULTON': 1,\n",
       "         'GINGERSNAP SWEETS & SUCH': 1,\n",
       "         'CHINA CITY': 2,\n",
       "         'REVEL  DOWNTOWN, LLC.': 2,\n",
       "         'SOUTH BEACH APTS FOOD & DELI,INC': 1,\n",
       "         'TAQUERIA EL CHARRO': 2,\n",
       "         'AGUDATH ISREAL OF ILLINOIS': 1,\n",
       "         'Lawrence Grocers': 1,\n",
       "         'UNCLE JOES': 2,\n",
       "         'DEVON & RIDGE INC.': 1,\n",
       "         'QUICK STOP FOOD MART': 1,\n",
       "         \"LOT'S OF LOVE ACADEMY\": 1,\n",
       "         'LITTLE LAGOS MARKETS': 1,\n",
       "         'ROYAL SWEET & FAST FOOD & PIZZ': 2,\n",
       "         'S & K FOOD MART & RESTAURANT': 6,\n",
       "         'BIRRIERIA JALISCO': 2,\n",
       "         'THREE CHEFS RESTURANT': 3,\n",
       "         'ALBANY CHILD CARE CENTER': 2,\n",
       "         'CVS/PHARMACY #5770': 1,\n",
       "         'BAKER & NOSH': 1,\n",
       "         'RESURRECTION LUTHERAN CHURCH': 1,\n",
       "         \"TAMMY'S\": 1,\n",
       "         'CHICAGO LIVE POULTRY': 7,\n",
       "         \"PHO'S THAI CUISINE\": 4,\n",
       "         '7-ELEVEN #33856 B': 2,\n",
       "         'KING SUPERMARKET, INC': 1,\n",
       "         \"ALEXANDER'S RESTAURANT\": 5,\n",
       "         \"JJ'S GRILL\": 1,\n",
       "         'KENTUCKY FRIED CHICKEN 521043': 3,\n",
       "         'TUTS STORE': 1,\n",
       "         'KENTUCKY FRIED CHICKEN 521035': 1,\n",
       "         'NATHAN HALE ELEMENTARY': 1,\n",
       "         'CARLOS FUENTES CHARTER SCHOOL': 2,\n",
       "         'COOL RUNNINGS CARIBBEAN CUISINE INC.,': 1,\n",
       "         'NAANSENSE FOOD TRUCK': 1,\n",
       "         'GORILLA SUSHI': 1,\n",
       "         'THE GOURMET GRAPE': 1,\n",
       "         'SUMO SUSHI & HIBACHI': 1,\n",
       "         'BUILDING BLOCKS LEARNING': 1,\n",
       "         \"BUGSY'S\": 4,\n",
       "         \"RYBA'S FUDGE SHOP\": 1,\n",
       "         'STARBUCKS COFFEE #216': 1,\n",
       "         'MORGAN QUICK MART INC.': 1,\n",
       "         'ROYAL KITCHEN': 6,\n",
       "         \"VERSAILLE'S MASSAGE AND BAR\": 1,\n",
       "         'A-ZMALL WORLD CHILD DEVELOPMENT CENTER': 3,\n",
       "         \"Harold's Chicken #36\": 1,\n",
       "         'HELLER FINANCIAL': 1,\n",
       "         'THREE R FOOD': 4,\n",
       "         'SALVATION ARMY': 1,\n",
       "         'LOWCOUNTRY': 2,\n",
       "         'ADDISON MART': 2,\n",
       "         'SUPERMERCADO LA FAMILIA': 1,\n",
       "         'BREAKFAST HOUSE RESTAURANT INC.': 3,\n",
       "         'M Vie': 2,\n",
       "         '55TH & DAN RYAN SHELL': 1,\n",
       "         'THE BLACK SHEEP': 4,\n",
       "         \"JIMMY JOHN'S GOURMET SUBS\": 1,\n",
       "         'BRIDGEPORT FAMILY RESTAURANT': 2,\n",
       "         'TBS AFRICAN RESTAURANT': 2,\n",
       "         'ST ANGELA SCHOOL': 1,\n",
       "         \"PIERRE'S BAKERY\": 3,\n",
       "         'Chicago Academy for the Arts': 1,\n",
       "         'MY NC': 1,\n",
       "         'LA BRASA ROJA, INC.': 3,\n",
       "         'MARISCOS EL FABULOSO': 1,\n",
       "         \"CROSBY'S KITCHEN\": 1,\n",
       "         'FROZEN ASSETS COLD STORAGE': 2,\n",
       "         'PITA PIT': 1,\n",
       "         \"PATEL'S CAFE\": 4,\n",
       "         'SABAS VEGA INC.': 3,\n",
       "         'CHRISTIAN L-E-G EARLY LEARNING CENTER': 1,\n",
       "         'THESPOTT INC.': 2,\n",
       "         'RICCARDO TRATTORIA TOSCANA': 2,\n",
       "         'VALERO': 1,\n",
       "         'CAFE MONSIVAIS': 1,\n",
       "         'Grill On Grand': 1,\n",
       "         \"ANDY'S FROZEN CUSTARD\": 2,\n",
       "         'WOKSTATION': 1,\n",
       "         \"DUNKIN DONUTS BASKIN ROBBINS TOGO'S\": 1,\n",
       "         'THAI KITCHEN': 1,\n",
       "         'POTBELLY SANDWICH  WORKS': 4,\n",
       "         'SHISO': 4,\n",
       "         \"SAM'S FOOD AND DELI\": 2,\n",
       "         'TAQUERIA LA LEYENDA DE MEXICO': 1,\n",
       "         'EL MACHO TACOS': 1,\n",
       "         'THE GREENVILLE TAVERN': 1,\n",
       "         'SUPER FOOD & LIQUORS, INC.': 1,\n",
       "         'UNITED CLUB, TERMINAL 2 CONCOURSE F': 1,\n",
       "         'YOGURT PIER': 1,\n",
       "         'JERSEY MIKES': 2,\n",
       "         'EPIC ACADEMY': 1,\n",
       "         \"Murphy's Bleachers\": 2,\n",
       "         'SPOON THAI': 2,\n",
       "         'GROVE LIQUORS': 1,\n",
       "         'THE WIP THEATER': 4,\n",
       "         'ADOBO GRILL': 13,\n",
       "         'PARK  PLAZA RETIREMENT CENTER': 3,\n",
       "         'SUPERMERCADO LA GLORIA': 4,\n",
       "         'K BUENA': 3,\n",
       "         'DIAG BAR & GRILL': 1,\n",
       "         'PHOENIX RESTAURANT': 4,\n",
       "         'NEW YORK HALAL PIZZA': 1,\n",
       "         'DA CATCH FISH & CHICKEN': 1,\n",
       "         'ST. ANDREW LUTHERAN SCHOOL': 1,\n",
       "         'HERITAGE WOODS OF CHICAGO': 1,\n",
       "         'FRIENDLY FOOD MARKET': 3,\n",
       "         'THE CHARNEL HOUSE': 2,\n",
       "         \"TAC'S COCKTAIL LOUNGE\": 1,\n",
       "         'DANIEL WILLIAM HALE': 2,\n",
       "         'EL CHILE RESTAURANT & PANCAKE HOUSE': 6,\n",
       "         'RPM STEAK': 1,\n",
       "         'FAMILY DOLLAR #6514': 2,\n",
       "         'ABSINTHE CAFE': 1,\n",
       "         'CICS NORTHTOWN ACADEMY': 3,\n",
       "         'LAGOS FRUIT MARKET': 3,\n",
       "         'LaSalle': 1,\n",
       "         \"NORMAN'S\": 11,\n",
       "         \"EDDIE'S SUNSHINE FOOD & LIQUOR, INC\": 2,\n",
       "         \"WENDY'S #001106\": 1,\n",
       "         'FLASH TACO -N- UNDERDOGG': 6,\n",
       "         'SWEETIE CAKES': 1,\n",
       "         'TERESA RESTAURANT /BANQUET HAL': 3,\n",
       "         \"JIMMY JOHN'S - VAN BUREN\": 1,\n",
       "         'LEG ROOM': 1,\n",
       "         'TAYLOR ST KITCHEN': 1,\n",
       "         'LUNA CAPRESE TRATTORIA': 1,\n",
       "         'CHRISS BAKERY INC': 4,\n",
       "         'KARAVITES REST INC': 2,\n",
       "         'SPARK EAGLE TRADING CORP.': 1,\n",
       "         'Banner LINC Acad.(WEST)': 1,\n",
       "         'GORSKI BAKERY': 4,\n",
       "         'GRANNYS DEVELOPMENTAL CENTER INC': 5,\n",
       "         \"LEONA'S\": 1,\n",
       "         'DAVANTI ENOTECA CHICAGO': 2,\n",
       "         'HILLTOP FAMILY RESTAURANT INC.': 1,\n",
       "         'ANIMALE': 2,\n",
       "         'CLUB GENE & GEORGETTI': 1,\n",
       "         'N & S MARKET': 1,\n",
       "         'LA COLOMBE': 1,\n",
       "         'SUPER FURNITURE & FOOD MART': 3,\n",
       "         'WING STOP': 2,\n",
       "         'FANFARES CATERING': 4,\n",
       "         'LOS PEQUENOS ANGELITOS DAY CARE CENTER': 2,\n",
       "         'MARKLAND HUBBARD GOURMET': 1,\n",
       "         'ALLEY DOGS INC': 2,\n",
       "         \"LITO'S EMPANADAS II LLC\": 2,\n",
       "         'Acad. Of Scholastic Ach': 3,\n",
       "         'LITTLE RASCALS': 1,\n",
       "         'SAI CAFE': 4,\n",
       "         'MAHALIA JACKSON ELEMENTARY SCHOOL': 1,\n",
       "         \"GIORGIO'S PIZZA\": 1,\n",
       "         'BON APPETIT MANAGEMENT CO': 2,\n",
       "         'EL TACO SABROSO INC.': 1,\n",
       "         'CHEZ MOI': 1,\n",
       "         'La Taberna on Halsted': 2,\n",
       "         'KM MART': 1,\n",
       "         'SOUL FOOD UNLIMITED': 4,\n",
       "         'GRAND CHINA': 1,\n",
       "         'WINGZ IT IZ': 2,\n",
       "         'STARBUCKS COFFEE #26368': 1,\n",
       "         'NICKS FRUIT MARKET': 1,\n",
       "         'GRAND CITGO/ MR. SUB / DUNKIN DONUTS': 2,\n",
       "         'MOMOTARO': 4,\n",
       "         'Snappy Convenience Center #7': 2,\n",
       "         'MICHOACANA GOLD': 2,\n",
       "         'Chartwells @ DePaul University': 3,\n",
       "         'J K KABAB HOUSE': 4,\n",
       "         'K & M PRODUCES MARKET': 1,\n",
       "         \"MILO'S GYROS AND CHICKEN\": 1,\n",
       "         \"GARCIA'S\": 1,\n",
       "         'STOP N GO LLC': 2,\n",
       "         'OLIVE-HARVEY COLLEGE': 2,\n",
       "         'Popeyes Chicken And Biscuits': 3,\n",
       "         'STARBUCKS COFFEE #9942': 1,\n",
       "         'ST PHILIP NERI SCHOOL': 2,\n",
       "         'SMART NUTRITION': 2,\n",
       "         'FAIR DEALS': 1,\n",
       "         'MARISCOS BAHIA': 3,\n",
       "         \"NORTON'S NOVELTY SHOP\": 1,\n",
       "         'KENTUCKY FRIED CHICKEN': 5,\n",
       "         'BRIGHT HORIZONS AT COOK COUNTY': 1,\n",
       "         \"Leo's Restaurant\": 1,\n",
       "         'LELAND SPA AND SMOOTHIES': 1,\n",
       "         \"TRADER JOE'S\": 6,\n",
       "         'ABOU ANDRE LLC': 1,\n",
       "         'PONCITLAN JALISCO RESTAURANT': 1,\n",
       "         \"WENDY'S #001206\": 3,\n",
       "         'H & H FAMILY FOOD MART': 3,\n",
       "         'THE BONGO ROOM': 6,\n",
       "         'ANGEL WINGS DAYCARE INC.': 2,\n",
       "         'DIP & FLIP': 1,\n",
       "         'ILLINOIS SPORTSERVICE INC.': 5,\n",
       "         \"CLEO'S\": 2,\n",
       "         'DISNEI LEARNING ACADEMY': 2,\n",
       "         'RETRO CAFE RESTAURANT': 3,\n",
       "         'WEST SIDE FOOD MART': 3,\n",
       "         'SONYA FOOD MARKET': 2,\n",
       "         'NANA': 4,\n",
       "         'JUBILEE JUICE AND GRILL': 1,\n",
       "         'FRONT YARD JERK GRILLE': 2,\n",
       "         'GULF FUEL & MINI MART': 1,\n",
       "         'E & H MINI MART INC.': 1,\n",
       "         \"VICTOR'S PIZZERIA\": 2,\n",
       "         \"HALINA'S POLISH DELIGHT REST\": 1,\n",
       "         'COMPASS BAR': 3,\n",
       "         'HAROLDS 57': 2,\n",
       "         'KUROWSKI SAUSAGE SHOP & RICH': 4,\n",
       "         'SMALL BURGER INC': 2,\n",
       "         'GREEN ARCH FOOD MART': 2,\n",
       "         'HP CONVENIENT MART': 5,\n",
       "         'LOGAN TAVERN GROUP, LLC': 2,\n",
       "         '25 DEGREES': 2,\n",
       "         'PRESTIGE CHINESE FOOD': 4,\n",
       "         'SEVEN TEN/ATLAS': 3,\n",
       "         '63RD FOOD MART, INC': 4,\n",
       "         'TACO AND BURRITO EXPRESS #3': 2,\n",
       "         '260 SPORTS BAR': 2,\n",
       "         'FRESH FAMILY FOODS': 1,\n",
       "         'THE GREAT STEAK & POTATO COMPANY': 1,\n",
       "         'JEANE KENNEY YMCA DAY CARE': 4,\n",
       "         'OLD CHICAGO GRILL': 1,\n",
       "         'HERON VALLEY JERK CHICKEN': 2,\n",
       "         'CANTINA  LAREDO#132': 5,\n",
       "         'NEW WAVES INC': 1,\n",
       "         \"DEE'S PLACE\": 5,\n",
       "         'SUPREME CATERING': 1,\n",
       "         'ASWAQ KAN ZAMAN': 1,\n",
       "         'BIG J': 4,\n",
       "         'MESSIAH LUTHERAN HEADSTART': 4,\n",
       "         'SANCHEZ CATERING': 1,\n",
       "         'PARKSIDE GYROS': 5,\n",
       "         \"FAY'S FOOD & MEAT MARKET, INC.\": 1,\n",
       "         \"JIMMY T'S FAST FOOD\": 1,\n",
       "         'Snuggery Pub': 1,\n",
       "         'JOIE DE VINE': 1,\n",
       "         'EINSTEIN BROS. BAGELS # 2330': 1,\n",
       "         'COFFEE VENDING MACHINES': 2,\n",
       "         'FOSTER GROCERY PLUS': 2,\n",
       "         'TRYZUB RESTAURANT': 2,\n",
       "         'VALENTINA FOOD TRUCKS LLC': 2,\n",
       "         'THE WESTMINSTER HOT DOG': 2,\n",
       "         'WHALES FISH & CHICKEN': 3,\n",
       "         'LA PESCA': 3,\n",
       "         'SAPORI NAPOLETANI PIZZERIA RISTORANTE': 1,\n",
       "         'LUCKY STRIKE LANES': 6,\n",
       "         'FAMILY DOLLAR #3895': 1,\n",
       "         'MY CORNER PLAYROOM , INC': 1,\n",
       "         'Horace Mann Elementary': 5,\n",
       "         'J.P. GRAZIANO GROCERY CO INC.': 1,\n",
       "         'HAPPY KIDS DAYCARE CENTER LLC': 2,\n",
       "         'MELI CAFE ON DEARBORN': 1,\n",
       "         'MRS FIELDS COOKIES': 1,\n",
       "         'JEWEL FOOD STORE #3114': 1,\n",
       "         'NORTH WEST REGIONAL CENTER': 4,\n",
       "         'AMORINO CHICAGO': 2,\n",
       "         'ABBEY PUB': 2,\n",
       "         'CHINA LING': 1,\n",
       "         'UPTOWN PHO': 1,\n",
       "         \"SAMBO'S\": 1,\n",
       "         'Brown Acad.': 2,\n",
       "         'MARAVILLAS RESTAURANT': 3,\n",
       "         'RA SUSHI': 1,\n",
       "         'SUBWAY #44541': 1,\n",
       "         'VINCES PIZZERIA & TAQUERIA, INC': 1,\n",
       "         'HOTDOG EXPRESS': 1,\n",
       "         'YATES ELEMENTARY SCHOOL': 1,\n",
       "         'WALGREENS # 05124': 1,\n",
       "         'FAMILY DOLLAR,INC.STORE #11319': 2,\n",
       "         'A & J FOOD MARKET INCORPORATED': 4,\n",
       "         'UNO CHARTER SCHOOL NETWORK': 4,\n",
       "         'FIVE GUYS BURGERS AND FRIES': 3,\n",
       "         'A.P. DELI RESTAURANT GROUP, INC.': 7,\n",
       "         'SPEEDWAY #8315': 1,\n",
       "         'HALA IN LAKEVIEW': 2,\n",
       "         \"CONNIE'S PIZZA\": 6,\n",
       "         'WALGREENS #211': 1,\n",
       "         \"MURPH'S HOT DOG\": 1,\n",
       "         'TAQUERIA EL JALAPENO': 1,\n",
       "         'GYROS HOUSE STEAK & LEMONADE': 1,\n",
       "         'ROLY POLY': 2,\n",
       "         'ROSCOE-DAMEN, CORP.': 1,\n",
       "         'HARBORSIDE INTERNATIONAL GOLF CENTER & PIER 37 BAR': 1,\n",
       "         'HOST INTERNATIONAL INC': 3,\n",
       "         'EXTRA VALUE FOOD & LIQUOR': 1,\n",
       "         'KAI ZAN': 5,\n",
       "         'White Hen Pantry': 1,\n",
       "         'Harlan Comm.': 2,\n",
       "         'CITY DISCOUNT STORE,INC.': 3,\n",
       "         'TORTILLERIA EL REY INC': 1,\n",
       "         'LA BOMBA': 4,\n",
       "         'BEEF SHACK': 1,\n",
       "         'Smokey Bears Barbeque House': 3,\n",
       "         'THE LITTLE SCHOLARS CLUB': 2,\n",
       "         'C-K SUBWAY': 1,\n",
       "         'Poncitlan Jalisco No. 2': 2,\n",
       "         'Bacci Pizza Dearborn': 3,\n",
       "         'Ciao! Cafe': 1,\n",
       "         'BACCI PIZZA FRANKLIN': 1,\n",
       "         \"TOWN'S LIMITS CANTINA\": 1,\n",
       "         'MAYFLOWER CHINESE RESTAURANT': 7,\n",
       "         'WOODEN SPOON I LLC': 2,\n",
       "         'Stans Donuts': 4,\n",
       "         'THE MUNCH BOX': 2,\n",
       "         'STARBUCKS #17743': 1,\n",
       "         \"ADAM'S FOOD MART\": 1,\n",
       "         'HILTON SUITES CHICAGO MAGNIFICENT MILE': 6,\n",
       "         'LAO YUNNAN': 2,\n",
       "         'HAIFA ON CLINTON, INC.': 2,\n",
       "         'OLD TOWN SCHOOL OF FOLK MUSIC': 2,\n",
       "         'BURGER KING #10797': 3,\n",
       "         'CAFETERIA MARIANAO 2': 1,\n",
       "         'PITA PUFF II INC.': 1,\n",
       "         \"BANANA JOE'S\": 2,\n",
       "         'VINIS OF UPTOWN': 1,\n",
       "         'SWEET SIGNATURE INC': 1,\n",
       "         'STATE FISH & CHICKEN': 3,\n",
       "         'CANCUN CITY INC.': 1,\n",
       "         'SANOS PIZZERIA': 1,\n",
       "         \"BEN'S  SOFT PRETZELS-FRENCH MARKET\": 2,\n",
       "         'YENS MANDARIN CHINESE REST': 2,\n",
       "         'JELLYBEAN LEARNING CENTER V, INC.': 2,\n",
       "         'MAXWELL STREET STATION': 1,\n",
       "         'AAA GROCERY': 1,\n",
       "         'GATEWAY NEWS STANDS': 1,\n",
       "         \"D & D'S PLACE\": 1,\n",
       "         'SIMPLES II': 1,\n",
       "         'NORTHSIDE BAR AND GRILL': 2,\n",
       "         'BRONZEVILLE GOURMET PIZZERIA': 6,\n",
       "         'CORCORAN GROCERY': 5,\n",
       "         'THE ALLERTON HOTEL': 6,\n",
       "         'SAINT AGATHA CATHOLIC ACADEMY': 1,\n",
       "         'CHIMILEX INC.': 1,\n",
       "         'IRVING PARK INFANT TODDLER CENTER': 1,\n",
       "         'CHINA GOURMET': 1,\n",
       "         'SMOKING TIPS': 2,\n",
       "         'BANH MI EXPRESS SANDWISH': 2,\n",
       "         'WALGREENS #1096': 2,\n",
       "         'THE SALSA TRUCK': 2,\n",
       "         'LA TAPENADE GATE H14': 1,\n",
       "         'BOSTON BLACKIES OF RIVERSIDE': 2,\n",
       "         'M J FLAMING': 8,\n",
       "         'STATE RESTAURANT & CAFE': 1,\n",
       "         'AMEERA FOOD': 2,\n",
       "         'Red Mango Loyola': 1,\n",
       "         'GREAT LAKES ACADEMY': 1,\n",
       "         'SAKO RESTAURANT AND GROCERY INC': 1,\n",
       "         'QUITE FRANKLY': 1,\n",
       "         'EL-SHADDAI FOOD MARKET': 1,\n",
       "         'QUE RICO': 1,\n",
       "         'Estela Minimarket, Inc.': 3,\n",
       "         'AMERICAN KIDZ ACADEMY,LLC-W': 1,\n",
       "         'RANCHO GRANDE NUTRITION': 2,\n",
       "         'D &  D FRIED RICE INC': 1,\n",
       "         'FURIOUS SPOON': 3,\n",
       "         'LOGAN CERTIFIED FOODS CORP': 1,\n",
       "         'MART ANTHONY': 2,\n",
       "         'AMERICAN RESTAURANT': 1,\n",
       "         \"SAM'S KILDARE GROCERY\": 1,\n",
       "         'BISTRO VOLTAIRE': 5,\n",
       "         'HAYT ELEMENTARY SCHOOL': 1,\n",
       "         \"GILMART'S  FOOD & LIQUOR\": 2,\n",
       "         'ROOM 12': 4,\n",
       "         \"BIG G'S PIZZA\": 7,\n",
       "         'Pita Grill': 2,\n",
       "         'BROADWAY GRILL, INC.': 1,\n",
       "         'DLS SUPERMARKET INC.': 1,\n",
       "         \"RUDY'S BAKERY\": 3,\n",
       "         'SIMPLY DELICIOUS CUISINE, LLC': 1,\n",
       "         \"ARTIST'S CAFE\": 2,\n",
       "         'STAR GYROS INC.': 1,\n",
       "         'LITTLE BRANCH CAFE': 1,\n",
       "         'GREENLINE FOOD': 3,\n",
       "         'WASHINGTON FOOD MART & CELLULAR': 3,\n",
       "         \"KRISPY'S SEAFOOD & CHICKEN\": 1,\n",
       "         'Roosevelt Discount': 1,\n",
       "         'D AND M CAFE': 2,\n",
       "         'Chicken 1-2-3': 1,\n",
       "         'STARBUCKS COFFEE #2261': 1,\n",
       "         'BELCHI GAS & FOOD,INC.': 1,\n",
       "         'POPEYE FAMOUS FRIED CHICKEN': 3,\n",
       "         'CHINESE ROYAL KITCHEN': 2,\n",
       "         'KENSINGTON PLACE NURSING AND REHABILITATION CENTER': 1,\n",
       "         \"CHURCH'S CHICKEN # 483\": 1,\n",
       "         'FRESH CHOICE GROCERY & MERCHANDISE': 2,\n",
       "         'SAPORI': 1,\n",
       "         'Old Town Pizza Pub': 3,\n",
       "         'McDONALDS': 8,\n",
       "         'VENICE PIZZA': 1,\n",
       "         'REHABILITATION HOSPITAL': 2,\n",
       "         'FIORELLI PIZZA': 2,\n",
       "         'Jones Academy High School': 2,\n",
       "         'TINY GIANTS EARLY LEARNING CENTER': 1,\n",
       "         'CARNICERIA LA HACIENDA NO. 3, INC.': 2,\n",
       "         'VAINILLA BEAN BAKE SHOP INC': 2,\n",
       "         'CHERISHABLE MOMENTS CHILDCARE CENTER': 1,\n",
       "         'CREATIVE LITTLE ONES PRE-SCHOOL INC.': 1,\n",
       "         'BEST SUBMARINE': 2,\n",
       "         'STARBUCKS COFFEE #2370': 3,\n",
       "         'CHINA STATION': 2,\n",
       "         \"ZIZI'S KABOBS\": 1,\n",
       "         \"GINO'S EAST PIZZERIA\": 10,\n",
       "         'YU XIANG GOURMET': 2,\n",
       "         'KEELEY FOOD SERVICE': 1,\n",
       "         \"REZA'S RESTAURANT\": 3,\n",
       "         'VERMILION': 3,\n",
       "         'LAS ROSAS': 1,\n",
       "         'BOTTLES TO BOOKS LEARNING CENTER': 8,\n",
       "         'GOLDEN BUCKS': 1,\n",
       "         'POPCORN ENTERTAINMENT': 3,\n",
       "         'JACK TUCHTEN WHOLESALE PRODUCE, INC.': 1,\n",
       "         'M. HENRY': 3,\n",
       "         'CAFE TEAMO': 1,\n",
       "         'LUELLA FOOD STORE': 1,\n",
       "         'BOMBON CAKE DESIGN': 2,\n",
       "         'ABRAM GALE': 3,\n",
       "         'LA PLENA RESTAURANT': 1,\n",
       "         \"MARY'S ABC ACADEMY CHILD DAY CARE CENTER\": 1,\n",
       "         'Sabin Magnet': 1,\n",
       "         \"BRIGHT HORIZONS CHILDERN'S CENTERS, INC.\": 1,\n",
       "         'CARNICERIA Y TAQUERIA GUERRERO': 3,\n",
       "         '7-ELEVEN 33609': 1,\n",
       "         'ALVARO JIMENEZ': 1,\n",
       "         'Peck': 3,\n",
       "         'WESTIN RIVER NORTH CHGO HOTEL- MAIN KITCHEN': 3,\n",
       "         \"MC NAMARA'S FOOD & DRINKS\": 3,\n",
       "         \"ALABAMA'S\": 1,\n",
       "         'TAVERN ON RUSH': 2,\n",
       "         'BP MOBILE': 1,\n",
       "         'VILLANUEVA GROCERY STORE': 1,\n",
       "         \"OBAN POPEYE'S 111 INC\": 1,\n",
       "         'HIGGINS TAVERN': 1,\n",
       "         'THOREK MEMORIAL HOSPITAL': 5,\n",
       "         'BROWN SUGAR BAKERY': 1,\n",
       "         \"TONY'S KITCHEN INC\": 1,\n",
       "         'LA ESCUELITA NUMERO DOS': 1,\n",
       "         'GALLAGHERS': 1,\n",
       "         'WALGREENS #1503': 1,\n",
       "         'J J PEPPERS FOOD STORE': 3,\n",
       "         'DAVIS THEATER': 1,\n",
       "         'BURRITO BEACH': 11,\n",
       "         'SUBWAY STORE #30969': 3,\n",
       "         'CHATTER BOX': 1,\n",
       "         'NOON O KABAB': 2,\n",
       "         'CARLS RED HOTS': 3,\n",
       "         'PR CAFETERIA INCORPORATED': 1,\n",
       "         'BAR & MARISCOS': 1,\n",
       "         'KIRIN ANTLER TRADING CO': 1,\n",
       "         \"TOM LEE'S CHOP SUEY\": 2,\n",
       "         'ROOTSTOCK WINE & BEER BAR': 1,\n",
       "         'STAR LIGHT FOOD MARKET': 3,\n",
       "         'S. L  DISCOUNT, INC.': 1,\n",
       "         'PUBLICAN QUALITY MEATS': 1,\n",
       "         'OPTIMAL DELI, INC': 1,\n",
       "         'HAPPY FOOD - LIQUOR': 1,\n",
       "         \"APOLLO'S 2000\": 2,\n",
       "         'AUGUST VIANDS': 2,\n",
       "         \"BEN & JERRY'S\": 2,\n",
       "         'BAKE': 1,\n",
       "         'LA CHAPARRITA DE CHICAGO #2': 2,\n",
       "         'TARGET STORE T-3221': 2,\n",
       "         \"JIMMIE'S POPPING POPCORN INC.\": 1,\n",
       "         'THE IRISH OAK': 2,\n",
       "         \"FLACO'S TACOS, LLC\": 1,\n",
       "         'BUSY BEES CHILD DEVELOPEMENT CENTER II': 1,\n",
       "         'GARFIELD GYROS': 1,\n",
       "         'PAYLESS WINE & SPIRITS': 2,\n",
       "         'CHICAGO CAFE CATERERS': 1,\n",
       "         \"CAPT'N NEMOS\": 3,\n",
       "         'EMMET ELEMENTARY': 2,\n",
       "         \"UNCLE JOE'S JERK CHICKEN, INC\": 3,\n",
       "         \"HAROLD'S CHICKEN SHACK #84\": 1,\n",
       "         \"SUNDARBAN'S FISH BAR\": 1,\n",
       "         'MILK & HONEY CAFE': 2,\n",
       "         'LA COCINA MEXICAN GRILL, LLC': 2,\n",
       "         'COBB HALL': 2,\n",
       "         'KING GARDEN RESTAURANT': 1,\n",
       "         'HYDE PARK PRODUCE, LTD': 1,\n",
       "         'BYRONS KITCHENS': 2,\n",
       "         'NOUVEAU BISTRO': 2,\n",
       "         \"MARIO'S BUTCHER SHOP\": 4,\n",
       "         'ISLA TROPICAL': 1,\n",
       "         'PURE NATURAL BLENDS': 3,\n",
       "         'BETHANY RETIREMENT COMMUNITY': 1,\n",
       "         'WIXTER MARKET': 1,\n",
       "         'ALHAMBRA PALACE RESTAURANT': 8,\n",
       "         'FALCON FUEL': 2,\n",
       "         'RITE PRICE FOOD': 2,\n",
       "         'CYBER TACO': 2,\n",
       "         'Dandana': 1,\n",
       "         'J J FISH & CHICKEN': 5,\n",
       "         \"LENORE'S KITCHEN\": 1,\n",
       "         'THE GLUNZ TAVERN': 2,\n",
       "         'Sullivan House High School': 2,\n",
       "         'CONFECTION CONNECTION TOO': 2,\n",
       "         'RML CHICAGO': 1,\n",
       "         'EXPRESS CORNER': 1,\n",
       "         'THAI AVENUE RESTAURANT': 1,\n",
       "         'CHICAGO KERNEL GOURMET POPCORN & MORE': 1,\n",
       "         'SUBWAY 48735': 1,\n",
       "         'JEWEL FOOD STORE': 11,\n",
       "         'PANDA MONTESSORI ACADEMY': 1,\n",
       "         'WEST TOWN PIZZA SHOP': 1,\n",
       "         'GATEWAY NEWS STAND': 6,\n",
       "         'FLOUR AND WATER': 1,\n",
       "         'BURGER KING #7112': 2,\n",
       "         'TAQUERIA EL PIKANTE': 1,\n",
       "         'SUPERMERCADO GUADALAJARA #2': 3,\n",
       "         'GOETHE ELEMENTARY SCHOOL': 3,\n",
       "         'ARCHER-NAGLE CITGO': 1,\n",
       "         'VICEROY OF INDIA/ SAGAR': 5,\n",
       "         'DRINKS ON ME CATERING': 1,\n",
       "         \"NANA'S BAKERY\": 1,\n",
       "         'THAI LAGOON RESTAURANT': 4,\n",
       "         'Wee Read Day Care Academy': 2,\n",
       "         'DIM DIM FOOD INC': 3,\n",
       "         'C & D BAR B Q LLC': 1,\n",
       "         'A B DISCOUNT WINE & LIQUOR': 1,\n",
       "         'MISS ASIA, LLC': 4,\n",
       "         'CIRCLE K # 6711': 3,\n",
       "         'ALPHA BAKING INC': 1,\n",
       "         'CUERNAVACA RESTAURANT INC': 3,\n",
       "         'KING PHO': 1,\n",
       "         'ACT KIPP CREATE': 4,\n",
       "         'CAFE SELMARIE': 3,\n",
       "         \"FRITZY'S\": 2,\n",
       "         'WEST ENG CHR COMM SCH STORE': 1,\n",
       "         'RITZ-CARLTON RESIDENCES, CHICAGO': 5,\n",
       "         'HALES FRANCISCAN HIGH SCHOOL': 6,\n",
       "         \"TONY'S STEAK & WING\": 1,\n",
       "         'THE WORKS OFF VAN BUREN': 2,\n",
       "         'BLUESTEM RESTAURANT': 1,\n",
       "         'SUBWAY #23340': 1,\n",
       "         'PHOEBE A HEARST ELEMENTARY SCHOOL': 5,\n",
       "         'WHITE CASTLE #25': 1,\n",
       "         'CONTE DI SAVOIA INC WEST': 1,\n",
       "         'MAYFAIR MARATHON INC': 3,\n",
       "         'KATE & JAN HOT DOGS': 1,\n",
       "         'LA ESTRELLA FOOD MARKET, INC.': 2,\n",
       "         \"BARRACO'S PIZZA\": 1,\n",
       "         \"CHEN'S\": 1,\n",
       "         'NORTH STORE BANQUET': 8,\n",
       "         \"KENNY'S TURKEY\": 1,\n",
       "         'CHICAGO PRESCHOOL ACADEMY': 2,\n",
       "         \"PENNY'S NOODLES SHOP\": 2,\n",
       "         \"RICKY'S DELI\": 2,\n",
       "         'GROCERY ALVAREZ': 1,\n",
       "         'ELEGANCE': 1,\n",
       "         \"MOE'S  SOUTHWEST GRILL\": 2,\n",
       "         'SANDOVAL': 1,\n",
       "         'NUTRITION STORE': 2,\n",
       "         \"BABA'S FAMOUS STEAK AND LEMONADE\": 6,\n",
       "         'Eurest Dining Services @ Credit Suisse Chicago': 1,\n",
       "         \"POPEYE'S CHICKEN & BISCUITS\": 2,\n",
       "         'IGNACEJAN PADEREWSKI SCHOOL': 1,\n",
       "         \"JANSON'S DRIVE IN\": 2,\n",
       "         \"BRIAN'S JUICE BAR & DELI.\": 1,\n",
       "         'PICKARD ELEMENTARY': 3,\n",
       "         'ASIAN HUMAN SERVICES': 4,\n",
       "         \"NEW DON'S HOT DOG\": 2,\n",
       "         'LOCK WOOD FOOD MART': 1,\n",
       "         'BIG TOP RESTAURANT': 2,\n",
       "         'GUCCI FOOD MART': 1,\n",
       "         'WHOLLY INNOCENTS DAYCARE CENTER.': 3,\n",
       "         'AUTUMN GREEN AT MIDWAY VILLAGE': 2,\n",
       "         'Lovett': 5,\n",
       "         'THE GRILLING CATERING AND DELIVERY COMPANY': 2,\n",
       "         'MY SWEET STATION INC': 4,\n",
       "         \"ANGELICA'S BAKERY\": 1,\n",
       "         'MI LINDO PUEBLO RESTAURANT': 1,\n",
       "         'CARIBBEAN JERK AND BAR-B-QUE PIT': 4,\n",
       "         'LA  ROSITA BAKERY': 1,\n",
       "         'SUTHERLAND BALLROOM': 1,\n",
       "         'ESTATE ULTRA BAR': 1,\n",
       "         'STARBUCKS #10634': 1,\n",
       "         'THE NEW THREE HAPPINESS, INC': 11,\n",
       "         'TASTE FROM INDIA': 1,\n",
       "         'La Esquinita': 1,\n",
       "         'ORIGINAL MAXWELL STREET': 1,\n",
       "         'BAD DOG TAVERN AND GRILL': 5,\n",
       "         'FLORENCE MACARONI MFG CO INC': 1,\n",
       "         'SONY SUB': 1,\n",
       "         'METROPOLITAN FAMILY SERVICES MIDWAY CHILDCARE CENTER': 1,\n",
       "         'PING PONG': 1,\n",
       "         'BROBAGEL': 2,\n",
       "         'DOLLAR QUICK MART, INC.': 1,\n",
       "         'NAZARETH BAKERY': 5,\n",
       "         'EL MILAGRO GROCERY': 1,\n",
       "         \"PEARL'S PLACE\": 6,\n",
       "         'BLOWFISH CONTEMPORARY SUSHI': 2,\n",
       "         'STARBUCKS COFFEE #2510': 2,\n",
       "         'BASS ELEMENTARY SCHOOL': 2,\n",
       "         'DIRECT PAY': 1,\n",
       "         'COMPLETELY NUTS, INC.': 1,\n",
       "         'MIDWAY FOOD & LIQUORS NO. 2': 3,\n",
       "         \"CECY'S MOLINO DE MASA\": 1,\n",
       "         'WEST SIDE GYROS & PITA KEBOB': 1,\n",
       "         'AFC SUSHI @ WALGREENS #15196': 1,\n",
       "         'FAIRPLAY FINER FOODS INC': 1,\n",
       "         'BURGER TOWN': 1,\n",
       "         'CHICAGO MUSHROOM DEPOT': 1,\n",
       "         'BEACON TAP': 1,\n",
       "         'SCHMEAR': 3,\n",
       "         \"COUSIN'S INCREDIBLE VITALITY\": 1,\n",
       "         'NORTH AVE FOOD MART INC': 2,\n",
       "         'NORI CHICAGO': 4,\n",
       "         'FOREVER YOGURT': 21,\n",
       "         'FAIRWAY FOOD & MEAT MART. INC.': 1,\n",
       "         'KRISPY KRUNCHY CHICKEN': 2,\n",
       "         'ICEBOX': 3,\n",
       "         'LA PRIMERA': 4,\n",
       "         'VEGETARIAN EXPRESS, INC.': 2,\n",
       "         \"DOMINICK'S\": 1,\n",
       "         'WINDY CITY, INN': 2,\n",
       "         \"ANDY'S SNACK SHOP\": 1,\n",
       "         'Benchwarmers Sports Bar and Grill': 2,\n",
       "         'AL WALI CONVENIENT STORE': 1,\n",
       "         'TAQUERIA EL CHARO DE SAN FRANCISCO': 1,\n",
       "         'GELATINAS CRIS': 1,\n",
       "         'AFC SUSHI @JEWEL-OSCO #3345': 1,\n",
       "         \"UNCLE MIKE'S PLACE\": 1,\n",
       "         'BT WHOLESALE COMPANY': 1,\n",
       "         'THAI ON CLARK': 1,\n",
       "         'YUMMY YUMMY ASIAN CUISINE': 4,\n",
       "         'LEARNING LEGACY CHILD CARE CENTER, INC': 3,\n",
       "         'ROSEBUD PRIME': 2,\n",
       "         \"STARVEE'S\": 1,\n",
       "         'Herbalife': 2,\n",
       "         'SUPERMERCADO LA RAZA': 2,\n",
       "         'MIXTECO GRILL': 3,\n",
       "         \"JIMBO'S\": 1,\n",
       "         'SWEDISH COVENANT HOSPITAL': 1,\n",
       "         'WALDO COONEY': 1,\n",
       "         'AMERICAN KIDZ ACADEMY': 1,\n",
       "         'LARAMIE BAKERY & DELI': 3,\n",
       "         'ABES MARKET': 2,\n",
       "         \"BABB'S BBQ\": 4,\n",
       "         'PIZZA-METRO': 2,\n",
       "         \"JERSEY MIKE'S SUBS\": 4,\n",
       "         'ROOSEVELT JEFFERSON CLINTON,LLC': 2,\n",
       "         'BRYN MAWR CARE,INC.': 3,\n",
       "         \"PHILLY'S BEST\": 10,\n",
       "         'MR CAKE': 1,\n",
       "         'LOCAL ROOT': 1,\n",
       "         'BLACK BULL/BORDEL': 1,\n",
       "         'MADDIEBIRD  BAKERY': 1,\n",
       "         \"BONIVINO'S INC\": 1,\n",
       "         'BLUESEA GRILL FISH AND CHICKEN': 3,\n",
       "         'ESTRADA': 1,\n",
       "         \"Chili's- G Concourse\": 4,\n",
       "         'Cooked Chicago': 1,\n",
       "         \"KENNEDY'S SON INC\": 1,\n",
       "         'CHINA CHEF RESTAURANT': 1,\n",
       "         'WALGREENS # 04978': 1,\n",
       "         'NORTHSTAR COFFEE/HOME DEPOT': 1,\n",
       "         'BANH MI AND CO': 1,\n",
       "         'DISNEY MAGNET': 5,\n",
       "         'AWAKE CAFE': 1,\n",
       "         'AL-AMIN GROCERY': 3,\n",
       "         'LATIN CORNER RESTAURANT': 1,\n",
       "         'HENRY BOOTH HOUSE': 1,\n",
       "         'JOHNNY ROCKETS': 4,\n",
       "         'EAGLE DISCOUNT': 1,\n",
       "         'ROSAS TAMALES #2': 2,\n",
       "         'DANNYS TACOS #2': 1,\n",
       "         'EL BUEN VALLE RESTAURANT': 5,\n",
       "         'MASON MINI MART, INC.': 1,\n",
       "         'SALUD Y BINENESTAR': 2,\n",
       "         'PANDA EXPRESS RESTAURANT #2685': 2,\n",
       "         'DUKS RED HOTS': 8,\n",
       "         'LA CEBOLLITA TAQUERIA': 1,\n",
       "         'Chipotle Mexican Grill': 15,\n",
       "         'MATSU SHITA JAPANESE RESTAUANT': 1,\n",
       "         'GOOSE ISLAND BREWING CO': 3,\n",
       "         'ZAD': 1,\n",
       "         'SCHOOL SNACKS': 1,\n",
       "         'STARBUCKS COFFEE #2224': 2,\n",
       "         '43RD FOOD & MORE': 1,\n",
       "         'TACO HOUSE': 5,\n",
       "         'EL SAZON BORICUA, INC.': 1,\n",
       "         \"HAROLD'S CHICKEN SHACK #52\": 6,\n",
       "         'LAS DELICIAS LATINAS, INC.': 1,\n",
       "         'WITTS': 1,\n",
       "         'WRIGLEYVILLE WILD WINGS': 1,\n",
       "         'EMBASSY GIFTS': 1,\n",
       "         'PITA EXPRESS': 5,\n",
       "         'SLICES NYC PIZZA': 3,\n",
       "         'TONY AND MILLIES ITALIAN ICE BAR': 1,\n",
       "         'EL CRAZY TAKO': 1,\n",
       "         'CORNER FOOD STORE': 1,\n",
       "         'LUMES PANCAKE HOUSE': 9,\n",
       "         'CARNICERIA LOS CUATES': 2,\n",
       "         'Queen of All Saints': 4,\n",
       "         '7 ELEVEN #27421J': 3,\n",
       "         'ADAM & ARAM CORPORATION': 1,\n",
       "         'LAO HUNAN': 1,\n",
       "         \"PHOEBE'S BAKERY & ESPRESSO BAR\": 1,\n",
       "         'SO SHORE UNITED METHODIST CHIL': 1,\n",
       "         'BAD ASS COFFEE OF HAWAII': 1,\n",
       "         'SHARMA GROCERY INC': 1,\n",
       "         'BAGHDAD BAKERY & KABOB, INC.': 2,\n",
       "         \"BLOOMING CHILDREN'S ACADEMY, LLC\": 2,\n",
       "         'S & M FOOD MARKET': 2,\n",
       "         'CHEEZEY B GOURMET POPCORN': 1,\n",
       "         '111TH FOOD MART, INC.': 3,\n",
       "         'KARACHI  GRILL': 1,\n",
       "         'LA CEBOLLITA GRILL': 1,\n",
       "         'LAVO ASIAN GRILL INC.': 2,\n",
       "         'SUTHERLANDS': 3,\n",
       "         'THE INDIAN GARDEN': 1,\n",
       "         'PONCE PLACE': 2,\n",
       "         'VIREVA NURSEY SCHOOL': 3,\n",
       "         \"GEO'S PIZZA INC\": 1,\n",
       "         'Chartwells Thompson': 1,\n",
       "         'HONEYBAKED HAM AND CAFE': 1,\n",
       "         'MO TOWN': 1,\n",
       "         'MADO': 1,\n",
       "         'Eurest Dining Services @ Safer Foundation': 3,\n",
       "         'MONTROSE FRESH MARKET': 1,\n",
       "         'SUN SHINE RESTAURANT': 2,\n",
       "         'CLUB DE VIDA SALUDABLE R.P.': 1,\n",
       "         'GLOBAL GROCERIES': 1,\n",
       "         'LUQUI EXPRESS': 1,\n",
       "         'CHICAGO CHEESE STEAK CO': 1,\n",
       "         'MASU': 4,\n",
       "         'MY THAI - TAKUMI RESTAURANT': 7,\n",
       "         'WHITE CASTLE #26': 3,\n",
       "         \"DON TONY'S FOOD STORE\": 1,\n",
       "         'BE JUICED': 1,\n",
       "         'NORI SUSHI & NOODLE SHOP': 3,\n",
       "         'PARK MANOR': 4,\n",
       "         'WILLA CATHER  ELEMENTARY SCHOOL': 2,\n",
       "         'BORINQUEN RESTAURANT': 2,\n",
       "         'OLIVES4YOU': 1,\n",
       "         'SUTTON LIQUOR': 2,\n",
       "         'ONE STOP FOOD & GROCERY': 7,\n",
       "         'PARKWAY HOAGYES': 2,\n",
       "         \"CHAN'S RESTAURANT\": 6,\n",
       "         \"ALICIA'S  TAMALES\": 2,\n",
       "         \"JENNY'S FOOD MARKET, INC.\": 1,\n",
       "         'Carver Military Academy': 1,\n",
       "         'TASTY PLACE': 8,\n",
       "         'ST PASCAL CHURCH': 1,\n",
       "         'TAQUERIA MARAVATIO, INC': 1,\n",
       "         \"DAISY'S CARWASH AND GAS\": 1,\n",
       "         \"COLUMBUS' CURRY\": 3,\n",
       "         'STEREO NIGHT CLUB': 1,\n",
       "         'ESTHER PURNELL': 1,\n",
       "         'Supermercado  Castillos, Inc': 1,\n",
       "         'SU NUEVA CASA DEL GALLO BRAVO, INC.': 5,\n",
       "         'MIRAI SUSHI': 4,\n",
       "         'H & D GROCERY': 2,\n",
       "         'CAFE 28': 2,\n",
       "         'stockton': 3,\n",
       "         \"EDVAN'S  FOOD\": 1,\n",
       "         'THE TOUCH OF EUROPE': 1,\n",
       "         'Landmark': 1,\n",
       "         'ZACATECAS RESTAURANT': 3,\n",
       "         'PULASKI DOLLAR &FOOD, INC.': 1,\n",
       "         'HENDRICKS': 1,\n",
       "         'EL PROGRESO': 3,\n",
       "         'STAR OF SIAM INC': 5,\n",
       "         '50/50 FOOD MART, INC.': 2,\n",
       "         'AMSTAR': 4,\n",
       "         'QUEST FOOD MANAGEMENT SERVICE': 2,\n",
       "         'LOOP LEARNING CENTER, INC': 4,\n",
       "         'MONTESSORI ACDY. INFT/TOD. CNT': 5,\n",
       "         'Los Jazmines': 1,\n",
       "         'THE BOILER ROOM': 5,\n",
       "         \"THE WEINER'S CIRCLE\": 1,\n",
       "         'The Purple Pig': 3,\n",
       "         'CHICAGO GROCERS': 1,\n",
       "         'SO GONG DONG TOFU HOUSE': 1,\n",
       "         'BUNNY THE MICRO BAKERY': 1,\n",
       "         'EDGEWATER SENIOR SATELLITE': 2,\n",
       "         \"MICHAEL JORDAN'S STEAKHOUSE\": 3,\n",
       "         'GROCERY AND MORE': 2,\n",
       "         'GOLDEN HOOK FISH, CHICKEN': 4,\n",
       "         'PRESTIGE FOOD MART INC': 1,\n",
       "         'SOCCA': 1,\n",
       "         \"MIKE'S PANTRY\": 1,\n",
       "         'BIRRERIA & TAQUERIA EL CARMEN': 2,\n",
       "         'URBAN PANTRY': 1,\n",
       "         'SUBWAY #3333': 1,\n",
       "         'JABROS ITALIAN ICE CORNER': 1,\n",
       "         \"HAROLD'S ON WABASH,INC.\": 4,\n",
       "         'VIAGGIO AT THE PARK': 1,\n",
       "         'SUPER MAS MARKET': 1,\n",
       "         'DEMERA ETHIOPIAN RESTAURANT': 3,\n",
       "         'Flirty Cupcakes': 1,\n",
       "         \"CORNELIA'S RESTAURANT\": 3,\n",
       "         'CAFE DESCARTES': 1,\n",
       "         '13 Pins Tapas & Grill': 5,\n",
       "         'CHARCOAL DELIGHT INC': 1,\n",
       "         'ENGLEWOOD MARATHON': 5,\n",
       "         \"GINO'S STEAKS TRUCK BRIDGEPORT\": 1,\n",
       "         \"FRANCES' REST & DELI INC\": 5,\n",
       "         'XSPORT FITNESS': 9,\n",
       "         \"ROGER'S GROCERY STORE  O B\": 1,\n",
       "         'EL RINCON DEL SABOR Y ALGO MAS CORP.': 1,\n",
       "         'SOUTHPORT LANES INC': 1,\n",
       "         'SHERATON HOTEL/TOWERS': 2,\n",
       "         'Eggsperience of North Avenue, Inc': 2,\n",
       "         'NEET KING DRIVE INC.': 1,\n",
       "         'BURGER KING #7674': 1,\n",
       "         \"INO'S TACOS\": 1,\n",
       "         'THE GODDESS AND GROCER': 1,\n",
       "         'ST. ETHELREDA SCHOOL': 2,\n",
       "         'ROTI': 2,\n",
       "         'TAQUERIA EL BURRITO MEXICAN GRILL': 1,\n",
       "         'DICOLA SEAFOOD': 4,\n",
       "         'BOCADILLOS CAFE INC': 3,\n",
       "         'CHINA LING COMPANY': 2,\n",
       "         'RONDA NEW LIFE BEGINNINGS, INC.': 1,\n",
       "         'EL CAPITAN RESTAURANT': 1,\n",
       "         \"GOD'S BATTLE AXE PRAYER ACADEMY\": 2,\n",
       "         \"KELLY'S CUBAN SANDWICH SHOP\": 2,\n",
       "         'MANEETHAI RESTAURANT': 8,\n",
       "         'DOLLAR TREE STORES INC #733': 2,\n",
       "         \"TIFFANY'S NUTRITION CLUB\": 1,\n",
       "         'EL CENTENARIO SPORTS BAR & GRILL': 2,\n",
       "         'DIVISION GROCERY PLUS INC': 1,\n",
       "         '15 / 20 LOUNGE': 5,\n",
       "         'PROVIDENCE ENGLEWOOD CHARTER SCHOOL': 3,\n",
       "         'BRIDGE HOUSE TAVERN ON THE RIVER': 2,\n",
       "         ...})"
      ]
     },
     "execution_count": 212,
     "metadata": {},
     "output_type": "execute_result"
    }
   ],
   "source": [
    "worst"
   ]
  },
  {
   "cell_type": "code",
   "execution_count": 213,
   "metadata": {
    "collapsed": true
   },
   "outputs": [],
   "source": [
    "restaurant = worst.most_common(10)"
   ]
  },
  {
   "cell_type": "code",
   "execution_count": 215,
   "metadata": {
    "collapsed": true
   },
   "outputs": [],
   "source": [
    "fails = [{**row,'DBA Name':row['DBA Name'].replace(\"'\",'').upper()}for row in fails]"
   ]
  },
  {
   "cell_type": "code",
   "execution_count": 217,
   "metadata": {
    "collapsed": false
   },
   "outputs": [],
   "source": [
    "worst = Counter(row['DBA Name'] for row in fails)"
   ]
  },
  {
   "cell_type": "code",
   "execution_count": 218,
   "metadata": {
    "collapsed": false
   },
   "outputs": [
    {
     "data": {
      "text/plain": [
       "[('SUBWAY', 260),\n",
       " ('MCDONALDS', 185),\n",
       " ('DUNKIN DONUTS', 169),\n",
       " ('7-ELEVEN', 57),\n",
       " ('CHIPOTLE MEXICAN GRILL', 51),\n",
       " ('HAROLDS CHICKEN SHACK', 38),\n",
       " ('POTBELLY SANDWICH WORKS LLC', 38),\n",
       " ('JIMMY JOHNS', 37),\n",
       " ('PAPA JOHNS PIZZA', 34),\n",
       " ('CITGO', 31)]"
      ]
     },
     "execution_count": 218,
     "metadata": {},
     "output_type": "execute_result"
    }
   ],
   "source": [
    "worst.most_common(10)"
   ]
  },
  {
   "cell_type": "code",
   "execution_count": 220,
   "metadata": {
    "collapsed": false
   },
   "outputs": [],
   "source": [
    "import requests"
   ]
  },
  {
   "cell_type": "code",
   "execution_count": 224,
   "metadata": {
    "collapsed": false
   },
   "outputs": [],
   "source": [
    "html = requests.get('http://facebook.com')"
   ]
  },
  {
   "cell_type": "code",
   "execution_count": 225,
   "metadata": {
    "collapsed": false
   },
   "outputs": [
    {
     "data": {
      "text/plain": [
       "<Response [200]>"
      ]
     },
     "execution_count": 225,
     "metadata": {},
     "output_type": "execute_result"
    }
   ],
   "source": [
    "html"
   ]
  },
  {
   "cell_type": "code",
   "execution_count": 226,
   "metadata": {
    "collapsed": true
   },
   "outputs": [],
   "source": [
    "html_string = html.text"
   ]
  },
  {
   "cell_type": "code",
   "execution_count": 227,
   "metadata": {
    "collapsed": false
   },
   "outputs": [
    {
     "data": {
      "text/plain": [
       "type"
      ]
     },
     "execution_count": 227,
     "metadata": {},
     "output_type": "execute_result"
    }
   ],
   "source": [
    "type(str)"
   ]
  },
  {
   "cell_type": "code",
   "execution_count": 228,
   "metadata": {
    "collapsed": false
   },
   "outputs": [
    {
     "data": {
      "text/plain": [
       "str"
      ]
     },
     "execution_count": 228,
     "metadata": {},
     "output_type": "execute_result"
    }
   ],
   "source": [
    "type(html_string)"
   ]
  },
  {
   "cell_type": "code",
   "execution_count": 229,
   "metadata": {
    "collapsed": true
   },
   "outputs": [],
   "source": [
    "import bs4"
   ]
  },
  {
   "cell_type": "code",
   "execution_count": 230,
   "metadata": {
    "collapsed": true
   },
   "outputs": [],
   "source": [
    "tree = bs4.BeautifulSoup(html_string,'html.parser')"
   ]
  },
  {
   "cell_type": "code",
   "execution_count": 231,
   "metadata": {
    "collapsed": false
   },
   "outputs": [
    {
     "data": {
      "text/plain": [
       "<!DOCTYPE html>\n",
       "\n",
       "<html class=\"no_js\" id=\"facebook\" lang=\"en\">\n",
       "<head><meta charset=\"utf-8\"/><meta content=\"default\" id=\"meta_referrer\" name=\"referrer\"/><script>function envFlush(a){function b(c){for(var d in a)c[d]=a[d];}if(window.requireLazy){window.requireLazy(['Env'],b);}else{window.Env=window.Env||{};b(window.Env);}}envFlush({\"ajaxpipe_token\":\"AXiWhL2jYcCKDqGO\"});</script><style></style><script>__DEV__=0;CavalryLogger=false;</script><noscript><meta content=\"0; URL=/?_fb_noscript=1\" http-equiv=\"refresh\"/></noscript><title id=\"pageTitle\">Facebook - Log In or Sign Up</title><meta content=\"Facebook\" property=\"og:site_name\"/><meta content=\"https://www.facebook.com/\" property=\"og:url\"/><meta content=\"https://www.facebook.com/images/fb_icon_325x325.png\" property=\"og:image\"/><meta content=\"en_US\" property=\"og:locale\"/><meta content=\"www\" property=\"og:locale:alternate\"/><meta content=\"es_LA\" property=\"og:locale:alternate\"/><meta content=\"es_ES\" property=\"og:locale:alternate\"/><meta content=\"fr_FR\" property=\"og:locale:alternate\"/><meta content=\"it_IT\" property=\"og:locale:alternate\"/><meta content=\"id_ID\" property=\"og:locale:alternate\"/><meta content=\"th_TH\" property=\"og:locale:alternate\"/><meta content=\"vi_VN\" property=\"og:locale:alternate\"/><meta content=\"ko_KR\" property=\"og:locale:alternate\"/><meta content=\"ja_JP\" property=\"og:locale:alternate\"/><script type=\"application/ld+json\">{\"\\u0040context\":\"http:\\/\\/schema.org\",\"\\u0040type\":\"WebSite\",\"name\":\"Facebook\",\"url\":\"https:\\/\\/www.facebook.com\\/\"}</script><link href=\"/osd.xml\" rel=\"search\" title=\"Facebook\" type=\"application/opensearchdescription+xml\"/><link href=\"https://www.facebook.com/\" rel=\"canonical\"/><link href=\"https://m.facebook.com/\" media=\"only screen and (max-width: 640px)\" rel=\"alternate\"/><link href=\"https://m.facebook.com/\" media=\"handheld\" rel=\"alternate\"/><link href=\"https://www.facebook.com/\" hreflang=\"x-default\" rel=\"alternate\"/><link href=\"https://www.facebook.com/\" hreflang=\"en\" rel=\"alternate\"/><link href=\"https://ar-ar.facebook.com/\" hreflang=\"ar\" rel=\"alternate\"/><link href=\"https://bg-bg.facebook.com/\" hreflang=\"bg\" rel=\"alternate\"/><link href=\"https://bs-ba.facebook.com/\" hreflang=\"bs\" rel=\"alternate\"/><link href=\"https://ca-es.facebook.com/\" hreflang=\"ca\" rel=\"alternate\"/><link href=\"https://da-dk.facebook.com/\" hreflang=\"da\" rel=\"alternate\"/><link href=\"https://el-gr.facebook.com/\" hreflang=\"el\" rel=\"alternate\"/><link href=\"https://es-la.facebook.com/\" hreflang=\"es\" rel=\"alternate\"/><link href=\"https://es-es.facebook.com/\" hreflang=\"es-es\" rel=\"alternate\"/><link href=\"https://fa-ir.facebook.com/\" hreflang=\"fa\" rel=\"alternate\"/><link href=\"https://fi-fi.facebook.com/\" hreflang=\"fi\" rel=\"alternate\"/><link href=\"https://fr-fr.facebook.com/\" hreflang=\"fr\" rel=\"alternate\"/><link href=\"https://fr-ca.facebook.com/\" hreflang=\"fr-ca\" rel=\"alternate\"/><link href=\"https://hi-in.facebook.com/\" hreflang=\"hi\" rel=\"alternate\"/><link href=\"https://hr-hr.facebook.com/\" hreflang=\"hr\" rel=\"alternate\"/><link href=\"https://id-id.facebook.com/\" hreflang=\"id\" rel=\"alternate\"/><link href=\"https://it-it.facebook.com/\" hreflang=\"it\" rel=\"alternate\"/><link href=\"https://ko-kr.facebook.com/\" hreflang=\"ko\" rel=\"alternate\"/><link href=\"https://mk-mk.facebook.com/\" hreflang=\"mk\" rel=\"alternate\"/><link href=\"https://ms-my.facebook.com/\" hreflang=\"ms\" rel=\"alternate\"/><link href=\"https://pl-pl.facebook.com/\" hreflang=\"pl\" rel=\"alternate\"/><link href=\"https://pt-br.facebook.com/\" hreflang=\"pt\" rel=\"alternate\"/><link href=\"https://pt-pt.facebook.com/\" hreflang=\"pt-pt\" rel=\"alternate\"/><link href=\"https://ro-ro.facebook.com/\" hreflang=\"ro\" rel=\"alternate\"/><link href=\"https://sl-si.facebook.com/\" hreflang=\"sl\" rel=\"alternate\"/><link href=\"https://sr-rs.facebook.com/\" hreflang=\"sr\" rel=\"alternate\"/><link href=\"https://th-th.facebook.com/\" hreflang=\"th\" rel=\"alternate\"/><link href=\"https://vi-vn.facebook.com/\" hreflang=\"vi\" rel=\"alternate\"/><meta content=\"Create an account or log into Facebook. Connect with friends, family and other people you know. Share photos and videos, send messages and get updates.\" name=\"description\"/><meta content=\"noodp,noydir\" name=\"robots\"/><link href=\"https://static.xx.fbcdn.net/rsrc.php/yV/r/hzMapiNYYpW.ico\" rel=\"shortcut icon\"/><link crossorigin=\"anonymous\" data-bootloader-hash=\"TzcJW\" data-permanent=\"1\" href=\"https://static.xx.fbcdn.net/rsrc.php/v3/yt/r/tgWdC0Seuxw.css\" rel=\"stylesheet\" type=\"text/css\"/>\n",
       "<link crossorigin=\"anonymous\" data-bootloader-hash=\"443D4\" data-permanent=\"1\" href=\"https://static.xx.fbcdn.net/rsrc.php/v3/yr/r/6WFT_cwFyEe.css\" rel=\"stylesheet\" type=\"text/css\"/>\n",
       "<link crossorigin=\"anonymous\" data-bootloader-hash=\"44wiD\" href=\"https://static.xx.fbcdn.net/rsrc.php/v3/yd/r/piY-93iI9Ut.css\" rel=\"stylesheet\" type=\"text/css\"/>\n",
       "<link crossorigin=\"anonymous\" data-bootloader-hash=\"nnkO8\" data-permanent=\"1\" href=\"https://static.xx.fbcdn.net/rsrc.php/v3/y9/r/unySXWPeuz5.css\" rel=\"stylesheet\" type=\"text/css\"/>\n",
       "<link crossorigin=\"anonymous\" data-bootloader-hash=\"lTuQw\" data-permanent=\"1\" href=\"https://static.xx.fbcdn.net/rsrc.php/v3/yQ/r/LI1GyQ_WKcY.css\" rel=\"stylesheet\" type=\"text/css\"/>\n",
       "<script crossorigin=\"anonymous\" data-bootloader-hash=\"DOmwV\" src=\"https://static.xx.fbcdn.net/rsrc.php/v3/ye/r/or3SvQPF_Qi.js\"></script>\n",
       "<script>require(\"TimeSlice\").guard(function() {(require(\"ServerJSDefine\")).handleDefines([[\"URLFragmentPreludeConfig\",[],{\"incorporateQuicklingFragment\":true,\"hashtagRedirect\":true},137],[\"BootloaderConfig\",[],{\"maxJsRetries\":0,\"jsRetries\":null,\"jsRetryAbortNum\":2,\"jsRetryAbortTime\":5,\"payloadEndpointURI\":\"https:\\/\\/www.facebook.com\\/ajax\\/haste-response\\/\",\"assumeNotNonblocking\":false,\"assumePermanent\":false},329],[\"CurrentCommunityInitialData\",[],{},490],[\"CurrentUserInitialData\",[],{\"USER_ID\":\"0\",\"ACCOUNT_ID\":\"0\"},270],[\"DTSGInitialData\",[],{},258],[\"ISB\",[],{},330],[\"LSD\",[],{\"token\":\"AVpMLiWo\"},323],[\"SiteData\",[],{\"revision\":2856569,\"tier\":\"\",\"push_phase\":\"V3\",\"pkg_cohort\":\"PHASED:DEFAULT\",\"pkg_cohort_key\":\"__pc\",\"haste_site\":\"www\",\"be_mode\":-1,\"be_key\":\"__be\",\"is_rtl\":false,\"features\":\"i0\",\"vip\":\"157.240.7.35\"},317],[\"CSSLoaderConfig\",[],{\"timeout\":5000,\"modulePrefix\":\"BLCSS:\"},619],[\"LinkReactUnsafeHrefConfig\",[],{\"LinkHrefChecker\":null},1182],[\"LinkshimHandlerConfig\",[],{\"supports_meta_referrer\":false,\"default_meta_referrer_policy\":\"default\",\"switched_meta_referrer_policy\":\"origin\",\"render_verification_rate\":1000,\"link_react_default_hash\":\"ATPkUJVCZASxfQzYk6A1Fmz7h53eQPF_2Gd8Q--7_-uCpRzJC58OBI2FiHmSoznrzDbF5d7PT0h-mGC1RL6HXE2olj2GyJPTDZf5Rq50pQMe64mNmr_qm_39\",\"untrusted_link_default_hash\":\"ATNuRx2S4Po6MhuL7CN9PgWmC5WCuofKylg2atpXxImpLIGwZVrVsT646H8WMfh7Cz7m6eDWLzES33m4VomsI_y11nJ0KOUSFoEa3rCBgN21Ua4PtXzdDCXQ\",\"linkshim_host\":\"l.facebook.com\",\"use_rel_no_opener\":false,\"always_use_https\":false},27],[\"CdnAkamaiDomainsConfig\",[],{\"fbcdnhdsvideo-vh.akamaihd.net\":0,\"fbcdn-creative-a.akamaihd.net\":1,\"fbcdn-dragon-a.akamaihd.net\":2,\"fbcdn-external-a.akamaihd.net\":3,\"fbcdn-gtvideo-a-a.akamaihd.net\":4,\"fbcdn-gtvideo-b-a.akamaihd.net\":5,\"fbcdn-gtvideo-c-a.akamaihd.net\":6,\"fbcdn-gtvideo-d-a.akamaihd.net\":7,\"fbcdn-gtvideo-e-a.akamaihd.net\":8,\"fbcdn-gtvideo-f-a.akamaihd.net\":9,\"fbcdn-gtvideo-g-a.akamaihd.net\":10,\"fbcdn-gtvideo-h-a.akamaihd.net\":11,\"fbcdn-gtvideo-i-a.akamaihd.net\":12,\"fbcdn-gtvideo-j-a.akamaihd.net\":13,\"fbcdn-gtvideo-k-a.akamaihd.net\":14,\"fbcdn-gtvideo-l-a.akamaihd.net\":15,\"fbcdn-gtvideo-m-a.akamaihd.net\":16,\"fbcdn-gtvideo-n-a.akamaihd.net\":17,\"fbcdn-gtvideo-o-a.akamaihd.net\":18,\"fbcdn-gtvideo-p-a.akamaihd.net\":19,\"fbcdn-iphotos-a-a.akamaihd.net\":20,\"fbcdn-iphotos-a.akamaihd.net\":21,\"fbcdn-iphotos-b-a.akamaihd.net\":22,\"fbcdn-iphotos-c-a.akamaihd.net\":23,\"fbcdn-iphotos-d-a.akamaihd.net\":24,\"fbcdn-iphotos-e-a.akamaihd.net\":25,\"fbcdn-iphotos-f-a.akamaihd.net\":26,\"fbcdn-iphotos-g-a.akamaihd.net\":27,\"fbcdn-iphotos-h-a.akamaihd.net\":28,\"fbcdn-photos-a-a.akamaihd.net\":29,\"fbcdn-photos-a.akamaihd.net\":30,\"fbcdn-photos-b-a.akamaihd.net\":31,\"fbcdn-photos-c-a.akamaihd.net\":32,\"fbcdn-photos-d-a.akamaihd.net\":33,\"fbcdn-photos-e-a.akamaihd.net\":34,\"fbcdn-photos-f-a.akamaihd.net\":35,\"fbcdn-photos-g-a.akamaihd.net\":36,\"fbcdn-photos-h-a.akamaihd.net\":37,\"fbcdn-profile-a.akamaihd.net\":38,\"fbcdn-sphotos-a-a.akamaihd.net\":39,\"fbcdn-sphotos-b-a.akamaihd.net\":40,\"fbcdn-sphotos-c-a.akamaihd.net\":41,\"fbcdn-sphotos-d-a.akamaihd.net\":42,\"fbcdn-sphotos-e-a.akamaihd.net\":43,\"fbcdn-sphotos-f-a.akamaihd.net\":44,\"fbcdn-sphotos-g-a.akamaihd.net\":45,\"fbcdn-sphotos-h-a.akamaihd.net\":46,\"fbcdn-static-a.akamaihd.net\":47,\"fbcdn-video-a-a.akamaihd.net\":48,\"fbcdn-video-a.akamaihd.net\":49,\"fbcdn-video-b-a.akamaihd.net\":50,\"fbcdn-video-c-a.akamaihd.net\":51,\"fbcdn-video-d-a.akamaihd.net\":52,\"fbcdn-video-e-a.akamaihd.net\":53,\"fbcdn-video-f-a.akamaihd.net\":54,\"fbcdn-video-g-a.akamaihd.net\":55,\"fbcdn-video-h-a.akamaihd.net\":56,\"fbcdn-video-i-a.akamaihd.net\":57,\"fbcdn-video-j-a.akamaihd.net\":58,\"fbcdn-video-k-a.akamaihd.net\":59,\"fbcdn-video-l-a.akamaihd.net\":60,\"fbcdn-video-m-a.akamaihd.net\":61,\"fbcdn-video-n-a.akamaihd.net\":62,\"fbcdn-video-o-a.akamaihd.net\":63,\"fbcdn-video-p-a.akamaihd.net\":64,\"fbcdn-vthumb-a.akamaihd.net\":65,\"fbexternal-a.akamaihd.net\":66,\"fbstatic-a.akamaihd.net\":67,\"lookbackvideo1-a.akamaihd.net\":68,\"lookbackvideo2-a.akamaihd.net\":69,\"lookbackvideo3-a.akamaihd.net\":70,\"lookbackvideo4-a.akamaihd.net\":71,\"lookbackvideo5-a.akamaihd.net\":72,\"lookbackvideo6-a.akamaihd.net\":73,\"lookbackvideo7-a.akamaihd.net\":74,\"lookbackvideo8-a.akamaihd.net\":75,\"igexternal-a.akamaihd.net\":76,\"fbmentionslive-a.akamaihd.net\":77,\"fblive-a.akamaihd.net\":78,\"fbcdn-static-a-a.akamaihd.net\":79,\"fbcdn-static-b-a.akamaihd.net\":80,\"fb-s-a-a.akamaihd.net\":81,\"fb-s-b-a.akamaihd.net\":82,\"fb-s-c-a.akamaihd.net\":83,\"fb-s-d-a.akamaihd.net\":84,\"fb-l-a-a.akamaihd.net\":85,\"fb-l-b-a.akamaihd.net\":86,\"fb-l-c-a.akamaihd.net\":87,\"fb-l-d-a.akamaihd.net\":88},1634],[\"CoreWarningGK\",[],{\"forceWarning\":false},725],[\"BanzaiConfig\",[],{\"EXPIRY\":86400000,\"MAX_SIZE\":10000,\"MAX_WAIT\":150000,\"RESTORE_WAIT\":150000,\"blacklist\":[\"time_spent\"],\"gks\":{\"boosted_component\":true,\"boosted_pagelikes\":true,\"boosted_posts\":true,\"boosted_website\":true,\"jslogger\":true,\"mercury_send_error_logging\":true,\"pages_client_logging\":true,\"platform_oauth_client_events\":true,\"useraction\":true,\"videos\":true,\"visibility_tracking\":true,\"graphexplorer\":true,\"gqls_web_logging\":true}},7],[\"UserAgentData\",[],{\"browserArchitecture\":\"32\",\"browserFullVersion\":null,\"browserMinorVersion\":null,\"browserName\":\"Unknown\",\"browserVersion\":null,\"deviceName\":\"Unknown\",\"engineName\":\"Unknown\",\"engineVersion\":null,\"platformArchitecture\":\"32\",\"platformName\":\"Unknown\",\"platformVersion\":null,\"platformFullVersion\":null},527],[\"ZeroRewriteRules\",[],{\"rewrite_rules\":{},\"whitelist\":{\"\\/hr\\/r\":1,\"\\/zero\\/unsupported_browser\\/\":1,\"\\/zero\\/policy\\/optin\":1,\"\\/zero\\/optin\\/write\\/\":1,\"\\/zero\\/optin\\/legal\\/\":1,\"\\/zero\\/optin\\/free\\/\":1,\"\\/zero\\/toggle\\/welcome\\/\":1,\"\\/work\\/landing\":1,\"\\/work\\/login\\/\":1,\"\\/work\\/email\\/\":1,\"\\/ai.php\":1,\"\\/js_dialog_resources\\/dialog_descriptions_android.json\":1,\"\\/connect\\/jsdialog\\/MPlatformAppInvitesJSDialog\\/\":1,\"\\/connect\\/jsdialog\\/MPlatformOAuthShimJSDialog\\/\":1,\"\\/connect\\/jsdialog\\/MPlatformLikeJSDialog\\/\":1,\"\\/qp\\/interstitial\\/\":1,\"\\/qp\\/action\\/redirect\\/\":1,\"\\/qp\\/action\\/close\\/\":1,\"\\/zero\\/support\\/ineligible\\/\":1,\"\\/zero_balance_redirect\\/\":1,\"\\/zero_balance_redirect\":1,\"\\/l.php\":1,\"\\/lsr.php\":1,\"\\/ajax\\/dtsg\\/\":1,\"\\/checkpoint\\/block\\/\":1,\"\\/exitdsite\":1,\"\\/zero\\/balance\\/pixel\\/\":1,\"\\/zero\\/balance\\/\":1,\"\\/zero\\/balance\\/carrier_landing\\/\":1,\"\\/tr\":1,\"\\/tr\\/\":1,\"\\/sem_campaigns\\/sem_pixel_test\\/\":1,\"\\/bookmarks\\/flyout\\/body\\/\":1}},1478],[\"AsyncFeatureDeployment\",[],{},1765],[\"AsyncRequestConfig\",[],{\"retryOnNetworkError\":\"1\",\"logAsyncRequest\":false,\"immediateDispatch\":false},328],[\"SessionNameConfig\",[],{\"seed\":\"13im\"},757],[\"ZeroCategoryHeader\",[],{},1127],[\"TrackingConfig\",[],{\"domain\":\"https:\\/\\/pixel.facebook.com\"},325],[\"WebSpeedExperiments\",[],{\"non_blocking_tracker\":false,\"non_blocking_logger\":false},1160],[\"ErrorSignalConfig\",[],{\"uri\":\"https:\\/\\/error.facebook.com\\/common\\/scribe_endpoint.php\"},319],[\"EventConfig\",[],{\"sampling\":{\"load\":0,\"error\":0,\"message\":0,\"abort\":0,\"mousemove\":100,\"mouseover\":100,\"mouseout\":100,\"keydown\":0.1,\"click\":0.01,\"__100ms\":0.001,\"__default\":100000,\"__min\":1000}},1726],[\"ServerNonce\",[],{\"ServerNonce\":\"a539sSWjgSZxj0WvCXMoD4\"},141],[\"ReactGK\",[],{\"logTopLevelRenders\":false,\"domIsFiber\":false,\"domIsFiberInUFI\":false,\"prepareNewChildrenBeforeUnmountInStack\":true},998],[\"PhotoSnowliftActionsGating\",[],{\"ALLOW_MAKE_PROFILE_PICTURE_BUTTON\":false,\"skipUnfixed\":true},887],[\"AccessibilityConfig\",[],{\"a11yLogicalGridComponent\":false,\"a11yNewsfeedStoryEnumeration\":false,\"a11yInitialDialogFocusElement\":true,\"a11yNUXDialog\":false},1227],[\"TimeSliceInteractionCoinflips\",[],{\"default_rate\":1000,\"lite_default_rate\":100,\"interaction_to_lite_coinflip\":{\"Event\":100},\"interaction_to_coinflip\":{\"async_request\":0,\"video_psr\":1,\"video_stall\":25,\"snowlift_open_autoclosed\":0,\"Event\":2,\"cms_editor\":1},\"enable_heartbeat\":false},1799],[\"ServiceWorkerBackgroundSyncBanzaiGK\",[],{\"sw_background_sync_banzai\":false},1621],[\"FbtLogger\",[],{\"logger\":null},288],[\"FbtResultGK\",[],{\"shouldReturnFbtResult\":true,\"inlineMode\":\"NO_INLINE\"},876],[\"IntlViewerContext\",[],{\"GENDER\":50331648},772],[\"IntlPhonologicalRules\",[],{\"meta\":{\"\\/_B\\/\":\"([.,!?\\\\s]|^)\",\"\\/_E\\/\":\"([.,!?\\\\s]|$)\"},\"patterns\":{\"\\/\\u0001(.*)('|&#039;)s\\u0001(?:'|&#039;)s(.*)\\/\":\"\\u0001$1$2s\\u0001$3\",\"\\/_\\u0001([^\\u0001]*)\\u0001\\/\":\"javascript\"}},1496],[\"ArtilleryExperiments\",[],{\"artillery_timeslice_edges\":false,\"artillery_static_resources_pagelet_attribution\":false,\"artillery_timeslice_compressed_data\":false,\"artillery_miny_client_payload\":false},1237],[\"ServiceWorkerBackgroundSyncGK\",[],{\"background_sync_sw\":false},1628],[\"PageNavigationStageLoggerGK\",[],{\"gk_check\":false},1434],[\"PageTransitionsConfig\",[],{\"reloadOnBootloadError\":true},1067],[\"InitialServerTime\",[],{\"serverTime\":1488017572000},204],[\"UFIReactionTypes\",[],{\"LIKE\":1,\"ordering\":[1,2,13,11,4,5,3,10,12,7,8,14,15],\"NONE\":0,\"reactions\":{\"1\":{\"class_name\":\"_3j7l\",\"color\":\"#5890ff\",\"display_name\":\"Like\",\"is_deprecated\":false,\"is_visible\":true,\"name\":\"like\",\"type\":1},\"2\":{\"class_name\":\"_3j7m\",\"color\":\"#f25268\",\"display_name\":\"Love\",\"is_deprecated\":false,\"is_visible\":true,\"name\":\"love\",\"type\":2},\"13\":{\"class_name\":null,\"color\":\"#1d2129\",\"display_name\":\"Selfie\",\"is_deprecated\":false,\"is_visible\":false,\"name\":\"selfie\",\"type\":13},\"11\":{\"class_name\":\"_3rya\",\"color\":\"#9c87d1\",\"display_name\":\"Thankful\",\"is_deprecated\":false,\"is_visible\":true,\"name\":\"dorothy\",\"type\":11},\"4\":{\"class_name\":\"_3j7o\",\"color\":\"#f0ba15\",\"display_name\":\"Haha\",\"is_deprecated\":false,\"is_visible\":true,\"name\":\"haha\",\"type\":4},\"5\":{\"class_name\":\"_3j7p\",\"color\":\"#f0ba15\",\"display_name\":\"Yay\",\"is_deprecated\":true,\"is_visible\":true,\"name\":\"yay\",\"type\":5},\"3\":{\"class_name\":\"_3j7n\",\"color\":\"#f0ba15\",\"display_name\":\"Wow\",\"is_deprecated\":false,\"is_visible\":true,\"name\":\"wow\",\"type\":3},\"10\":{\"class_name\":\"_3j7s\",\"color\":\"#f0ba15\",\"display_name\":\"Confused\",\"is_deprecated\":true,\"is_visible\":true,\"name\":\"confused\",\"type\":10},\"12\":{\"class_name\":null,\"color\":\"#f0ba15\",\"display_name\":\"Like\",\"is_deprecated\":false,\"is_visible\":false,\"name\":\"toto\",\"type\":12},\"7\":{\"class_name\":\"_3j7r\",\"color\":\"#f0ba15\",\"display_name\":\"Sad\",\"is_deprecated\":false,\"is_visible\":true,\"name\":\"sorry\",\"type\":7},\"8\":{\"class_name\":\"_3j7q\",\"color\":\"#f7714b\",\"display_name\":\"Angry\",\"is_deprecated\":false,\"is_visible\":true,\"name\":\"anger\",\"type\":8},\"14\":{\"class_name\":\"_3qr6\",\"color\":\"#f0ba15\",\"display_name\":\"Like\",\"is_deprecated\":false,\"is_visible\":false,\"name\":\"flame\",\"type\":14},\"15\":{\"class_name\":\"_4vps\",\"color\":\"#5890ff\",\"display_name\":\"Like\",\"is_deprecated\":false,\"is_visible\":false,\"name\":\"plane\",\"type\":15}}},911],[\"MercuryConfig\",[],{},35],[\"NumberFormatConfig\",[],{\"decimalSeparator\":\".\",\"numberDelimiter\":\",\",\"minDigitsForThousandsSeparator\":4},54],[\"NYE2017AnimationTriggerSettings\",[],{\"shouldTriggerOnPost\":false,\"shouldTriggerOnComment\":false},1992],[\"NYE2017TriggerStringsLoader\",[],{\"regex\":\"(Happy New Year)\"},1994],[\"EmojiInputButtonContainer\",[],{\"EmojiInputButton\":null},2057],[\"UFICommentFileInputAcceptValues\",[],{\"both\":\"video\\/*,  video\\/x-m4v, video\\/webm, video\\/x-ms-wmv, video\\/x-msvideo, video\\/3gpp, video\\/flv, video\\/x-flv, video\\/mp4, video\\/quicktime, video\\/mpeg, video\\/ogv, image\\/*\",\"photos\":\"image\\/*\",\"videos\":\"video\\/*, video\\/x-m4v, video\\/webm, video\\/x-ms-wmv, video\\/x-msvideo, video\\/3gpp, video\\/flv, video\\/x-flv, video\\/mp4, video\\/quicktime, video\\/mpeg, video\\/ogv\"},1317],[\"VideoUploadConfig\",[],{\"videoExtensions\":{\"mov\":1,\"qt\":1,\"wmv\":1,\"avi\":1,\"mpe\":1,\"mpg\":1,\"mpeg\":1,\"asf\":1,\"mp4\":1,\"m4v\":1,\"mpeg4\":1,\"3gpp\":1,\"3gp\":1,\"3g2\":1,\"mkv\":1,\"flv\":1,\"vob\":1,\"ogm\":1,\"ogv\":1,\"nsv\":1,\"mod\":1,\"tod\":1,\"dat\":1,\"mts\":1,\"m2ts\":1,\"dv\":1,\"divx\":1,\"f4v\":1,\"ts\":1,\"tmp\":1,\"rmvb\":1,\"webm\":1},\"allowMultimedia\":false,\"showMultimediaNUX\":false},267],[\"FileHashWorkerResource\",[],{\"url\":\"https:\\/\\/static.xx.fbcdn.net\\/rsrc.php\\/v3\\/yQ\\/r\\/puAQKiOkkyc.js\",\"name\":\"FileHashWorkerBundle\"},758],[\"WebWorkerConfig\",[],{\"logging\":{\"enabled\":false,\"config\":\"WebWorkerLoggerConfig\"},\"evalWorkerURL\":\"\\/rsrc.php\\/v3\\/y1\\/r\\/OCH9Nbs549d.js\"},297],[\"FluxInternalConfig\",[],{\"logOnPreInitAccess\":false,\"warnOnPreInitAccess\":false},1075],[\"StickersConfig\",[],{\"emoticons\":{\"id\":\"1471127876485636\",\"name\":\"Emoticons\",\"isCommentsCapable\":true},\"max_mru_stickers\":40,\"mru_pack\":{\"id\":\"599061016853145\",\"name\":\"Recent\",\"isMRU\":true,\"isCommentsCapable\":true,\"isComposerCapable\":true,\"isMessengerCapable\":true,\"isPostsCapable\":true},\"oz_pack\":null},1666],[\"RelayAPIConfigDefaults\",[\"__inst_84473062_0_0\",\"__inst_84473062_0_1\"],{\"accessToken\":null,\"actorID\":\"0\",\"fetchTimeout\":30000,\"graphBatchURI\":{\"__m\":\"__inst_84473062_0_0\"},\"graphURI\":{\"__m\":\"__inst_84473062_0_1\"},\"retryDelays\":[1000,3000],\"useXController\":true,\"xhrEncoding\":null},926],[\"PresenceInitialData\",[],{\"cookiePollInterval\":500,\"cookieVersion\":3,\"serverTime\":\"1488017572000\",\"shouldSuppress\":false,\"dictEncode\":true},57],[\"WorkModeConfig\",[],{},396],[\"CurrentEnvironment\",[],{\"facebookdotcom\":true,\"messengerdotcom\":false},827],[\"WorkGKs\",[],{\"work_admin_disable_gsuite\":false,\"work_admin_hide_date_claimed_column\":false,\"work_admin_new_deactivate_users\":false,\"work_admin_new_setting_design\":true,\"work_admin_setup_payment_information\":false,\"work_admin_sidebar_numbers\":true,\"workplace_www_chat_branding\":false},1734],[\"PaddedStickerConfig\",[],{},1667],[\"CanvasToBlobResource\",[],{\"url\":\"https:\\/\\/static.xx.fbcdn.net\\/rsrc.php\\/v3\\/yE\\/r\\/7ahU3L8zYmE.js\",\"name\":\"CanvasToBlobBundle\"},864],[\"VideoThumbnailConfig\",[],{\"defaultThumbnailURL\":\"https:\\/\\/static.xx.fbcdn.net\\/rsrc.php\\/v3\\/yN\\/r\\/AAqMW82PqGg.gif\"},967],[\"FunnelLoggerConfig\",[],{\"freq\":{\"CREATIVE_STUDIO_CREATION_FUNNEL\":1,\"WWW_CANVAS_AD_CREATION_FUNNEL\":1,\"WWW_CANVAS_EDITOR_FUNNEL\":1,\"WWW_LINK_PICKER_DIALOG_FUNNEL\":1,\"WWW_MEME_PICKER_DIALOG_FUNNEL\":1,\"WWW_LEAD_GEN_FORM_CREATION_FUNNEL\":1,\"WWW_LEAD_GEN_DESKTOP_AD_UNIT_FUNNEL\":1,\"WWW_LEAD_GEN_MSITE_AD_UNIT_FUNNEL\":1,\"WWW_CAMPFIRE_COMPOSER_UPSELL_FUNNEL\":1,\"WWW_RECRUITING_SEARCH_FUNNEL\":1,\"WWW_EXAMPLE_FUNNEL\":1,\"WWW_REACTIONS_NUX_FUNNEL\":1,\"WWW_MESSENGER_SHARE_TO_FB_FUNNEL\":10,\"MSITE_EXAMPLE_FUNNEL\":10,\"WWW_FEED_SHARE_DIALOG_FUNNEL\":100,\"MSITE_FEED_ALBUM_CTA_FUNNEL\":10,\"MSITE_FEED_SHARE_DIALOG_FUNNEL\":100,\"MSITE_COMMENT_TYPING_FUNNEL\":500,\"MSITE_HASHTAG_PROMPT_FUNNEL\":1,\"WWW_SEARCH_AWARENESS_LEARNING_NUX_FUNNEL\":1,\"WWW_CONSTITUENT_TITLE_UPSELL_FUNNEL\":1,\"MTOUCH_FEED_MISSED_STORIES_FUNNEL\":10,\"WWW_UFI_SHARE_LINK_FUNNEL\":1,\"WWW_CMS_SEARCH_FUNNEL\":1,\"GAMES_QUICKSILVER_FUNNEL\":1,\"SOCIAL_SEARCH_CONVERSION_WWW_FUNNEL\":1,\"SOCIAL_SEARCH_DASHBOARD_WWW_FUNNEL\":1,\"SRT_USER_FLOW_FUNNEL\":1,\"MSITE_PPD_FUNNEL\":1,\"WWW_PAGE_CREATION_FUNNEL\":1,\"NT_EXAMPLE_FUNNEL\":1,\"WWW_LIVE_VIEWER_TIPJAR_FUNNEL\":1,\"FACECAST_BROADCASTER_FUNNEL\":1,\"WWW_FUNDRAISER_CREATION_FUNNEL\":1,\"WWW_FUNDRAISER_EDIT_FUNNEL\":1,\"default\":1000}},1271],[\"MarauderConfig\",[],{\"app_version\":2856569,\"gk_enabled\":false},31],[\"GroupsProductDetailGating\",[],{\"tuzi_dialog\":null},1461],[\"WWWBase\",[],{\"uri\":\"https:\\/\\/www.facebook.com\\/\"},318],[\"PhotoSnowliftLoggingConfig\",[],{\"logOnInit\":true},2078],[\"VideoPlayerAbortLoadingExperiment\",[],{\"canAbort\":false,\"delayedAbortLoading\":0},824],[\"TypeaheadMetricsConfig\",[],{\"gkResults\":false},263],[\"EmojiConfig\",[],{\"aliases\":{\"1f471\":\"1f471_200d_2642_fe0f\",\"1f471_1f3ff\":\"1f471_1f3ff_200d_2642_fe0f\",\"1f471_1f3fb\":\"1f471_1f3fb_200d_2642_fe0f\",\"1f471_1f3fd\":\"1f471_1f3fd_200d_2642_fe0f\",\"1f471_1f3fe\":\"1f471_1f3fe_200d_2642_fe0f\",\"1f471_1f3fc\":\"1f471_1f3fc_200d_2642_fe0f\",\"1f6b4\":\"1f6b4_200d_2642_fe0f\",\"1f6b4_1f3ff\":\"1f6b4_1f3ff_200d_2642_fe0f\",\"1f6b4_1f3fb\":\"1f6b4_1f3fb_200d_2642_fe0f\",\"1f6b4_1f3fd\":\"1f6b4_1f3fd_200d_2642_fe0f\",\"1f6b4_1f3fe\":\"1f6b4_1f3fe_200d_2642_fe0f\",\"1f6b4_1f3fc\":\"1f6b4_1f3fc_200d_2642_fe0f\",\"26f9\":\"26f9_fe0f_200d_2642_fe0f\",\"26f9_1f3ff\":\"26f9_1f3ff_200d_2642_fe0f\",\"26f9_1f3fb\":\"26f9_1f3fb_200d_2642_fe0f\",\"26f9_1f3fd\":\"26f9_1f3fd_200d_2642_fe0f\",\"26f9_1f3fe\":\"26f9_1f3fe_200d_2642_fe0f\",\"26f9_1f3fc\":\"26f9_1f3fc_200d_2642_fe0f\",\"1f647\":\"1f647_200d_2642_fe0f\",\"1f647_1f3ff\":\"1f647_1f3ff_200d_2642_fe0f\",\"1f647_1f3fb\":\"1f647_1f3fb_200d_2642_fe0f\",\"1f647_1f3fd\":\"1f647_1f3fd_200d_2642_fe0f\",\"1f647_1f3fe\":\"1f647_1f3fe_200d_2642_fe0f\",\"1f647_1f3fc\":\"1f647_1f3fc_200d_2642_fe0f\",\"1f477\":\"1f477_200d_2642_fe0f\",\"1f477_1f3ff\":\"1f477_1f3ff_200d_2642_fe0f\",\"1f477_1f3fb\":\"1f477_1f3fb_200d_2642_fe0f\",\"1f477_1f3fd\":\"1f477_1f3fd_200d_2642_fe0f\",\"1f477_1f3fe\":\"1f477_1f3fe_200d_2642_fe0f\",\"1f477_1f3fc\":\"1f477_1f3fc_200d_2642_fe0f\",\"1f575\":\"1f575_fe0f_200d_2642_fe0f\",\"1f575_1f3ff\":\"1f575_1f3ff_200d_2642_fe0f\",\"1f575_1f3fb\":\"1f575_1f3fb_200d_2642_fe0f\",\"1f575_1f3fd\":\"1f575_1f3fd_200d_2642_fe0f\",\"1f575_1f3fe\":\"1f575_1f3fe_200d_2642_fe0f\",\"1f575_1f3fc\":\"1f575_1f3fc_200d_2642_fe0f\",\"1f3cc\":\"1f3cc_fe0f_200d_2642_fe0f\",\"1f3cc_1f3ff\":\"1f3cc_1f3ff_200d_2642_fe0f\",\"1f3cc_1f3fb\":\"1f3cc_1f3fb_200d_2642_fe0f\",\"1f3cc_1f3fd\":\"1f3cc_1f3fd_200d_2642_fe0f\",\"1f3cc_1f3fe\":\"1f3cc_1f3fe_200d_2642_fe0f\",\"1f3cc_1f3fc\":\"1f3cc_1f3fc_200d_2642_fe0f\",\"1f482\":\"1f482_200d_2642_fe0f\",\"1f482_1f3ff\":\"1f482_1f3ff_200d_2642_fe0f\",\"1f482_1f3fb\":\"1f482_1f3fb_200d_2642_fe0f\",\"1f482_1f3fd\":\"1f482_1f3fd_200d_2642_fe0f\",\"1f482_1f3fe\":\"1f482_1f3fe_200d_2642_fe0f\",\"1f482_1f3fc\":\"1f482_1f3fc_200d_2642_fe0f\",\"1f3cb\":\"1f3cb_fe0f_200d_2642_fe0f\",\"1f3cb_1f3ff\":\"1f3cb_1f3ff_200d_2642_fe0f\",\"1f3cb_1f3fb\":\"1f3cb_1f3fb_200d_2642_fe0f\",\"1f3cb_1f3fd\":\"1f3cb_1f3fd_200d_2642_fe0f\",\"1f3cb_1f3fe\":\"1f3cb_1f3fe_200d_2642_fe0f\",\"1f3cb_1f3fc\":\"1f3cb_1f3fc_200d_2642_fe0f\",\"1f6b5\":\"1f6b5_200d_2642_fe0f\",\"1f6b5_1f3ff\":\"1f6b5_1f3ff_200d_2642_fe0f\",\"1f6b5_1f3fb\":\"1f6b5_1f3fb_200d_2642_fe0f\",\"1f6b5_1f3fd\":\"1f6b5_1f3fd_200d_2642_fe0f\",\"1f6b5_1f3fe\":\"1f6b5_1f3fe_200d_2642_fe0f\",\"1f6b5_1f3fc\":\"1f6b5_1f3fc_200d_2642_fe0f\",\"1f93e\":\"1f93e_200d_2642_fe0f\",\"1f93e_1f3ff\":\"1f93e_1f3ff_200d_2642_fe0f\",\"1f93e_1f3fb\":\"1f93e_1f3fb_200d_2642_fe0f\",\"1f93e_1f3fd\":\"1f93e_1f3fd_200d_2642_fe0f\",\"1f93e_1f3fe\":\"1f93e_1f3fe_200d_2642_fe0f\",\"1f93e_1f3fc\":\"1f93e_1f3fc_200d_2642_fe0f\",\"1f93d\":\"1f93d_200d_2642_fe0f\",\"1f93d_1f3ff\":\"1f93d_1f3ff_200d_2642_fe0f\",\"1f93d_1f3fb\":\"1f93d_1f3fb_200d_2642_fe0f\",\"1f93d_1f3fd\":\"1f93d_1f3fd_200d_2642_fe0f\",\"1f93d_1f3fe\":\"1f93d_1f3fe_200d_2642_fe0f\",\"1f93d_1f3fc\":\"1f93d_1f3fc_200d_2642_fe0f\",\"1f46e\":\"1f46e_200d_2642_fe0f\",\"1f46e_1f3ff\":\"1f46e_1f3ff_200d_2642_fe0f\",\"1f46e_1f3fb\":\"1f46e_1f3fb_200d_2642_fe0f\",\"1f46e_1f3fd\":\"1f46e_1f3fd_200d_2642_fe0f\",\"1f46e_1f3fe\":\"1f46e_1f3fe_200d_2642_fe0f\",\"1f46e_1f3fc\":\"1f46e_1f3fc_200d_2642_fe0f\",\"1f6a3\":\"1f6a3_200d_2642_fe0f\",\"1f6a3_1f3ff\":\"1f6a3_1f3ff_200d_2642_fe0f\",\"1f6a3_1f3fb\":\"1f6a3_1f3fb_200d_2642_fe0f\",\"1f6a3_1f3fd\":\"1f6a3_1f3fd_200d_2642_fe0f\",\"1f6a3_1f3fe\":\"1f6a3_1f3fe_200d_2642_fe0f\",\"1f6a3_1f3fc\":\"1f6a3_1f3fc_200d_2642_fe0f\",\"1f3c3\":\"1f3c3_200d_2642_fe0f\",\"1f3c3_1f3ff\":\"1f3c3_1f3ff_200d_2642_fe0f\",\"1f3c3_1f3fb\":\"1f3c3_1f3fb_200d_2642_fe0f\",\"1f3c3_1f3fd\":\"1f3c3_1f3fd_200d_2642_fe0f\",\"1f3c3_1f3fe\":\"1f3c3_1f3fe_200d_2642_fe0f\",\"1f3c3_1f3fc\":\"1f3c3_1f3fc_200d_2642_fe0f\",\"1f3c4\":\"1f3c4_200d_2642_fe0f\",\"1f3c4_1f3ff\":\"1f3c4_1f3ff_200d_2642_fe0f\",\"1f3c4_1f3fb\":\"1f3c4_1f3fb_200d_2642_fe0f\",\"1f3c4_1f3fd\":\"1f3c4_1f3fd_200d_2642_fe0f\",\"1f3c4_1f3fe\":\"1f3c4_1f3fe_200d_2642_fe0f\",\"1f3c4_1f3fc\":\"1f3c4_1f3fc_200d_2642_fe0f\",\"1f3ca\":\"1f3ca_200d_2642_fe0f\",\"1f3ca_1f3ff\":\"1f3ca_1f3ff_200d_2642_fe0f\",\"1f3ca_1f3fb\":\"1f3ca_1f3fb_200d_2642_fe0f\",\"1f3ca_1f3fd\":\"1f3ca_1f3fd_200d_2642_fe0f\",\"1f3ca_1f3fe\":\"1f3ca_1f3fe_200d_2642_fe0f\",\"1f3ca_1f3fc\":\"1f3ca_1f3fc_200d_2642_fe0f\",\"1f6b6\":\"1f6b6_200d_2642_fe0f\",\"1f6b6_1f3ff\":\"1f6b6_1f3ff_200d_2642_fe0f\",\"1f6b6_1f3fb\":\"1f6b6_1f3fb_200d_2642_fe0f\",\"1f6b6_1f3fd\":\"1f6b6_1f3fd_200d_2642_fe0f\",\"1f6b6_1f3fe\":\"1f6b6_1f3fe_200d_2642_fe0f\",\"1f6b6_1f3fc\":\"1f6b6_1f3fc_200d_2642_fe0f\",\"1f473\":\"1f473_200d_2642_fe0f\",\"1f473_1f3ff\":\"1f473_1f3ff_200d_2642_fe0f\",\"1f473_1f3fb\":\"1f473_1f3fb_200d_2642_fe0f\",\"1f473_1f3fd\":\"1f473_1f3fd_200d_2642_fe0f\",\"1f473_1f3fe\":\"1f473_1f3fe_200d_2642_fe0f\",\"1f473_1f3fc\":\"1f473_1f3fc_200d_2642_fe0f\",\"1f93c\":\"1f93c_200d_2642_fe0f\",\"1f93c_1f3ff\":\"1f93c_1f3ff_200d_2642_fe0f\",\"1f93c_1f3fb\":\"1f93c_1f3fb_200d_2642_fe0f\",\"1f93c_1f3fd\":\"1f93c_1f3fd_200d_2642_fe0f\",\"1f93c_1f3fe\":\"1f93c_1f3fe_200d_2642_fe0f\",\"1f93c_1f3fc\":\"1f93c_1f3fc_200d_2642_fe0f\",\"1f938\":\"1f938_200d_2640_fe0f\",\"1f938_1f3ff\":\"1f938_1f3ff_200d_2640_fe0f\",\"1f938_1f3fb\":\"1f938_1f3fb_200d_2640_fe0f\",\"1f938_1f3fd\":\"1f938_1f3fd_200d_2640_fe0f\",\"1f938_1f3fe\":\"1f938_1f3fe_200d_2640_fe0f\",\"1f938_1f3fc\":\"1f938_1f3fc_200d_2640_fe0f\",\"1f926\":\"1f926_200d_2640_fe0f\",\"1f926_1f3ff\":\"1f926_1f3ff_200d_2640_fe0f\",\"1f926_1f3fb\":\"1f926_1f3fb_200d_2640_fe0f\",\"1f926_1f3fd\":\"1f926_1f3fd_200d_2640_fe0f\",\"1f926_1f3fe\":\"1f926_1f3fe_200d_2640_fe0f\",\"1f926_1f3fc\":\"1f926_1f3fc_200d_2640_fe0f\",\"1f64d\":\"1f64d_200d_2640_fe0f\",\"1f64d_1f3ff\":\"1f64d_1f3ff_200d_2640_fe0f\",\"1f64d_1f3fb\":\"1f64d_1f3fb_200d_2640_fe0f\",\"1f64d_1f3fd\":\"1f64d_1f3fd_200d_2640_fe0f\",\"1f64d_1f3fe\":\"1f64d_1f3fe_200d_2640_fe0f\",\"1f64d_1f3fc\":\"1f64d_1f3fc_200d_2640_fe0f\",\"1f645\":\"1f645_200d_2640_fe0f\",\"1f645_1f3ff\":\"1f645_1f3ff_200d_2640_fe0f\",\"1f645_1f3fb\":\"1f645_1f3fb_200d_2640_fe0f\",\"1f645_1f3fd\":\"1f645_1f3fd_200d_2640_fe0f\",\"1f645_1f3fe\":\"1f645_1f3fe_200d_2640_fe0f\",\"1f645_1f3fc\":\"1f645_1f3fc_200d_2640_fe0f\",\"1f646\":\"1f646_200d_2640_fe0f\",\"1f646_1f3ff\":\"1f646_1f3ff_200d_2640_fe0f\",\"1f646_1f3fb\":\"1f646_1f3fb_200d_2640_fe0f\",\"1f646_1f3fd\":\"1f646_1f3fd_200d_2640_fe0f\",\"1f646_1f3fe\":\"1f646_1f3fe_200d_2640_fe0f\",\"1f646_1f3fc\":\"1f646_1f3fc_200d_2640_fe0f\",\"1f487\":\"1f487_200d_2640_fe0f\",\"1f487_1f3ff\":\"1f487_1f3ff_200d_2640_fe0f\",\"1f487_1f3fb\":\"1f487_1f3fb_200d_2640_fe0f\",\"1f487_1f3fd\":\"1f487_1f3fd_200d_2640_fe0f\",\"1f487_1f3fe\":\"1f487_1f3fe_200d_2640_fe0f\",\"1f487_1f3fc\":\"1f487_1f3fc_200d_2640_fe0f\",\"1f486\":\"1f486_200d_2640_fe0f\",\"1f486_1f3ff\":\"1f486_1f3ff_200d_2640_fe0f\",\"1f486_1f3fb\":\"1f486_1f3fb_200d_2640_fe0f\",\"1f486_1f3fd\":\"1f486_1f3fd_200d_2640_fe0f\",\"1f486_1f3fe\":\"1f486_1f3fe_200d_2640_fe0f\",\"1f486_1f3fc\":\"1f486_1f3fc_200d_2640_fe0f\",\"1f64e\":\"1f64e_200d_2640_fe0f\",\"1f64e_1f3ff\":\"1f64e_1f3ff_200d_2640_fe0f\",\"1f64e_1f3fb\":\"1f64e_1f3fb_200d_2640_fe0f\",\"1f64e_1f3fd\":\"1f64e_1f3fd_200d_2640_fe0f\",\"1f64e_1f3fe\":\"1f64e_1f3fe_200d_2640_fe0f\",\"1f64e_1f3fc\":\"1f64e_1f3fc_200d_2640_fe0f\",\"1f64b\":\"1f64b_200d_2640_fe0f\",\"1f64b_1f3ff\":\"1f64b_1f3ff_200d_2640_fe0f\",\"1f64b_1f3fb\":\"1f64b_1f3fb_200d_2640_fe0f\",\"1f64b_1f3fd\":\"1f64b_1f3fd_200d_2640_fe0f\",\"1f64b_1f3fe\":\"1f64b_1f3fe_200d_2640_fe0f\",\"1f64b_1f3fc\":\"1f64b_1f3fc_200d_2640_fe0f\",\"1f937\":\"1f937_200d_2640_fe0f\",\"1f937_1f3ff\":\"1f937_1f3ff_200d_2640_fe0f\",\"1f937_1f3fb\":\"1f937_1f3fb_200d_2640_fe0f\",\"1f937_1f3fd\":\"1f937_1f3fd_200d_2640_fe0f\",\"1f937_1f3fe\":\"1f937_1f3fe_200d_2640_fe0f\",\"1f937_1f3fc\":\"1f937_1f3fc_200d_2640_fe0f\",\"1f481\":\"1f481_200d_2640_fe0f\",\"1f481_1f3ff\":\"1f481_1f3ff_200d_2640_fe0f\",\"1f481_1f3fb\":\"1f481_1f3fb_200d_2640_fe0f\",\"1f481_1f3fd\":\"1f481_1f3fd_200d_2640_fe0f\",\"1f481_1f3fe\":\"1f481_1f3fe_200d_2640_fe0f\",\"1f481_1f3fc\":\"1f481_1f3fc_200d_2640_fe0f\",\"1f46f\":\"1f46f_200d_2640_fe0f\",\"1f46f_1f3ff\":\"1f46f_1f3ff_200d_2640_fe0f\",\"1f46f_1f3fb\":\"1f46f_1f3fb_200d_2640_fe0f\",\"1f46f_1f3fd\":\"1f46f_1f3fd_200d_2640_fe0f\",\"1f46f_1f3fe\":\"1f46f_1f3fe_200d_2640_fe0f\",\"1f46f_1f3fc\":\"1f46f_1f3fc_200d_2640_fe0f\",\"1f939_200d_2640\":\"1f939\",\"1f939_1f3ff_200d_2640\":\"1f939_1f3ff\",\"1f939_1f3fb_200d_2640\":\"1f939_1f3fb\",\"1f939_1f3fd_200d_2640\":\"1f939_1f3fd\",\"1f939_1f3fe_200d_2640\":\"1f939_1f3fe\",\"1f939_1f3fc_200d_2640\":\"1f939_1f3fc\",\"1f939_200d_2642\":\"1f939\",\"1f939_1f3ff_200d_2642\":\"1f939_1f3ff\",\"1f939_1f3fb_200d_2642\":\"1f939_1f3fb\",\"1f939_1f3fd_200d_2642\":\"1f939_1f3fd\",\"1f939_1f3fe_200d_2642\":\"1f939_1f3fe\",\"1f939_1f3fc_200d_2642\":\"1f939_1f3fc\",\"1f48f\":\"1f469_200d_2764_fe0f_200d_1f48b_200d_1f468\",\"1f491\":\"1f469_200d_2764_fe0f_200d_1f468\",\"1f46a\":\"1f468_200d_1f469_200d_1f466\"},\"hasFBEmoji\":true,\"hasFBEmojiInComposer\":false,\"pixelRatio\":\"1\",\"schemaAuth\":\"https:\\/\\/static.xx.fbcdn.net\\/images\\/emoji.php\\/v7\"},1421],[\"FamilyMentionsData\",[],{\"allowFamilyNames\":false,\"hasAcceptedNUX\":false},708],[\"ReactionsMenuRenderGatekeepers\",[],{\"reactions_menu_defer_render\":false},1814],[\"NYE2017CommentSettings\",[],{\"shouldAnimate\":false,\"shouldHighlight\":false},1986],[\"UFISpamCountImpl\",[],{\"module\":null},72],[\"BigPipeExperiments\",[],{\"preparse_content\":\"\",\"link_images_to_pagelets\":false,\"enable_bigpipe_plugins\":false},907],[\"UFIConfig\",[],{\"commentVPVD\":{\"debug_console\":false,\"debug_html\":false,\"idle_timeout\":5000,\"locations\":[\"permalink\",\"newsstand\"],\"everywhere\":true,\"min_duration_to_log\":100,\"min_visible_size\":200},\"enableCommentListVisibilityTracking\":false,\"defaultPageSize\":50,\"renderEmoji\":true,\"renderEmoticons\":true,\"shouldShowStickerNUX\":false,\"shouldShowVideosInCommentsNux\":false,\"shouldShowMarkdownCommentNUX\":false,\"shouldShowHideConstituentTitleNUX\":false,\"shouldShowOwnerConstituentTitleNUX\":false,\"vpvLoggingTimeout\":1000,\"facecastWWWCommentQueueThreshold\":3,\"canPublishLive\":false,\"logChangeOrderingModeUsageSampleRate\":1,\"logCommentsTimespent\":true,\"logWhetherUFISeen\":false,\"showHashtagTypeahead\":false,\"numberDelimiter\":\",\",\"reshareedu\":true,\"logCommentPost\":false,\"logCommentLoad\":false,\"reactionsHasDirectReactTokens\":false,\"reactionsHasDirectReactTokensCounts\":false,\"reactionsDirectReactTokensModule\":null,\"reactionsFunnelLogger\":null,\"reactionsHasFunnelLogger\":false,\"reactionsHasCommentFunnelLogger\":false,\"reactionsHasCommentsNux\":false,\"reactionsHasTooltipBreakdown\":false,\"reactionsHasMegaDock\":false,\"reactionsPopupDockAnimationDuration\":700,\"reactionsHasAnimatedVectorDock\":false,\"reactionsHasAnimatedIconsOnHover\":false,\"reactionsHasStaticVectorDock\":false,\"reactionsHasStaticFileVectorDock\":false,\"reactionsHasThemes\":false,\"reactionsTheme\":null,\"reactionsHasSuggestedReaction\":false,\"reactionsHasReactionsRollback\":true,\"reactionsHasCommentReactionsRollback\":true,\"reactionsHasReactionsRetry\":true,\"reactionsHasCommentReactionsRetry\":true,\"reactionsHasCompactCommentBling\":false,\"reactionsHasSharedCommentBlingTooltip\":false,\"reactionsHasShorterCommentDockHotspot\":false,\"reactionsHasCommentDockBelow\":false,\"showCommentEmbedOption\":true,\"showLiveVideoAnnoucements\":false,\"alwaysPreviewSticker\":false,\"publicConversationsUnicornWhitelist\":false,\"typingIndicator\":{\"subscribe\":false,\"showInline\":false,\"showPill\":false,\"fromEveryone\":false},\"maxSubscriptionLiveCommentsQueueLength\":10,\"showChooseLoveAnimation\":false,\"feedfocusWrapperModule\":null,\"shouldTranslationsReplaceContent\":false,\"shouldLogFacecastStreamingCommentDelay\":false,\"showUFICrowdsource\":false,\"flushEventQueueBeforeRenderTimeout\":0,\"flushEventQueueBeforeRenderUseIdleCallback\":false,\"hasFaceliftCommentComposerIcons\":false,\"prefetchTextTriggerAnimation\":false},71],[\"FbtQTOverrides\",[],{\"overrides\":{\"1_65c3391ebe4a1af8364ca4fbb8cb54d1\":\"Mobile Number or Email:\",\"1_9171ad6e2268759887b1b45d16139587\":\"Boost This Post Again\",\"1_a062f489af17feff21bd65b765245aa0\":\"Name or email\"}},551]]);new (require(\"ServerJS\"))().setServerFeatures(\"i0\").handle({\"instances\":[[\"__inst_84473062_0_0\",[\"URI\"],[\"\\/api\\/graphqlbatch\\/\"],1],[\"__inst_84473062_0_1\",[\"URI\"],[\"\\/api\\/graphql\\/\"],1]],\"require\":[[\"TimeSlice\"],[\"markJSEnabled\"],[\"lowerDomain\"],[\"URLFragmentPrelude\"],[\"Primer\"],[\"BigPipe\"],[\"Bootloader\"],[\"TimeSlice\",\"disablePageHeartbeat\",[],[],[]]]});}, \"ServerJS define\", {\"root\":true})();</script></head><body class=\"fbIndex UIPage_LoggedOut _-kb b_c3pyn-ahh x1 Locale_en_US\" dir=\"ltr\"><div class=\"_li\"><div data-referrer=\"pagelet_bluebar\" id=\"pagelet_bluebar\"><div id=\"blueBarDOMInspector\"><div class=\"_53jh\"><div class=\"loggedout_menubar_container\"><div class=\"clearfix loggedout_menubar\"><div class=\"lfloat _ohe\"><h1><a href=\"https://www.facebook.com/\" title=\"Go to Facebook Home\"><i class=\"fb_logo img sp_qRcdOzINzTb sx_d37719\"><u>Facebook</u></i></a></h1></div><div class=\"menu_login_container rfloat _ohf\"><form action=\"https://www.facebook.com/login.php?login_attempt=1&amp;lwv=110\" id=\"login_form\" method=\"post\" novalidate=\"1\" onsubmit=\"return window.Event &amp;&amp; Event.__inlineSubmit &amp;&amp; Event.__inlineSubmit(this,event)\"><input autocomplete=\"off\" name=\"lsd\" type=\"hidden\" value=\"AVpMLiWo\"/><table cellspacing=\"0\" role=\"presentation\"><tr><td class=\"html7magic\"><label for=\"email\">Email or Phone</label></td><td class=\"html7magic\"><label for=\"pass\">Password</label></td></tr><tr><td><input class=\"inputtext\" id=\"email\" name=\"email\" tabindex=\"1\" type=\"email\" value=\"\"/></td><td><input class=\"inputtext\" id=\"pass\" name=\"pass\" tabindex=\"2\" type=\"password\"/></td><td><label class=\"uiButton uiButtonConfirm\" for=\"u_0_q\" id=\"loginbutton\" style=\"\"><input id=\"u_0_q\" tabindex=\"4\" type=\"submit\" value=\"Log In\"/></label></td></tr><tr><td class=\"login_form_label_field\"></td><td class=\"login_form_label_field\"><div><a data-testid=\"forgot_account_link\" href=\"https://www.facebook.com/recover/initiate?lwv=110\">Forgot account?</a></div></td></tr></table><input autocomplete=\"off\" id=\"u_0_r\" name=\"timezone\" type=\"hidden\" value=\"\"/><input autocomplete=\"off\" id=\"u_0_s\" name=\"lgndim\" type=\"hidden\" value=\"\"/><input name=\"lgnrnd\" type=\"hidden\" value=\"021252_No6s\"/><input id=\"lgnjs\" name=\"lgnjs\" type=\"hidden\" value=\"n\"/><input autocomplete=\"off\" name=\"ab_test_data\" type=\"hidden\" value=\"\"/><input autocomplete=\"off\" id=\"locale\" name=\"locale\" type=\"hidden\" value=\"en_US\"/><input autocomplete=\"off\" name=\"next\" type=\"hidden\" value=\"https://www.facebook.com/\"/></form></div></div></div></div></div></div><div class=\"uiContextualLayerParent\" id=\"globalContainer\"><div class=\"fb_content clearfix \" id=\"content\" role=\"main\"><div><div class=\"_50dz\"><style type=\"text/css\"> .product_desc { width: 440px; } </style><div style=\"background: #edf0f5\"><div class=\"pvl\" style=\"width: 980px; margin: 0 auto\"><div class=\"_7d _6_ _76\"><h2 class=\"inlineBlock _6n _6s _6v\" style=\"padding: 42px 0 24px; font-size: 28px; line-height: 36px\"> Connect with friends and the<br/>world around you on Facebook. </h2><div class=\"mtl pbm\"><div class=\"_6a _6b mrl\" style=\"text-align: center; width: 55px\"><img alt=\"\" class=\"img\" src=\"https://fb-s-d-a.akamaihd.net/h-ak-xft1/v/t39.2365-6/851565_602269956474188_918638970_n.png?oh=894e994a5ae3ec3434da54fe42e31e72&amp;oe=5971E6F5&amp;__gda__=1500718098_effe0b8bd493ae0c23cc14fa99bda630\" style=\"vertical-align: middle\"/></div><div class=\"_6a _6b product_desc\"><span class=\"mtl _6p _6s _6v\"> See photos and updates </span><span class=\"mlm _6q _6t _mf\"> from friends in News Feed. </span></div></div><div class=\"mtl pbm\"><div class=\"_6a _6b mrl\" style=\"text-align: center; width: 55px\"><img alt=\"\" class=\"img\" src=\"https://fb-s-c-a.akamaihd.net/h-ak-xaf1/v/t39.2365-6/851585_216271631855613_2121533625_n.png?oh=ae821220803265e80c0c261997b83a1b&amp;oe=59295120&amp;__gda__=1497190408_0486a6ea1853cf469372ef8567d0d7fe\" style=\"vertical-align: middle\"/></div><div class=\"_6a _6b product_desc\"><span class=\"mtl _6p _6s _6v\"> Share what's new </span><span class=\"mlm _6q _6t _mf\"> in your life on your Timeline. </span></div></div><div class=\"mtl pbm\"><div class=\"_6a _6b mrl\" style=\"text-align: center; width: 55px\"><img alt=\"\" class=\"img\" src=\"https://fb-s-b-a.akamaihd.net/h-ak-xft1/v/t39.2365-6/851558_160351450817973_1678868765_n.png?oh=123d01aeecc805fe97af94613ce20560&amp;oe=593227D8&amp;__gda__=1497378870_ba5e26d097cfe30e26f0c65656556695\" style=\"vertical-align: middle\"/></div><div class=\"_6a _6b product_desc\"><span class=\"mtl _6p _6s _6v\"> Find more </span><span class=\"mlm _6q _6t _mf\"> of what you're looking for with Facebook Search. </span></div></div></div><div class=\"_6_ _74\"><h2 class=\"mbs _6n _6s _6v\" style=\"font-size: 36px\">Sign Up</h2><div class=\"mbl _6o _6s _mf\">Itâs free and always will be.</div><div><div><noscript><div id=\"no_js_box\"><h2>JavaScript is disabled on your browser.</h2><p>Please enable JavaScript on your browser or upgrade to a JavaScript-capable browser to register for Facebook.</p></div></noscript><div class=\"_58mf\"><div class=\"registration_redesign\" id=\"reg_box\"><div><div class=\"hidden_elem _58mn\" id=\"reg_error\" role=\"alert\"><div class=\"_58mo\" id=\"reg_error_inner\" tabindex=\"0\">An error occurred. Please try again.</div></div><form action=\"https://m.facebook.com/reg/\" id=\"reg\" method=\"post\" name=\"reg\" onsubmit=\"return function(event){return false;}.call(this,event)!==false &amp;&amp; window.Event &amp;&amp; Event.__inlineSubmit &amp;&amp; Event.__inlineSubmit(this,event)\"><input autocomplete=\"off\" name=\"lsd\" type=\"hidden\" value=\"AVpMLiWo\"/><div class=\"large_form\" id=\"reg_form_box\"><div class=\"_1ixn\" id=\"fullname_field\"><div class=\"clearfix _58mh\"><div class=\"mbm _1iy_ _a4y _3-90 lfloat _ohe\"><div class=\"_5dbb\" id=\"u_0_0\"><input aria-label=\"First name\" aria-required=\"1\" class=\"inputtext _58mg _5dba _2ph-\" data-type=\"text\" id=\"u_0_1\" name=\"firstname\" placeholder=\"First name\" type=\"text\"/><i class=\"_5dbc img sp_CKdQ8U6gnwd sx_c195a4\"></i><i class=\"_5dbd img sp_CKdQ8U6gnwd sx_4c0d6b\"></i><i class=\"_1iz9 img sp_CKdQ8U6gnwd sx_1a9653\"></i><div class=\"_1pc_\"></div></div></div><div class=\"mbm _1iy_ _a4y rfloat _ohf\"><div class=\"_5dbb\" id=\"u_0_2\"><input aria-label=\"Last name\" aria-required=\"1\" class=\"inputtext _58mg _5dba _2ph-\" data-type=\"text\" id=\"u_0_3\" name=\"lastname\" placeholder=\"Last name\" type=\"text\"/><i class=\"_5dbc img sp_CKdQ8U6gnwd sx_c195a4\"></i><i class=\"_5dbd img sp_CKdQ8U6gnwd sx_4c0d6b\"></i><i class=\"_1iz9 img sp_CKdQ8U6gnwd sx_1a9653\"></i><div class=\"_1pc_\"></div></div></div></div><div class=\"_1pc_\" id=\"fullname_error_msg\"></div></div><div class=\"mbm _a4y\" id=\"u_0_4\"><div class=\"_5dbb\" id=\"u_0_5\"><input aria-label=\"Mobile number or email\" aria-required=\"1\" class=\"inputtext _58mg _5dba _2ph-\" data-type=\"text\" id=\"u_0_6\" name=\"reg_email__\" placeholder=\"Mobile number or email\" type=\"text\"/><i class=\"_5dbc img sp_CKdQ8U6gnwd sx_c195a4\"></i><i class=\"_5dbd img sp_CKdQ8U6gnwd sx_4c0d6b\"></i><i class=\"_1iz9 img sp_CKdQ8U6gnwd sx_1a9653\"></i><div class=\"_1pc_\"></div></div></div><div class=\"mbm _a4y\" id=\"u_0_7\"><div class=\"_5dbb\" id=\"u_0_8\"><input aria-label=\"Re-enter mobile number or email\" aria-required=\"1\" class=\"inputtext _58mg _5dba _2ph-\" data-type=\"text\" id=\"u_0_9\" name=\"reg_email_confirmation__\" placeholder=\"Re-enter mobile number or email\" type=\"text\"/><i class=\"_5dbc img sp_CKdQ8U6gnwd sx_c195a4\"></i><i class=\"_5dbd img sp_CKdQ8U6gnwd sx_4c0d6b\"></i><i class=\"_1iz9 img sp_CKdQ8U6gnwd sx_1a9653\"></i><div class=\"_1pc_\"></div></div></div><div class=\"mbm _a4y hidden_elem\" id=\"u_0_a\"><input aria-label=\"Mobile Number\" class=\"inputtext _58mg _5dba _2ph-\" data-type=\"text\" id=\"u_0_b\" name=\"reg_second_contactpoint__\" placeholder=\"Mobile Number\" type=\"text\"/></div><div class=\"mbm _a4y\" id=\"password_field\"><div class=\"_5dbb\" id=\"u_0_c\"><input aria-label=\"New password\" aria-required=\"1\" class=\"inputtext _58mg _5dba _2ph-\" data-type=\"text\" id=\"u_0_d\" name=\"reg_passwd__\" placeholder=\"New password\" type=\"password\"/><i class=\"_5dbc img sp_CKdQ8U6gnwd sx_c195a4\"></i><i class=\"_5dbd img sp_CKdQ8U6gnwd sx_4c0d6b\"></i><i class=\"_1iz9 img sp_CKdQ8U6gnwd sx_1a9653\"></i><div class=\"_1pc_\"></div></div></div><div class=\"_58mq _5dbb\" id=\"u_0_e\"><div class=\"mtm mbs _2_68\">Birthday</div><div class=\"_5k_5\"><span class=\"_5k_4\" data-name=\"birthday_wrapper\" data-type=\"selectors\" id=\"u_0_f\"><span><select aria-label=\"Month\" class=\"_5dba\" id=\"month\" name=\"birthday_month\" title=\"Month\"><option selected=\"1\" value=\"0\">Month</option><option value=\"1\">Jan</option><option value=\"2\">Feb</option><option value=\"3\">Mar</option><option value=\"4\">Apr</option><option value=\"5\">May</option><option value=\"6\">Jun</option><option value=\"7\">Jul</option><option value=\"8\">Aug</option><option value=\"9\">Sep</option><option value=\"10\">Oct</option><option value=\"11\">Nov</option><option value=\"12\">Dec</option></select><select aria-label=\"Day\" class=\"_5dba\" id=\"day\" name=\"birthday_day\" title=\"Day\"><option selected=\"1\" value=\"0\">Day</option><option value=\"1\">1</option><option value=\"2\">2</option><option value=\"3\">3</option><option value=\"4\">4</option><option value=\"5\">5</option><option value=\"6\">6</option><option value=\"7\">7</option><option value=\"8\">8</option><option value=\"9\">9</option><option value=\"10\">10</option><option value=\"11\">11</option><option value=\"12\">12</option><option value=\"13\">13</option><option value=\"14\">14</option><option value=\"15\">15</option><option value=\"16\">16</option><option value=\"17\">17</option><option value=\"18\">18</option><option value=\"19\">19</option><option value=\"20\">20</option><option value=\"21\">21</option><option value=\"22\">22</option><option value=\"23\">23</option><option value=\"24\">24</option><option value=\"25\">25</option><option value=\"26\">26</option><option value=\"27\">27</option><option value=\"28\">28</option><option value=\"29\">29</option><option value=\"30\">30</option><option value=\"31\">31</option></select><select aria-label=\"Year\" class=\"_5dba\" id=\"year\" name=\"birthday_year\" title=\"Year\"><option selected=\"1\" value=\"0\">Year</option><option value=\"2017\">2017</option><option value=\"2016\">2016</option><option value=\"2015\">2015</option><option value=\"2014\">2014</option><option value=\"2013\">2013</option><option value=\"2012\">2012</option><option value=\"2011\">2011</option><option value=\"2010\">2010</option><option value=\"2009\">2009</option><option value=\"2008\">2008</option><option value=\"2007\">2007</option><option value=\"2006\">2006</option><option value=\"2005\">2005</option><option value=\"2004\">2004</option><option value=\"2003\">2003</option><option value=\"2002\">2002</option><option value=\"2001\">2001</option><option value=\"2000\">2000</option><option value=\"1999\">1999</option><option value=\"1998\">1998</option><option value=\"1997\">1997</option><option value=\"1996\">1996</option><option value=\"1995\">1995</option><option value=\"1994\">1994</option><option value=\"1993\">1993</option><option value=\"1992\">1992</option><option value=\"1991\">1991</option><option value=\"1990\">1990</option><option value=\"1989\">1989</option><option value=\"1988\">1988</option><option value=\"1987\">1987</option><option value=\"1986\">1986</option><option value=\"1985\">1985</option><option value=\"1984\">1984</option><option value=\"1983\">1983</option><option value=\"1982\">1982</option><option value=\"1981\">1981</option><option value=\"1980\">1980</option><option value=\"1979\">1979</option><option value=\"1978\">1978</option><option value=\"1977\">1977</option><option value=\"1976\">1976</option><option value=\"1975\">1975</option><option value=\"1974\">1974</option><option value=\"1973\">1973</option><option value=\"1972\">1972</option><option value=\"1971\">1971</option><option value=\"1970\">1970</option><option value=\"1969\">1969</option><option value=\"1968\">1968</option><option value=\"1967\">1967</option><option value=\"1966\">1966</option><option value=\"1965\">1965</option><option value=\"1964\">1964</option><option value=\"1963\">1963</option><option value=\"1962\">1962</option><option value=\"1961\">1961</option><option value=\"1960\">1960</option><option value=\"1959\">1959</option><option value=\"1958\">1958</option><option value=\"1957\">1957</option><option value=\"1956\">1956</option><option value=\"1955\">1955</option><option value=\"1954\">1954</option><option value=\"1953\">1953</option><option value=\"1952\">1952</option><option value=\"1951\">1951</option><option value=\"1950\">1950</option><option value=\"1949\">1949</option><option value=\"1948\">1948</option><option value=\"1947\">1947</option><option value=\"1946\">1946</option><option value=\"1945\">1945</option><option value=\"1944\">1944</option><option value=\"1943\">1943</option><option value=\"1942\">1942</option><option value=\"1941\">1941</option><option value=\"1940\">1940</option><option value=\"1939\">1939</option><option value=\"1938\">1938</option><option value=\"1937\">1937</option><option value=\"1936\">1936</option><option value=\"1935\">1935</option><option value=\"1934\">1934</option><option value=\"1933\">1933</option><option value=\"1932\">1932</option><option value=\"1931\">1931</option><option value=\"1930\">1930</option><option value=\"1929\">1929</option><option value=\"1928\">1928</option><option value=\"1927\">1927</option><option value=\"1926\">1926</option><option value=\"1925\">1925</option><option value=\"1924\">1924</option><option value=\"1923\">1923</option><option value=\"1922\">1922</option><option value=\"1921\">1921</option><option value=\"1920\">1920</option><option value=\"1919\">1919</option><option value=\"1918\">1918</option><option value=\"1917\">1917</option><option value=\"1916\">1916</option><option value=\"1915\">1915</option><option value=\"1914\">1914</option><option value=\"1913\">1913</option><option value=\"1912\">1912</option><option value=\"1911\">1911</option><option value=\"1910\">1910</option><option value=\"1909\">1909</option><option value=\"1908\">1908</option><option value=\"1907\">1907</option><option value=\"1906\">1906</option><option value=\"1905\">1905</option></select></span></span><a ajaxify=\"/help/ajax/reg_birthday/\" class=\"mlm _58ms\" href=\"#\" id=\"birthday-help\" rel=\"async\" role=\"button\" title=\"Click for more information\">Why do I need to provide my birthday?</a><i class=\"_5dbc _5k_6 img sp_CKdQ8U6gnwd sx_c195a4\"></i><i class=\"_5dbd _5k_7 img sp_CKdQ8U6gnwd sx_4c0d6b\"></i><i class=\"_1iz9 _3jb- img sp_CKdQ8U6gnwd sx_1a9653\"></i><div class=\"_1pc_\"></div></div></div><div class=\"mtm _5wa2 _5dbb\" id=\"u_0_m\"><span class=\"_5k_3\" data-name=\"gender_wrapper\" data-type=\"radio\" id=\"u_0_n\"><span class=\"_5k_2 _5dba\"><input id=\"u_0_k\" name=\"sex\" type=\"radio\" value=\"1\"/><label class=\"_58mt\" for=\"u_0_k\">Female</label></span><span class=\"_5k_2 _5dba\"><input id=\"u_0_l\" name=\"sex\" type=\"radio\" value=\"2\"/><label class=\"_58mt\" for=\"u_0_l\">Male</label></span></span><i class=\"_5dbc _5k_6 img sp_CKdQ8U6gnwd sx_c195a4\"></i><i class=\"_5dbd _5k_7 img sp_CKdQ8U6gnwd sx_4c0d6b\"></i><i class=\"_1iz9 _3jb- img sp_CKdQ8U6gnwd sx_1a9653\"></i><div class=\"_1pc_\"></div></div><div class=\"_58mu\" data-nocookies=\"1\" id=\"u_0_g\"><p class=\"_58mv\">By clicking Create Account, you agree to our <a href=\"/legal/terms\" id=\"terms-link\" rel=\"nofollow\" target=\"_blank\">Terms</a> and that you have read our <a href=\"/about/privacy\" id=\"privacy-link\" rel=\"nofollow\" target=\"_blank\">Data Policy</a>, including our <a href=\"/policies/cookies/\" id=\"cookie-use-link\" rel=\"nofollow\" target=\"_blank\">Cookie Use</a>. You may receive SMS Notifications from Facebook and can opt out at any time.</p></div><div class=\"clearfix\"><button class=\"_6j mvm _6wk _6wl _58mi _6o _6v\" id=\"u_0_h\" name=\"websubmit\" type=\"submit\">Create Account</button><span class=\"hidden_elem _58ml\" id=\"u_0_o\"><img alt=\"\" class=\"img\" height=\"11\" src=\"https://static.xx.fbcdn.net/rsrc.php/v3/yb/r/GsNJNwuI-UM.gif\" width=\"16\"/></span></div></div><input autocomplete=\"off\" id=\"referrer\" name=\"referrer\" type=\"hidden\" value=\"\"/><input autocomplete=\"off\" id=\"asked_to_login\" name=\"asked_to_login\" type=\"hidden\"/><input autocomplete=\"off\" id=\"terms\" name=\"terms\" type=\"hidden\" value=\"on\"/><input autocomplete=\"off\" id=\"reg_instance\" name=\"reg_instance\" type=\"hidden\" value=\"pFixWBLahceK29AcKDoxIeo0\"/><input autocomplete=\"off\" id=\"contactpoint_label\" name=\"contactpoint_label\" type=\"hidden\" value=\"email_or_phone\"/><input autocomplete=\"off\" id=\"ignore\" name=\"ignore\" type=\"hidden\" value=\"reg_second_contactpoint__\"/><input autocomplete=\"off\" id=\"locale\" name=\"locale\" type=\"hidden\" value=\"en_US\"/><div class=\"_58mw hidden_elem\" id=\"reg_captcha\"><div><h2 id=\"security_check_header\">Security Check</h2><div id=\"outer_captcha_box\"><div id=\"captcha_box\"><div class=\"field_error hidden_elem\" id=\"captcha_response_error\">This field is required.</div><div class=\"captcha\" data-captcha-class=\"ReCaptchaCaptcha\" id=\"captcha\"><input autocomplete=\"off\" id=\"captcha_persist_data\" name=\"captcha_persist_data\" type=\"hidden\" value=\"AZn2GsA7E4WrRi-YZSa6DfGzc5PfCgL56U5kji9xuFfJe_QE4WL2JlrsweusPcovAFSsXnaXPurzNJsJYOrcz4tKTWWUX5QEryyyhKDjgFCcXpyDYtNF_UWn56cYf9kzzTbhurQTAg4-Y2WZGD8tCmJOI2P-M1GrsIMJDy8Xk8AgLLPUJWHQ7dT2D9Sym49OH7S2hbenjSsPp2n9tln5K2tO2WxEcwwQji0Vs8ryw6nRwfPbA4L6wrZtxuBqr5Q3q8_RT7-KlIg9lIxH0JEx3YgllZJw4vtvUdQ-EkgUyuF-v6vU3p3GeR9FiOs_VSi_OjYpn-y8jRtGpKaqCWniUIlmnK2mtEGrDv7ovX9e45Vp8g\"/><div id=\"recaptcha_scripts\" style=\"display:none\"></div><div><input autocomplete=\"off\" id=\"captcha_session\" name=\"captcha_session\" type=\"hidden\" value=\"HCdUFM1ZQCVcfb2Lr_WTow\"/><input autocomplete=\"off\" id=\"extra_challenge_params\" name=\"extra_challenge_params\" type=\"hidden\" value=\"authp=nonce.tt.time.new_audio_default&amp;psig=81zZQH5bHkNufDjFi0q1WM72vQw&amp;nonce=HCdUFM1ZQCVcfb2Lr_WTow&amp;tt=1ZOffoe8RclFHcdX9c5S5nbvevQ&amp;time=1488017572&amp;new_audio_default=1\"/><input autocomplete=\"off\" id=\"recaptcha_type\" name=\"recaptcha_type\" type=\"hidden\" value=\"password\"/></div><div class=\"recaptcha_text\"><div class=\"recaptcha_only_if_image\">Can't read the words below? <a href=\"#\" id=\"recaptcha_reload_btn\" onclick=\"Recaptcha.reload(); return false\" role=\"button\">Try different words</a>.</div><div class=\"recaptcha_only_if_audio\" style=\"display:none\">Please enter the words or numbers you hear.<br/><a href=\"#\" id=\"recaptcha_reload_btn\" onclick=\"Recaptcha.reload(); return false\" role=\"button\">Try different words</a> or <a href=\"#\" onclick='Recaptcha.switch_type(\"image\");\n",
       "                                     return false;' role=\"button\">back to text</a>.</div></div><span id=\"recaptcha_play_audio\"></span><div class=\"audiocaptcha\"></div><div class=\"captcha_image\" id=\"recaptcha_image\"></div><div id=\"recaptcha_loading\">Loading...<img alt=\"\" class=\"captcha_loading img\" height=\"11\" src=\"https://static.xx.fbcdn.net/rsrc.php/v3/yb/r/GsNJNwuI-UM.gif\" width=\"16\"/></div><div class=\"captcha_input\"><label>Enter the text you see above.</label><div class=\"field_container\"><input aria-label=\"Captcha input. Type the words listed above to continue. You may try an audio captcha by clicking the link above. Press captcha play button to play the audio then enter the spoken words in this field.\" autocomplete=\"off\" class=\"inputtext\" id=\"captcha_response\" name=\"captcha_response\" type=\"text\"/></div><a class=\"mlm\" href=\"#\" onclick=\"CSS.show($('captcha_whats_this')); return false;\" role=\"button\">Why am I seeing this?</a><div class=\"hidden_elem\" id=\"captcha_whats_this\"><div class=\"fsl fwb\">Security Check</div>This is a standard security test that we use to prevent spammers from creating fake accounts and spamming users.</div></div></div></div></div><div class=\"_58p2 clearfix hidden_elem\" id=\"captcha_buttons\"><div class=\"_58mx _58mm\"><div class=\"_58mz\"> Â  </div><a class=\"_58my\" href=\"#\" id=\"u_0_i\" role=\"button\">Back</a></div><div class=\"_58mm\"><div class=\"clearfix\"><button class=\"_6j mvm _6wk _6wl _58me _58mi _6o _6v\" id=\"u_0_j\" type=\"submit\">Sign Up</button><span class=\"hidden_elem _58ml\" id=\"u_0_p\"><img alt=\"\" class=\"img\" height=\"11\" src=\"https://static.xx.fbcdn.net/rsrc.php/v3/yb/r/GsNJNwuI-UM.gif\" width=\"16\"/></span></div></div></div></div></div></form></div><div class=\"_58mk\" id=\"reg_pages_msg\"><a href=\"/pages/create/?ref_type=registration_form\">Create a Page</a> for a celebrity, band or business.</div></div></div></div></div></div></div></div></div></div></div><div><div data-referrer=\"page_footer\" id=\"pageFooter\"><ul class=\"uiList localeSelectorList _2pid _509- _4ki _6-h _6-j _6-i\" data-nocookies=\"1\"><li>English (US)</li><li><a dir=\"ltr\" href=\"https://ne-np.facebook.com/\" onclick='require(\"IntlUtils\").setCookieLocale(\"ne_NP\", \"en_US\", \"https:\\/\\/ne-np.facebook.com\\/\", \"www_list_selector\", 0); return false;' title=\"Nepali\">à¤¨à¥à¤ªà¤¾à¤²à¥</a></li><li><a dir=\"ltr\" href=\"https://hi-in.facebook.com/\" onclick='require(\"IntlUtils\").setCookieLocale(\"hi_IN\", \"en_US\", \"https:\\/\\/hi-in.facebook.com\\/\", \"www_list_selector\", 1); return false;' title=\"Hindi\">à¤¹à¤¿à¤¨à¥à¤¦à¥</a></li><li><a dir=\"ltr\" href=\"https://es-la.facebook.com/\" onclick='require(\"IntlUtils\").setCookieLocale(\"es_LA\", \"en_US\", \"https:\\/\\/es-la.facebook.com\\/\", \"www_list_selector\", 2); return false;' title=\"Spanish\">EspaÃ±ol</a></li><li><a dir=\"ltr\" href=\"https://pt-br.facebook.com/\" onclick='require(\"IntlUtils\").setCookieLocale(\"pt_BR\", \"en_US\", \"https:\\/\\/pt-br.facebook.com\\/\", \"www_list_selector\", 3); return false;' title=\"Portuguese (Brazil)\">PortuguÃªs (Brasil)</a></li><li><a dir=\"ltr\" href=\"https://ja-jp.facebook.com/\" onclick='require(\"IntlUtils\").setCookieLocale(\"ja_JP\", \"en_US\", \"https:\\/\\/ja-jp.facebook.com\\/\", \"www_list_selector\", 4); return false;' title=\"Japanese\">æ¥æ¬èª</a></li><li><a dir=\"ltr\" href=\"https://fr-fr.facebook.com/\" onclick='require(\"IntlUtils\").setCookieLocale(\"fr_FR\", \"en_US\", \"https:\\/\\/fr-fr.facebook.com\\/\", \"www_list_selector\", 5); return false;' title=\"French (France)\">FranÃ§ais (France)</a></li><li><a dir=\"ltr\" href=\"https://de-de.facebook.com/\" onclick='require(\"IntlUtils\").setCookieLocale(\"de_DE\", \"en_US\", \"https:\\/\\/de-de.facebook.com\\/\", \"www_list_selector\", 6); return false;' title=\"German\">Deutsch</a></li><li><a dir=\"ltr\" href=\"https://it-it.facebook.com/\" onclick='require(\"IntlUtils\").setCookieLocale(\"it_IT\", \"en_US\", \"https:\\/\\/it-it.facebook.com\\/\", \"www_list_selector\", 7); return false;' title=\"Italian\">Italiano</a></li><li><a dir=\"rtl\" href=\"https://ar-ar.facebook.com/\" onclick='require(\"IntlUtils\").setCookieLocale(\"ar_AR\", \"en_US\", \"https:\\/\\/ar-ar.facebook.com\\/\", \"www_list_selector\", 8); return false;' title=\"Arabic\">Ø§ÙØ¹Ø±Ø¨ÙØ©</a></li><li><a dir=\"ltr\" href=\"https://zh-cn.facebook.com/\" onclick='require(\"IntlUtils\").setCookieLocale(\"zh_CN\", \"en_US\", \"https:\\/\\/zh-cn.facebook.com\\/\", \"www_list_selector\", 9); return false;' title=\"Simplified Chinese (China)\">ä¸­æ(ç®ä½)</a></li><li><a ajaxify=\"/settings/language/language/?uri=https%3A%2F%2Fzh-cn.facebook.com%2F&amp;source=www_list_selector_more\" class=\"_42ft _4jy0 _517i _517h _51sy\" href=\"#\" rel=\"dialog\" role=\"button\" title=\"Show more languages\"><i class=\"img sp_qRcdOzINzTb sx_1123d2\"></i></a></li></ul><div id=\"contentCurve\"></div><div aria-label=\"Facebook site links\" role=\"contentinfo\"><table cellpadding=\"0\" cellspacing=\"0\" class=\"uiGrid _51mz navigationGrid\"><tbody><tr class=\"_51mx\"><td class=\"_51m- hLeft plm\"><a href=\"/r.php\" title=\"Sign Up for Facebook\">Sign Up</a></td><td class=\"_51m- hLeft plm\"><a href=\"/login/\" title=\"Log into Facebook\">Log In</a></td><td class=\"_51m- hLeft plm\"><a href=\"https://messenger.com/\" title=\"Check out Messenger.\">Messenger</a></td><td class=\"_51m- hLeft plm\"><a href=\"/lite/\" title=\"Facebook Lite for Android.\">Facebook Lite</a></td><td class=\"_51m- hLeft plm\"><a href=\"/mobile/?ref=pf\" title=\"Check out Facebook Mobile.\">Mobile</a></td><td class=\"_51m- hLeft plm\"><a href=\"/find-friends?ref=pf\" title=\"Find anyone on the web.\">Find Friends</a></td><td class=\"_51m- hLeft plm\"><a href=\"/directory/people/\" title=\"Browse our people directory.\">People</a></td><td class=\"_51m- hLeft plm\"><a href=\"/directory/pages/\" title=\"Browse our pages directory.\">Pages</a></td><td class=\"_51m- hLeft plm\"><a href=\"/places/\" title=\"Check out popular places on Facebook.\">Places</a></td><td class=\"_51m- hLeft plm\"><a href=\"/games/\" title=\"Check out Facebook games.\">Games</a></td><td class=\"_51m- hLeft plm _51mw\"><a href=\"/directory/places/\" title=\"Browse our places directory.\">Locations</a></td></tr><tr class=\"_51mx\"><td class=\"_51m- hLeft plm\"><a href=\"/directory/celebrities/\" title=\"Browse our Public Figures &amp; Celebrities directory.\">Celebrities</a></td><td class=\"_51m- hLeft plm\"><a href=\"/directory/groups/\" title=\"Browse our Groups directory.\">Groups</a></td><td class=\"_51m- hLeft plm\"><a href=\"http://l.facebook.com/l.php?u=http%3A%2F%2Fmomentsapp.com%2F&amp;h=ATNwSfWib5W2IZQ8TdEyi4AKkWfEf8k2_prj9G29vxXNxGwmmIoHiVejBomPryHpT_hvaj5_66AjPXKqMrr5KtxhiL9CDTYS_oTrWKqjNarp1jUWnJdJ_8g&amp;s=1\" onclick='LinkshimAsyncLink.swap(this, \"http:\\/\\/l.facebook.com\\/l.php?u=http\\u00253A\\u00252F\\u00252Fmomentsapp.com\\u00252F&amp;h=ATNwSfWib5W2IZQ8TdEyi4AKkWfEf8k2_prj9G29vxXNxGwmmIoHiVejBomPryHpT_hvaj5_66AjPXKqMrr5KtxhiL9CDTYS_oTrWKqjNarp1jUWnJdJ_8g&amp;s=1\");' onmouseover='LinkshimAsyncLink.swap(this, \"http:\\/\\/momentsapp.com\\/\");' rel=\"nofollow\" target=\"_blank\" title=\"Check out Moments.\">Moments</a></td><td class=\"_51m- hLeft plm\"><a href=\"https://l.facebook.com/l.php?u=https%3A%2F%2Finstagram.com%2F&amp;h=ATNP2xB26_zYiqSYInJN9RNRk9sPAFh7bWISJ4H4hnEYe5NKyFzP8Awjw-FdeArk-V78slRkIPD7dq2_F-FL3tqp6Ok4ec6Ed8KkJQWaBLn_IgztmQu4ggA&amp;s=1\" onclick='LinkshimAsyncLink.swap(this, \"https:\\/\\/l.facebook.com\\/l.php?u=https\\u00253A\\u00252F\\u00252Finstagram.com\\u00252F&amp;h=ATNP2xB26_zYiqSYInJN9RNRk9sPAFh7bWISJ4H4hnEYe5NKyFzP8Awjw-FdeArk-V78slRkIPD7dq2_F-FL3tqp6Ok4ec6Ed8KkJQWaBLn_IgztmQu4ggA&amp;s=1\");' onmouseover='LinkshimAsyncLink.swap(this, \"https:\\/\\/instagram.com\\/\");' rel=\"nofollow\" target=\"_blank\" title=\"Check out Instagram\">Instagram</a></td><td class=\"_51m- hLeft plm\"><a accesskey=\"8\" href=\"/facebook\" title=\"Read our blog, discover the resource center, and find job opportunities.\">About</a></td><td class=\"_51m- hLeft plm\"><a href=\"/campaign/landing.php?placement=pflo&amp;campaign_id=402047449186&amp;extra_1=auto\" title=\"Advertise on Facebook.\">Create Ad</a></td><td class=\"_51m- hLeft plm\"><a href=\"/pages/create/?ref_type=sitefooter\" title=\"Create a Page\">Create Page</a></td><td class=\"_51m- hLeft plm\"><a href=\"https://developers.facebook.com/?ref=pf\" title=\"Develop on our platform.\">Developers</a></td><td class=\"_51m- hLeft plm\"><a href=\"/careers/?ref=pf\" title=\"Make your next career move to our awesome company.\">Careers</a></td><td class=\"_51m- hLeft plm\"><a data-nocookies=\"1\" href=\"/privacy/explanation\" title=\"Learn about your privacy and Facebook.\">Privacy</a></td><td class=\"_51m- hLeft plm _51mw\"><a data-nocookies=\"1\" href=\"/policies/cookies/\" title=\"Learn about cookies and Facebook.\">Cookies</a></td></tr><tr class=\"_51mx\"><td class=\"_51m- hLeft plm\"><a class=\"_41ug\" data-nocookies=\"1\" href=\"https://www.facebook.com/help/568137493302217\" title=\"Learn about Ad Choices.\">Ad Choices<i class=\"img sp_qRcdOzINzTb sx_12cfdc\"></i></a></td><td class=\"_51m- hLeft plm\"><a accesskey=\"9\" data-nocookies=\"1\" href=\"/policies?ref=pf\" title=\"Review our terms and policies.\">Terms</a></td><td class=\"_51m- hLeft plm\"><a accesskey=\"0\" href=\"/help/?ref=pf\" title=\"Visit our Help Center.\">Help</a></td><td class=\"_51m- hLeft plm\"><a accesskey=\"6\" class=\"accessible_elem\" href=\"/settings\" title=\"View and edit your Facebook settings.\">Settings</a></td><td class=\"_51m- hLeft plm\"><a accesskey=\"7\" class=\"accessible_elem\" href=\"/allactivity?privacy_source=activity_log_top_menu\" title=\"View your activity log\">Activity Log</a></td></tr></tbody></table></div><div class=\"mvl copyright\"><div><span> Facebook Â© 2017</span></div></div></div></div></div></div><div></div>\n",
       "<script>requireLazy([\"Bootloader\"], function(Bootloader) {Bootloader.setResourceMap({\"7PSq4\":{\"type\":\"js\",\"src\":\"https:\\/\\/static.xx.fbcdn.net\\/rsrc.php\\/v3ivSr4\\/ye\\/l\\/en_US\\/kEn3Yu8aBi_.js\",\"crossOrigin\":1},\"90QDB\":{\"type\":\"js\",\"src\":\"https:\\/\\/static.xx.fbcdn.net\\/rsrc.php\\/v3iaFb4\\/yg\\/l\\/en_US\\/2TKzcA7qj-E.js\",\"crossOrigin\":1},\"kHLg5\":{\"type\":\"js\",\"src\":\"https:\\/\\/static.xx.fbcdn.net\\/rsrc.php\\/v3i_TL4\\/yc\\/l\\/en_US\\/WNu_ZeTvmvc.js\",\"crossOrigin\":1},\"LJZOo\":{\"type\":\"js\",\"src\":\"https:\\/\\/static.xx.fbcdn.net\\/rsrc.php\\/v3\\/ym\\/r\\/y2Bu1zGdbUZ.js\",\"crossOrigin\":1},\"55kJD\":{\"type\":\"js\",\"src\":\"https:\\/\\/static.xx.fbcdn.net\\/rsrc.php\\/v3i58P4\\/yo\\/l\\/en_US\\/dRk9iEOcsW-.js\",\"crossOrigin\":1},\"RhwKy\":{\"type\":\"js\",\"src\":\"https:\\/\\/static.xx.fbcdn.net\\/rsrc.php\\/v3iXSD4\\/yg\\/l\\/en_US\\/lcnOd95evSK.js\",\"crossOrigin\":1},\"8Z\\/FD\":{\"type\":\"js\",\"src\":\"https:\\/\\/static.xx.fbcdn.net\\/rsrc.php\\/v3ixPe4\\/yr\\/l\\/en_US\\/GcKhCJeJ1K6.js\",\"crossOrigin\":1},\"3q0pN\":{\"type\":\"js\",\"src\":\"https:\\/\\/static.xx.fbcdn.net\\/rsrc.php\\/v3icZZ4\\/yA\\/l\\/en_US\\/Tn6It5Tj6cj.js\",\"crossOrigin\":1},\"oE4Do\":{\"type\":\"js\",\"src\":\"https:\\/\\/static.xx.fbcdn.net\\/rsrc.php\\/v3\\/yQ\\/r\\/JRn6lb4zeSH.js\",\"crossOrigin\":1},\"SNHOM\":{\"type\":\"js\",\"src\":\"https:\\/\\/static.xx.fbcdn.net\\/rsrc.php\\/v3irXb4\\/y1\\/l\\/en_US\\/jS1LOrnUPUR.js\",\"crossOrigin\":1},\"Klc20\":{\"type\":\"js\",\"src\":\"https:\\/\\/static.xx.fbcdn.net\\/rsrc.php\\/v3\\/y3\\/r\\/87DNbm9ci3o.js\",\"crossOrigin\":1},\"3jJ8p\":{\"type\":\"js\",\"src\":\"https:\\/\\/static.xx.fbcdn.net\\/rsrc.php\\/v3iTFj4\\/yM\\/l\\/en_US\\/doJ70K89Xp1.js\",\"crossOrigin\":1},\"xiSec\":{\"type\":\"js\",\"src\":\"https:\\/\\/static.xx.fbcdn.net\\/rsrc.php\\/v3\\/yL\\/r\\/a1Nq6aZova2.js\",\"crossOrigin\":1},\"2aVFz\":{\"type\":\"js\",\"src\":\"https:\\/\\/static.xx.fbcdn.net\\/rsrc.php\\/v3iAkr4\\/yW\\/l\\/en_US\\/b-7otpfpf4Z.js\",\"crossOrigin\":1},\"SZrvB\":{\"type\":\"js\",\"src\":\"https:\\/\\/static.xx.fbcdn.net\\/rsrc.php\\/v3ixzU4\\/yD\\/l\\/en_US\\/1nrapZIt3GH.js\",\"crossOrigin\":1},\"BnIxf\":{\"type\":\"js\",\"src\":\"https:\\/\\/static.xx.fbcdn.net\\/rsrc.php\\/v3\\/yt\\/r\\/WBtF4eOGnLV.js\",\"crossOrigin\":1},\"oeUXN\":{\"type\":\"js\",\"src\":\"https:\\/\\/static.xx.fbcdn.net\\/rsrc.php\\/v3\\/yM\\/r\\/7al6lU1lGoK.js\",\"crossOrigin\":1},\"xj9KN\":{\"type\":\"js\",\"src\":\"https:\\/\\/static.xx.fbcdn.net\\/rsrc.php\\/v3i93w4\\/yq\\/l\\/en_US\\/uUBkuJVhof6.js\",\"crossOrigin\":1},\"W7JZ8\":{\"type\":\"js\",\"src\":\"https:\\/\\/static.xx.fbcdn.net\\/rsrc.php\\/v3\\/yU\\/r\\/gV8VMvIotf7.js\",\"crossOrigin\":1},\"7v80d\":{\"type\":\"css\",\"src\":\"https:\\/\\/static.xx.fbcdn.net\\/rsrc.php\\/v3\\/yK\\/r\\/PSA1cDhdBKT.css\",\"permanent\":1,\"crossOrigin\":1},\"pxUXG\":{\"type\":\"js\",\"src\":\"https:\\/\\/static.xx.fbcdn.net\\/rsrc.php\\/v3ilA54\\/yE\\/l\\/en_US\\/pVlNL20v4UE.js\",\"crossOrigin\":1},\"k7kV1\":{\"type\":\"js\",\"src\":\"https:\\/\\/static.xx.fbcdn.net\\/rsrc.php\\/v3i6-t4\\/yd\\/l\\/en_US\\/Q9SIiCvB_7N.js\",\"crossOrigin\":1},\"o7ciB\":{\"type\":\"js\",\"src\":\"https:\\/\\/static.xx.fbcdn.net\\/rsrc.php\\/v3iwcE4\\/y3\\/l\\/en_US\\/X29SFv7Owh7.js\",\"crossOrigin\":1},\"EdVP2\":{\"type\":\"js\",\"src\":\"https:\\/\\/static.xx.fbcdn.net\\/rsrc.php\\/v3i8gp4\\/ys\\/l\\/en_US\\/LVGyLrojs_g.js\",\"crossOrigin\":1},\"Z\\/+Eq\":{\"type\":\"js\",\"src\":\"https:\\/\\/static.xx.fbcdn.net\\/rsrc.php\\/v3i8zI4\\/ym\\/l\\/en_US\\/WQE3K-LD5P1.js\",\"crossOrigin\":1},\"BQuRQ\":{\"type\":\"js\",\"src\":\"https:\\/\\/static.xx.fbcdn.net\\/rsrc.php\\/v3\\/y4\\/r\\/ZuliCs3jZul.js\",\"crossOrigin\":1},\"lwTkC\":{\"type\":\"js\",\"src\":\"https:\\/\\/static.xx.fbcdn.net\\/rsrc.php\\/v3i3_f4\\/yK\\/l\\/en_US\\/Qx0FDlfBuoI.js\",\"crossOrigin\":1},\"hR3Xy\":{\"type\":\"js\",\"src\":\"https:\\/\\/static.xx.fbcdn.net\\/rsrc.php\\/v3iikZ4\\/y5\\/l\\/en_US\\/RspX0R9CZM8.js\",\"crossOrigin\":1},\"WnbH\\/\":{\"type\":\"js\",\"src\":\"https:\\/\\/static.xx.fbcdn.net\\/rsrc.php\\/v3igma4\\/yB\\/l\\/en_US\\/JSA2TKvHcEA.js\",\"crossOrigin\":1},\"UkuTQ\":{\"type\":\"js\",\"src\":\"https:\\/\\/static.xx.fbcdn.net\\/rsrc.php\\/v3iWRi4\\/yv\\/l\\/en_US\\/lifD-64v22J.js\",\"crossOrigin\":1},\"L2Mis\":{\"type\":\"js\",\"src\":\"https:\\/\\/static.xx.fbcdn.net\\/rsrc.php\\/v3iazQ4\\/yZ\\/l\\/en_US\\/-q5NiE5c6qh.js\",\"crossOrigin\":1},\"qVIf2\":{\"type\":\"js\",\"src\":\"https:\\/\\/static.xx.fbcdn.net\\/rsrc.php\\/v3\\/yj\\/r\\/wx_wbJMP-6O.js\",\"crossOrigin\":1},\"rgzm5\":{\"type\":\"js\",\"src\":\"https:\\/\\/static.xx.fbcdn.net\\/rsrc.php\\/v3\\/yW\\/r\\/1Yc4zBT1K__.js\",\"crossOrigin\":1},\"wb3qs\":{\"type\":\"js\",\"src\":\"https:\\/\\/static.xx.fbcdn.net\\/rsrc.php\\/v3\\/y0\\/r\\/eOlBmRgsm8x.js\",\"crossOrigin\":1},\"FHstF\":{\"type\":\"js\",\"src\":\"https:\\/\\/static.xx.fbcdn.net\\/rsrc.php\\/v3\\/yi\\/r\\/_CMHHb16b3k.js\",\"crossOrigin\":1},\"6ow4f\":{\"type\":\"js\",\"src\":\"https:\\/\\/static.xx.fbcdn.net\\/rsrc.php\\/v3i58P4\\/yw\\/l\\/en_US\\/s7zXa_O6Ppr.js\",\"crossOrigin\":1},\"jNgMf\":{\"type\":\"js\",\"src\":\"https:\\/\\/static.xx.fbcdn.net\\/rsrc.php\\/v3\\/y9\\/r\\/IO4DIs8nJvq.js\",\"crossOrigin\":1},\"XxJQ4\":{\"type\":\"js\",\"src\":\"https:\\/\\/static.xx.fbcdn.net\\/rsrc.php\\/v3\\/yE\\/r\\/pTMLxyFT7Hd.js\",\"crossOrigin\":1},\"cTLHx\":{\"type\":\"js\",\"src\":\"https:\\/\\/static.xx.fbcdn.net\\/rsrc.php\\/v3\\/y3\\/r\\/AjZ5jD1Cn-y.js\",\"crossOrigin\":1},\"jUWYI\":{\"type\":\"js\",\"src\":\"https:\\/\\/static.xx.fbcdn.net\\/rsrc.php\\/v3\\/yi\\/r\\/zWQKevsdfDF.js\",\"crossOrigin\":1},\"ozqdc\":{\"type\":\"js\",\"src\":\"https:\\/\\/static.xx.fbcdn.net\\/rsrc.php\\/v3iK7e4\\/yt\\/l\\/en_US\\/SwmzEJiPcuW.js\",\"crossOrigin\":1},\"S+FVS\":{\"type\":\"js\",\"src\":\"https:\\/\\/static.xx.fbcdn.net\\/rsrc.php\\/v3\\/ym\\/r\\/fIPf5ZWKjeH.js\",\"crossOrigin\":1},\"8z8Wj\":{\"type\":\"js\",\"src\":\"https:\\/\\/static.xx.fbcdn.net\\/rsrc.php\\/v3\\/y6\\/r\\/9lcFMsYUvk7.js\",\"crossOrigin\":1},\"Lccf2\":{\"type\":\"css\",\"src\":\"https:\\/\\/static.xx.fbcdn.net\\/rsrc.php\\/v3\\/yM\\/r\\/k5d0-uEwh08.css\",\"permanent\":1,\"crossOrigin\":1},\"+hMoc\":{\"type\":\"js\",\"src\":\"https:\\/\\/static.xx.fbcdn.net\\/rsrc.php\\/v3iK514\\/y8\\/l\\/en_US\\/VnArfI7Nda6.js\",\"crossOrigin\":1},\"WnMIz\":{\"type\":\"js\",\"src\":\"https:\\/\\/static.xx.fbcdn.net\\/rsrc.php\\/v3\\/yB\\/r\\/agfmU0ggIcp.js\",\"crossOrigin\":1},\"wE\\/xn\":{\"type\":\"js\",\"src\":\"https:\\/\\/static.xx.fbcdn.net\\/rsrc.php\\/v3\\/y4\\/r\\/xkpiQ5LiVoI.js\",\"crossOrigin\":1},\"YWsZK\":{\"type\":\"js\",\"src\":\"https:\\/\\/static.xx.fbcdn.net\\/rsrc.php\\/v3i98g4\\/ym\\/l\\/en_US\\/A_PXvxto_TT.js\",\"crossOrigin\":1},\"kF1+E\":{\"type\":\"css\",\"src\":\"https:\\/\\/static.xx.fbcdn.net\\/rsrc.php\\/v3\\/ya\\/r\\/ipIBu9zE2Ql.css\",\"permanent\":1,\"crossOrigin\":1},\"Ffrka\":{\"type\":\"css\",\"src\":\"https:\\/\\/static.xx.fbcdn.net\\/rsrc.php\\/v3\\/yE\\/r\\/i-zc6_UtebG.css\",\"permanent\":1,\"crossOrigin\":1},\"HKjsO\":{\"type\":\"js\",\"src\":\"https:\\/\\/static.xx.fbcdn.net\\/rsrc.php\\/v3\\/yY\\/r\\/KzbKAwWI3Aj.js\",\"crossOrigin\":1},\"NK4LI\":{\"type\":\"css\",\"src\":\"https:\\/\\/static.xx.fbcdn.net\\/rsrc.php\\/v3\\/yr\\/r\\/wRhTuM_bk7b.css\",\"permanent\":1,\"crossOrigin\":1},\"mz6N0\":{\"type\":\"js\",\"src\":\"https:\\/\\/static.xx.fbcdn.net\\/rsrc.php\\/v3\\/yp\\/r\\/EiEh-UchN05.js\",\"crossOrigin\":1},\"Yyadj\":{\"type\":\"css\",\"src\":\"https:\\/\\/static.xx.fbcdn.net\\/rsrc.php\\/v3\\/y7\\/r\\/RFmk9ygjCqh.css\",\"permanent\":1,\"crossOrigin\":1},\"3py3C\":{\"type\":\"js\",\"src\":\"https:\\/\\/static.xx.fbcdn.net\\/rsrc.php\\/v3iOOq4\\/yg\\/l\\/en_US\\/KnltZJTMw54.js\",\"crossOrigin\":1},\"SVQHW\":{\"type\":\"js\",\"src\":\"https:\\/\\/static.xx.fbcdn.net\\/rsrc.php\\/v3i4no4\\/yO\\/l\\/en_US\\/OD6I9QfEyh6.js\",\"crossOrigin\":1},\"VJzka\":{\"type\":\"js\",\"src\":\"https:\\/\\/static.xx.fbcdn.net\\/rsrc.php\\/v3\\/yo\\/r\\/fgc9r5YbwZe.js\",\"crossOrigin\":1},\"B8HgN\":{\"type\":\"js\",\"src\":\"https:\\/\\/static.xx.fbcdn.net\\/rsrc.php\\/v3i4Ds4\\/yI\\/l\\/en_US\\/whCsSOYiGpK.js\",\"crossOrigin\":1},\"yKnnN\":{\"type\":\"js\",\"src\":\"https:\\/\\/static.xx.fbcdn.net\\/rsrc.php\\/v3\\/yv\\/r\\/ZY-zhPsIDry.js\",\"crossOrigin\":1},\"622TF\":{\"type\":\"css\",\"src\":\"https:\\/\\/static.xx.fbcdn.net\\/rsrc.php\\/v3\\/yq\\/r\\/yAvZmZDyl0s.css\",\"permanent\":1,\"crossOrigin\":1},\"D+lWU\":{\"type\":\"js\",\"src\":\"https:\\/\\/static.xx.fbcdn.net\\/rsrc.php\\/v3iz-O4\\/y-\\/l\\/en_US\\/pNAXrBKeaRY.js\",\"crossOrigin\":1},\"J3wOJ\":{\"type\":\"js\",\"src\":\"https:\\/\\/static.xx.fbcdn.net\\/rsrc.php\\/v3iaFg4\\/y3\\/l\\/en_US\\/zy8p2aPXH7q.js\",\"crossOrigin\":1},\"+W0Ih\":{\"type\":\"js\",\"src\":\"https:\\/\\/static.xx.fbcdn.net\\/rsrc.php\\/v3ij1e4\\/ym\\/l\\/en_US\\/WOL-f-9fnd6.js\",\"crossOrigin\":1},\"9Czly\":{\"type\":\"js\",\"src\":\"https:\\/\\/static.xx.fbcdn.net\\/rsrc.php\\/v3\\/yx\\/r\\/E7UjF_zsqXd.js\",\"crossOrigin\":1},\"THeq2\":{\"type\":\"js\",\"src\":\"https:\\/\\/static.xx.fbcdn.net\\/rsrc.php\\/v3iYC64\\/y_\\/l\\/en_US\\/Dn816gVfMEJ.js\",\"crossOrigin\":1},\"y2aXF\":{\"type\":\"js\",\"src\":\"https:\\/\\/static.xx.fbcdn.net\\/rsrc.php\\/v3ipgO4\\/yL\\/l\\/en_US\\/Mt4JbGUdagi.js\",\"crossOrigin\":1},\"JHn9H\":{\"type\":\"css\",\"src\":\"https:\\/\\/static.xx.fbcdn.net\\/rsrc.php\\/v3\\/yo\\/r\\/G1fGpL2410W.css\",\"permanent\":1,\"crossOrigin\":1},\"0ZOj9\":{\"type\":\"css\",\"src\":\"https:\\/\\/static.xx.fbcdn.net\\/rsrc.php\\/v3\\/ya\\/r\\/TZLDrOFqb2u.css\",\"permanent\":1,\"crossOrigin\":1},\"J2kTg\":{\"type\":\"js\",\"src\":\"https:\\/\\/static.xx.fbcdn.net\\/rsrc.php\\/v3idxC4\\/yO\\/l\\/en_US\\/QZXWRNxzZnM.js\",\"crossOrigin\":1},\"jyfd\\/\":{\"type\":\"css\",\"src\":\"https:\\/\\/static.xx.fbcdn.net\\/rsrc.php\\/v3\\/y_\\/r\\/DdFYPr5D1RS.css\",\"permanent\":1,\"crossOrigin\":1},\"91cOT\":{\"type\":\"js\",\"src\":\"https:\\/\\/static.xx.fbcdn.net\\/rsrc.php\\/v3i4Rf4\\/yn\\/l\\/en_US\\/vDdFPqlf0nZ.js\",\"crossOrigin\":1},\"IrfhN\":{\"type\":\"js\",\"src\":\"https:\\/\\/static.xx.fbcdn.net\\/rsrc.php\\/v3i2yW4\\/yB\\/l\\/en_US\\/0c55Czxq2_6.js\",\"crossOrigin\":1},\"drjYi\":{\"type\":\"css\",\"src\":\"https:\\/\\/static.xx.fbcdn.net\\/rsrc.php\\/v3\\/yL\\/r\\/r_KyfbeMi5e.css\",\"permanent\":1,\"crossOrigin\":1},\"cQu4O\":{\"type\":\"js\",\"src\":\"https:\\/\\/static.xx.fbcdn.net\\/rsrc.php\\/v3iUzh4\\/yw\\/l\\/en_US\\/Y0uzpNJVqn9.js\",\"crossOrigin\":1},\"h\\/G+P\":{\"type\":\"css\",\"src\":\"https:\\/\\/static.xx.fbcdn.net\\/rsrc.php\\/v3\\/yP\\/r\\/Hpj4gv3b6cR.css\",\"crossOrigin\":1},\"Rvw+T\":{\"type\":\"css\",\"src\":\"https:\\/\\/static.xx.fbcdn.net\\/rsrc.php\\/v3\\/yA\\/r\\/73QFendCJQ7.css\",\"permanent\":1,\"crossOrigin\":1},\"NJscz\":{\"type\":\"js\",\"src\":\"https:\\/\\/static.xx.fbcdn.net\\/rsrc.php\\/v3iE6w4\\/y4\\/l\\/en_US\\/fbm_ACqHlPH.js\",\"crossOrigin\":1},\"pI7AA\":{\"type\":\"css\",\"src\":\"https:\\/\\/static.xx.fbcdn.net\\/rsrc.php\\/v3\\/yw\\/r\\/Lj3-3HF67_y.css\",\"crossOrigin\":1},\"0Qz\\/x\":{\"type\":\"js\",\"src\":\"https:\\/\\/static.xx.fbcdn.net\\/rsrc.php\\/v3\\/y7\\/r\\/A0akup4vz1v.js\",\"crossOrigin\":1},\"Hnz7V\":{\"type\":\"js\",\"src\":\"https:\\/\\/static.xx.fbcdn.net\\/rsrc.php\\/v3ikLT4\\/ya\\/l\\/en_US\\/VPPzLR4i8x6.js\",\"crossOrigin\":1},\"un5DC\":{\"type\":\"js\",\"src\":\"https:\\/\\/static.xx.fbcdn.net\\/rsrc.php\\/v3\\/y1\\/r\\/Md84AST8W4M.js\",\"crossOrigin\":1},\"7ndNQ\":{\"type\":\"js\",\"src\":\"https:\\/\\/static.xx.fbcdn.net\\/rsrc.php\\/v3\\/yT\\/r\\/-wFv4JjHeV7.js\",\"crossOrigin\":1},\"oQbcB\":{\"type\":\"js\",\"src\":\"https:\\/\\/static.xx.fbcdn.net\\/rsrc.php\\/v3i4tl4\\/yV\\/l\\/en_US\\/pXvxoM_lKM2.js\",\"crossOrigin\":1},\"hUjnw\":{\"type\":\"js\",\"src\":\"https:\\/\\/static.xx.fbcdn.net\\/rsrc.php\\/v3\\/y6\\/r\\/eP9PQ-yIFU9.js\",\"crossOrigin\":1},\"nrVBJ\":{\"type\":\"css\",\"src\":\"https:\\/\\/static.xx.fbcdn.net\\/rsrc.php\\/v3\\/y0\\/r\\/1vnTd0iOEHx.css\",\"permanent\":1,\"crossOrigin\":1},\"mZ4mj\":{\"type\":\"js\",\"src\":\"https:\\/\\/static.xx.fbcdn.net\\/rsrc.php\\/v3ixSW4\\/y-\\/l\\/en_US\\/hVOv2SEQFra.js\",\"crossOrigin\":1},\"2\\/maQ\":{\"type\":\"js\",\"src\":\"https:\\/\\/static.xx.fbcdn.net\\/rsrc.php\\/v3\\/yc\\/r\\/pi6gaIyZu1E.js\",\"crossOrigin\":1},\"BOIzL\":{\"type\":\"js\",\"src\":\"https:\\/\\/static.xx.fbcdn.net\\/rsrc.php\\/v3ipgf4\\/yF\\/l\\/en_US\\/mkqGC5OfMKq.js\",\"crossOrigin\":1},\"W45pL\":{\"type\":\"css\",\"src\":\"https:\\/\\/static.xx.fbcdn.net\\/rsrc.php\\/v3\\/y_\\/r\\/zjsO_I5xrQp.css\",\"permanent\":1,\"crossOrigin\":1},\"B76cY\":{\"type\":\"js\",\"src\":\"https:\\/\\/static.xx.fbcdn.net\\/rsrc.php\\/v3ihfZ4\\/yc\\/l\\/en_US\\/J3DZf3he5wl.js\",\"crossOrigin\":1},\"7unvu\":{\"type\":\"js\",\"src\":\"https:\\/\\/static.xx.fbcdn.net\\/rsrc.php\\/v3\\/y6\\/r\\/ZdWMWTwet3q.js\",\"crossOrigin\":1},\"\\/mnVq\":{\"type\":\"js\",\"src\":\"https:\\/\\/static.xx.fbcdn.net\\/rsrc.php\\/v3ioZX4\\/yf\\/l\\/en_US\\/tIpFrMdHC1X.js\",\"crossOrigin\":1},\"8Q6na\":{\"type\":\"js\",\"src\":\"https:\\/\\/static.xx.fbcdn.net\\/rsrc.php\\/v3i-Gd4\\/y_\\/l\\/en_US\\/ufuoLp7SztH.js\",\"crossOrigin\":1},\"EQJMw\":{\"type\":\"css\",\"src\":\"https:\\/\\/static.xx.fbcdn.net\\/rsrc.php\\/v3\\/yH\\/r\\/XlukmbuoQEy.css\",\"permanent\":1,\"crossOrigin\":1},\"Bzhwk\":{\"type\":\"js\",\"src\":\"https:\\/\\/static.xx.fbcdn.net\\/rsrc.php\\/v3\\/yk\\/r\\/b_azr-bqIYf.js\",\"crossOrigin\":1},\"jOfa0\":{\"type\":\"js\",\"src\":\"https:\\/\\/static.xx.fbcdn.net\\/rsrc.php\\/v3i9cJ4\\/yV\\/l\\/en_US\\/afb5EmkkcUi.js\",\"crossOrigin\":1},\"R0mVL\":{\"type\":\"js\",\"src\":\"https:\\/\\/static.xx.fbcdn.net\\/rsrc.php\\/v3\\/ym\\/r\\/PeqmyhMSzn2.js\",\"crossOrigin\":1},\"zyFOp\":{\"type\":\"js\",\"src\":\"https:\\/\\/static.xx.fbcdn.net\\/rsrc.php\\/v3\\/yr\\/r\\/H7pgFynyic_.js\",\"crossOrigin\":1},\"6AU0l\":{\"type\":\"js\",\"src\":\"https:\\/\\/static.xx.fbcdn.net\\/rsrc.php\\/v3i9By4\\/yl\\/l\\/en_US\\/4GepkCJUA1K.js\",\"crossOrigin\":1},\"VDymv\":{\"type\":\"css\",\"src\":\"https:\\/\\/static.xx.fbcdn.net\\/rsrc.php\\/v3\\/ym\\/r\\/vfyTLT62WoX.css\",\"permanent\":1,\"crossOrigin\":1},\"IiV1t\":{\"type\":\"js\",\"src\":\"https:\\/\\/static.xx.fbcdn.net\\/rsrc.php\\/v3\\/yF\\/r\\/XpZz2zoexH8.js\",\"crossOrigin\":1},\"WEGtD\":{\"type\":\"js\",\"src\":\"https:\\/\\/static.xx.fbcdn.net\\/rsrc.php\\/v3iQ7u4\\/ya\\/l\\/en_US\\/WN3oVZJFfIT.js\",\"crossOrigin\":1},\"qnR1n\":{\"type\":\"js\",\"src\":\"https:\\/\\/static.xx.fbcdn.net\\/rsrc.php\\/v3iEt-4\\/yA\\/l\\/en_US\\/0QMTlI7NH0s.js\",\"crossOrigin\":1},\"RZozx\":{\"type\":\"js\",\"src\":\"https:\\/\\/static.xx.fbcdn.net\\/rsrc.php\\/v3\\/yG\\/r\\/2xmd_-xBhVj.js\",\"crossOrigin\":1},\"d9FYm\":{\"type\":\"js\",\"src\":\"https:\\/\\/static.xx.fbcdn.net\\/rsrc.php\\/v3\\/y2\\/r\\/7O2AMYbczgm.js\",\"crossOrigin\":1},\"qfzTq\":{\"type\":\"js\",\"src\":\"https:\\/\\/static.xx.fbcdn.net\\/rsrc.php\\/v3\\/yN\\/r\\/hLtdyLf3Ixj.js\",\"crossOrigin\":1},\"asUmo\":{\"type\":\"js\",\"src\":\"https:\\/\\/static.xx.fbcdn.net\\/rsrc.php\\/v3i_LL4\\/yc\\/l\\/en_US\\/VZk-CUeLqZd.js\",\"crossOrigin\":1},\"FEfyX\":{\"type\":\"css\",\"src\":\"https:\\/\\/static.xx.fbcdn.net\\/rsrc.php\\/v3\\/yS\\/r\\/dk2WLLLdcfB.css\",\"permanent\":1,\"crossOrigin\":1},\"MM5yP\":{\"type\":\"js\",\"src\":\"https:\\/\\/static.xx.fbcdn.net\\/rsrc.php\\/v3i4IH4\\/ye\\/l\\/en_US\\/9xYopuMQJOm.js\",\"crossOrigin\":1},\"KQ6h4\":{\"type\":\"js\",\"src\":\"https:\\/\\/static.xx.fbcdn.net\\/rsrc.php\\/v3iFZ-4\\/yJ\\/l\\/en_US\\/C_VRMCnganO.js\",\"crossOrigin\":1},\"LY13N\":{\"type\":\"js\",\"src\":\"https:\\/\\/static.xx.fbcdn.net\\/rsrc.php\\/v3\\/yP\\/r\\/9TY1Ik6Vc-D.js\",\"crossOrigin\":1},\"BKNd3\":{\"type\":\"js\",\"src\":\"https:\\/\\/static.xx.fbcdn.net\\/rsrc.php\\/v3iPp34\\/yP\\/l\\/en_US\\/jtW9MQQw-wZ.js\",\"crossOrigin\":1},\"ZtEOJ\":{\"type\":\"js\",\"src\":\"https:\\/\\/static.xx.fbcdn.net\\/rsrc.php\\/v3\\/yd\\/r\\/wqpcLl-2Vq1.js\",\"crossOrigin\":1},\"ozlra\":{\"type\":\"css\",\"src\":\"https:\\/\\/static.xx.fbcdn.net\\/rsrc.php\\/v3\\/yp\\/r\\/ErF45JZ2AoN.css\",\"permanent\":1,\"crossOrigin\":1},\"8aeA9\":{\"type\":\"js\",\"src\":\"https:\\/\\/static.xx.fbcdn.net\\/rsrc.php\\/v3\\/yr\\/r\\/oGy92c86mRb.js\",\"crossOrigin\":1},\"9EMwh\":{\"type\":\"js\",\"src\":\"https:\\/\\/static.xx.fbcdn.net\\/rsrc.php\\/v3ilB_4\\/yI\\/l\\/en_US\\/B_zMIWxN95q.js\",\"crossOrigin\":1},\"U5YL3\":{\"type\":\"css\",\"src\":\"https:\\/\\/static.xx.fbcdn.net\\/rsrc.php\\/v3\\/yz\\/r\\/IvwE1GPi6Zx.css\",\"crossOrigin\":1},\"qiVO+\":{\"type\":\"js\",\"src\":\"https:\\/\\/static.xx.fbcdn.net\\/rsrc.php\\/v3if3Y4\\/yS\\/l\\/en_US\\/q1n4EbDoYBc.js\",\"crossOrigin\":1},\"+VWNr\":{\"type\":\"js\",\"src\":\"https:\\/\\/static.xx.fbcdn.net\\/rsrc.php\\/v3izZG4\\/yV\\/l\\/en_US\\/BCSQDxx5tgL.js\",\"crossOrigin\":1},\"29hGe\":{\"type\":\"js\",\"src\":\"https:\\/\\/static.xx.fbcdn.net\\/rsrc.php\\/v3i9-F4\\/y9\\/l\\/en_US\\/OR3Be7dim9l.js\",\"crossOrigin\":1},\"IpG5c\":{\"type\":\"css\",\"src\":\"https:\\/\\/static.xx.fbcdn.net\\/rsrc.php\\/v3\\/yD\\/r\\/BTHxXxWO0In.css\",\"permanent\":1,\"crossOrigin\":1},\"V1ASC\":{\"type\":\"js\",\"src\":\"https:\\/\\/static.xx.fbcdn.net\\/rsrc.php\\/v3\\/yB\\/r\\/3nBlabMM2g9.js\",\"crossOrigin\":1},\"Npbrn\":{\"type\":\"css\",\"src\":\"https:\\/\\/static.xx.fbcdn.net\\/rsrc.php\\/v3\\/yO\\/r\\/moKMWto9MEb.css\",\"crossOrigin\":1},\"t\\/RW0\":{\"type\":\"js\",\"src\":\"https:\\/\\/static.xx.fbcdn.net\\/rsrc.php\\/v3iWLj4\\/y7\\/l\\/en_US\\/_dpX0V9RTyH.js\",\"crossOrigin\":1},\"npmGA\":{\"type\":\"css\",\"src\":\"https:\\/\\/static.xx.fbcdn.net\\/rsrc.php\\/v3\\/yU\\/r\\/sBUoVB1Wzvo.css\",\"crossOrigin\":1},\"krylL\":{\"type\":\"js\",\"src\":\"https:\\/\\/static.xx.fbcdn.net\\/rsrc.php\\/v3\\/yn\\/r\\/t69dxVdKJbE.js\",\"crossOrigin\":1},\"HN2o1\":{\"type\":\"js\",\"src\":\"https:\\/\\/static.xx.fbcdn.net\\/rsrc.php\\/v3\\/yH\\/r\\/FKhLGLrBw1b.js\",\"crossOrigin\":1},\"UH7ZD\":{\"type\":\"js\",\"src\":\"https:\\/\\/static.xx.fbcdn.net\\/rsrc.php\\/v3ilsi4\\/yc\\/l\\/en_US\\/Pp-k2h0PZaJ.js\",\"crossOrigin\":1},\"Yu7nb\":{\"type\":\"js\",\"src\":\"https:\\/\\/static.xx.fbcdn.net\\/rsrc.php\\/v3ifKk4\\/yM\\/l\\/en_US\\/2K7dE3KuEGM.js\",\"crossOrigin\":1},\"zparn\":{\"type\":\"js\",\"src\":\"https:\\/\\/static.xx.fbcdn.net\\/rsrc.php\\/v3\\/yM\\/r\\/h6-CQm1Bo2p.js\",\"crossOrigin\":1},\"AmMkr\":{\"type\":\"js\",\"src\":\"https:\\/\\/static.xx.fbcdn.net\\/rsrc.php\\/v3\\/yZ\\/r\\/s5B5mO8QHLs.js\",\"crossOrigin\":1},\"FRpa\\/\":{\"type\":\"css\",\"src\":\"https:\\/\\/static.xx.fbcdn.net\\/rsrc.php\\/v3\\/yg\\/r\\/8ns9DK3T8rB.css\",\"crossOrigin\":1},\"kn9pk\":{\"type\":\"js\",\"src\":\"https:\\/\\/static.xx.fbcdn.net\\/rsrc.php\\/v3iJ0Y4\\/yh\\/l\\/en_US\\/IOoIO677QzQ.js\",\"crossOrigin\":1},\"gY2tG\":{\"type\":\"js\",\"src\":\"https:\\/\\/static.xx.fbcdn.net\\/rsrc.php\\/v3\\/yQ\\/r\\/aEP4c1QJeBG.js\",\"crossOrigin\":1},\"KuVpL\":{\"type\":\"js\",\"src\":\"https:\\/\\/static.xx.fbcdn.net\\/rsrc.php\\/v3i8K_4\\/yl\\/l\\/en_US\\/Ljs0vEnfv5S.js\",\"crossOrigin\":1},\"cHIV\\/\":{\"type\":\"js\",\"src\":\"https:\\/\\/static.xx.fbcdn.net\\/rsrc.php\\/v3\\/yB\\/r\\/GzInV9XYJWf.js\",\"crossOrigin\":1},\"rSdpp\":{\"type\":\"js\",\"src\":\"https:\\/\\/static.xx.fbcdn.net\\/rsrc.php\\/v3\\/yo\\/r\\/p2Dzbeuleoh.js\",\"crossOrigin\":1},\"i5RnR\":{\"type\":\"js\",\"src\":\"https:\\/\\/static.xx.fbcdn.net\\/rsrc.php\\/v3iaYi4\\/yu\\/l\\/en_US\\/D-tfqqCIkkQ.js\",\"crossOrigin\":1},\"P7KW7\":{\"type\":\"js\",\"src\":\"https:\\/\\/static.xx.fbcdn.net\\/rsrc.php\\/v3\\/yA\\/r\\/J6xgWlPCyHR.js\",\"crossOrigin\":1}});if (true) {Bootloader.enableBootload({\"ExceptionDialog\":{\"resources\":[\"7PSq4\",\"90QDB\",\"kHLg5\",\"TzcJW\",\"lTuQw\",\"LJZOo\",\"55kJD\",\"RhwKy\",\"8Z\\/FD\"],\"module\":1},\"React\":{\"resources\":[\"LJZOo\",\"90QDB\",\"TzcJW\"],\"module\":1},\"AsyncDOM\":{\"resources\":[\"TzcJW\",\"90QDB\",\"3q0pN\"],\"module\":1},\"ConfirmationDialog\":{\"resources\":[\"TzcJW\",\"90QDB\",\"7PSq4\",\"oE4Do\"],\"module\":1},\"Dialog\":{\"resources\":[\"90QDB\",\"7PSq4\",\"TzcJW\",\"kHLg5\",\"lTuQw\",\"SNHOM\"],\"module\":1},\"QuickSandSolver\":{\"resources\":[\"90QDB\",\"TzcJW\",\"7PSq4\",\"Klc20\",\"3jJ8p\",\"xiSec\"],\"module\":1},\"ErrorSignal\":{\"resources\":[\"90QDB\",\"TzcJW\",\"2aVFz\"],\"module\":1},\"ReactDOM\":{\"resources\":[\"LJZOo\",\"90QDB\",\"TzcJW\"],\"module\":1},\"BanzaiODS\":{\"resources\":[\"90QDB\",\"TzcJW\"],\"module\":1},\"LogHistory\":{\"resources\":[\"RhwKy\"],\"module\":1},\"SimpleXUIDialog\":{\"resources\":[\"7PSq4\",\"90QDB\",\"kHLg5\",\"TzcJW\",\"lTuQw\",\"SZrvB\",\"LJZOo\"],\"module\":1},\"XUIDialogButton.react\":{\"resources\":[\"LJZOo\",\"90QDB\",\"TzcJW\",\"7PSq4\",\"kHLg5\"],\"module\":1},\"Animation\":{\"resources\":[\"90QDB\",\"7PSq4\",\"TzcJW\",\"kHLg5\"],\"module\":1},\"Banzai\":{\"resources\":[\"90QDB\",\"TzcJW\"],\"module\":1},\"ResourceTimingBootloaderHelper\":{\"resources\":[\"90QDB\",\"BnIxf\"],\"module\":1},\"TimeSliceHelper\":{\"resources\":[\"LJZOo\",\"90QDB\",\"TzcJW\",\"BnIxf\"],\"module\":1},\"AsyncSignal\":{\"resources\":[\"TzcJW\",\"90QDB\"],\"module\":1},\"XLinkshimLogController\":{\"resources\":[\"90QDB\",\"7PSq4\",\"oeUXN\"],\"module\":1},\"DialogX\":{\"resources\":[\"7PSq4\",\"90QDB\",\"kHLg5\",\"TzcJW\",\"lTuQw\"],\"module\":1},\"XUIDialogBody.react\":{\"resources\":[\"LJZOo\",\"90QDB\",\"TzcJW\",\"7PSq4\",\"lTuQw\",\"kHLg5\"],\"module\":1},\"XUIDialogFooter.react\":{\"resources\":[\"LJZOo\",\"90QDB\",\"TzcJW\",\"7PSq4\",\"lTuQw\",\"kHLg5\"],\"module\":1},\"XUIDialogTitle.react\":{\"resources\":[\"LJZOo\",\"90QDB\",\"TzcJW\",\"7PSq4\",\"lTuQw\",\"kHLg5\"],\"module\":1},\"XUIGrayText.react\":{\"resources\":[\"LJZOo\",\"90QDB\",\"TzcJW\",\"7PSq4\",\"RhwKy\"],\"module\":1},\"PageTransitions\":{\"resources\":[\"TzcJW\",\"90QDB\",\"7PSq4\",\"xj9KN\",\"kHLg5\",\"lTuQw\",\"LJZOo\",\"SNHOM\"],\"module\":1},\"AsyncDialog\":{\"resources\":[\"90QDB\",\"TzcJW\",\"7PSq4\",\"kHLg5\",\"lTuQw\",\"LJZOo\"],\"module\":1},\"AsyncRequest\":{\"resources\":[\"90QDB\",\"TzcJW\"],\"module\":1},\"FormSubmit\":{\"resources\":[\"90QDB\",\"TzcJW\",\"W7JZ8\"],\"module\":1},\"Hovercard\":{\"resources\":[\"TzcJW\",\"90QDB\",\"xj9KN\",\"7PSq4\",\"lTuQw\",\"kHLg5\",\"7v80d\",\"pxUXG\"],\"module\":1},\"MessengerGraphQLThreadFetcher\":{\"resources\":[\"7PSq4\",\"90QDB\",\"TzcJW\",\"k7kV1\",\"o7ciB\",\"EdVP2\",\"Z\\/+Eq\",\"BQuRQ\",\"lwTkC\",\"hR3Xy\",\"WnbH\\/\",\"UkuTQ\",\"L2Mis\"],\"module\":1},\"DelightsTextTriggerTypedLogger\":{\"resources\":[\"90QDB\",\"TzcJW\",\"qVIf2\"],\"module\":1},\"NYE2017Animation\":{\"resources\":[\"TzcJW\",\"90QDB\",\"rgzm5\",\"3jJ8p\",\"wb3qs\",\"lTuQw\"],\"module\":1},\"NYE2017Dispatcher\":{\"resources\":[\"RhwKy\"],\"module\":1},\"NYE2017TriggerStrings\":{\"resources\":[\"FHstF\"],\"module\":1},\"EncryptedImg\":{\"resources\":[\"90QDB\",\"7PSq4\",\"RhwKy\",\"6ow4f\"],\"module\":1},\"UFIAddCommentLiveTypingPublisher\":{\"resources\":[\"7PSq4\",\"90QDB\",\"3jJ8p\",\"jNgMf\",\"TzcJW\"],\"module\":1},\"XUIErrorDialogImpl\":{\"resources\":[\"TzcJW\",\"90QDB\",\"xj9KN\",\"7PSq4\",\"lTuQw\",\"kHLg5\",\"XxJQ4\"],\"module\":1},\"UFIUploader\":{\"resources\":[\"7PSq4\",\"90QDB\",\"TzcJW\",\"3jJ8p\",\"cTLHx\",\"lTuQw\",\"jUWYI\",\"SNHOM\",\"ozqdc\",\"S+FVS\",\"8z8Wj\",\"Lccf2\",\"+hMoc\",\"kHLg5\",\"WnMIz\",\"RhwKy\",\"wE\\/xn\"],\"module\":1},\"ScrollableArea\":{\"resources\":[\"90QDB\",\"7PSq4\",\"TzcJW\",\"lTuQw\"],\"module\":1},\"ChatContentSearchFlyout.react\":{\"resources\":[\"90QDB\",\"TzcJW\",\"YWsZK\",\"7PSq4\",\"LJZOo\",\"kF1+E\",\"WnbH\\/\",\"Ffrka\",\"o7ciB\",\"3jJ8p\",\"lTuQw\",\"BQuRQ\",\"HKjsO\",\"RhwKy\",\"Lccf2\",\"NK4LI\"],\"module\":1},\"ContextualLayerAutoFlip\":{\"resources\":[\"90QDB\",\"7PSq4\",\"kHLg5\"],\"module\":1},\"XUIContextualDialog.react\":{\"resources\":[\"lTuQw\",\"90QDB\",\"xj9KN\",\"LJZOo\",\"TzcJW\",\"7PSq4\",\"kHLg5\"],\"module\":1},\"LayerTabIsolation\":{\"resources\":[\"90QDB\",\"TzcJW\",\"7PSq4\",\"kHLg5\"],\"module\":1},\"RelayRootContainer\":{\"resources\":[\"LJZOo\",\"90QDB\",\"TzcJW\",\"mz6N0\",\"55kJD\",\"7PSq4\",\"kHLg5\"],\"module\":1},\"StickersStore.react\":{\"resources\":[\"90QDB\",\"7PSq4\",\"LJZOo\",\"TzcJW\",\"mz6N0\",\"55kJD\",\"RhwKy\",\"kHLg5\",\"lTuQw\",\"3jJ8p\",\"Yyadj\",\"3py3C\",\"SVQHW\",\"VJzka\",\"B8HgN\",\"yKnnN\",\"622TF\",\"D+lWU\"],\"module\":1},\"StickersStorePackDetailRoute\":{\"resources\":[\"55kJD\",\"mz6N0\",\"LJZOo\",\"90QDB\",\"TzcJW\",\"3py3C\"],\"module\":1},\"StickersStorePackListRoute\":{\"resources\":[\"55kJD\",\"mz6N0\",\"LJZOo\",\"90QDB\",\"TzcJW\",\"3py3C\"],\"module\":1},\"StickersFlyout.react\":{\"resources\":[\"7PSq4\",\"LJZOo\",\"90QDB\",\"TzcJW\",\"yKnnN\",\"B8HgN\",\"J3wOJ\",\"3jJ8p\",\"mz6N0\",\"55kJD\",\"kHLg5\",\"o7ciB\",\"RhwKy\",\"SVQHW\",\"lTuQw\",\"+W0Ih\",\"9Czly\",\"EdVP2\",\"Yyadj\",\"THeq2\",\"y2aXF\",\"JHn9H\",\"VJzka\",\"0ZOj9\",\"HKjsO\",\"Lccf2\"],\"module\":1},\"EmoticonUtils\":{\"resources\":[\"lTuQw\",\"RhwKy\",\"J2kTg\"],\"module\":1},\"EmoticonsList\":{\"resources\":[\"lTuQw\",\"RhwKy\"],\"module\":1},\"SelectionPosition\":{\"resources\":[\"TzcJW\",\"90QDB\",\"kHLg5\",\"7PSq4\",\"J2kTg\"],\"module\":1},\"TextAreaControl\":{\"resources\":[\"90QDB\",\"W7JZ8\",\"TzcJW\"],\"module\":1},\"OptimisticVideoComment.react\":{\"resources\":[\"90QDB\",\"7PSq4\",\"RhwKy\",\"6ow4f\",\"LJZOo\",\"TzcJW\",\"kHLg5\",\"lTuQw\",\"jyfd\\/\",\"91cOT\",\"WnMIz\",\"jUWYI\",\"IrfhN\",\"Lccf2\",\"yKnnN\",\"drjYi\"],\"module\":1},\"Sticker.react\":{\"resources\":[\"90QDB\",\"7PSq4\",\"LJZOo\",\"TzcJW\",\"o7ciB\",\"0ZOj9\",\"+W0Ih\"],\"module\":1},\"UFIAttachedMediaPreview.react\":{\"resources\":[\"LJZOo\",\"90QDB\",\"TzcJW\",\"7PSq4\",\"lTuQw\",\"6ow4f\",\"SZrvB\",\"RhwKy\",\"drjYi\",\"cQu4O\"],\"module\":1},\"UFICommentMarkdownPreview.react\":{\"resources\":[\"LJZOo\",\"90QDB\",\"TzcJW\",\"7PSq4\",\"kHLg5\",\"lTuQw\",\"RhwKy\",\"h\\/G+P\",\"Rvw+T\",\"NJscz\",\"pI7AA\",\"0Qz\\/x\",\"Hnz7V\"],\"module\":1},\"XUIAmbientNUX.react\":{\"resources\":[\"LJZOo\",\"90QDB\",\"TzcJW\",\"xj9KN\",\"7PSq4\",\"lTuQw\",\"kHLg5\"],\"module\":1},\"LiveSendTipButtonUtil\":{\"resources\":[\"90QDB\",\"TzcJW\",\"un5DC\",\"3jJ8p\",\"7ndNQ\"],\"module\":1},\"PhotoSnowlift\":{\"resources\":[\"90QDB\",\"TzcJW\",\"7PSq4\",\"kHLg5\",\"lTuQw\",\"SNHOM\",\"RhwKy\",\"6ow4f\",\"3jJ8p\",\"un5DC\",\"oQbcB\",\"LJZOo\",\"hUjnw\",\"xj9KN\",\"nrVBJ\",\"WnMIz\"],\"module\":1},\"VideoChannel\":{\"resources\":[\"mZ4mj\"],\"module\":1},\"AsyncResponse\":{\"resources\":[\"90QDB\"],\"module\":1},\"Live\":{\"resources\":[\"TzcJW\",\"90QDB\",\"3q0pN\",\"3jJ8p\",\"2\\/maQ\"],\"module\":1},\"PhotoInlineEditor\":{\"resources\":[\"TzcJW\",\"90QDB\",\"7PSq4\",\"oQbcB\",\"W7JZ8\",\"lTuQw\",\"BOIzL\",\"RhwKy\",\"W45pL\",\"B76cY\",\"7unvu\"],\"module\":1},\"PhotoTagApproval\":{\"resources\":[\"TzcJW\",\"90QDB\",\"oQbcB\",\"\\/mnVq\"],\"module\":1},\"PhotoTagger\":{\"resources\":[\"7PSq4\",\"90QDB\",\"TzcJW\",\"8Q6na\",\"xj9KN\",\"lTuQw\",\"kHLg5\",\"7v80d\",\"pxUXG\",\"LJZOo\",\"nnkO8\",\"EQJMw\",\"Bzhwk\",\"oQbcB\",\"3jJ8p\",\"RhwKy\",\"WnbH\\/\",\"jOfa0\"],\"module\":1},\"PhotoTags\":{\"resources\":[\"TzcJW\",\"90QDB\",\"oQbcB\",\"\\/mnVq\"],\"module\":1},\"PhotosButtonTooltips\":{\"resources\":[\"90QDB\",\"TzcJW\",\"7PSq4\",\"kHLg5\",\"lTuQw\",\"R0mVL\"],\"module\":1},\"SpotlightShareViewer\":{\"resources\":[\"TzcJW\",\"90QDB\",\"7PSq4\",\"hUjnw\",\"kHLg5\",\"zyFOp\"],\"module\":1},\"TagTokenizer\":{\"resources\":[\"TzcJW\",\"90QDB\",\"RhwKy\",\"lTuQw\",\"W45pL\",\"B76cY\",\"\\/mnVq\",\"7PSq4\",\"BOIzL\",\"W7JZ8\"],\"module\":1},\"VideoRotate\":{\"resources\":[\"90QDB\",\"TzcJW\",\"7PSq4\",\"kHLg5\",\"lTuQw\",\"SNHOM\",\"6AU0l\"],\"module\":1},\"css:fb-photos-snowlift-fullscreen-css\":{\"resources\":[\"VDymv\"]},\"CompactTypeaheadRenderer\":{\"resources\":[\"TzcJW\",\"90QDB\",\"lTuQw\",\"RhwKy\",\"kHLg5\",\"NK4LI\",\"7PSq4\",\"IiV1t\"],\"module\":1},\"ContextualTypeaheadView\":{\"resources\":[\"TzcJW\",\"90QDB\",\"lTuQw\",\"RhwKy\",\"NK4LI\",\"WEGtD\",\"qnR1n\",\"7PSq4\",\"kHLg5\"],\"module\":1},\"InputSelection\":{\"resources\":[\"TzcJW\",\"90QDB\",\"kHLg5\"],\"module\":1},\"HashtagParser\":{\"resources\":[\"8z8Wj\",\"SZrvB\",\"WEGtD\"],\"module\":1},\"MentionsInput\":{\"resources\":[\"90QDB\",\"TzcJW\",\"BOIzL\",\"kHLg5\",\"7PSq4\",\"RZozx\",\"RhwKy\",\"7v80d\",\"jUWYI\"],\"module\":1},\"Typeahead\":{\"resources\":[\"90QDB\",\"TzcJW\",\"NK4LI\",\"WEGtD\"],\"module\":1},\"TypeaheadAreaCore\":{\"resources\":[\"TzcJW\",\"90QDB\",\"kHLg5\",\"W7JZ8\",\"7PSq4\",\"lTuQw\",\"BOIzL\",\"qnR1n\",\"RZozx\"],\"module\":1},\"TypeaheadBestName\":{\"resources\":[\"RhwKy\",\"RZozx\"],\"module\":1},\"TypeaheadHoistFriends\":{\"resources\":[\"RZozx\"],\"module\":1},\"TypeaheadMetrics\":{\"resources\":[\"90QDB\",\"TzcJW\",\"d9FYm\",\"RZozx\"],\"module\":1},\"TypeaheadMetricsX\":{\"resources\":[\"7PSq4\",\"90QDB\",\"TzcJW\",\"d9FYm\",\"qfzTq\"],\"module\":1},\"TypingDetector\":{\"resources\":[\"90QDB\",\"7PSq4\",\"EdVP2\",\"SVQHW\"],\"module\":1},\"UFIComments\":{\"resources\":[\"7PSq4\",\"3jJ8p\",\"TzcJW\",\"90QDB\",\"RhwKy\",\"WnbH\\/\"],\"module\":1},\"UFIReactionsMenuImpl.react\":{\"resources\":[\"90QDB\",\"7PSq4\",\"LJZOo\",\"TzcJW\",\"EQJMw\",\"WnbH\\/\",\"asUmo\",\"RhwKy\",\"FEfyX\",\"MM5yP\",\"WnMIz\",\"kHLg5\"],\"module\":1},\"UFIReactionsMenuWithAnimatedVectorIcons.react\":{\"resources\":[\"LJZOo\",\"90QDB\",\"TzcJW\",\"ozqdc\",\"KQ6h4\",\"xj9KN\",\"7PSq4\",\"EQJMw\",\"WnbH\\/\",\"asUmo\",\"RhwKy\",\"FEfyX\",\"MM5yP\",\"WnMIz\",\"kHLg5\",\"LY13N\"],\"module\":1},\"UFIReactionsMenuWithStaticVectorIcons.react\":{\"resources\":[\"LJZOo\",\"90QDB\",\"TzcJW\",\"ozqdc\",\"KQ6h4\",\"xj9KN\",\"7PSq4\",\"EQJMw\",\"WnbH\\/\",\"asUmo\",\"RhwKy\",\"FEfyX\",\"MM5yP\",\"WnMIz\",\"kHLg5\"],\"module\":1},\"UFIReactionsNUX.react\":{\"resources\":[\"90QDB\",\"TzcJW\",\"kHLg5\",\"LJZOo\",\"7PSq4\",\"WnbH\\/\",\"xj9KN\",\"lTuQw\",\"BKNd3\"],\"module\":1},\"DOMScroll\":{\"resources\":[\"TzcJW\",\"90QDB\",\"7PSq4\"],\"module\":1},\"LegacyContextualDialog\":{\"resources\":[\"TzcJW\",\"90QDB\",\"7PSq4\",\"ZtEOJ\",\"kHLg5\",\"xj9KN\",\"lTuQw\",\"ozlra\",\"8aeA9\"],\"module\":1},\"UFICommentMarkdownFormattedLink.react\":{\"resources\":[\"LJZOo\",\"90QDB\",\"TzcJW\",\"RhwKy\",\"WnbH\\/\",\"lTuQw\",\"7PSq4\",\"kHLg5\",\"55kJD\",\"h\\/G+P\",\"9EMwh\"],\"module\":1},\"UFICreatorInfo.react\":{\"resources\":[\"LJZOo\",\"90QDB\",\"TzcJW\",\"3jJ8p\",\"Lccf2\",\"L2Mis\",\"7PSq4\",\"THeq2\"],\"module\":1},\"UFIReactionsTooltipImpl.react\":{\"resources\":[\"7PSq4\",\"90QDB\",\"TzcJW\",\"LJZOo\",\"kHLg5\",\"lTuQw\",\"WnbH\\/\",\"U5YL3\",\"qiVO+\"],\"module\":1},\"UFICommentShareNUX.react\":{\"resources\":[\"90QDB\",\"TzcJW\",\"7PSq4\",\"kHLg5\",\"LJZOo\",\"WnbH\\/\",\"xj9KN\",\"lTuQw\",\"+VWNr\"],\"module\":1},\"MultiPlacePageInfoCard.react\":{\"resources\":[\"90QDB\",\"TzcJW\",\"LJZOo\",\"6ow4f\",\"RhwKy\",\"7PSq4\",\"29hGe\",\"lTuQw\",\"HKjsO\",\"kHLg5\",\"3jJ8p\",\"yKnnN\",\"Lccf2\",\"IpG5c\",\"V1ASC\",\"Npbrn\",\"t\\/RW0\",\"xj9KN\",\"npmGA\",\"krylL\",\"HN2o1\",\"SZrvB\",\"UH7ZD\",\"Yu7nb\"],\"module\":1},\"PlaceListLiveCommentAttachment.react\":{\"resources\":[\"t\\/RW0\",\"zparn\",\"90QDB\",\"TzcJW\",\"LJZOo\",\"6ow4f\",\"RhwKy\",\"7PSq4\",\"29hGe\",\"lTuQw\",\"HKjsO\",\"kHLg5\",\"3jJ8p\",\"yKnnN\",\"Lccf2\",\"IpG5c\",\"V1ASC\",\"Npbrn\",\"xj9KN\",\"npmGA\",\"krylL\",\"HN2o1\",\"SZrvB\",\"UH7ZD\",\"Yu7nb\"],\"module\":1},\"UFILiveCommentLinkPreviewMisinfoWarningFooter.react\":{\"resources\":[\"90QDB\",\"7PSq4\",\"LJZOo\",\"TzcJW\",\"AmMkr\",\"FRpa\\/\"],\"module\":1},\"UFILiveCommentLinkPreview.react\":{\"resources\":[\"LJZOo\",\"90QDB\",\"TzcJW\",\"7PSq4\",\"D+lWU\",\"RhwKy\",\"lTuQw\",\"EQJMw\",\"kn9pk\"],\"module\":1},\"ContextualDialogArrow\":{\"resources\":[\"TzcJW\",\"90QDB\",\"7PSq4\",\"lTuQw\",\"xj9KN\"],\"module\":1},\"PopoverMenu.react\":{\"resources\":[\"LJZOo\",\"90QDB\",\"TzcJW\",\"7PSq4\",\"kHLg5\",\"lTuQw\",\"gY2tG\"],\"module\":1},\"ReactXUIMenu\":{\"resources\":[\"90QDB\",\"TzcJW\",\"7PSq4\",\"lTuQw\",\"kHLg5\",\"LJZOo\"],\"module\":1},\"UFICommentRemovalControls.react\":{\"resources\":[\"LJZOo\",\"90QDB\",\"TzcJW\",\"7PSq4\",\"SZrvB\",\"EQJMw\",\"KuVpL\"],\"module\":1},\"UFIScrollHighlight\":{\"resources\":[\"TzcJW\",\"90QDB\",\"7PSq4\",\"kHLg5\",\"V1ASC\",\"cHIV\\/\",\"rSdpp\"],\"module\":1},\"Toggler\":{\"resources\":[\"90QDB\",\"TzcJW\",\"7PSq4\",\"kHLg5\",\"lTuQw\"],\"module\":1},\"Tooltip\":{\"resources\":[\"90QDB\",\"TzcJW\",\"7PSq4\",\"kHLg5\",\"lTuQw\"],\"module\":1},\"DOM\":{\"resources\":[\"TzcJW\",\"90QDB\"],\"module\":1},\"Form\":{\"resources\":[\"TzcJW\",\"90QDB\"],\"module\":1},\"Input\":{\"resources\":[\"90QDB\"],\"module\":1},\"trackReferrer\":{\"resources\":[],\"module\":1}});}});\n",
       "requireLazy([\"ix\"], function(ix) {ix.add({\"images\\/mercury\\/clients\\/messenger\\/core\\/LoadingSpinner.png\":{\"sprited\":true,\"spriteMapCssClass\":\"sp_5TZA9_VguEK\",\"spriteCssClass\":\"sx_a8d818\"},\"images\\/mercury\\/clients\\/messenger\\/core\\/LoadingSpinnerExtraLarge.png\":{\"sprited\":true,\"spriteMapCssClass\":\"sp_5TZA9_VguEK\",\"spriteCssClass\":\"sx_618b31\"},\"images\\/mercury\\/clients\\/messenger\\/core\\/LoadingSpinnerGrey.png\":{\"sprited\":true,\"spriteMapCssClass\":\"sp_5TZA9_VguEK\",\"spriteCssClass\":\"sx_54f4e3\"},\"images\\/chat\\/composer\\/composerSearchTrending.png\":{\"sprited\":false,\"uri\":\"https:\\/\\/static.xx.fbcdn.net\\/rsrc.php\\/v3\\/yL\\/r\\/MVLY03UaITD.png\",\"width\":16,\"height\":16},\"images\\/messaging\\/stickers\\/store\\/basket.png\":{\"sprited\":true,\"spriteMapCssClass\":\"sp_avtVGZ81hWA\",\"spriteCssClass\":\"sx_ff93dd\"},\"images\\/messaging\\/stickers\\/store\\/characters.png\":{\"sprited\":true,\"spriteMapCssClass\":\"sp_avtVGZ81hWA\",\"spriteCssClass\":\"sx_5c8a4d\"},\"images\\/messaging\\/stickers\\/store\\/backarrow.png\":{\"sprited\":true,\"spriteMapCssClass\":\"sp_avtVGZ81hWA\",\"spriteCssClass\":\"sx_0933da\"},\"images\\/messaging\\/stickers\\/icons\\/emoji.png\":{\"sprited\":true,\"spriteMapCssClass\":\"sp_DK-WgnuaQQB\",\"spriteCssClass\":\"sx_7ba6ac\"},\"images\\/messaging\\/stickers\\/icons\\/recent.png\":{\"sprited\":true,\"spriteMapCssClass\":\"sp_DK-WgnuaQQB\",\"spriteCssClass\":\"sx_80b618\"},\"images\\/messaging\\/stickers\\/icons\\/search.png\":{\"sprited\":true,\"spriteMapCssClass\":\"sp_DK-WgnuaQQB\",\"spriteCssClass\":\"sx_652791\"},\"images\\/messaging\\/stickers\\/selector\\/left.png\":{\"sprited\":true,\"spriteMapCssClass\":\"sp_DK-WgnuaQQB\",\"spriteCssClass\":\"sx_485981\"},\"images\\/messaging\\/stickers\\/selector\\/right.png\":{\"sprited\":true,\"spriteMapCssClass\":\"sp_DK-WgnuaQQB\",\"spriteCssClass\":\"sx_0b3333\"},\"images\\/messaging\\/stickers\\/selector\\/sticker_store.png\":{\"sprited\":true,\"spriteMapCssClass\":\"sp_DK-WgnuaQQB\",\"spriteCssClass\":\"sx_0fd624\"},\"images\\/messaging\\/stickers\\/icons\\/sad_face.png\":{\"sprited\":true,\"spriteMapCssClass\":\"sp_DK-WgnuaQQB\",\"spriteCssClass\":\"sx_f27e23\"},\"images\\/loaders\\/indicator_black.gif\":{\"sprited\":false,\"uri\":\"https:\\/\\/static.xx.fbcdn.net\\/rsrc.php\\/v3\\/y7\\/r\\/pgEFhPxsWZX.gif\",\"width\":32,\"height\":32},\"images\\/loaders\\/indicator_blue_large.gif\":{\"sprited\":false,\"uri\":\"https:\\/\\/static.xx.fbcdn.net\\/rsrc.php\\/v3\\/y9\\/r\\/jKEcVPZFk-2.gif\",\"width\":32,\"height\":32},\"images\\/loaders\\/indicator_blue_medium.gif\":{\"sprited\":false,\"uri\":\"https:\\/\\/static.xx.fbcdn.net\\/rsrc.php\\/v3\\/yk\\/r\\/LOOn0JtHNzb.gif\",\"width\":16,\"height\":16},\"images\\/loaders\\/indicator_blue_small.gif\":{\"sprited\":false,\"uri\":\"https:\\/\\/static.xx.fbcdn.net\\/rsrc.php\\/v3\\/yb\\/r\\/GsNJNwuI-UM.gif\",\"width\":16,\"height\":11},\"images\\/loaders\\/indicator_white_large.gif\":{\"sprited\":false,\"uri\":\"https:\\/\\/static.xx.fbcdn.net\\/rsrc.php\\/v3\\/yG\\/r\\/b53Ajb4ihCP.gif\",\"width\":32,\"height\":32},\"images\\/loaders\\/indicator_white_small.gif\":{\"sprited\":false,\"uri\":\"https:\\/\\/static.xx.fbcdn.net\\/rsrc.php\\/v3\\/y-\\/r\\/AGUNXgX_Wx3.gif\",\"width\":16,\"height\":11},\"images\\/mobile\\/glyph\\/arrow-right_white_s.png\":{\"sprited\":true,\"spriteMapCssClass\":\"sp_6zNiJImyNs1\",\"spriteCssClass\":\"sx_dc12ec\"},\"images\\/assets_DO_NOT_HARDCODE\\/fb_glyphs\\/friend-id-card_12_fig-blue.png\":{\"sprited\":true,\"spriteMapCssClass\":\"sp_F6WRy2o1gKN\",\"spriteCssClass\":\"sx_e3e9ef\"},\"images\\/assets_DO_NOT_HARDCODE\\/fb_glyphs\\/comment_20_fig-white.png\":{\"sprited\":true,\"spriteMapCssClass\":\"sp_zGjqujAfQ5E\",\"spriteCssClass\":\"sx_ec7b6b\"},\"images\\/assets_DO_NOT_HARDCODE\\/fb_glyphs\\/eye_20_fig-white.png\":{\"sprited\":true,\"spriteMapCssClass\":\"sp_zGjqujAfQ5E\",\"spriteCssClass\":\"sx_b2956e\"},\"images\\/assets_DO_NOT_HARDCODE\\/fb_glyphs\\/chevron-down_16_fig-light-20.png\":{\"sprited\":true,\"spriteMapCssClass\":\"sp_zGjqujAfQ5E\",\"spriteCssClass\":\"sx_124c33\"},\"images\\/tip_jar\\/tip1.png\":{\"sprited\":true,\"spriteMapCssClass\":\"sp_zGjqujAfQ5E\",\"spriteCssClass\":\"sx_5b0ed1\"},\"images\\/tip_jar\\/tip2.png\":{\"sprited\":true,\"spriteMapCssClass\":\"sp_zGjqujAfQ5E\",\"spriteCssClass\":\"sx_8ab624\"},\"images\\/tip_jar\\/tip3.png\":{\"sprited\":true,\"spriteMapCssClass\":\"sp_zGjqujAfQ5E\",\"spriteCssClass\":\"sx_4965fa\"},\"images\\/assets_DO_NOT_HARDCODE\\/fb_glyphs\\/pushpin_12_fig-blue.png\":{\"sprited\":true,\"spriteMapCssClass\":\"sp_zGjqujAfQ5E\",\"spriteCssClass\":\"sx_54979a\"},\"images\\/assets_DO_NOT_HARDCODE\\/fb_glyphs\\/plus_24_fig-blue.png\":{\"sprited\":true,\"spriteMapCssClass\":\"sp_4nDaFI5d8Px\",\"spriteCssClass\":\"sx_e49622\"},\"images\\/assets_DO_NOT_HARDCODE\\/fb_glyphs\\/briefcase-business_12_fig-light-50.png\":{\"sprited\":true,\"spriteMapCssClass\":\"sp_4nDaFI5d8Px\",\"spriteCssClass\":\"sx_3610f5\"},\"images\\/assets_DO_NOT_HARDCODE\\/fb_glyphs\\/city_12_fig-light-50.png\":{\"sprited\":true,\"spriteMapCssClass\":\"sp_4nDaFI5d8Px\",\"spriteCssClass\":\"sx_3e4673\"},\"images\\/assets_DO_NOT_HARDCODE\\/fb_glyphs\\/education_12_fig-light-50.png\":{\"sprited\":true,\"spriteMapCssClass\":\"sp_4nDaFI5d8Px\",\"spriteCssClass\":\"sx_3f60e3\"},\"images\\/assets_DO_NOT_HARDCODE\\/fb_glyphs\\/info-solid_12_fig-light-50.png\":{\"sprited\":true,\"spriteMapCssClass\":\"sp_4nDaFI5d8Px\",\"spriteCssClass\":\"sx_18a3be\"},\"images\\/assets_DO_NOT_HARDCODE\\/fb_glyphs\\/network_12_fig-light-50.png\":{\"sprited\":true,\"spriteMapCssClass\":\"sp_4nDaFI5d8Px\",\"spriteCssClass\":\"sx_e1f219\"}});});</script>\n",
       "<script>requireLazy([\"InitialJSLoader\"], function(InitialJSLoader) {InitialJSLoader.loadOnDOMContentReady([\"90QDB\",\"7PSq4\",\"BOIzL\",\"i5RnR\",\"kHLg5\",\"xj9KN\",\"HN2o1\",\"P7KW7\"]);});</script>\n",
       "<script>require(\"TimeSlice\").guard(function() {require(\"ServerJSDefine\").handleDefines([]);require(\"InitialJSLoader\").handleServerJS({\"markup\":[[\"__markup_a588f507_0_0\",{\"__html\":\"\\u003Cdiv class=\\\"_5633 _5634\\\">You must fill in all of the fields.\\u003C\\/div>\"},1],[\"__markup_9f5fac15_0_0\",{\"__html\":\"\\u003Cdiv class=\\\"_5633 _5634\\\">What\\u2019s your name?\\u003C\\/div>\"},1],[\"__markup_9f5fac15_0_1\",{\"__html\":\"\\u003Cdiv class=\\\"_5633 _5634\\\">You&#039;ll use this when you log in and if you ever need to reset your password.\\u003C\\/div>\"},1],[\"__markup_9f5fac15_0_2\",{\"__html\":\"\\u003Cdiv class=\\\"_5633 _5634\\\">Enter a combination of at least six numbers, letters and punctuation marks (like ! and &amp;).\\u003C\\/div>\"},1],[\"__markup_9f5fac15_0_3\",{\"__html\":\"\\u003Cdiv class=\\\"_5633 _5634\\\">Please enter a valid email address or mobile number.\\u003C\\/div>\"},1],[\"__markup_a588f507_0_1\",{\"__html\":\"\\u003Cdiv class=\\\"_5633 _5634\\\">Please enter a valid mobile number or email address.\\u003C\\/div>\"},1],[\"__markup_9f5fac15_0_4\",{\"__html\":\"\\u003Cdiv class=\\\"_5633 _5634\\\">Please re-enter your mobile number or email address.\\u003C\\/div>\"},1],[\"__markup_a588f507_0_2\",{\"__html\":\"\\u003Cdiv class=\\\"_5633 _5634\\\">Your emails or mobile numbers do not match. Please try again.\\u003C\\/div>\"},1],[\"__markup_9f5fac15_0_5\",{\"__html\":\"\\u003Cdiv class=\\\"_5633 _5634\\\">Select your birthday. You can change who can see this later.\\u003C\\/div>\"},1],[\"__markup_9f5fac15_0_6\",{\"__html\":\"\\u003Cdiv class=\\\"_5633 _5634\\\">Please choose a gender. You can change who can see this later.\\u003C\\/div>\"},1]],\"elements\":[[\"__elem_835c633a_0_0\",\"reg\",1],[\"__elem_9ae3fd6f_0_0\",\"u_0_0\",1],[\"__elem_3f8a34cc_0_0\",\"u_0_1\",3],[\"__elem_9ae3fd6f_0_1\",\"u_0_2\",1],[\"__elem_3f8a34cc_0_1\",\"u_0_3\",3],[\"__elem_9f5fac15_0_1\",\"u_0_4\",1],[\"__elem_9ae3fd6f_0_2\",\"u_0_5\",1],[\"__elem_3f8a34cc_0_2\",\"u_0_6\",2],[\"__elem_9f5fac15_0_0\",\"u_0_7\",1],[\"__elem_9ae3fd6f_0_3\",\"u_0_8\",1],[\"__elem_3f8a34cc_0_3\",\"u_0_9\",2],[\"__elem_9f5fac15_0_3\",\"u_0_a\",1],[\"__elem_3f8a34cc_0_4\",\"u_0_b\",1],[\"__elem_9f5fac15_0_2\",\"password_field\",1],[\"__elem_9ae3fd6f_0_4\",\"u_0_c\",1],[\"__elem_3f8a34cc_0_5\",\"u_0_d\",2],[\"__elem_ffa3c607_0_0\",\"u_0_e\",1],[\"__elem_2a23d31e_0_0\",\"u_0_f\",1],[\"__elem_5d172255_0_0\",\"u_0_g\",1],[\"__elem_ddac73b6_0_0\",\"u_0_h\",1],[\"__elem_072b8e64_0_0\",\"u_0_i\",1],[\"__elem_ddac73b6_0_1\",\"u_0_j\",1],[\"__elem_97e096cf_0_0\",\"u_0_m\",1],[\"__elem_2a23d31e_0_1\",\"u_0_n\",1],[\"__elem_85b7cbf7_0_0\",\"reg\",1],[\"__elem_da4ef9a3_0_0\",\"u_0_o\",1],[\"__elem_a588f507_0_1\",\"captcha_buttons\",1],[\"__elem_da4ef9a3_0_1\",\"u_0_p\",1],[\"__elem_a588f507_0_0\",\"reg_pages_msg\",1],[\"__elem_835c633a_0_1\",\"login_form\",1],[\"__elem_1edd4980_0_0\",\"loginbutton\",1],[\"__elem_f46f4946_0_0\",\"u_0_r\",1],[\"__elem_f46f4946_0_1\",\"u_0_s\",1],[\"__elem_85b7cbf7_0_1\",\"login_form\",1],[\"__elem_a6f65671_0_0\",\"pagelet_bluebar\",1],[\"__elem_a588f507_0_2\",\"globalContainer\",2]],\"require\":[[\"TrackingPixel\",\"loadWithNoReferrer\",[],[\"https:\\/\\/cx.atdmt.com\\/?f=AYxP4TxSQ2wIIXCm5ekeK1NbVCrP4no4lKvCOkVF0e5968UujadoLw51eytop4gLPws4s_D3R52EN1yO1Cd22Ch3&c=725167658&v=1&l=2\"],[]],[\"WebPixelRatio\",\"startDetecting\",[],[1],[]],[\"FocusListener\"],[\"FlipDirectionOnKeypress\"],[\"RegistrationController\",\"init\",[\"__elem_835c633a_0_0\",\"__elem_ddac73b6_0_0\",\"__elem_ddac73b6_0_1\",\"__elem_072b8e64_0_0\",\"__elem_5d172255_0_0\",\"__elem_a588f507_0_0\",\"__elem_a588f507_0_1\",\"__elem_da4ef9a3_0_0\",\"__elem_da4ef9a3_0_1\",\"__elem_9f5fac15_0_0\",\"__elem_9f5fac15_0_1\",\"__elem_9f5fac15_0_2\",\"__elem_9f5fac15_0_3\"],[{\"__m\":\"__elem_835c633a_0_0\"},false,\"form_focus\",{\"__m\":\"__elem_ddac73b6_0_0\"},{\"__m\":\"__elem_ddac73b6_0_1\"},{\"__m\":\"__elem_072b8e64_0_0\"},{\"__m\":\"__elem_5d172255_0_0\"},{\"__m\":\"__elem_a588f507_0_0\"},{\"__m\":\"__elem_a588f507_0_1\"},{\"__m\":\"__elem_da4ef9a3_0_0\"},{\"__m\":\"__elem_da4ef9a3_0_1\"},\"show\",{\"__m\":\"__elem_9f5fac15_0_0\"},false,{\"__m\":\"__elem_9f5fac15_0_1\"},{\"__m\":\"__elem_9f5fac15_0_2\"},\"registration_www\",true,true,false,{\"__m\":\"__elem_9f5fac15_0_3\"}],[]],[\"RegistrationInlineValidations\",\"register\",[\"__elem_9ae3fd6f_0_0\",\"__elem_3f8a34cc_0_0\"],[{\"__m\":\"__elem_9ae3fd6f_0_0\"},{\"__m\":\"__elem_3f8a34cc_0_0\"},\"left\",\"flyout_design\"],[]],[\"RegistrationGenderPronounWarning\",\"registerNameInput\",[\"__elem_3f8a34cc_0_0\"],[\"firstname\",{\"__m\":\"__elem_3f8a34cc_0_0\"}],[]],[\"StickyPlaceholderInput\",\"registerInput\",[\"__elem_3f8a34cc_0_0\"],[{\"__m\":\"__elem_3f8a34cc_0_0\"}],[]],[\"RegistrationInlineValidations\",\"register\",[\"__elem_9ae3fd6f_0_1\",\"__elem_3f8a34cc_0_1\"],[{\"__m\":\"__elem_9ae3fd6f_0_1\"},{\"__m\":\"__elem_3f8a34cc_0_1\"},\"below\",\"flyout_design\"],[]],[\"RegistrationGenderPronounWarning\",\"registerNameInput\",[\"__elem_3f8a34cc_0_1\"],[\"lastname\",{\"__m\":\"__elem_3f8a34cc_0_1\"}],[]],[\"StickyPlaceholderInput\",\"registerInput\",[\"__elem_3f8a34cc_0_1\"],[{\"__m\":\"__elem_3f8a34cc_0_1\"}],[]],[\"RegistrationInlineValidations\",\"register\",[\"__elem_9ae3fd6f_0_2\",\"__elem_3f8a34cc_0_2\"],[{\"__m\":\"__elem_9ae3fd6f_0_2\"},{\"__m\":\"__elem_3f8a34cc_0_2\"},\"left\",\"flyout_design\"],[]],[\"StickyPlaceholderInput\",\"registerInput\",[\"__elem_3f8a34cc_0_2\"],[{\"__m\":\"__elem_3f8a34cc_0_2\"}],[]],[\"RegistrationInlineValidations\",\"register\",[\"__elem_9ae3fd6f_0_3\",\"__elem_3f8a34cc_0_3\"],[{\"__m\":\"__elem_9ae3fd6f_0_3\"},{\"__m\":\"__elem_3f8a34cc_0_3\"},\"left\",\"flyout_design\"],[]],[\"StickyPlaceholderInput\",\"registerInput\",[\"__elem_3f8a34cc_0_3\"],[{\"__m\":\"__elem_3f8a34cc_0_3\"}],[]],[\"StickyPlaceholderInput\",\"registerInput\",[\"__elem_3f8a34cc_0_4\"],[{\"__m\":\"__elem_3f8a34cc_0_4\"}],[]],[\"RegistrationInlineValidations\",\"register\",[\"__elem_9ae3fd6f_0_4\",\"__elem_3f8a34cc_0_5\"],[{\"__m\":\"__elem_9ae3fd6f_0_4\"},{\"__m\":\"__elem_3f8a34cc_0_5\"},\"left\",\"flyout_design\"],[]],[\"StickyPlaceholderInput\",\"registerInput\",[\"__elem_3f8a34cc_0_5\"],[{\"__m\":\"__elem_3f8a34cc_0_5\"}],[]],[\"RegistrationInlineValidations\",\"register\",[\"__elem_ffa3c607_0_0\",\"__elem_2a23d31e_0_0\"],[{\"__m\":\"__elem_ffa3c607_0_0\"},{\"__m\":\"__elem_2a23d31e_0_0\"},\"left\",\"flyout_design\"],[]],[\"RegistrationInlineValidations\",\"register\",[\"__elem_97e096cf_0_0\",\"__elem_2a23d31e_0_1\"],[{\"__m\":\"__elem_97e096cf_0_0\"},{\"__m\":\"__elem_2a23d31e_0_1\"},\"left\",\"flyout_design\"],[]],[\"ScriptPath\",\"set\",[],[\"WebIndexReduxController\",\"b2227d82\",{\"imp_id\":\"ab913e4d\"}],[]],[\"UITinyViewportAction\",\"init\",[],[],[]],[\"ResetScrollOnUnload\",\"init\",[\"__elem_a588f507_0_2\"],[{\"__m\":\"__elem_a588f507_0_2\"}],[]],[\"AccessibilityWebVirtualCursorClickLogger\",\"init\",[\"__elem_a6f65671_0_0\",\"__elem_a588f507_0_2\"],[[{\"__m\":\"__elem_a6f65671_0_0\"},{\"__m\":\"__elem_a588f507_0_2\"}]],[]],[\"WebStorageMonster\",\"schedule\",[],[],[]],[\"AsyncRequestNectarLogging\"],[\"IntlUtils\"],[\"TimezoneAutoset\",\"setInputValue\",[\"__elem_f46f4946_0_0\"],[{\"__m\":\"__elem_f46f4946_0_0\"},1488017572],[]],[\"ScreenDimensionsAutoSet\",\"setInputValue\",[\"__elem_f46f4946_0_1\"],[{\"__m\":\"__elem_f46f4946_0_1\"}],[]],[\"LoginFormController\",\"init\",[\"__elem_835c633a_0_1\",\"__elem_1edd4980_0_0\"],[{\"__m\":\"__elem_835c633a_0_1\"},{\"__m\":\"__elem_1edd4980_0_0\"},null,true],[]]]},\"i0\");}, \"ServerJS define\", {\"root\":true})();\n",
       "\n",
       "onloadRegister_DEPRECATED(function (){useragentcm();});\n",
       "onloadRegister_DEPRECATED(function (){try { $(\"email\").focus(); } catch (_ignore) { }});</script>\n",
       "<!-- BigPipe construction and first response -->\n",
       "<script>var bigPipe = new (require(\"BigPipe\"))({\"forceFinish\":true,\"__sf\":\"i0\"});</script>\n",
       "<script>bigPipe.beforePageletArrive(\"first_response\")</script>\n",
       "<script>require(\"TimeSlice\").guard((function(){bigPipe.onPageletArrive({id:\"first_response\",phase:0,jsmods:{},is_last:true,resource_map:{\"P/mr5\":{type:\"css\",src:\"data:text/css; charset=utf-8;base64,I2Jvb3Rsb2FkZXJfUF9tcjV7aGVpZ2h0OjQycHg7fS5ib290bG9hZGVyX1BfbXI1e2Rpc3BsYXk6YmxvY2shaW1wb3J0YW50O30=\",crossOrigin:1}},allResources:[\"90QDB\",\"TzcJW\",\"7PSq4\",\"BOIzL\",\"i5RnR\",\"443D4\",\"44wiD\",\"nnkO8\",\"kHLg5\",\"xj9KN\",\"HN2o1\",\"lTuQw\",\"P7KW7\",\"P/mr5\"],displayResources:[\"TzcJW\",\"443D4\",\"44wiD\",\"nnkO8\",\"lTuQw\",\"P/mr5\"]});}),\"onPageletArrive first_response\",{\"root\":true,\"pagelet\":\"first_response\"})();</script>\n",
       "<script>bigPipe.setPageID(\"6390986807703631801\");</script><script>bigPipe.beforePageletArrive(\"last_response\")</script>\n",
       "<script>require(\"TimeSlice\").guard((function(){bigPipe.onPageletArrive({id:\"last_response\",phase:1,jsmods:{require:[[\"NavigationMetrics\",\"setPage\",[],[{page:\"WebIndexReduxController\",page_type:\"normal\",page_uri:\"https://www.facebook.com/\",serverLID:\"6390986807703631801\"}],[]],[\"DimensionTracking\"],[\"HighContrastMode\",\"init\",[],[{isHCM:false,spacerImage:\"https://static.xx.fbcdn.net/rsrc.php/v3/y4/r/-PAXP-deijE.gif\"}],[]],[\"ClickRefLogger\"],[\"DetectBrokenProxyCache\",\"run\",[],[0,\"c_user\"],[]],[\"TimeSlice\",\"setLogging\",[],[false,0.01],[]],[\"NavigationClickPointHandler\"],[\"UserActionHistory\"],[\"ScriptPathLogger\",\"startLogging\",[],[],[]],[\"TimeSpentBitArrayLogger\",\"init\",[],[],[]],[\"Cookie\",\"setIfFirstPartyContext\",[],[\"_js_datr\",\"pFixWBLahceK29AcKDoxIeo0\",63072000000,\"/\",false],[]],[\"Cookie\",\"setIfFirstPartyContext\",[],[\"_js_reg_fb_ref\",\"https://www.facebook.com/\",0,\"/\",false],[]],[\"Cookie\",\"setIfFirstPartyContext\",[],[\"_js_reg_fb_gate\",\"https://www.facebook.com/\",0,\"/\",false],[]]],define:[[\"UACMConfig\",[],{ffver:63083,ffid1:\"AcG4mwPl9fv_lr5Hr1Wu8RXjz1IUnJTgsWlR97bvpopDuMGMTdAAp2WLZgWrZuuAHQk\",ffid2:\"AcF32ReRg6mws7O7E02TxtywQOCiJhzyUtMrr1ofRLLB4aFu8EuKYsrvg91JQ7EJH9E\",ffid3:\"AcFH-aTUrC5FVtbfEIJIp8BGd-5V9iFjFGmFIhV2KxkeTy27cybVQOQOJfGaeMjBDkTpp4gVvX48DMbjFapACeTo\",ffid4:\"AcGqFN4zsruIQvQnBaovbOJzjy0MYGQjxEB4u138-4DIZKa2dr2SJIJxJf6Rg5MumCA\"},308],[\"CaptchaClientConfig\",[],{recaptchaPublicKey:\"6LfDxsYSAAAAAGGLBGaRurawNnbvAGQw5UwRWYXL\"},83],[\"LocaleInitialData\",[],{locale:\"en_US\",language:\"English (US)\"},273],[\"RegistrationClientConfig\",[\"__markup_a588f507_0_0\",\"__markup_9f5fac15_0_0\",\"__markup_9f5fac15_0_1\",\"__markup_9f5fac15_0_2\",\"__markup_9f5fac15_0_3\",\"__markup_a588f507_0_1\",\"__markup_9f5fac15_0_4\",\"__markup_a588f507_0_2\",\"__markup_9f5fac15_0_5\",\"__markup_9f5fac15_0_6\"],{fields:{NAME:\"name\",FIRSTNAME:\"firstname\",LASTNAME:\"lastname\",EMAIL:\"reg_email__\",EMAIL_CONFIRMATION:\"reg_email_confirmation__\",SECOND_CONTACTPOINT:\"reg_second_contactpoint__\",GENDER:\"sex\",PASSWORD:\"reg_passwd__\",BIRTHDAY_DAY:\"birthday_day\",BIRTHDAY_MONTH:\"birthday_month\",BIRTHDAY_YEAR:\"birthday_year\",BIRTHDAY_WRAPPER:\"birthday_wrapper\",GENDER_WRAPPER:\"gender_wrapper\"},tooltips:{FIRSTNAME:\"firstname_tooltip\",LASTNAME:\"lastname_tooltip\",EMAIL:\"email_tooltip\",EMAIL_CONFIRMATION:\"email_confirmation_tooltip\",SECOND_CONTACTPOINT:\"second_contactpoint_tooltip\",PASSWORD:\"password_tooltip\"},validators:{types:{TEXT:\"text\",SELECTORS:\"selectors\",RADIO:\"radio\"}},messages:{MISSING_FIELDS:{__m:\"__markup_a588f507_0_0\"},INCORRECT_NAME:{__m:\"__markup_9f5fac15_0_0\"},INCORRECT_CONTACTPOINT:{__m:\"__markup_9f5fac15_0_1\"},PASSWORD_BLANK:{__m:\"__markup_9f5fac15_0_2\"},INVALID_CONTACTPOINT:{__m:\"__markup_9f5fac15_0_3\"},INVALID_NUMBER_OR_EMAIL:{__m:\"__markup_a588f507_0_1\"},INCORRECT_NUMBER_OR_EMAIL_CONF:{__m:\"__markup_9f5fac15_0_4\"},CONTACTPOINT_RETYPE_DIFFERENT:{__m:\"__markup_a588f507_0_2\"},INCOMPLETE_BIRTHDAY:{__m:\"__markup_9f5fac15_0_5\"},NO_GENDER:{__m:\"__markup_9f5fac15_0_6\"}},logging:{enabled:true,categories:{INLINE:\"inline\",SERVER:\"server\"},types:{IS_EMPTY:\"is_empty\",CONTACTPOINT_INVALID:\"contactpoint_invalid\",CONTACTPOINT_TAKEN:\"contactpoint_taken\",CONTACTPOINT_MATCH:\"contactpoint_match\",PASSWORD_WEAK:\"password_weak\",PASSWORD_SHORT:\"password_short\",TERMS_AGREEMENT:\"terms_agreement\",TOO_YOUNG:\"too_young\",ACCOUNT_DISABLED:\"account_disabled\",BAD_CAPTCHA:\"bad_captcha\",NAME_REJECTED:\"name_rejected\",SI_BLOCK:\"si_block\",BIRTHDAY_INVALID:\"birthday_invalid\"}},www_phone:true},87],[\"BanzaiVitalWWW\",[],{useVital:true},1781],[\"TimeSpentConfig\",[],{\"0_delay\":0,\"0_timeout\":8,delay:200000,timeout:64},142],[\"ImmediateActiveSecondsConfig\",[],{sampling_rate:0},423]]},is_last:true,allResources:[\"90QDB\",\"TzcJW\",\"7PSq4\",\"BOIzL\",\"i5RnR\",\"443D4\",\"44wiD\",\"nnkO8\",\"kHLg5\",\"xj9KN\",\"HN2o1\",\"lTuQw\",\"P7KW7\",\"P/mr5\"],displayResources:[\"TzcJW\",\"443D4\",\"44wiD\",\"nnkO8\",\"lTuQw\",\"P/mr5\"],the_end:true});}),\"onPageletArrive last_response\",{\"root\":true,\"pagelet\":\"last_response\"})();</script></body></html>"
      ]
     },
     "execution_count": 231,
     "metadata": {},
     "output_type": "execute_result"
    }
   ],
   "source": [
    "tree"
   ]
  },
  {
   "cell_type": "code",
   "execution_count": 234,
   "metadata": {
    "collapsed": false
   },
   "outputs": [
    {
     "data": {
      "text/plain": [
       "<title id=\"pageTitle\">Facebook - Log In or Sign Up</title>"
      ]
     },
     "execution_count": 234,
     "metadata": {},
     "output_type": "execute_result"
    }
   ],
   "source": [
    "tree.html.head.title"
   ]
  },
  {
   "cell_type": "code",
   "execution_count": 233,
   "metadata": {
    "collapsed": false
   },
   "outputs": [
    {
     "data": {
      "text/plain": [
       "'Facebook - Log In or Sign Up'"
      ]
     },
     "execution_count": 233,
     "metadata": {},
     "output_type": "execute_result"
    }
   ],
   "source": [
    "tree.html.head.title.string"
   ]
  },
  {
   "cell_type": "code",
   "execution_count": 235,
   "metadata": {
    "collapsed": false
   },
   "outputs": [
    {
     "data": {
      "text/plain": [
       "<a href=\"https://www.facebook.com/\" title=\"Go to Facebook Home\"><i class=\"fb_logo img sp_qRcdOzINzTb sx_d37719\"><u>Facebook</u></i></a>"
      ]
     },
     "execution_count": 235,
     "metadata": {},
     "output_type": "execute_result"
    }
   ],
   "source": [
    "tree.a"
   ]
  },
  {
   "cell_type": "code",
   "execution_count": 236,
   "metadata": {
    "collapsed": false
   },
   "outputs": [
    {
     "data": {
      "text/plain": [
       "'https://www.facebook.com/'"
      ]
     },
     "execution_count": 236,
     "metadata": {},
     "output_type": "execute_result"
    }
   ],
   "source": [
    "tree.a.attrs['href']"
   ]
  },
  {
   "cell_type": "code",
   "execution_count": 238,
   "metadata": {
    "collapsed": false
   },
   "outputs": [],
   "source": [
    "html = requests.get('http://quotes.toscrape.com')"
   ]
  },
  {
   "cell_type": "code",
   "execution_count": 239,
   "metadata": {
    "collapsed": true
   },
   "outputs": [],
   "source": [
    "html_text = html.text"
   ]
  },
  {
   "cell_type": "code",
   "execution_count": 241,
   "metadata": {
    "collapsed": false
   },
   "outputs": [],
   "source": [
    "tree = bs4.BeautifulSoup(html_text,'html.parser')"
   ]
  },
  {
   "cell_type": "code",
   "execution_count": 242,
   "metadata": {
    "collapsed": false
   },
   "outputs": [
    {
     "data": {
      "text/plain": [
       "['“The world as we have created it is a process of our thinking. It cannot be changed without changing our thinking.”',\n",
       " '“It is our choices, Harry, that show what we truly are, far more than our abilities.”',\n",
       " '“There are only two ways to live your life. One is as though nothing is a miracle. The other is as though everything is a miracle.”',\n",
       " '“The person, be it gentleman or lady, who has not pleasure in a good novel, must be intolerably stupid.”',\n",
       " \"“Imperfection is beauty, madness is genius and it's better to be absolutely ridiculous than absolutely boring.”\",\n",
       " '“Try not to become a man of success. Rather become a man of value.”',\n",
       " '“It is better to be hated for what you are than to be loved for what you are not.”',\n",
       " \"“I have not failed. I've just found 10,000 ways that won't work.”\",\n",
       " \"“A woman is like a tea bag; you never know how strong it is until it's in hot water.”\",\n",
       " '“A day without sunshine is like, you know, night.”']"
      ]
     },
     "execution_count": 242,
     "metadata": {},
     "output_type": "execute_result"
    }
   ],
   "source": [
    "[tag.span.string for tag in tree.find_all('div',class_='quote')]"
   ]
  },
  {
   "cell_type": "code",
   "execution_count": 243,
   "metadata": {
    "collapsed": false
   },
   "outputs": [
    {
     "data": {
      "text/plain": [
       "['Albert Einstein',\n",
       " 'J.K. Rowling',\n",
       " 'Albert Einstein',\n",
       " 'Jane Austen',\n",
       " 'Marilyn Monroe',\n",
       " 'Albert Einstein',\n",
       " 'André Gide',\n",
       " 'Thomas A. Edison',\n",
       " 'Eleanor Roosevelt',\n",
       " 'Steve Martin']"
      ]
     },
     "execution_count": 243,
     "metadata": {},
     "output_type": "execute_result"
    }
   ],
   "source": [
    "[tag.small.string for tag in tree.find_all('div',class_='quote')]"
   ]
  }
 ],
 "metadata": {
  "kernelspec": {
   "display_name": "Python [default]",
   "language": "python",
   "name": "python3"
  },
  "language_info": {
   "codemirror_mode": {
    "name": "ipython",
    "version": 3
   },
   "file_extension": ".py",
   "mimetype": "text/x-python",
   "name": "python",
   "nbconvert_exporter": "python",
   "pygments_lexer": "ipython3",
   "version": "3.5.2"
  }
 },
 "nbformat": 4,
 "nbformat_minor": 1
}
